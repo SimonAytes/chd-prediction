{
 "cells": [
  {
   "cell_type": "markdown",
   "metadata": {
    "tags": []
   },
   "source": [
    "# Term Project - Milestone #2\n",
    "\n",
    "Simon Aytes\n",
    "\n",
    "MAT 328 - Techniques in Data Science\n",
    "\n",
    "Spring 2022\n",
    "\n",
    "Professor Owen\n",
    "\n",
    "----"
   ]
  },
  {
   "cell_type": "markdown",
   "metadata": {},
   "source": [
    "# 0. Environment configuration"
   ]
  },
  {
   "cell_type": "markdown",
   "metadata": {
    "tags": []
   },
   "source": [
    "## 0.1 Import libraries"
   ]
  },
  {
   "cell_type": "code",
   "execution_count": null,
   "metadata": {
    "tags": []
   },
   "outputs": [],
   "source": [
    "# IMPORTANT: If you do not already have the libraries installed, run this cell to install them\n",
    "!pip install -r requirements.txt"
   ]
  },
  {
   "cell_type": "code",
   "execution_count": 1,
   "metadata": {},
   "outputs": [],
   "source": [
    "# Data handling\n",
    "from sklearn.model_selection import train_test_split\n",
    "import pandas as pd\n",
    "import numpy as np\n",
    "import os\n",
    "\n",
    "# Models\n",
    "from sklearn.tree import DecisionTreeClassifier\n",
    "from sklearn.linear_model import LogisticRegression\n",
    "\n",
    "# Model evaluation\n",
    "from sklearn.preprocessing import MinMaxScaler\n",
    "from sklearn.metrics import confusion_matrix\n",
    "from sklearn.metrics import accuracy_score\n",
    "\n",
    "# Feature selection\n",
    "from sklearn.feature_selection import RFE\n",
    "\n",
    "# Visualization\n",
    "from sklearn.tree import plot_tree\n",
    "import seaborn as sns\n",
    "import matplotlib.pyplot as plt\n",
    "\n",
    "# Environment setup\n",
    "%matplotlib inline\n",
    "pd.set_option('display.max_columns', None)"
   ]
  },
  {
   "cell_type": "markdown",
   "metadata": {},
   "source": [
    "## 0.2 Utility functions"
   ]
  },
  {
   "cell_type": "markdown",
   "metadata": {},
   "source": [
    "The function below uses [RFE Feature Elimination](https://machinelearningmastery.com/rfe-feature-selection-in-python/) to determine the optimal features for our models. It is set up as a dynamic function that can be used by either model and, as such, is used for both to determine their inputs."
   ]
  },
  {
   "cell_type": "code",
   "execution_count": 2,
   "metadata": {},
   "outputs": [],
   "source": [
    "def rfe_selection(model, data):\n",
    "    # Assign data-related variables\n",
    "    features = [\"age\", \"sex\", \"is_smoking\", \"cigsPerDay\", \"BPMeds\", \"prevalentStroke\", \"prevalentHyp\", \"diabetes\", \"totChol\", \"sysBP\", \"diaBP\", \"BMI\", \"heartRate\", \"glucose\", \"TenYearCHD\"]\n",
    "    df_vals = data.values\n",
    "\n",
    "    # Identify the column names of the features\n",
    "    inputs = df_vals[:,0:len(features)-1]\n",
    "    response_variable = df_vals[:,len(features)-1]\n",
    "\n",
    "    # Feature extraction\n",
    "    #dt_classifier = DecisionTreeClassifier(max_depth = 5)\n",
    "    rfe = RFE(model, step = 3)\n",
    "    fit = rfe.fit(inputs, response_variable)\n",
    "\n",
    "    # Create list with the target feature names\n",
    "    selected_features = list(np.array(features[:-1])[np.array(fit.support_)])\n",
    "    \n",
    "    # Return a list containing the column names of the most relevant features\n",
    "    return selected_features"
   ]
  },
  {
   "cell_type": "markdown",
   "metadata": {},
   "source": [
    "# 1. Load processed data\n",
    "----"
   ]
  },
  {
   "cell_type": "code",
   "execution_count": 17,
   "metadata": {},
   "outputs": [],
   "source": [
    "# Get path to the repository's data folder\n",
    "data_path = \"/\".join(os.getcwd().split(\"/\")[0:-1]) + \"/data/\""
   ]
  },
  {
   "cell_type": "code",
   "execution_count": 18,
   "metadata": {
    "tags": []
   },
   "outputs": [],
   "source": [
    "chd = pd.read_csv(open(data_path + \"processed/data_cleaned.csv\"))\n",
    "chd = chd.drop(columns=[\"Unnamed: 0\"]) # Drop the index column"
   ]
  },
  {
   "cell_type": "code",
   "execution_count": 19,
   "metadata": {},
   "outputs": [
    {
     "data": {
      "text/html": [
       "<div>\n",
       "<style scoped>\n",
       "    .dataframe tbody tr th:only-of-type {\n",
       "        vertical-align: middle;\n",
       "    }\n",
       "\n",
       "    .dataframe tbody tr th {\n",
       "        vertical-align: top;\n",
       "    }\n",
       "\n",
       "    .dataframe thead th {\n",
       "        text-align: right;\n",
       "    }\n",
       "</style>\n",
       "<table border=\"1\" class=\"dataframe\">\n",
       "  <thead>\n",
       "    <tr style=\"text-align: right;\">\n",
       "      <th></th>\n",
       "      <th>id</th>\n",
       "      <th>age</th>\n",
       "      <th>education</th>\n",
       "      <th>sex</th>\n",
       "      <th>is_smoking</th>\n",
       "      <th>cigsPerDay</th>\n",
       "      <th>BPMeds</th>\n",
       "      <th>prevalentStroke</th>\n",
       "      <th>prevalentHyp</th>\n",
       "      <th>diabetes</th>\n",
       "      <th>totChol</th>\n",
       "      <th>sysBP</th>\n",
       "      <th>diaBP</th>\n",
       "      <th>BMI</th>\n",
       "      <th>heartRate</th>\n",
       "      <th>glucose</th>\n",
       "      <th>TenYearCHD</th>\n",
       "    </tr>\n",
       "  </thead>\n",
       "  <tbody>\n",
       "    <tr>\n",
       "      <th>0</th>\n",
       "      <td>1</td>\n",
       "      <td>36</td>\n",
       "      <td>4</td>\n",
       "      <td>1</td>\n",
       "      <td>0</td>\n",
       "      <td>0.0</td>\n",
       "      <td>0</td>\n",
       "      <td>0</td>\n",
       "      <td>1</td>\n",
       "      <td>0</td>\n",
       "      <td>212.0</td>\n",
       "      <td>168.0</td>\n",
       "      <td>98.0</td>\n",
       "      <td>29.77</td>\n",
       "      <td>72.0</td>\n",
       "      <td>75.0</td>\n",
       "      <td>0.0</td>\n",
       "    </tr>\n",
       "    <tr>\n",
       "      <th>1</th>\n",
       "      <td>2</td>\n",
       "      <td>46</td>\n",
       "      <td>1</td>\n",
       "      <td>0</td>\n",
       "      <td>1</td>\n",
       "      <td>10.0</td>\n",
       "      <td>0</td>\n",
       "      <td>0</td>\n",
       "      <td>0</td>\n",
       "      <td>0</td>\n",
       "      <td>250.0</td>\n",
       "      <td>116.0</td>\n",
       "      <td>71.0</td>\n",
       "      <td>20.35</td>\n",
       "      <td>88.0</td>\n",
       "      <td>94.0</td>\n",
       "      <td>0.0</td>\n",
       "    </tr>\n",
       "    <tr>\n",
       "      <th>2</th>\n",
       "      <td>3</td>\n",
       "      <td>50</td>\n",
       "      <td>1</td>\n",
       "      <td>1</td>\n",
       "      <td>1</td>\n",
       "      <td>20.0</td>\n",
       "      <td>0</td>\n",
       "      <td>0</td>\n",
       "      <td>1</td>\n",
       "      <td>0</td>\n",
       "      <td>233.0</td>\n",
       "      <td>158.0</td>\n",
       "      <td>88.0</td>\n",
       "      <td>28.26</td>\n",
       "      <td>68.0</td>\n",
       "      <td>94.0</td>\n",
       "      <td>1.0</td>\n",
       "    </tr>\n",
       "    <tr>\n",
       "      <th>3</th>\n",
       "      <td>4</td>\n",
       "      <td>64</td>\n",
       "      <td>1</td>\n",
       "      <td>0</td>\n",
       "      <td>1</td>\n",
       "      <td>30.0</td>\n",
       "      <td>0</td>\n",
       "      <td>0</td>\n",
       "      <td>0</td>\n",
       "      <td>0</td>\n",
       "      <td>241.0</td>\n",
       "      <td>136.5</td>\n",
       "      <td>85.0</td>\n",
       "      <td>26.42</td>\n",
       "      <td>70.0</td>\n",
       "      <td>77.0</td>\n",
       "      <td>0.0</td>\n",
       "    </tr>\n",
       "    <tr>\n",
       "      <th>4</th>\n",
       "      <td>5</td>\n",
       "      <td>61</td>\n",
       "      <td>3</td>\n",
       "      <td>0</td>\n",
       "      <td>0</td>\n",
       "      <td>0.0</td>\n",
       "      <td>0</td>\n",
       "      <td>0</td>\n",
       "      <td>1</td>\n",
       "      <td>0</td>\n",
       "      <td>272.0</td>\n",
       "      <td>182.0</td>\n",
       "      <td>121.0</td>\n",
       "      <td>32.80</td>\n",
       "      <td>85.0</td>\n",
       "      <td>65.0</td>\n",
       "      <td>1.0</td>\n",
       "    </tr>\n",
       "  </tbody>\n",
       "</table>\n",
       "</div>"
      ],
      "text/plain": [
       "   id  age  education  sex  is_smoking  cigsPerDay  BPMeds  prevalentStroke  \\\n",
       "0   1   36          4    1           0         0.0       0                0   \n",
       "1   2   46          1    0           1        10.0       0                0   \n",
       "2   3   50          1    1           1        20.0       0                0   \n",
       "3   4   64          1    0           1        30.0       0                0   \n",
       "4   5   61          3    0           0         0.0       0                0   \n",
       "\n",
       "   prevalentHyp  diabetes  totChol  sysBP  diaBP    BMI  heartRate  glucose  \\\n",
       "0             1         0    212.0  168.0   98.0  29.77       72.0     75.0   \n",
       "1             0         0    250.0  116.0   71.0  20.35       88.0     94.0   \n",
       "2             1         0    233.0  158.0   88.0  28.26       68.0     94.0   \n",
       "3             0         0    241.0  136.5   85.0  26.42       70.0     77.0   \n",
       "4             1         0    272.0  182.0  121.0  32.80       85.0     65.0   \n",
       "\n",
       "   TenYearCHD  \n",
       "0         0.0  \n",
       "1         0.0  \n",
       "2         1.0  \n",
       "3         0.0  \n",
       "4         1.0  "
      ]
     },
     "execution_count": 19,
     "metadata": {},
     "output_type": "execute_result"
    }
   ],
   "source": [
    "chd.head()"
   ]
  },
  {
   "cell_type": "markdown",
   "metadata": {},
   "source": [
    "# 2. Preparing the data\n",
    "\n",
    "----"
   ]
  },
  {
   "cell_type": "markdown",
   "metadata": {},
   "source": [
    "## 2.1 Normalizing the data"
   ]
  },
  {
   "cell_type": "markdown",
   "metadata": {},
   "source": [
    "The data is currently a mix of binary and continuous values. When using such a dataset to make classifications, the disparate scales of the data can increase model error. \n",
    "\n",
    "To address this, we will use a min-max scaler to normalize all of the model inputs. The equation for min-max scaling is shown below, where $X_{scaled}$ is the scaled value of $X$ given a particular dataset.\n",
    "\n",
    "$$X_{scaled} = \\frac{X - X_{min}}{X_{max} - X_{min}}$$"
   ]
  },
  {
   "cell_type": "code",
   "execution_count": 7,
   "metadata": {},
   "outputs": [],
   "source": [
    "scaler = MinMaxScaler()"
   ]
  },
  {
   "cell_type": "code",
   "execution_count": 8,
   "metadata": {},
   "outputs": [],
   "source": [
    "# Scale values (All except the 'id' column, as it will not be used in analysis)\n",
    "chd = scaler.fit_transform(chd)\n",
    "chd = pd.DataFrame(chd)\n",
    "\n",
    "# Re-assign column names\n",
    "column_names = chd.columns.to_list() #Preserve old column name\n",
    "chd.columns = column_names #Rename columns to old labels\n",
    "\n",
    "# Drop the 'id' and 'education' columns\n",
    "chd = chd.drop(columns=[\"id\", \"education\"])"
   ]
  },
  {
   "cell_type": "code",
   "execution_count": 9,
   "metadata": {},
   "outputs": [
    {
     "data": {
      "text/html": [
       "<div>\n",
       "<style scoped>\n",
       "    .dataframe tbody tr th:only-of-type {\n",
       "        vertical-align: middle;\n",
       "    }\n",
       "\n",
       "    .dataframe tbody tr th {\n",
       "        vertical-align: top;\n",
       "    }\n",
       "\n",
       "    .dataframe thead th {\n",
       "        text-align: right;\n",
       "    }\n",
       "</style>\n",
       "<table border=\"1\" class=\"dataframe\">\n",
       "  <thead>\n",
       "    <tr style=\"text-align: right;\">\n",
       "      <th></th>\n",
       "      <th>age</th>\n",
       "      <th>sex</th>\n",
       "      <th>is_smoking</th>\n",
       "      <th>cigsPerDay</th>\n",
       "      <th>BPMeds</th>\n",
       "      <th>prevalentStroke</th>\n",
       "      <th>prevalentHyp</th>\n",
       "      <th>diabetes</th>\n",
       "      <th>totChol</th>\n",
       "      <th>sysBP</th>\n",
       "      <th>diaBP</th>\n",
       "      <th>BMI</th>\n",
       "      <th>heartRate</th>\n",
       "      <th>glucose</th>\n",
       "      <th>TenYearCHD</th>\n",
       "    </tr>\n",
       "  </thead>\n",
       "  <tbody>\n",
       "    <tr>\n",
       "      <th>0</th>\n",
       "      <td>0.105263</td>\n",
       "      <td>1.0</td>\n",
       "      <td>0.0</td>\n",
       "      <td>0.000000</td>\n",
       "      <td>0.0</td>\n",
       "      <td>0.0</td>\n",
       "      <td>1.0</td>\n",
       "      <td>0.0</td>\n",
       "      <td>0.203285</td>\n",
       "      <td>0.399527</td>\n",
       "      <td>0.529101</td>\n",
       "      <td>0.338149</td>\n",
       "      <td>0.275510</td>\n",
       "      <td>0.098870</td>\n",
       "      <td>0.0</td>\n",
       "    </tr>\n",
       "    <tr>\n",
       "      <th>1</th>\n",
       "      <td>0.368421</td>\n",
       "      <td>0.0</td>\n",
       "      <td>1.0</td>\n",
       "      <td>0.142857</td>\n",
       "      <td>0.0</td>\n",
       "      <td>0.0</td>\n",
       "      <td>0.0</td>\n",
       "      <td>0.0</td>\n",
       "      <td>0.281314</td>\n",
       "      <td>0.153664</td>\n",
       "      <td>0.243386</td>\n",
       "      <td>0.107493</td>\n",
       "      <td>0.438776</td>\n",
       "      <td>0.152542</td>\n",
       "      <td>0.0</td>\n",
       "    </tr>\n",
       "    <tr>\n",
       "      <th>2</th>\n",
       "      <td>0.473684</td>\n",
       "      <td>1.0</td>\n",
       "      <td>1.0</td>\n",
       "      <td>0.285714</td>\n",
       "      <td>0.0</td>\n",
       "      <td>0.0</td>\n",
       "      <td>1.0</td>\n",
       "      <td>0.0</td>\n",
       "      <td>0.246407</td>\n",
       "      <td>0.352246</td>\n",
       "      <td>0.423280</td>\n",
       "      <td>0.301175</td>\n",
       "      <td>0.234694</td>\n",
       "      <td>0.152542</td>\n",
       "      <td>1.0</td>\n",
       "    </tr>\n",
       "    <tr>\n",
       "      <th>3</th>\n",
       "      <td>0.842105</td>\n",
       "      <td>0.0</td>\n",
       "      <td>1.0</td>\n",
       "      <td>0.428571</td>\n",
       "      <td>0.0</td>\n",
       "      <td>0.0</td>\n",
       "      <td>0.0</td>\n",
       "      <td>0.0</td>\n",
       "      <td>0.262834</td>\n",
       "      <td>0.250591</td>\n",
       "      <td>0.391534</td>\n",
       "      <td>0.256121</td>\n",
       "      <td>0.255102</td>\n",
       "      <td>0.104520</td>\n",
       "      <td>0.0</td>\n",
       "    </tr>\n",
       "    <tr>\n",
       "      <th>4</th>\n",
       "      <td>0.763158</td>\n",
       "      <td>0.0</td>\n",
       "      <td>0.0</td>\n",
       "      <td>0.000000</td>\n",
       "      <td>0.0</td>\n",
       "      <td>0.0</td>\n",
       "      <td>1.0</td>\n",
       "      <td>0.0</td>\n",
       "      <td>0.326489</td>\n",
       "      <td>0.465721</td>\n",
       "      <td>0.772487</td>\n",
       "      <td>0.412341</td>\n",
       "      <td>0.408163</td>\n",
       "      <td>0.070621</td>\n",
       "      <td>1.0</td>\n",
       "    </tr>\n",
       "  </tbody>\n",
       "</table>\n",
       "</div>"
      ],
      "text/plain": [
       "        age  sex  is_smoking  cigsPerDay  BPMeds  prevalentStroke  \\\n",
       "0  0.105263  1.0         0.0    0.000000     0.0              0.0   \n",
       "1  0.368421  0.0         1.0    0.142857     0.0              0.0   \n",
       "2  0.473684  1.0         1.0    0.285714     0.0              0.0   \n",
       "3  0.842105  0.0         1.0    0.428571     0.0              0.0   \n",
       "4  0.763158  0.0         0.0    0.000000     0.0              0.0   \n",
       "\n",
       "   prevalentHyp  diabetes   totChol     sysBP     diaBP       BMI  heartRate  \\\n",
       "0           1.0       0.0  0.203285  0.399527  0.529101  0.338149   0.275510   \n",
       "1           0.0       0.0  0.281314  0.153664  0.243386  0.107493   0.438776   \n",
       "2           1.0       0.0  0.246407  0.352246  0.423280  0.301175   0.234694   \n",
       "3           0.0       0.0  0.262834  0.250591  0.391534  0.256121   0.255102   \n",
       "4           1.0       0.0  0.326489  0.465721  0.772487  0.412341   0.408163   \n",
       "\n",
       "    glucose  TenYearCHD  \n",
       "0  0.098870         0.0  \n",
       "1  0.152542         0.0  \n",
       "2  0.152542         1.0  \n",
       "3  0.104520         0.0  \n",
       "4  0.070621         1.0  "
      ]
     },
     "execution_count": 9,
     "metadata": {},
     "output_type": "execute_result"
    }
   ],
   "source": [
    "chd.head()"
   ]
  },
  {
   "cell_type": "markdown",
   "metadata": {},
   "source": [
    "# 2.2 Outlier detection and removal"
   ]
  },
  {
   "cell_type": "markdown",
   "metadata": {},
   "source": [
    "For our model data, we want to remove any outliers within the continuous columns of our data. To do this we will use Interquartile Ranges (IQR) and, more specifically, values that lie outside of the following boundary: $(Q_{1} - 1.5) * IQR ≤ x ≤ (Q_{3} + 1.5) * IQR$.\n",
    "\n",
    "This boundary and the relationship of outliers to the dataset can be seen in the image below.\n",
    "\n",
    "<center>\n",
    "<img src=\"Figures/boxplot_outliers.png\" width=500 height=50 />\n",
    "</center>\n",
    "<center>\n",
    "<em><a href=\"https://www.simplypsychology.org/boxplots.html#:~:text=When%20reviewing%20a%20box%20plot,whiskers%20of%20the%20box%20plot.&text=For%20example%2C%20outside%201.5%20times,Q3%20%2B%201.5%20*%20IQR).\">Image source</a></em>\n",
    "</center>"
   ]
  },
  {
   "cell_type": "code",
   "execution_count": 20,
   "metadata": {},
   "outputs": [],
   "source": [
    "# Identify numerical columns\n",
    "numerical_columns = ['age', 'cigsPerDay', 'totChol', 'sysBP', 'diaBP', 'BMI', 'heartRate', 'glucose']\n",
    "\n",
    "# Gather quantile information\n",
    "Q1 = chd[numerical_columns].quantile(0.25)\n",
    "Q3 = chd[numerical_columns].quantile(0.75)\n",
    "IQR = Q3 - Q1\n",
    "\n",
    "# Remove outliers by filtering to be within the range outlined above\n",
    "chd_filtered = chd[~((chd[numerical_columns] < (Q1 - 1.5 * IQR)) | (chd[numerical_columns] > (Q3 + 1.5 * IQR))).any(axis=1)]"
   ]
  },
  {
   "cell_type": "code",
   "execution_count": 21,
   "metadata": {},
   "outputs": [
    {
     "name": "stdout",
     "output_type": "stream",
     "text": [
      "A total of 365 were removed from the scaled datatset.\n"
     ]
    }
   ],
   "source": [
    "num_outliers = chd.shape[0] - chd_filtered.shape[0]\n",
    "\n",
    "print(f\"A total of {num_outliers} were removed from the scaled datatset.\")"
   ]
  },
  {
   "cell_type": "markdown",
   "metadata": {},
   "source": [
    "# 3. Decision Tree Classifier\n",
    "\n",
    "----"
   ]
  },
  {
   "cell_type": "markdown",
   "metadata": {
    "tags": []
   },
   "source": [
    "## 3.1 Determine ideal depth and model inputs"
   ]
  },
  {
   "cell_type": "markdown",
   "metadata": {},
   "source": [
    "To determine the ideal model depth for the training data, we will loop through multiple depths ($2 ≤ d ≤ 10$) to see which one has the lowest error. \n",
    "\n",
    "Within each loop we will utilize [RFE Feature Elimination](https://machinelearningmastery.com/rfe-feature-selection-in-python/) to determine our inputs and ensure that we are getting the best possible results."
   ]
  },
  {
   "cell_type": "code",
   "execution_count": 22,
   "metadata": {},
   "outputs": [],
   "source": [
    "# Create empty lists\n",
    "depth_list = []\n",
    "model_error = []\n",
    "\n",
    "# Split data before evaluation for consistency in results\n",
    "dt_x = chd_filtered.drop(columns = [\"TenYearCHD\"]) #Use columns identified above\n",
    "dt_y = chd_filtered[[\"TenYearCHD\"]]\n",
    "\n",
    "dt_x_train, dt_x_test, dt_y_train, dt_y_test = train_test_split(dt_x, dt_y, test_size=0.2)\n",
    "\n",
    "# Loop through each depth\n",
    "for d in range(2,11):\n",
    "    # Append the depth to the list\n",
    "    depth_list.append(d)\n",
    "    \n",
    "    # Create model input lists\n",
    "    dt_selected_features = rfe_selection(model = DecisionTreeClassifier(max_depth = d), data = chd_filtered) #Find most relevant model inputs\n",
    "    \n",
    "    # Create and fit model\n",
    "    dt_classifier = DecisionTreeClassifier(max_depth = d)\n",
    "    dt_classifier = dt_classifier.fit(dt_x_train[chd_filtered.columns.intersection(dt_selected_features)], dt_y_train)\n",
    "    \n",
    "    # Test model and log error\n",
    "    dt_y_pred = dt_classifier.predict(dt_x_test[chd_filtered.columns.intersection(dt_selected_features)])\n",
    "    model_error.append(accuracy_score(dt_y_pred, dt_y_test))"
   ]
  },
  {
   "cell_type": "code",
   "execution_count": 23,
   "metadata": {},
   "outputs": [
    {
     "data": {
      "text/plain": [
       "Text(0, 0.5, 'Accuracy')"
      ]
     },
     "execution_count": 23,
     "metadata": {},
     "output_type": "execute_result"
    },
    {
     "data": {
      "image/png": "[encoded data removed]",
      "text/plain": [
       "<Figure size 432x288 with 1 Axes>"
      ]
     },
     "metadata": {
      "needs_background": "light"
     },
     "output_type": "display_data"
    }
   ],
   "source": [
    "plt.plot(depth_list, model_error)\n",
    "plt.xlabel(\"Depth\")\n",
    "plt.ylabel(\"Accuracy\")"
   ]
  },
  {
   "cell_type": "markdown",
   "metadata": {},
   "source": [
    "From the above plot, we can see the accuracy scores at each tested depth. The highest point on the graph corresponds to the ideal depth of the model.\n",
    "\n",
    "We can access this value by using the following list comprehension: `depth_list[model_error.index(max(model_error))]`\n",
    "\n",
    "This code will identify the index of the maximum value in the `model_error` list which stores the accuracy scores and locate the corresponding value in the `depth_list` list."
   ]
  },
  {
   "cell_type": "code",
   "execution_count": 24,
   "metadata": {},
   "outputs": [],
   "source": [
    "# Identify most-relevant model features\n",
    "dt_selected_features = rfe_selection(model = DecisionTreeClassifier(max_depth = depth_list[model_error.index(max(model_error))]), data = chd_filtered) #Find most relevant model inputs\n",
    "\n",
    "# Split the data into x and y\n",
    "dt_x = chd_filtered[chd_filtered.columns.intersection(dt_selected_features)] #Use columns identified above\n",
    "dt_y = chd_filtered[[\"TenYearCHD\"]]"
   ]
  },
  {
   "cell_type": "code",
   "execution_count": 25,
   "metadata": {},
   "outputs": [],
   "source": [
    "dt_x_train, dt_x_test, dt_y_train, dt_y_test = train_test_split(dt_x, dt_y, test_size=0.2)"
   ]
  },
  {
   "cell_type": "markdown",
   "metadata": {},
   "source": [
    "## 3.2 Create decision tree classifier"
   ]
  },
  {
   "cell_type": "code",
   "execution_count": 26,
   "metadata": {},
   "outputs": [],
   "source": [
    "# Create classifier with a depth equal to that of the lowest error\n",
    "dt_classifier = DecisionTreeClassifier(max_depth = depth_list[model_error.index(max(model_error))])\n",
    "\n",
    "# Fit the classifier with the training data\n",
    "dt_classifier = dt_classifier.fit(dt_x_train, dt_y_train)"
   ]
  },
  {
   "cell_type": "code",
   "execution_count": 27,
   "metadata": {
    "tags": []
   },
   "outputs": [
    {
     "data": {
      "text/plain": [
       "[Text(581.25, 943.75, 'X[0] <= 55.5\\ngini = 0.235\\nsamples = 2049\\nvalue = [1770, 279]'),\n",
       " Text(290.625, 566.25, 'X[2] <= 157.75\\ngini = 0.178\\nsamples = 1552\\nvalue = [1399, 153]'),\n",
       " Text(145.3125, 188.75, 'gini = 0.162\\nsamples = 1467\\nvalue = [1337, 130]'),\n",
       " Text(435.9375, 188.75, 'gini = 0.395\\nsamples = 85\\nvalue = [62, 23]'),\n",
       " Text(871.875, 566.25, 'X[2] <= 145.5\\ngini = 0.378\\nsamples = 497\\nvalue = [371, 126]'),\n",
       " Text(726.5625, 188.75, 'gini = 0.328\\nsamples = 319\\nvalue = [253, 66]'),\n",
       " Text(1017.1875, 188.75, 'gini = 0.447\\nsamples = 178\\nvalue = [118, 60]')]"
      ]
     },
     "execution_count": 27,
     "metadata": {},
     "output_type": "execute_result"
    },
    {
     "data": {
      "image/png": "[encoded data removed]",
      "text/plain": [
       "<Figure size 1500x1500 with 1 Axes>"
      ]
     },
     "metadata": {
      "needs_background": "light"
     },
     "output_type": "display_data"
    }
   ],
   "source": [
    "### OPTIONAL ###\n",
    "# Visualize decision tree\n",
    "fig, axes = plt.subplots(nrows = 1,ncols = 1,figsize = (5,5), dpi=300)\n",
    "plot_tree(dt_classifier)"
   ]
  },
  {
   "cell_type": "markdown",
   "metadata": {},
   "source": [
    "## 3.3 Evaluate model performance"
   ]
  },
  {
   "cell_type": "code",
   "execution_count": 28,
   "metadata": {},
   "outputs": [],
   "source": [
    "# Predict test data with classifier\n",
    "dt_y_pred_test = dt_classifier.predict(dt_x_test)"
   ]
  },
  {
   "cell_type": "code",
   "execution_count": 29,
   "metadata": {},
   "outputs": [
    {
     "name": "stdout",
     "output_type": "stream",
     "text": [
      "Decision Tree Regressor Accuracy (d=2): 0.8810916179337231\n"
     ]
    }
   ],
   "source": [
    "# Calculate the accuracy of the model\n",
    "dt_classifier_accuracy = accuracy_score(dt_y_pred_test, dt_y_test)\n",
    "\n",
    "# Output MSE\n",
    "print(f\"Decision Tree Regressor Accuracy (d={depth_list[model_error.index(max(model_error))]}): {dt_classifier_accuracy}\")"
   ]
  },
  {
   "cell_type": "code",
   "execution_count": 30,
   "metadata": {},
   "outputs": [
    {
     "name": "stdout",
     "output_type": "stream",
     "text": [
      "\n",
      "CONFUSION MATRIX RESULTS\n",
      "True Negatives: 452\n",
      "True Positives: 0\n",
      "\n",
      "False Negatives: 0\n",
      "False Positives: 61\n",
      "\n"
     ]
    }
   ],
   "source": [
    "# Create a confusion matrix of the results\n",
    "dt_cm = confusion_matrix(dt_y_test, dt_y_pred_test)\n",
    "\n",
    "print(f\"\"\"\n",
    "CONFUSION MATRIX RESULTS\n",
    "True Negatives: {dt_cm[0,0]}\n",
    "True Positives: {dt_cm[1,1]}\n",
    "\n",
    "False Negatives: {dt_cm[0,1]}\n",
    "False Positives: {dt_cm[1,0]}\n",
    "\"\"\")"
   ]
  },
  {
   "cell_type": "markdown",
   "metadata": {},
   "source": [
    "# 4. Logistic Regression Classifier\n",
    "\n",
    "----"
   ]
  },
  {
   "cell_type": "markdown",
   "metadata": {},
   "source": [
    "## 4.1 Feature selection"
   ]
  },
  {
   "cell_type": "markdown",
   "metadata": {},
   "source": [
    "First we have to determine the ideal inputs for the model. To determine this, we will use [RFE Feature Elimination](https://machinelearningmastery.com/rfe-feature-selection-in-python/). "
   ]
  },
  {
   "cell_type": "code",
   "execution_count": 33,
   "metadata": {},
   "outputs": [
    {
     "name": "stderr",
     "output_type": "stream",
     "text": [
      "/Users/simon/opt/anaconda3/lib/python3.8/site-packages/sklearn/linear_model/_logistic.py:762: ConvergenceWarning: lbfgs failed to converge (status=1):\n",
      "STOP: TOTAL NO. of ITERATIONS REACHED LIMIT.\n",
      "\n",
      "Increase the number of iterations (max_iter) or scale the data as shown in:\n",
      "    https://scikit-learn.org/stable/modules/preprocessing.html\n",
      "Please also refer to the documentation for alternative solver options:\n",
      "    https://scikit-learn.org/stable/modules/linear_model.html#logistic-regression\n",
      "  n_iter_i = _check_optimize_result(\n",
      "/Users/simon/opt/anaconda3/lib/python3.8/site-packages/sklearn/linear_model/_logistic.py:762: ConvergenceWarning: lbfgs failed to converge (status=1):\n",
      "STOP: TOTAL NO. of ITERATIONS REACHED LIMIT.\n",
      "\n",
      "Increase the number of iterations (max_iter) or scale the data as shown in:\n",
      "    https://scikit-learn.org/stable/modules/preprocessing.html\n",
      "Please also refer to the documentation for alternative solver options:\n",
      "    https://scikit-learn.org/stable/modules/linear_model.html#logistic-regression\n",
      "  n_iter_i = _check_optimize_result(\n",
      "/Users/simon/opt/anaconda3/lib/python3.8/site-packages/sklearn/linear_model/_logistic.py:762: ConvergenceWarning: lbfgs failed to converge (status=1):\n",
      "STOP: TOTAL NO. of ITERATIONS REACHED LIMIT.\n",
      "\n",
      "Increase the number of iterations (max_iter) or scale the data as shown in:\n",
      "    https://scikit-learn.org/stable/modules/preprocessing.html\n",
      "Please also refer to the documentation for alternative solver options:\n",
      "    https://scikit-learn.org/stable/modules/linear_model.html#logistic-regression\n",
      "  n_iter_i = _check_optimize_result(\n",
      "/Users/simon/opt/anaconda3/lib/python3.8/site-packages/sklearn/linear_model/_logistic.py:762: ConvergenceWarning: lbfgs failed to converge (status=1):\n",
      "STOP: TOTAL NO. of ITERATIONS REACHED LIMIT.\n",
      "\n",
      "Increase the number of iterations (max_iter) or scale the data as shown in:\n",
      "    https://scikit-learn.org/stable/modules/preprocessing.html\n",
      "Please also refer to the documentation for alternative solver options:\n",
      "    https://scikit-learn.org/stable/modules/linear_model.html#logistic-regression\n",
      "  n_iter_i = _check_optimize_result(\n"
     ]
    }
   ],
   "source": [
    "lr_selected_features = rfe_selection(model = LogisticRegression(), data = chd_filtered)"
   ]
  },
  {
   "cell_type": "code",
   "execution_count": 35,
   "metadata": {},
   "outputs": [
    {
     "data": {
      "text/plain": [
       "['age', 'sex', 'prevalentStroke', 'diaBP', 'BMI', 'heartRate', 'glucose']"
      ]
     },
     "execution_count": 35,
     "metadata": {},
     "output_type": "execute_result"
    }
   ],
   "source": [
    "lr_selected_features"
   ]
  },
  {
   "cell_type": "markdown",
   "metadata": {},
   "source": [
    "From the above RFE results, we can see that the seven most relevant variables are; `age`, `sex`, `cigsPerDay`, `prevalentStroke`, `totChol`, `sysBP`, and `glucose`. \n",
    "\n",
    "These seven features will be our inputs for this model."
   ]
  },
  {
   "cell_type": "code",
   "execution_count": 36,
   "metadata": {},
   "outputs": [],
   "source": [
    "# Split the data into x and y\n",
    "lr_x = chd_filtered[chd_filtered.columns.intersection(lr_selected_features)] #Use columns identified above\n",
    "lr_y = chd_filtered[[\"TenYearCHD\"]]"
   ]
  },
  {
   "cell_type": "code",
   "execution_count": 37,
   "metadata": {},
   "outputs": [],
   "source": [
    "lr_x_train, lr_x_test, lr_y_train, lr_y_test = train_test_split(lr_x, lr_y, test_size=0.2)"
   ]
  },
  {
   "cell_type": "markdown",
   "metadata": {},
   "source": [
    "## 4.2 Create logistic regressor"
   ]
  },
  {
   "cell_type": "code",
   "execution_count": 38,
   "metadata": {},
   "outputs": [
    {
     "name": "stderr",
     "output_type": "stream",
     "text": [
      "/Users/simon/opt/anaconda3/lib/python3.8/site-packages/sklearn/linear_model/_logistic.py:762: ConvergenceWarning: lbfgs failed to converge (status=1):\n",
      "STOP: TOTAL NO. of ITERATIONS REACHED LIMIT.\n",
      "\n",
      "Increase the number of iterations (max_iter) or scale the data as shown in:\n",
      "    https://scikit-learn.org/stable/modules/preprocessing.html\n",
      "Please also refer to the documentation for alternative solver options:\n",
      "    https://scikit-learn.org/stable/modules/linear_model.html#logistic-regression\n",
      "  n_iter_i = _check_optimize_result(\n"
     ]
    }
   ],
   "source": [
    "lr_model = LogisticRegression()\n",
    "lr_model = lr_model.fit(lr_x_train, lr_y_train.values.ravel())"
   ]
  },
  {
   "cell_type": "code",
   "execution_count": 39,
   "metadata": {},
   "outputs": [],
   "source": [
    "lr_model_predicted = lr_model.predict(lr_x_test)"
   ]
  },
  {
   "cell_type": "markdown",
   "metadata": {},
   "source": [
    "## 4.3 Evaluate model performance"
   ]
  },
  {
   "cell_type": "code",
   "execution_count": 40,
   "metadata": {},
   "outputs": [
    {
     "name": "stdout",
     "output_type": "stream",
     "text": [
      "\n",
      "CONFUSION MATRIX RESULTS\n",
      "True Negatives: 445\n",
      "True Positives: 0\n",
      "\n",
      "False Negatives: 68\n",
      "False Positives: 0\n",
      "\n"
     ]
    }
   ],
   "source": [
    "# Create a confusion matrix of the results\n",
    "lr_cm = confusion_matrix(lr_model_predicted, lr_y_test)\n",
    "\n",
    "print(f\"\"\"\n",
    "CONFUSION MATRIX RESULTS\n",
    "True Negatives: {lr_cm[0,0]}\n",
    "True Positives: {lr_cm[1,1]}\n",
    "\n",
    "False Negatives: {lr_cm[0,1]}\n",
    "False Positives: {lr_cm[1,0]}\n",
    "\"\"\")"
   ]
  },
  {
   "cell_type": "code",
   "execution_count": 41,
   "metadata": {},
   "outputs": [
    {
     "name": "stdout",
     "output_type": "stream",
     "text": [
      "Logistic Regressor Accuracy: 0.8674463937621832\n"
     ]
    }
   ],
   "source": [
    "# Calculate the accuracy of the model\n",
    "lr_model_accuracy = accuracy_score(lr_model_predicted, lr_y_test)\n",
    "\n",
    "# Output accuracy\n",
    "print(f\"Logistic Regressor Accuracy: {lr_model_accuracy}\")"
   ]
  },
  {
   "cell_type": "markdown",
   "metadata": {},
   "source": [
    "# 5. Results\n",
    "\n",
    "----"
   ]
  },
  {
   "cell_type": "markdown",
   "metadata": {},
   "source": [
    "## 5.1 Accuracy scores"
   ]
  },
  {
   "cell_type": "code",
   "execution_count": 42,
   "metadata": {},
   "outputs": [
    {
     "ename": "AttributeError",
     "evalue": "'AxesSubplot' object has no attribute 'bar_label'",
     "output_type": "error",
     "traceback": [
      "\u001b[0;31m---------------------------------------------------------------------------\u001b[0m",
      "\u001b[0;31mAttributeError\u001b[0m                            Traceback (most recent call last)",
      "\u001b[0;32m<ipython-input-42-7e6748626975>\u001b[0m in \u001b[0;36m<module>\u001b[0;34m\u001b[0m\n\u001b[1;32m      6\u001b[0m \u001b[0max\u001b[0m \u001b[0;34m=\u001b[0m \u001b[0msns\u001b[0m\u001b[0;34m.\u001b[0m\u001b[0mbarplot\u001b[0m\u001b[0;34m(\u001b[0m\u001b[0mx\u001b[0m\u001b[0;34m=\u001b[0m\u001b[0mmodel_names\u001b[0m\u001b[0;34m,\u001b[0m \u001b[0my\u001b[0m\u001b[0;34m=\u001b[0m\u001b[0maccuracy_vals\u001b[0m\u001b[0;34m)\u001b[0m\u001b[0;34m\u001b[0m\u001b[0;34m\u001b[0m\u001b[0m\n\u001b[1;32m      7\u001b[0m \u001b[0;32mfor\u001b[0m \u001b[0mi\u001b[0m \u001b[0;32min\u001b[0m \u001b[0max\u001b[0m\u001b[0;34m.\u001b[0m\u001b[0mcontainers\u001b[0m\u001b[0;34m:\u001b[0m\u001b[0;34m\u001b[0m\u001b[0;34m\u001b[0m\u001b[0m\n\u001b[0;32m----> 8\u001b[0;31m     \u001b[0max\u001b[0m\u001b[0;34m.\u001b[0m\u001b[0mbar_label\u001b[0m\u001b[0;34m(\u001b[0m\u001b[0mi\u001b[0m\u001b[0;34m,\u001b[0m\u001b[0;34m)\u001b[0m\u001b[0;34m\u001b[0m\u001b[0;34m\u001b[0m\u001b[0m\n\u001b[0m\u001b[1;32m      9\u001b[0m \u001b[0mplt\u001b[0m\u001b[0;34m.\u001b[0m\u001b[0mtitle\u001b[0m\u001b[0;34m(\u001b[0m\u001b[0;34m\"Accuracy Score Comparison\"\u001b[0m\u001b[0;34m)\u001b[0m\u001b[0;34m\u001b[0m\u001b[0;34m\u001b[0m\u001b[0m\n\u001b[1;32m     10\u001b[0m \u001b[0mplt\u001b[0m\u001b[0;34m.\u001b[0m\u001b[0mxlabel\u001b[0m\u001b[0;34m(\u001b[0m\u001b[0;34m\"Model\"\u001b[0m\u001b[0;34m)\u001b[0m\u001b[0;34m\u001b[0m\u001b[0;34m\u001b[0m\u001b[0m\n",
      "\u001b[0;31mAttributeError\u001b[0m: 'AxesSubplot' object has no attribute 'bar_label'"
     ]
    },
    {
     "data": {
      "image/png": "[encoded data removed]",
      "text/plain": [
       "<Figure size 432x288 with 1 Axes>"
      ]
     },
     "metadata": {
      "needs_background": "light"
     },
     "output_type": "display_data"
    }
   ],
   "source": [
    "accuracy_vals = list()\n",
    "accuracy_vals.append(lr_model_accuracy)\n",
    "accuracy_vals.append(dt_classifier_accuracy)\n",
    "model_names = [\"Logistic Regression\", \"Decision Tree\"]\n",
    "\n",
    "ax = sns.barplot(x=model_names, y=accuracy_vals)\n",
    "for i in ax.containers:\n",
    "    ax.bar_label(i,)\n",
    "plt.title(\"Accuracy Score Comparison\")\n",
    "plt.xlabel(\"Model\")\n",
    "plt.ylabel(\"Accuracy Score\")\n",
    "plt.ylim(0, 1)\n",
    "ax.bar_label(ax.containers[0])\n",
    "plt.show()"
   ]
  },
  {
   "cell_type": "markdown",
   "metadata": {},
   "source": [
    "## 5.2 Confusion matrix"
   ]
  },
  {
   "cell_type": "markdown",
   "metadata": {},
   "source": [
    "When evaluating a classification model, the context is very important. Even if the accuracy score is high, that only tells you how often a model correctly classifies something, but it does not tell you _what_ it is correctly classifying.\n",
    "\n",
    "In the context of this project, we are looking at medical data. Given the nature of medical diagnoses, errors in classification (misdiagnoses) fall into two categories of errors:\n",
    "\n",
    "> __Type I Error:__ Reject the null hypothesis when it's actually true (false negative)\n",
    "\n",
    "> __Type II Error:__ Fail to reject the null hypothesis when it's actually false (false positive)\n",
    "\n",
    "Type II errors are always worse than Type I errors. In this context, a false negative could mean leading a patient to think that they are healthy when, in fact, they have developed a fatal disease that is time sensitive and could otherwise be treated.\n",
    "\n",
    "For our final evaluation of these models, we will look at the breakdown of Type I and Type II errors across the classifiers tested."
   ]
  },
  {
   "cell_type": "code",
   "execution_count": 43,
   "metadata": {},
   "outputs": [
    {
     "name": "stdout",
     "output_type": "stream",
     "text": [
      "\n",
      "CORRECT CLASSIFICATIONS\n",
      "\t\tLogistic Regression\tDecision Tree\n",
      "NEGATIVES: \t445\t\t\t452\n",
      "POSITIVES: \t0\t\t\t0\n",
      "\n",
      "ERROR BREAKDOWN\n",
      "\t\tLogistic Regression\tDecision Tree\n",
      "TYPE I: \t68\t\t\t0\n",
      "TYPE II: \t0\t\t\t61\n",
      "\n"
     ]
    }
   ],
   "source": [
    "print(f\"\"\"\n",
    "CORRECT CLASSIFICATIONS\n",
    "\\t\\tLogistic Regression\\tDecision Tree\n",
    "NEGATIVES: \\t{lr_cm[0,0]}\\t\\t\\t{dt_cm[0,0]}\n",
    "POSITIVES: \\t{lr_cm[1,1]}\\t\\t\\t{dt_cm[1,1]}\n",
    "\n",
    "ERROR BREAKDOWN\n",
    "\\t\\tLogistic Regression\\tDecision Tree\n",
    "TYPE I: \\t{lr_cm[0,1]}\\t\\t\\t{dt_cm[0,1]}\n",
    "TYPE II: \\t{lr_cm[1,0]}\\t\\t\\t{dt_cm[1,0]}\n",
    "\"\"\")"
   ]
  }
 ],
 "metadata": {
  "kernelspec": {
   "display_name": "Python 3",
   "language": "python",
   "name": "python3"
  },
  "language_info": {
   "codemirror_mode": {
    "name": "ipython",
    "version": 3
   },
   "file_extension": ".py",
   "mimetype": "text/x-python",
   "name": "python",
   "nbconvert_exporter": "python",
   "pygments_lexer": "ipython3",
   "version": "3.8.5"
  }
 },
 "nbformat": 4,
 "nbformat_minor": 5
}
