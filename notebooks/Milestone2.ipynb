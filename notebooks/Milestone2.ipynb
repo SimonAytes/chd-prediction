{
 "cells": [
  {
   "cell_type": "markdown",
   "id": "7f7b121a-d4cd-4cdd-a402-2f285abdc490",
   "metadata": {
    "tags": []
   },
   "source": [
    "# Term Project - Milestone #2\n",
    "\n",
    "Simon Aytes\n",
    "\n",
    "MAT 328 - Techniques in Data Science\n",
    "\n",
    "Spring 2022\n",
    "\n",
    "Professor Owen\n",
    "\n",
    "----"
   ]
  },
  {
   "cell_type": "markdown",
   "id": "783b2ff8-72b7-41cf-8d62-5f2e72851c0c",
   "metadata": {},
   "source": [
    "# 0. Environment configuration"
   ]
  },
  {
   "cell_type": "markdown",
   "id": "c2c0cb18-e56a-46b6-a0e7-f02a8835ff3e",
   "metadata": {
    "tags": []
   },
   "source": [
    "## 0.1 Import libraries"
   ]
  },
  {
   "cell_type": "code",
   "execution_count": null,
   "id": "dd271928-8d4b-4bd0-a0d3-bcc864a821dd",
   "metadata": {
    "tags": []
   },
   "outputs": [],
   "source": [
    "# IMPORTANT: If you do not already have the libraries installed, run this cell to install them\n",
    "!pip install -r requirements.txt"
   ]
  },
  {
   "cell_type": "code",
   "execution_count": 1,
   "id": "e1d6dd5c-cb38-4547-a80a-c949706a4fa1",
   "metadata": {},
   "outputs": [],
   "source": [
    "# Data handling\n",
    "from sklearn.model_selection import train_test_split\n",
    "import pandas as pd\n",
    "import numpy as np\n",
    "import os\n",
    "\n",
    "# Models\n",
    "from sklearn.tree import DecisionTreeClassifier\n",
    "from sklearn.linear_model import LogisticRegression\n",
    "\n",
    "# Model evaluation\n",
    "from sklearn.preprocessing import MinMaxScaler\n",
    "from sklearn.metrics import confusion_matrix\n",
    "from sklearn.metrics import accuracy_score\n",
    "\n",
    "# Feature selection\n",
    "from sklearn.feature_selection import RFE\n",
    "\n",
    "# Visualization\n",
    "from sklearn.tree import plot_tree\n",
    "import seaborn as sns\n",
    "import matplotlib.pyplot as plt\n",
    "\n",
    "# Environment setup\n",
    "%matplotlib inline\n",
    "pd.set_option('display.max_columns', None)"
   ]
  },
  {
   "cell_type": "markdown",
   "id": "a67210d4-c4f6-455f-83d8-5eca99f5f000",
   "metadata": {},
   "source": [
    "## 0.2 Utility functions"
   ]
  },
  {
   "cell_type": "markdown",
   "id": "2ec8889f-b2e5-4512-861c-b26facc33baa",
   "metadata": {},
   "source": [
    "The function below uses [RFE Feature Elimination](https://machinelearningmastery.com/rfe-feature-selection-in-python/) to determine the optimal features for our models. It is set up as a dynamic function that can be used by either model and, as such, is used for both to determine their inputs."
   ]
  },
  {
   "cell_type": "code",
   "execution_count": 2,
   "id": "cfa050a5-6108-499d-b948-575f9ba5e91a",
   "metadata": {},
   "outputs": [],
   "source": [
    "def rfe_selection(model, data):\n",
    "    # Assign data-related variables\n",
    "    features = [\"age\", \"sex\", \"is_smoking\", \"cigsPerDay\", \"BPMeds\", \"prevalentStroke\", \"prevalentHyp\", \"diabetes\", \"totChol\", \"sysBP\", \"diaBP\", \"BMI\", \"heartRate\", \"glucose\", \"TenYearCHD\"]\n",
    "    df_vals = data.values\n",
    "\n",
    "    # Identify the column names of the features\n",
    "    inputs = df_vals[:,0:len(features)-1]\n",
    "    response_variable = df_vals[:,len(features)-1]\n",
    "\n",
    "    # Feature extraction\n",
    "    #dt_classifier = DecisionTreeClassifier(max_depth = 5)\n",
    "    rfe = RFE(model, step = 3)\n",
    "    fit = rfe.fit(inputs, response_variable)\n",
    "\n",
    "    # Create list with the target feature names\n",
    "    selected_features = list(np.array(features[:-1])[np.array(fit.support_)])\n",
    "    \n",
    "    # Return a list containing the column names of the most relevant features\n",
    "    return selected_features"
   ]
  },
  {
   "cell_type": "markdown",
   "id": "b9eed3ab-e063-434e-b212-7e4970499402",
   "metadata": {},
   "source": [
    "# 1. Load processed data\n",
    "----"
   ]
  },
  {
   "cell_type": "code",
   "execution_count": 3,
   "id": "fcbbc465-1450-4895-a4b2-3ecadc1aad27",
   "metadata": {},
   "outputs": [],
   "source": [
    "# Get path to the repository's data folder\n",
    "data_path = \"/\".join(os.getcwd().split(\"/\")[0:-1]) + \"/data/\""
   ]
  },
  {
   "cell_type": "code",
   "execution_count": 4,
   "id": "cee85514-6e45-4fb5-bb16-5f5ef399878f",
   "metadata": {
    "tags": []
   },
   "outputs": [],
   "source": [
    "chd = pd.read_csv(open(data_path + \"processed/data_cleaned.csv\"))\n",
    "chd = chd.drop(columns=[\"Unnamed: 0\"]) # Drop the index column"
   ]
  },
  {
   "cell_type": "code",
   "execution_count": 5,
   "id": "5364c9bf-53d9-46cd-bc86-6fcfdc961a1b",
   "metadata": {},
   "outputs": [
    {
     "data": {
      "text/html": [
       "<div>\n",
       "<style scoped>\n",
       "    .dataframe tbody tr th:only-of-type {\n",
       "        vertical-align: middle;\n",
       "    }\n",
       "\n",
       "    .dataframe tbody tr th {\n",
       "        vertical-align: top;\n",
       "    }\n",
       "\n",
       "    .dataframe thead th {\n",
       "        text-align: right;\n",
       "    }\n",
       "</style>\n",
       "<table border=\"1\" class=\"dataframe\">\n",
       "  <thead>\n",
       "    <tr style=\"text-align: right;\">\n",
       "      <th></th>\n",
       "      <th>id</th>\n",
       "      <th>age</th>\n",
       "      <th>education</th>\n",
       "      <th>sex</th>\n",
       "      <th>is_smoking</th>\n",
       "      <th>cigsPerDay</th>\n",
       "      <th>BPMeds</th>\n",
       "      <th>prevalentStroke</th>\n",
       "      <th>prevalentHyp</th>\n",
       "      <th>diabetes</th>\n",
       "      <th>totChol</th>\n",
       "      <th>sysBP</th>\n",
       "      <th>diaBP</th>\n",
       "      <th>BMI</th>\n",
       "      <th>heartRate</th>\n",
       "      <th>glucose</th>\n",
       "      <th>TenYearCHD</th>\n",
       "    </tr>\n",
       "  </thead>\n",
       "  <tbody>\n",
       "    <tr>\n",
       "      <th>0</th>\n",
       "      <td>1</td>\n",
       "      <td>36</td>\n",
       "      <td>4</td>\n",
       "      <td>1</td>\n",
       "      <td>0</td>\n",
       "      <td>0.0</td>\n",
       "      <td>0</td>\n",
       "      <td>0</td>\n",
       "      <td>1</td>\n",
       "      <td>0</td>\n",
       "      <td>212.0</td>\n",
       "      <td>168.0</td>\n",
       "      <td>98.0</td>\n",
       "      <td>29.77</td>\n",
       "      <td>72.0</td>\n",
       "      <td>75.0</td>\n",
       "      <td>0.0</td>\n",
       "    </tr>\n",
       "    <tr>\n",
       "      <th>1</th>\n",
       "      <td>2</td>\n",
       "      <td>46</td>\n",
       "      <td>1</td>\n",
       "      <td>0</td>\n",
       "      <td>1</td>\n",
       "      <td>10.0</td>\n",
       "      <td>0</td>\n",
       "      <td>0</td>\n",
       "      <td>0</td>\n",
       "      <td>0</td>\n",
       "      <td>250.0</td>\n",
       "      <td>116.0</td>\n",
       "      <td>71.0</td>\n",
       "      <td>20.35</td>\n",
       "      <td>88.0</td>\n",
       "      <td>94.0</td>\n",
       "      <td>0.0</td>\n",
       "    </tr>\n",
       "    <tr>\n",
       "      <th>2</th>\n",
       "      <td>3</td>\n",
       "      <td>50</td>\n",
       "      <td>1</td>\n",
       "      <td>1</td>\n",
       "      <td>1</td>\n",
       "      <td>20.0</td>\n",
       "      <td>0</td>\n",
       "      <td>0</td>\n",
       "      <td>1</td>\n",
       "      <td>0</td>\n",
       "      <td>233.0</td>\n",
       "      <td>158.0</td>\n",
       "      <td>88.0</td>\n",
       "      <td>28.26</td>\n",
       "      <td>68.0</td>\n",
       "      <td>94.0</td>\n",
       "      <td>1.0</td>\n",
       "    </tr>\n",
       "    <tr>\n",
       "      <th>3</th>\n",
       "      <td>4</td>\n",
       "      <td>64</td>\n",
       "      <td>1</td>\n",
       "      <td>0</td>\n",
       "      <td>1</td>\n",
       "      <td>30.0</td>\n",
       "      <td>0</td>\n",
       "      <td>0</td>\n",
       "      <td>0</td>\n",
       "      <td>0</td>\n",
       "      <td>241.0</td>\n",
       "      <td>136.5</td>\n",
       "      <td>85.0</td>\n",
       "      <td>26.42</td>\n",
       "      <td>70.0</td>\n",
       "      <td>77.0</td>\n",
       "      <td>0.0</td>\n",
       "    </tr>\n",
       "    <tr>\n",
       "      <th>4</th>\n",
       "      <td>5</td>\n",
       "      <td>61</td>\n",
       "      <td>3</td>\n",
       "      <td>0</td>\n",
       "      <td>0</td>\n",
       "      <td>0.0</td>\n",
       "      <td>0</td>\n",
       "      <td>0</td>\n",
       "      <td>1</td>\n",
       "      <td>0</td>\n",
       "      <td>272.0</td>\n",
       "      <td>182.0</td>\n",
       "      <td>121.0</td>\n",
       "      <td>32.80</td>\n",
       "      <td>85.0</td>\n",
       "      <td>65.0</td>\n",
       "      <td>1.0</td>\n",
       "    </tr>\n",
       "  </tbody>\n",
       "</table>\n",
       "</div>"
      ],
      "text/plain": [
       "   id  age  education  sex  is_smoking  cigsPerDay  BPMeds  prevalentStroke  \\\n",
       "0   1   36          4    1           0         0.0       0                0   \n",
       "1   2   46          1    0           1        10.0       0                0   \n",
       "2   3   50          1    1           1        20.0       0                0   \n",
       "3   4   64          1    0           1        30.0       0                0   \n",
       "4   5   61          3    0           0         0.0       0                0   \n",
       "\n",
       "   prevalentHyp  diabetes  totChol  sysBP  diaBP    BMI  heartRate  glucose  \\\n",
       "0             1         0    212.0  168.0   98.0  29.77       72.0     75.0   \n",
       "1             0         0    250.0  116.0   71.0  20.35       88.0     94.0   \n",
       "2             1         0    233.0  158.0   88.0  28.26       68.0     94.0   \n",
       "3             0         0    241.0  136.5   85.0  26.42       70.0     77.0   \n",
       "4             1         0    272.0  182.0  121.0  32.80       85.0     65.0   \n",
       "\n",
       "   TenYearCHD  \n",
       "0         0.0  \n",
       "1         0.0  \n",
       "2         1.0  \n",
       "3         0.0  \n",
       "4         1.0  "
      ]
     },
     "execution_count": 5,
     "metadata": {},
     "output_type": "execute_result"
    }
   ],
   "source": [
    "chd.head()"
   ]
  },
  {
   "cell_type": "code",
   "execution_count": 47,
   "id": "0ba0094a-87ba-4e09-8e49-acc5985ccdc6",
   "metadata": {},
   "outputs": [
    {
     "data": {
      "text/plain": [
       "0.0    2483\n",
       "1.0     444\n",
       "Name: TenYearCHD, dtype: int64"
      ]
     },
     "execution_count": 47,
     "metadata": {},
     "output_type": "execute_result"
    }
   ],
   "source": [
    "chd.TenYearCHD.value_counts()"
   ]
  },
  {
   "cell_type": "code",
   "execution_count": 48,
   "id": "d6dc73e2-fb89-4ad3-bc28-5767b75c9096",
   "metadata": {},
   "outputs": [
    {
     "data": {
      "text/plain": [
       "0.0    2222\n",
       "1.0     340\n",
       "Name: TenYearCHD, dtype: int64"
      ]
     },
     "execution_count": 48,
     "metadata": {},
     "output_type": "execute_result"
    }
   ],
   "source": [
    "chd_filtered.TenYearCHD.value_counts()"
   ]
  },
  {
   "cell_type": "markdown",
   "id": "6d692637-7f3f-4a45-9af8-030a66c076b1",
   "metadata": {},
   "source": [
    "# 2. Preparing the data\n",
    "\n",
    "----"
   ]
  },
  {
   "cell_type": "markdown",
   "id": "839ef9bb-5196-484a-a81d-a20351689813",
   "metadata": {},
   "source": [
    "## 2.1 Outlier detection and removal"
   ]
  },
  {
   "cell_type": "markdown",
   "id": "a55fee5e-6f15-4719-8bc4-add6a7c8e96d",
   "metadata": {},
   "source": [
    "For our model data, we want to remove any outliers within the continuous columns of our data. To do this we will use Interquartile Ranges (IQR) and, more specifically, values that lie outside of the following boundary: $(Q_{1} - 1.5) * IQR ≤ x ≤ (Q_{3} + 1.5) * IQR$.\n",
    "\n",
    "This boundary and the relationship of outliers to the dataset can be seen in the image below.\n",
    "\n",
    "<center>\n",
    "<img src=\"Figures/boxplot_outliers.png\" width=500 height=50 />\n",
    "</center>\n",
    "<center>\n",
    "<em><a href=\"https://www.simplypsychology.org/boxplots.html#:~:text=When%20reviewing%20a%20box%20plot,whiskers%20of%20the%20box%20plot.&text=For%20example%2C%20outside%201.5%20times,Q3%20%2B%201.5%20*%20IQR).\">Image source</a></em>\n",
    "</center>"
   ]
  },
  {
   "cell_type": "code",
   "execution_count": 6,
   "id": "f9055bee-bbc8-470b-aa9b-b4655feaf4c8",
   "metadata": {},
   "outputs": [],
   "source": [
    "# Identify numerical columns\n",
    "numerical_columns = ['age', 'cigsPerDay', 'totChol', 'sysBP', 'diaBP', 'BMI', 'heartRate', 'glucose']\n",
    "\n",
    "# Gather quantile information\n",
    "Q1 = chd[numerical_columns].quantile(0.25)\n",
    "Q3 = chd[numerical_columns].quantile(0.75)\n",
    "IQR = Q3 - Q1\n",
    "\n",
    "# Remove outliers by filtering to be within the range outlined above\n",
    "chd_filtered = chd[~((chd[numerical_columns] < (Q1 - 1.5 * IQR)) | (chd[numerical_columns] > (Q3 + 1.5 * IQR))).any(axis=1)]"
   ]
  },
  {
   "cell_type": "code",
   "execution_count": 7,
   "id": "11f2e2c9-86db-4bd3-9a88-d662614a4320",
   "metadata": {},
   "outputs": [
    {
     "name": "stdout",
     "output_type": "stream",
     "text": [
      "A total of 365 were removed from the scaled datatset.\n"
     ]
    }
   ],
   "source": [
    "num_outliers = chd.shape[0] - chd_filtered.shape[0]\n",
    "\n",
    "print(f\"A total of {num_outliers} were removed from the scaled datatset.\")"
   ]
  },
  {
   "cell_type": "markdown",
   "id": "164fa6ec-879e-45bb-9b95-c822056b9ce6",
   "metadata": {},
   "source": [
    "## 2.2 Normalizing the data"
   ]
  },
  {
   "cell_type": "markdown",
   "id": "6736b089-b0c1-4d65-b30a-4daa3a6288fb",
   "metadata": {},
   "source": [
    "The data is currently a mix of binary and continuous values. When using such a dataset to make classifications, the disparate scales of the data can increase model error. \n",
    "\n",
    "To address this, we will use a min-max scaler to normalize all of the model inputs. The equation for min-max scaling is shown below, where $X_{scaled}$ is the scaled value of $X$ given a particular dataset.\n",
    "\n",
    "$$X_{scaled} = \\frac{X - X_{min}}{X_{max} - X_{min}}$$"
   ]
  },
  {
   "cell_type": "code",
   "execution_count": 8,
   "id": "ecf8b487-14e6-4085-b035-28f74c96b57b",
   "metadata": {},
   "outputs": [],
   "source": [
    "scaler = MinMaxScaler()"
   ]
  },
  {
   "cell_type": "code",
   "execution_count": 9,
   "id": "610832c7-35ee-49db-9961-454b46fda18b",
   "metadata": {},
   "outputs": [],
   "source": [
    "# Scale values (All except the 'id' column, as it will not be used in analysis)\n",
    "chd_scaled_filtered = scaler.fit_transform(chd_filtered)\n",
    "chd_scaled_filtered = pd.DataFrame(chd_scaled_filtered)\n",
    "\n",
    "# Re-assign column names\n",
    "column_names = chd_filtered.columns.to_list() #Preserve old column name\n",
    "chd_scaled_filtered.columns = column_names #Rename columns to old labels\n",
    "\n",
    "# Drop the 'id' and 'education' columns\n",
    "chd_scaled_filtered = chd_scaled_filtered.drop(columns=[\"id\", \"education\"])"
   ]
  },
  {
   "cell_type": "code",
   "execution_count": 10,
   "id": "f2cef589-d8bd-4f37-be07-d55672e1a0aa",
   "metadata": {},
   "outputs": [
    {
     "data": {
      "text/html": [
       "<div>\n",
       "<style scoped>\n",
       "    .dataframe tbody tr th:only-of-type {\n",
       "        vertical-align: middle;\n",
       "    }\n",
       "\n",
       "    .dataframe tbody tr th {\n",
       "        vertical-align: top;\n",
       "    }\n",
       "\n",
       "    .dataframe thead th {\n",
       "        text-align: right;\n",
       "    }\n",
       "</style>\n",
       "<table border=\"1\" class=\"dataframe\">\n",
       "  <thead>\n",
       "    <tr style=\"text-align: right;\">\n",
       "      <th></th>\n",
       "      <th>age</th>\n",
       "      <th>sex</th>\n",
       "      <th>is_smoking</th>\n",
       "      <th>cigsPerDay</th>\n",
       "      <th>BPMeds</th>\n",
       "      <th>prevalentStroke</th>\n",
       "      <th>prevalentHyp</th>\n",
       "      <th>diabetes</th>\n",
       "      <th>totChol</th>\n",
       "      <th>sysBP</th>\n",
       "      <th>diaBP</th>\n",
       "      <th>BMI</th>\n",
       "      <th>heartRate</th>\n",
       "      <th>glucose</th>\n",
       "      <th>TenYearCHD</th>\n",
       "    </tr>\n",
       "  </thead>\n",
       "  <tbody>\n",
       "    <tr>\n",
       "      <th>0</th>\n",
       "      <td>0.105263</td>\n",
       "      <td>1.0</td>\n",
       "      <td>0.0</td>\n",
       "      <td>0.0</td>\n",
       "      <td>0.0</td>\n",
       "      <td>0.0</td>\n",
       "      <td>1.0</td>\n",
       "      <td>0.0</td>\n",
       "      <td>0.400862</td>\n",
       "      <td>0.836634</td>\n",
       "      <td>0.754098</td>\n",
       "      <td>0.697638</td>\n",
       "      <td>0.431034</td>\n",
       "      <td>0.437500</td>\n",
       "      <td>0.0</td>\n",
       "    </tr>\n",
       "    <tr>\n",
       "      <th>1</th>\n",
       "      <td>0.368421</td>\n",
       "      <td>0.0</td>\n",
       "      <td>1.0</td>\n",
       "      <td>0.2</td>\n",
       "      <td>0.0</td>\n",
       "      <td>0.0</td>\n",
       "      <td>0.0</td>\n",
       "      <td>0.0</td>\n",
       "      <td>0.564655</td>\n",
       "      <td>0.321782</td>\n",
       "      <td>0.311475</td>\n",
       "      <td>0.203150</td>\n",
       "      <td>0.706897</td>\n",
       "      <td>0.734375</td>\n",
       "      <td>0.0</td>\n",
       "    </tr>\n",
       "    <tr>\n",
       "      <th>2</th>\n",
       "      <td>0.473684</td>\n",
       "      <td>1.0</td>\n",
       "      <td>1.0</td>\n",
       "      <td>0.4</td>\n",
       "      <td>0.0</td>\n",
       "      <td>0.0</td>\n",
       "      <td>1.0</td>\n",
       "      <td>0.0</td>\n",
       "      <td>0.491379</td>\n",
       "      <td>0.737624</td>\n",
       "      <td>0.590164</td>\n",
       "      <td>0.618373</td>\n",
       "      <td>0.362069</td>\n",
       "      <td>0.734375</td>\n",
       "      <td>1.0</td>\n",
       "    </tr>\n",
       "    <tr>\n",
       "      <th>3</th>\n",
       "      <td>0.842105</td>\n",
       "      <td>0.0</td>\n",
       "      <td>1.0</td>\n",
       "      <td>0.6</td>\n",
       "      <td>0.0</td>\n",
       "      <td>0.0</td>\n",
       "      <td>0.0</td>\n",
       "      <td>0.0</td>\n",
       "      <td>0.525862</td>\n",
       "      <td>0.524752</td>\n",
       "      <td>0.540984</td>\n",
       "      <td>0.521785</td>\n",
       "      <td>0.396552</td>\n",
       "      <td>0.468750</td>\n",
       "      <td>0.0</td>\n",
       "    </tr>\n",
       "    <tr>\n",
       "      <th>4</th>\n",
       "      <td>0.105263</td>\n",
       "      <td>1.0</td>\n",
       "      <td>1.0</td>\n",
       "      <td>0.7</td>\n",
       "      <td>0.0</td>\n",
       "      <td>0.0</td>\n",
       "      <td>0.0</td>\n",
       "      <td>0.0</td>\n",
       "      <td>0.758621</td>\n",
       "      <td>0.183168</td>\n",
       "      <td>0.262295</td>\n",
       "      <td>0.612598</td>\n",
       "      <td>0.224138</td>\n",
       "      <td>0.250000</td>\n",
       "      <td>0.0</td>\n",
       "    </tr>\n",
       "  </tbody>\n",
       "</table>\n",
       "</div>"
      ],
      "text/plain": [
       "        age  sex  is_smoking  cigsPerDay  BPMeds  prevalentStroke  \\\n",
       "0  0.105263  1.0         0.0         0.0     0.0              0.0   \n",
       "1  0.368421  0.0         1.0         0.2     0.0              0.0   \n",
       "2  0.473684  1.0         1.0         0.4     0.0              0.0   \n",
       "3  0.842105  0.0         1.0         0.6     0.0              0.0   \n",
       "4  0.105263  1.0         1.0         0.7     0.0              0.0   \n",
       "\n",
       "   prevalentHyp  diabetes   totChol     sysBP     diaBP       BMI  heartRate  \\\n",
       "0           1.0       0.0  0.400862  0.836634  0.754098  0.697638   0.431034   \n",
       "1           0.0       0.0  0.564655  0.321782  0.311475  0.203150   0.706897   \n",
       "2           1.0       0.0  0.491379  0.737624  0.590164  0.618373   0.362069   \n",
       "3           0.0       0.0  0.525862  0.524752  0.540984  0.521785   0.396552   \n",
       "4           0.0       0.0  0.758621  0.183168  0.262295  0.612598   0.224138   \n",
       "\n",
       "    glucose  TenYearCHD  \n",
       "0  0.437500         0.0  \n",
       "1  0.734375         0.0  \n",
       "2  0.734375         1.0  \n",
       "3  0.468750         0.0  \n",
       "4  0.250000         0.0  "
      ]
     },
     "execution_count": 10,
     "metadata": {},
     "output_type": "execute_result"
    }
   ],
   "source": [
    "chd_scaled_filtered.head()"
   ]
  },
  {
   "cell_type": "markdown",
   "id": "ce58ac5c-28be-4dca-b4d1-8a4b9b56ea5c",
   "metadata": {},
   "source": [
    "# 3. Decision Tree Classifier\n",
    "\n",
    "----"
   ]
  },
  {
   "cell_type": "markdown",
   "id": "3a139837-e81d-4dc8-a525-6113ca4f9b98",
   "metadata": {
    "tags": []
   },
   "source": [
    "## 3.1 Determine ideal depth and model inputs"
   ]
  },
  {
   "cell_type": "markdown",
   "id": "2ac14daa-c64f-41ea-9a9c-5e3610c3a4cf",
   "metadata": {},
   "source": [
    "To determine the ideal model depth for the training data, we will loop through multiple depths ($2 ≤ d ≤ 10$) to see which one has the lowest error. \n",
    "\n",
    "Within each loop we will utilize [RFE Feature Elimination](https://machinelearningmastery.com/rfe-feature-selection-in-python/) to determine our inputs and ensure that we are getting the best possible results."
   ]
  },
  {
   "cell_type": "code",
   "execution_count": 11,
   "id": "824bac14-74e1-4f74-8e97-7449b15286ef",
   "metadata": {},
   "outputs": [],
   "source": [
    "# Create empty lists\n",
    "depth_list = []\n",
    "model_error = []\n",
    "\n",
    "# Split data before evaluation for consistency in results\n",
    "dt_x = chd_scaled_filtered.drop(columns = [\"TenYearCHD\"]) #Use columns identified above\n",
    "dt_y = chd_scaled_filtered[[\"TenYearCHD\"]]\n",
    "\n",
    "dt_x_train, dt_x_test, dt_y_train, dt_y_test = train_test_split(dt_x, dt_y, test_size=0.2)\n",
    "\n",
    "# Loop through each depth\n",
    "for d in range(2,11):\n",
    "    # Append the depth to the list\n",
    "    depth_list.append(d)\n",
    "    \n",
    "    # Create model input lists\n",
    "    dt_selected_features = rfe_selection(model = DecisionTreeClassifier(max_depth = d), data = chd_scaled_filtered) #Find most relevant model inputs\n",
    "    \n",
    "    # Create and fit model\n",
    "    dt_classifier = DecisionTreeClassifier(max_depth = d)\n",
    "    dt_classifier = dt_classifier.fit(dt_x_train[chd_scaled_filtered.columns.intersection(dt_selected_features)], dt_y_train)\n",
    "    \n",
    "    # Test model and log error\n",
    "    dt_y_pred = dt_classifier.predict(dt_x_test[chd_scaled_filtered.columns.intersection(dt_selected_features)])\n",
    "    model_error.append(accuracy_score(dt_y_pred, dt_y_test))"
   ]
  },
  {
   "cell_type": "code",
   "execution_count": 12,
   "id": "ffa28b54-62ff-427c-94bb-7dfe23ba4410",
   "metadata": {},
   "outputs": [
    {
     "data": {
      "text/plain": [
       "Text(0, 0.5, 'Accuracy')"
      ]
     },
     "execution_count": 12,
     "metadata": {},
     "output_type": "execute_result"
    },
    {
     "data": {
      "image/png": "[encoded data removed]",
      "text/plain": [
       "<Figure size 432x288 with 1 Axes>"
      ]
     },
     "metadata": {
      "needs_background": "light"
     },
     "output_type": "display_data"
    }
   ],
   "source": [
    "plt.plot(depth_list, model_error)\n",
    "plt.xlabel(\"Depth\")\n",
    "plt.ylabel(\"Accuracy\")"
   ]
  },
  {
   "cell_type": "markdown",
   "id": "fa6720c1-a30c-4b6d-9b54-d49147ac1b48",
   "metadata": {},
   "source": [
    "From the above plot, we can see the accuracy scores at each tested depth. The highest point on the graph corresponds to the ideal depth of the model.\n",
    "\n",
    "We can access this value by using the following list comprehension: `depth_list[model_error.index(max(model_error))]`\n",
    "\n",
    "This code will identify the index of the maximum value in the `model_error` list which stores the accuracy scores and locate the corresponding value in the `depth_list` list."
   ]
  },
  {
   "cell_type": "code",
   "execution_count": 13,
   "id": "27163723-1a9e-43ac-ac1d-ddfb47f96105",
   "metadata": {},
   "outputs": [],
   "source": [
    "# Identify most-relevant model features\n",
    "dt_selected_features = rfe_selection(model = DecisionTreeClassifier(max_depth = depth_list[model_error.index(max(model_error))]), data = chd_scaled_filtered) #Find most relevant model inputs\n",
    "\n",
    "# Split the data into x and y\n",
    "dt_x = chd_scaled_filtered[chd_scaled_filtered.columns.intersection(dt_selected_features)] #Use columns identified above\n",
    "dt_y = chd_scaled_filtered[[\"TenYearCHD\"]]"
   ]
  },
  {
   "cell_type": "code",
   "execution_count": 53,
   "id": "400badde-281b-4ddf-b24f-10f02f9b8f72",
   "metadata": {},
   "outputs": [
    {
     "data": {
      "text/plain": [
       "['age', 'totChol', 'sysBP', 'diaBP', 'BMI', 'heartRate', 'glucose']"
      ]
     },
     "execution_count": 53,
     "metadata": {},
     "output_type": "execute_result"
    }
   ],
   "source": [
    "dt_selected_features"
   ]
  },
  {
   "cell_type": "code",
   "execution_count": 14,
   "id": "357b27eb-e00f-49af-bea8-2ec2c427353b",
   "metadata": {},
   "outputs": [],
   "source": [
    "dt_x_train, dt_x_test, dt_y_train, dt_y_test = train_test_split(dt_x, dt_y, test_size=0.2)"
   ]
  },
  {
   "cell_type": "markdown",
   "id": "2145765c-8bf4-45e2-9a59-795b40e79bbb",
   "metadata": {},
   "source": [
    "## 3.2 Create decision tree classifier"
   ]
  },
  {
   "cell_type": "code",
   "execution_count": 15,
   "id": "0a003de9-59e3-4bb2-aae5-ec368685a99c",
   "metadata": {},
   "outputs": [],
   "source": [
    "# Create classifier with a depth equal to that of the lowest error\n",
    "dt_classifier = DecisionTreeClassifier(max_depth = depth_list[model_error.index(max(model_error))])\n",
    "\n",
    "# Fit the classifier with the training data\n",
    "dt_classifier = dt_classifier.fit(dt_x_train, dt_y_train)"
   ]
  },
  {
   "cell_type": "code",
   "execution_count": 16,
   "id": "601a012c-fccd-4732-8d0b-19082db2ad32",
   "metadata": {
    "collapsed": true,
    "jupyter": {
     "outputs_hidden": true
    },
    "tags": []
   },
   "outputs": [
    {
     "data": {
      "text/plain": [
       "[Text(0.5, 0.8333333333333334, 'X[0] <= 0.434\\ngini = 0.232\\nsamples = 2049\\nvalue = [1775, 274]'),\n",
       " Text(0.25, 0.5, 'X[2] <= 0.032\\ngini = 0.125\\nsamples = 1060\\nvalue = [989, 71]'),\n",
       " Text(0.125, 0.16666666666666666, 'gini = 0.0\\nsamples = 1\\nvalue = [0, 1]'),\n",
       " Text(0.375, 0.16666666666666666, 'gini = 0.123\\nsamples = 1059\\nvalue = [989, 70]'),\n",
       " Text(0.75, 0.5, 'X[2] <= 0.606\\ngini = 0.326\\nsamples = 989\\nvalue = [786, 203]'),\n",
       " Text(0.625, 0.16666666666666666, 'gini = 0.268\\nsamples = 671\\nvalue = [564, 107]'),\n",
       " Text(0.875, 0.16666666666666666, 'gini = 0.422\\nsamples = 318\\nvalue = [222, 96]')]"
      ]
     },
     "execution_count": 16,
     "metadata": {},
     "output_type": "execute_result"
    },
    {
     "data": {
      "image/png": "[encoded data removed]",
      "text/plain": [
       "<Figure size 1500x1500 with 1 Axes>"
      ]
     },
     "metadata": {
      "needs_background": "light"
     },
     "output_type": "display_data"
    }
   ],
   "source": [
    "### OPTIONAL ###\n",
    "# Visualize decision tree\n",
    "fig, axes = plt.subplots(nrows = 1,ncols = 1,figsize = (5,5), dpi=300)\n",
    "plot_tree(dt_classifier)"
   ]
  },
  {
   "cell_type": "markdown",
   "id": "757665ea-f413-4a85-a4ce-07311697fbfb",
   "metadata": {},
   "source": [
    "## 3.3 Evaluate model performance"
   ]
  },
  {
   "cell_type": "code",
   "execution_count": 17,
   "id": "c282c4b7-6d86-4f12-947e-fc3cb084a0af",
   "metadata": {},
   "outputs": [],
   "source": [
    "# Predict test data with classifier\n",
    "dt_y_pred_test = dt_classifier.predict(dt_x_test)"
   ]
  },
  {
   "cell_type": "code",
   "execution_count": 18,
   "id": "21eecb36-dc2b-4848-8e65-eda3b82b340b",
   "metadata": {},
   "outputs": [
    {
     "name": "stdout",
     "output_type": "stream",
     "text": [
      "Decision Tree Regressor Accuracy (d=2): 0.8693957115009746\n"
     ]
    }
   ],
   "source": [
    "# Calculate the accuracy of the model\n",
    "dt_classifier_accuracy = accuracy_score(dt_y_pred_test, dt_y_test)\n",
    "\n",
    "# Output MSE\n",
    "print(f\"Decision Tree Regressor Accuracy (d={depth_list[model_error.index(max(model_error))]}): {dt_classifier_accuracy}\")"
   ]
  },
  {
   "cell_type": "code",
   "execution_count": 19,
   "id": "f2859610-6498-444c-b655-9c819f79a6a0",
   "metadata": {},
   "outputs": [
    {
     "name": "stdout",
     "output_type": "stream",
     "text": [
      "\n",
      "CONFUSION MATRIX RESULTS\n",
      "True Negatives: 446\n",
      "True Positives: 0\n",
      "\n",
      "False Negatives: 1\n",
      "False Positives: 66\n",
      "\n"
     ]
    }
   ],
   "source": [
    "# Create a confusion matrix of the results\n",
    "dt_cm = confusion_matrix(dt_y_test, dt_y_pred_test)\n",
    "\n",
    "print(f\"\"\"\n",
    "CONFUSION MATRIX RESULTS\n",
    "True Negatives: {dt_cm[0,0]}\n",
    "True Positives: {dt_cm[1,1]}\n",
    "\n",
    "False Negatives: {dt_cm[0,1]}\n",
    "False Positives: {dt_cm[1,0]}\n",
    "\"\"\")"
   ]
  },
  {
   "cell_type": "markdown",
   "id": "05301cff-3626-4883-981f-13adb208e221",
   "metadata": {},
   "source": [
    "# 4. Logistic Regression Classifier\n",
    "\n",
    "----"
   ]
  },
  {
   "cell_type": "markdown",
   "id": "954e12c0-8c62-4384-a57b-570640fef76a",
   "metadata": {},
   "source": [
    "## 4.1 Feature selection"
   ]
  },
  {
   "cell_type": "markdown",
   "id": "f8f6872b-7204-4d9e-9b78-ce3da59e8c10",
   "metadata": {},
   "source": [
    "First we have to determine the ideal inputs for the model. To determine this, we will use [RFE Feature Elimination](https://machinelearningmastery.com/rfe-feature-selection-in-python/). "
   ]
  },
  {
   "cell_type": "code",
   "execution_count": 20,
   "id": "6183c160-e36d-4b6b-9a10-1b7dae649078",
   "metadata": {},
   "outputs": [],
   "source": [
    "lr_selected_features = rfe_selection(model = LogisticRegression(), data = chd_scaled_filtered)"
   ]
  },
  {
   "cell_type": "code",
   "execution_count": 21,
   "id": "7a3754bc-0267-4ee6-bdc7-0366b7396601",
   "metadata": {},
   "outputs": [
    {
     "data": {
      "text/plain": [
       "['age', 'sex', 'cigsPerDay', 'prevalentStroke', 'totChol', 'sysBP', 'diaBP']"
      ]
     },
     "execution_count": 21,
     "metadata": {},
     "output_type": "execute_result"
    }
   ],
   "source": [
    "lr_selected_features"
   ]
  },
  {
   "cell_type": "markdown",
   "id": "fb12ef95-5ace-461b-9677-cd9295b8b109",
   "metadata": {},
   "source": [
    "From the above RFE results, we can see that the seven most relevant variables are; `age`, `sex`, `cigsPerDay`, `prevalentStroke`, `totChol`, `sysBP`, and `glucose`. \n",
    "\n",
    "These seven features will be our inputs for this model."
   ]
  },
  {
   "cell_type": "code",
   "execution_count": 22,
   "id": "2a7346df-8256-44a4-876d-cd5fd5f8c1db",
   "metadata": {},
   "outputs": [],
   "source": [
    "# Split the data into x and y\n",
    "lr_x = chd_scaled_filtered[chd_scaled_filtered.columns.intersection(lr_selected_features)] #Use columns identified above\n",
    "lr_y = chd_scaled_filtered[[\"TenYearCHD\"]]"
   ]
  },
  {
   "cell_type": "code",
   "execution_count": 23,
   "id": "d58f94a2-3235-4ea8-808b-5da0f9bdc626",
   "metadata": {},
   "outputs": [],
   "source": [
    "lr_x_train, lr_x_test, lr_y_train, lr_y_test = train_test_split(lr_x, lr_y, test_size=0.2)"
   ]
  },
  {
   "cell_type": "markdown",
   "id": "2153254f-70a9-4f03-92e7-a03fadadedd5",
   "metadata": {},
   "source": [
    "## 4.2 Create logistic regressor"
   ]
  },
  {
   "cell_type": "code",
   "execution_count": 24,
   "id": "8b879f52-026f-4990-a985-2da5298a2ca2",
   "metadata": {},
   "outputs": [],
   "source": [
    "lr_model = LogisticRegression()\n",
    "lr_model = lr_model.fit(lr_x_train, lr_y_train.values.ravel())"
   ]
  },
  {
   "cell_type": "code",
   "execution_count": 25,
   "id": "ae95c65d-9854-4282-9dfb-ee2ac09f694d",
   "metadata": {},
   "outputs": [],
   "source": [
    "lr_model_predicted = lr_model.predict(lr_x_test)"
   ]
  },
  {
   "cell_type": "code",
   "execution_count": 37,
   "id": "601e6c03-2af7-4455-97d7-73e9177dc2f3",
   "metadata": {},
   "outputs": [
    {
     "data": {
      "text/plain": [
       "array([[438,  73],\n",
       "       [  0,   2]])"
      ]
     },
     "execution_count": 37,
     "metadata": {},
     "output_type": "execute_result"
    }
   ],
   "source": [
    "lr_cm"
   ]
  },
  {
   "cell_type": "markdown",
   "id": "65d447d5-d11e-4135-88c9-4e4083acc9a9",
   "metadata": {},
   "source": [
    "## 4.3 Evaluate model performance"
   ]
  },
  {
   "cell_type": "code",
   "execution_count": 26,
   "id": "b0de606e-34e3-42c1-9181-4e98f9ca2b97",
   "metadata": {},
   "outputs": [
    {
     "name": "stdout",
     "output_type": "stream",
     "text": [
      "\n",
      "CONFUSION MATRIX RESULTS\n",
      "True Negatives: 438\n",
      "True Positives: 2\n",
      "\n",
      "False Negatives: 73\n",
      "False Positives: 0\n",
      "\n"
     ]
    }
   ],
   "source": [
    "# Create a confusion matrix of the results\n",
    "lr_cm = confusion_matrix(lr_model_predicted, lr_y_test)\n",
    "\n",
    "print(f\"\"\"\n",
    "CONFUSION MATRIX RESULTS\n",
    "True Negatives: {lr_cm[0,0]}\n",
    "True Positives: {lr_cm[1,1]}\n",
    "\n",
    "False Negatives: {lr_cm[0,1]}\n",
    "False Positives: {lr_cm[1,0]}\n",
    "\"\"\")"
   ]
  },
  {
   "cell_type": "code",
   "execution_count": 27,
   "id": "db356990-2ce8-401f-abf0-adcb7f078dab",
   "metadata": {},
   "outputs": [
    {
     "name": "stdout",
     "output_type": "stream",
     "text": [
      "Logistic Regressor Accuracy: 0.8576998050682261\n"
     ]
    }
   ],
   "source": [
    "# Calculate the accuracy of the model\n",
    "lr_model_accuracy = accuracy_score(lr_model_predicted, lr_y_test)\n",
    "\n",
    "# Output accuracy\n",
    "print(f\"Logistic Regressor Accuracy: {lr_model_accuracy}\")"
   ]
  },
  {
   "cell_type": "markdown",
   "id": "4058ba42-5a3c-4737-a4b8-3cf3ad86b532",
   "metadata": {},
   "source": [
    "# 5. Results\n",
    "\n",
    "----"
   ]
  },
  {
   "cell_type": "markdown",
   "id": "194418b4-b023-41ea-99a2-7d09a6fda497",
   "metadata": {},
   "source": [
    "## 5.1 Confusion matrix"
   ]
  },
  {
   "cell_type": "markdown",
   "id": "297ad116-e769-4873-95a8-351128ad4227",
   "metadata": {},
   "source": [
    "When evaluating a classification model, the context is very important. Even if the accuracy score is high, that only tells you how often a model correctly classifies something, but it does not tell you _what_ it is correctly classifying.\n",
    "\n",
    "In the context of this project, we are looking at medical data. Given the nature of medical diagnoses, errors in classification (misdiagnoses) fall into two categories of errors:\n",
    "\n",
    "> __Type I Error:__ Reject the null hypothesis when it's actually true (false negative)\n",
    "\n",
    "> __Type II Error:__ Fail to reject the null hypothesis when it's actually false (false positive)\n",
    "\n",
    "Type II errors are always worse than Type I errors. In this context, a false negative could mean leading a patient to think that they are healthy when, in fact, they have developed a fatal disease that is time sensitive and could otherwise be treated.\n",
    "\n",
    "For our final evaluation of these models, we will look at the breakdown of Type I and Type II errors across the classifiers tested."
   ]
  },
  {
   "cell_type": "markdown",
   "id": "09fd3db8-4d0f-48a8-bb53-7ff82376fcd9",
   "metadata": {},
   "source": [
    "> _**NOTE:** The confusion matrix used for this project was created by using the [sklearn.metrics.confusion_matrix](https://scikit-learn.org/stable/modules/generated/sklearn.metrics.confusion_matrix.html) function. This package outputs the confusion matrix in an inverted fashion, so true positives are located at $C_{1,1}$ rather than at $C_{0,0}$._"
   ]
  },
  {
   "cell_type": "code",
   "execution_count": 29,
   "id": "08200dea-6007-44d8-968b-94b07d8070cb",
   "metadata": {},
   "outputs": [
    {
     "name": "stdout",
     "output_type": "stream",
     "text": [
      "\n",
      "CORRECT CLASSIFICATIONS\n",
      "\t\tLogistic Regression\tDecision Tree\n",
      "NEGATIVES: \t438\t\t\t446\n",
      "POSITIVES: \t2\t\t\t0\n",
      "\n",
      "ERROR BREAKDOWN\n",
      "\t\tLogistic Regression\tDecision Tree\n",
      "TYPE I: \t73\t\t\t1\n",
      "TYPE II: \t0\t\t\t66\n",
      "\n"
     ]
    }
   ],
   "source": [
    "print(f\"\"\"\n",
    "CORRECT CLASSIFICATIONS\n",
    "\\t\\tLogistic Regression\\tDecision Tree\n",
    "NEGATIVES: \\t{lr_cm[0,0]}\\t\\t\\t{dt_cm[0,0]}\n",
    "POSITIVES: \\t{lr_cm[1,1]}\\t\\t\\t{dt_cm[1,1]}\n",
    "\n",
    "ERROR BREAKDOWN\n",
    "\\t\\tLogistic Regression\\tDecision Tree\n",
    "TYPE I: \\t{lr_cm[0,1]}\\t\\t\\t{dt_cm[0,1]}\n",
    "TYPE II: \\t{lr_cm[1,0]}\\t\\t\\t{dt_cm[1,0]}\n",
    "\"\"\")"
   ]
  },
  {
   "cell_type": "code",
   "execution_count": 40,
   "id": "da544aa2-becc-420d-b9fd-7354b898dd44",
   "metadata": {},
   "outputs": [],
   "source": [
    "# Get the confusion matrix breakdown of each model\n",
    "lr_true_pos = lr_cm[1,1]\n",
    "lr_false_pos = lr_cm[1,0]\n",
    "lr_false_neg = lr_cm[0,1]\n",
    "lr_true_neg = lr_cm[0,0]\n",
    "\n",
    "dt_true_pos = dt_cm[1,1]\n",
    "dt_false_pos = dt_cm[1,0]\n",
    "dt_false_neg = dt_cm[0,1]\n",
    "dt_true_neg = dt_cm[0,0]\n",
    "\n",
    "# Total data points\n",
    "dt_num_classifications = dt_true_pos + dt_true_neg + dt_false_neg + dt_false_pos\n",
    "lr_num_classifications = lr_true_pos + lr_true_neg + lr_false_neg + lr_false_pos"
   ]
  },
  {
   "cell_type": "markdown",
   "id": "d7f4cde1-2a2c-47c5-a6d1-c4162107802d",
   "metadata": {},
   "source": [
    "## 5.2 Accuracy\n",
    "\n",
    "$\\begin{align}\n",
    "\\text{accuracy} = \\frac{TP + TN}{N_{total}}\n",
    "\\end{align}$"
   ]
  },
  {
   "cell_type": "code",
   "execution_count": 41,
   "id": "481eec4b-ff08-47d6-ba3c-7fd7a1ca03cd",
   "metadata": {},
   "outputs": [
    {
     "name": "stdout",
     "output_type": "stream",
     "text": [
      "DT: 0.8693957115009746\n",
      "LR: 0.8576998050682261\n"
     ]
    }
   ],
   "source": [
    "dt_accuracy = (dt_true_pos + dt_true_neg)/dt_num_classifications\n",
    "lr_accuracy = (lr_true_pos + lr_true_neg)/lr_num_classifications\n",
    "print(f\"DT: {dt_accuracy}\\nLR: {lr_accuracy}\")"
   ]
  },
  {
   "cell_type": "markdown",
   "id": "cd181e03-5d54-45da-8c5e-d7d220175ed9",
   "metadata": {},
   "source": [
    "## 5.3 Precision\n",
    "\n",
    "$\\begin{align}\n",
    "\\text{precision} &= \\frac{TP}{TP + FP}\n",
    "\\end{align}$"
   ]
  },
  {
   "cell_type": "code",
   "execution_count": 44,
   "id": "a975c32f-ecf3-4438-9694-dfe8899eed8b",
   "metadata": {},
   "outputs": [
    {
     "name": "stdout",
     "output_type": "stream",
     "text": [
      "DT: 0.0\n",
      "LR: 1.0\n"
     ]
    }
   ],
   "source": [
    "dt_precision = dt_true_pos/(dt_true_pos + dt_false_pos)\n",
    "lr_precision = lr_true_pos/(lr_true_pos + lr_false_pos)\n",
    "print(f\"DT: {dt_precision}\\nLR: {lr_precision}\")"
   ]
  },
  {
   "cell_type": "markdown",
   "id": "6dd85562-f033-457f-b81a-c4314dcdcbf1",
   "metadata": {},
   "source": [
    "## 5.4 Specificity\n",
    "\n",
    "$\\begin{align}\n",
    "\\text{specificity} &= \\frac{TN}{TN + FP}\n",
    "\\end{align}$"
   ]
  },
  {
   "cell_type": "code",
   "execution_count": 45,
   "id": "5c5d7934-1535-481d-b96f-c2643f26002f",
   "metadata": {},
   "outputs": [
    {
     "name": "stdout",
     "output_type": "stream",
     "text": [
      "DT: 0.87109375\n",
      "LR: 1.0\n"
     ]
    }
   ],
   "source": [
    "dt_specificity = dt_true_neg/(dt_true_neg + dt_false_pos)\n",
    "lr_specificity = lr_true_neg/(lr_true_neg + lr_false_pos)\n",
    "print(f\"DT: {dt_specificity}\\nLR: {lr_specificity}\")"
   ]
  },
  {
   "cell_type": "markdown",
   "id": "bf2cfe34-ed5d-4cc6-a5ee-4ad6959c2e24",
   "metadata": {},
   "source": [
    "## 5.5 Sensitivity\n",
    "\n",
    "$\\begin{align}\n",
    "\\text{sensitivity} &= \\frac{TP}{TP + FN}\n",
    "\\end{align}$"
   ]
  },
  {
   "cell_type": "code",
   "execution_count": 46,
   "id": "550f3a87-588a-43ad-9737-e631d2ed0a05",
   "metadata": {},
   "outputs": [
    {
     "name": "stdout",
     "output_type": "stream",
     "text": [
      "DT: 0.0\n",
      "LR: 0.02666666666666667\n"
     ]
    }
   ],
   "source": [
    "dt_sensitivity = dt_true_pos/(dt_true_pos + dt_false_neg)\n",
    "lr_sensitivity = lr_true_pos/(lr_true_pos + lr_false_neg)\n",
    "print(f\"DT: {dt_sensitivity}\\nLR: {lr_sensitivity}\")"
   ]
  },
  {
   "cell_type": "markdown",
   "id": "33e4c83a-bf8c-462a-89c2-37c3231269b6",
   "metadata": {},
   "source": [
    "## 5.6 F1 Score"
   ]
  },
  {
   "cell_type": "markdown",
   "id": "c7b45be3-6081-4170-82c4-3325c1e83a8a",
   "metadata": {},
   "source": [
    "$\\begin{align}\n",
    "F_{1}=2*\\frac{precision*sensitivity}{precision + sensitivity}\n",
    "\\end{align}$\n",
    "\n",
    "**NOTE:** If $TP + FP == 0$ or $TP + FN == 0$, then the F1 score will be undefined."
   ]
  },
  {
   "cell_type": "code",
   "execution_count": 56,
   "id": "3d409eea-1ab1-4f08-9422-4825293f22b7",
   "metadata": {},
   "outputs": [
    {
     "name": "stdout",
     "output_type": "stream",
     "text": [
      "DT: nan\n",
      "LR: 0.05194805194805195\n"
     ]
    },
    {
     "name": "stderr",
     "output_type": "stream",
     "text": [
      "/var/folders/kh/mc7wqk790gq74xwfqmhncx080000gn/T/ipykernel_50756/1264122727.py:1: RuntimeWarning: invalid value encountered in double_scalars\n",
      "  dt_f1 = 2 * ((dt_precision * dt_sensitivity) / (dt_precision + dt_sensitivity))\n"
     ]
    }
   ],
   "source": [
    "dt_f1 = 2 * ((dt_precision * dt_sensitivity) / (dt_precision + dt_sensitivity))\n",
    "lr_f1 = 2 * ((lr_precision * lr_sensitivity) / (lr_precision + lr_sensitivity))\n",
    "print(f\"DT: {dt_f1}\\nLR: {lr_f1}\")"
   ]
  }
 ],
 "metadata": {
  "kernelspec": {
   "display_name": "Python 3 (ipykernel)",
   "language": "python",
   "name": "python3"
  },
  "language_info": {
   "codemirror_mode": {
    "name": "ipython",
    "version": 3
   },
   "file_extension": ".py",
   "mimetype": "text/x-python",
   "name": "python",
   "nbconvert_exporter": "python",
   "pygments_lexer": "ipython3",
   "version": "3.10.1"
  }
 },
 "nbformat": 4,
 "nbformat_minor": 5
}
