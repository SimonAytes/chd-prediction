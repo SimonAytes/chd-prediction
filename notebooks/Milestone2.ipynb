{
 "cells": [
  {
   "cell_type": "markdown",
   "metadata": {
    "tags": []
   },
   "source": [
    "# Term Project - Milestone #2\n",
    "\n",
    "Simon Aytes\n",
    "\n",
    "MAT 328 - Techniques in Data Science\n",
    "\n",
    "Spring 2022\n",
    "\n",
    "Professor Owen\n",
    "\n",
    "----"
   ]
  },
  {
   "cell_type": "markdown",
   "metadata": {},
   "source": [
    "# 0. Environment configuration"
   ]
  },
  {
   "cell_type": "markdown",
   "metadata": {
    "tags": []
   },
   "source": [
    "## 0.1 Import libraries"
   ]
  },
  {
   "cell_type": "code",
   "execution_count": null,
   "metadata": {
    "tags": []
   },
   "outputs": [],
   "source": [
    "# IMPORTANT: If you do not already have the libraries installed, run this cell to install them\n",
    "!pip install -r requirements.txt"
   ]
  },
  {
   "cell_type": "code",
   "execution_count": 41,
   "metadata": {},
   "outputs": [],
   "source": [
    "# Data handling\n",
    "from sklearn.model_selection import train_test_split\n",
    "import pandas as pd\n",
    "import numpy as np\n",
    "import os\n",
    "\n",
    "# Models\n",
    "from sklearn.tree import DecisionTreeClassifier\n",
    "from sklearn.linear_model import LogisticRegression\n",
    "\n",
    "# Model evaluation\n",
    "from sklearn.preprocessing import MinMaxScaler\n",
    "from sklearn.metrics import confusion_matrix, ConfusionMatrixDisplay\n",
    "from sklearn.metrics import accuracy_score\n",
    "\n",
    "# Feature selection\n",
    "from sklearn.feature_selection import RFE\n",
    "\n",
    "# Visualization\n",
    "from sklearn.tree import plot_tree\n",
    "import seaborn as sns\n",
    "import matplotlib.pyplot as plt\n",
    "\n",
    "# Environment setup\n",
    "%matplotlib inline\n",
    "pd.set_option('display.max_columns', None)"
   ]
  },
  {
   "cell_type": "markdown",
   "metadata": {},
   "source": [
    "## 0.2 Utility functions"
   ]
  },
  {
   "cell_type": "markdown",
   "metadata": {},
   "source": [
    "The function below uses [RFE Feature Elimination](https://machinelearningmastery.com/rfe-feature-selection-in-python/) to determine the optimal features for our models. It is set up as a dynamic function that can be used by either model and, as such, is used for both to determine their inputs."
   ]
  },
  {
   "cell_type": "code",
   "execution_count": 42,
   "metadata": {},
   "outputs": [],
   "source": [
    "def rfe_selection(model, data):\n",
    "    # Assign data-related variables\n",
    "    features = [\"age\", \"sex\", \"is_smoking\", \"cigsPerDay\", \"BPMeds\", \"prevalentStroke\", \"prevalentHyp\", \"diabetes\", \"totChol\", \"sysBP\", \"diaBP\", \"BMI\", \"heartRate\", \"glucose\", \"TenYearCHD\"]\n",
    "    df_vals = data.values\n",
    "\n",
    "    # Identify the column names of the features\n",
    "    inputs = df_vals[:,0:len(features)-1]\n",
    "    response_variable = df_vals[:,len(features)-1]\n",
    "\n",
    "    # Feature extraction\n",
    "    #dt_classifier = DecisionTreeClassifier(max_depth = 5)\n",
    "    rfe = RFE(model, step = 3)\n",
    "    fit = rfe.fit(inputs, response_variable)\n",
    "\n",
    "    # Create list with the target feature names\n",
    "    selected_features = list(np.array(features[:-1])[np.array(fit.support_)])\n",
    "    \n",
    "    # Return a list containing the column names of the most relevant features\n",
    "    return selected_features"
   ]
  },
  {
   "cell_type": "markdown",
   "metadata": {},
   "source": [
    "# 1. Load processed data\n",
    "----"
   ]
  },
  {
   "cell_type": "code",
   "execution_count": 43,
   "metadata": {},
   "outputs": [],
   "source": [
    "# Get path to the repository's data folder\n",
    "data_path = \"/\".join(os.getcwd().split(\"/\")[0:-1]) + \"/data/\""
   ]
  },
  {
   "cell_type": "code",
   "execution_count": 44,
   "metadata": {
    "tags": []
   },
   "outputs": [],
   "source": [
    "chd = pd.read_csv(open(data_path + \"processed/data_cleaned.csv\"))\n",
    "chd = chd.drop(columns=[\"Unnamed: 0\"]) # Drop the index column"
   ]
  },
  {
   "cell_type": "code",
   "execution_count": 45,
   "metadata": {},
   "outputs": [
    {
     "data": {
      "text/html": [
       "<div>\n",
       "<style scoped>\n",
       "    .dataframe tbody tr th:only-of-type {\n",
       "        vertical-align: middle;\n",
       "    }\n",
       "\n",
       "    .dataframe tbody tr th {\n",
       "        vertical-align: top;\n",
       "    }\n",
       "\n",
       "    .dataframe thead th {\n",
       "        text-align: right;\n",
       "    }\n",
       "</style>\n",
       "<table border=\"1\" class=\"dataframe\">\n",
       "  <thead>\n",
       "    <tr style=\"text-align: right;\">\n",
       "      <th></th>\n",
       "      <th>id</th>\n",
       "      <th>age</th>\n",
       "      <th>education</th>\n",
       "      <th>sex</th>\n",
       "      <th>is_smoking</th>\n",
       "      <th>cigsPerDay</th>\n",
       "      <th>BPMeds</th>\n",
       "      <th>prevalentStroke</th>\n",
       "      <th>prevalentHyp</th>\n",
       "      <th>diabetes</th>\n",
       "      <th>totChol</th>\n",
       "      <th>sysBP</th>\n",
       "      <th>diaBP</th>\n",
       "      <th>BMI</th>\n",
       "      <th>heartRate</th>\n",
       "      <th>glucose</th>\n",
       "      <th>TenYearCHD</th>\n",
       "    </tr>\n",
       "  </thead>\n",
       "  <tbody>\n",
       "    <tr>\n",
       "      <th>0</th>\n",
       "      <td>1</td>\n",
       "      <td>36</td>\n",
       "      <td>4</td>\n",
       "      <td>1</td>\n",
       "      <td>0</td>\n",
       "      <td>0.0</td>\n",
       "      <td>0</td>\n",
       "      <td>0</td>\n",
       "      <td>1</td>\n",
       "      <td>0</td>\n",
       "      <td>212.0</td>\n",
       "      <td>168.0</td>\n",
       "      <td>98.0</td>\n",
       "      <td>29.77</td>\n",
       "      <td>72.0</td>\n",
       "      <td>75.0</td>\n",
       "      <td>0.0</td>\n",
       "    </tr>\n",
       "    <tr>\n",
       "      <th>1</th>\n",
       "      <td>2</td>\n",
       "      <td>46</td>\n",
       "      <td>1</td>\n",
       "      <td>0</td>\n",
       "      <td>1</td>\n",
       "      <td>10.0</td>\n",
       "      <td>0</td>\n",
       "      <td>0</td>\n",
       "      <td>0</td>\n",
       "      <td>0</td>\n",
       "      <td>250.0</td>\n",
       "      <td>116.0</td>\n",
       "      <td>71.0</td>\n",
       "      <td>20.35</td>\n",
       "      <td>88.0</td>\n",
       "      <td>94.0</td>\n",
       "      <td>0.0</td>\n",
       "    </tr>\n",
       "    <tr>\n",
       "      <th>2</th>\n",
       "      <td>3</td>\n",
       "      <td>50</td>\n",
       "      <td>1</td>\n",
       "      <td>1</td>\n",
       "      <td>1</td>\n",
       "      <td>20.0</td>\n",
       "      <td>0</td>\n",
       "      <td>0</td>\n",
       "      <td>1</td>\n",
       "      <td>0</td>\n",
       "      <td>233.0</td>\n",
       "      <td>158.0</td>\n",
       "      <td>88.0</td>\n",
       "      <td>28.26</td>\n",
       "      <td>68.0</td>\n",
       "      <td>94.0</td>\n",
       "      <td>1.0</td>\n",
       "    </tr>\n",
       "    <tr>\n",
       "      <th>3</th>\n",
       "      <td>4</td>\n",
       "      <td>64</td>\n",
       "      <td>1</td>\n",
       "      <td>0</td>\n",
       "      <td>1</td>\n",
       "      <td>30.0</td>\n",
       "      <td>0</td>\n",
       "      <td>0</td>\n",
       "      <td>0</td>\n",
       "      <td>0</td>\n",
       "      <td>241.0</td>\n",
       "      <td>136.5</td>\n",
       "      <td>85.0</td>\n",
       "      <td>26.42</td>\n",
       "      <td>70.0</td>\n",
       "      <td>77.0</td>\n",
       "      <td>0.0</td>\n",
       "    </tr>\n",
       "    <tr>\n",
       "      <th>4</th>\n",
       "      <td>5</td>\n",
       "      <td>61</td>\n",
       "      <td>3</td>\n",
       "      <td>0</td>\n",
       "      <td>0</td>\n",
       "      <td>0.0</td>\n",
       "      <td>0</td>\n",
       "      <td>0</td>\n",
       "      <td>1</td>\n",
       "      <td>0</td>\n",
       "      <td>272.0</td>\n",
       "      <td>182.0</td>\n",
       "      <td>121.0</td>\n",
       "      <td>32.80</td>\n",
       "      <td>85.0</td>\n",
       "      <td>65.0</td>\n",
       "      <td>1.0</td>\n",
       "    </tr>\n",
       "  </tbody>\n",
       "</table>\n",
       "</div>"
      ],
      "text/plain": [
       "   id  age  education  sex  is_smoking  cigsPerDay  BPMeds  prevalentStroke  \\\n",
       "0   1   36          4    1           0         0.0       0                0   \n",
       "1   2   46          1    0           1        10.0       0                0   \n",
       "2   3   50          1    1           1        20.0       0                0   \n",
       "3   4   64          1    0           1        30.0       0                0   \n",
       "4   5   61          3    0           0         0.0       0                0   \n",
       "\n",
       "   prevalentHyp  diabetes  totChol  sysBP  diaBP    BMI  heartRate  glucose  \\\n",
       "0             1         0    212.0  168.0   98.0  29.77       72.0     75.0   \n",
       "1             0         0    250.0  116.0   71.0  20.35       88.0     94.0   \n",
       "2             1         0    233.0  158.0   88.0  28.26       68.0     94.0   \n",
       "3             0         0    241.0  136.5   85.0  26.42       70.0     77.0   \n",
       "4             1         0    272.0  182.0  121.0  32.80       85.0     65.0   \n",
       "\n",
       "   TenYearCHD  \n",
       "0         0.0  \n",
       "1         0.0  \n",
       "2         1.0  \n",
       "3         0.0  \n",
       "4         1.0  "
      ]
     },
     "execution_count": 45,
     "metadata": {},
     "output_type": "execute_result"
    }
   ],
   "source": [
    "chd.head()"
   ]
  },
  {
   "cell_type": "code",
   "execution_count": 46,
   "metadata": {},
   "outputs": [
    {
     "data": {
      "text/plain": [
       "0.0    2483\n",
       "1.0     444\n",
       "Name: TenYearCHD, dtype: int64"
      ]
     },
     "execution_count": 46,
     "metadata": {},
     "output_type": "execute_result"
    }
   ],
   "source": [
    "chd.TenYearCHD.value_counts()"
   ]
  },
  {
   "cell_type": "markdown",
   "metadata": {},
   "source": [
    "# 2. Preparing the data\n",
    "\n",
    "----"
   ]
  },
  {
   "cell_type": "markdown",
   "metadata": {},
   "source": [
    "## 2.1 Outlier detection and removal"
   ]
  },
  {
   "cell_type": "markdown",
   "metadata": {},
   "source": [
    "For our model data, we want to remove any outliers within the continuous columns of our data. To do this we will use Interquartile Ranges (IQR) and, more specifically, values that lie outside of the following boundary: $(Q_{1} - 1.5) * IQR ≤ x ≤ (Q_{3} + 1.5) * IQR$.\n",
    "\n",
    "This boundary and the relationship of outliers to the dataset can be seen in the image below.\n",
    "\n",
    "<center>\n",
    "<img src=\"Figures/boxplot_outliers.png\" width=500 height=50 />\n",
    "</center>\n",
    "<center>\n",
    "<em><a href=\"https://www.simplypsychology.org/boxplots.html#:~:text=When%20reviewing%20a%20box%20plot,whiskers%20of%20the%20box%20plot.&text=For%20example%2C%20outside%201.5%20times,Q3%20%2B%201.5%20*%20IQR).\">Image source</a></em>\n",
    "</center>"
   ]
  },
  {
   "cell_type": "code",
   "execution_count": 47,
   "metadata": {},
   "outputs": [],
   "source": [
    "# Identify numerical columns\n",
    "numerical_columns = ['age', 'cigsPerDay', 'totChol', 'sysBP', 'diaBP', 'BMI', 'heartRate', 'glucose']\n",
    "\n",
    "# Gather quantile information\n",
    "Q1 = chd[numerical_columns].quantile(0.25)\n",
    "Q3 = chd[numerical_columns].quantile(0.75)\n",
    "IQR = Q3 - Q1\n",
    "\n",
    "# Remove outliers by filtering to be within the range outlined above\n",
    "chd_filtered = chd[~((chd[numerical_columns] < (Q1 - 1.5 * IQR)) | (chd[numerical_columns] > (Q3 + 1.5 * IQR))).any(axis=1)]"
   ]
  },
  {
   "cell_type": "code",
   "execution_count": 48,
   "metadata": {},
   "outputs": [
    {
     "name": "stdout",
     "output_type": "stream",
     "text": [
      "A total of 365 were removed from the scaled datatset.\n"
     ]
    }
   ],
   "source": [
    "num_outliers = chd.shape[0] - chd_filtered.shape[0]\n",
    "\n",
    "print(f\"A total of {num_outliers} were removed from the scaled datatset.\")"
   ]
  },
  {
   "cell_type": "markdown",
   "metadata": {},
   "source": [
    "## 2.2 Normalizing the data"
   ]
  },
  {
   "cell_type": "markdown",
   "metadata": {},
   "source": [
    "The data is currently a mix of binary and continuous values. When using such a dataset to make classifications, the disparate scales of the data can increase model error. \n",
    "\n",
    "To address this, we will use a min-max scaler to normalize all of the model inputs. The equation for min-max scaling is shown below, where $X_{scaled}$ is the scaled value of $X$ given a particular dataset.\n",
    "\n",
    "$$X_{scaled} = \\frac{X - X_{min}}{X_{max} - X_{min}}$$"
   ]
  },
  {
   "cell_type": "code",
   "execution_count": 10,
   "metadata": {},
   "outputs": [],
   "source": [
    "scaler = MinMaxScaler()"
   ]
  },
  {
   "cell_type": "code",
   "execution_count": 11,
   "metadata": {},
   "outputs": [],
   "source": [
    "# Scale values (All except the 'id' column, as it will not be used in analysis)\n",
    "chd_scaled_filtered = scaler.fit_transform(chd_filtered)\n",
    "chd_scaled_filtered = pd.DataFrame(chd_scaled_filtered)\n",
    "\n",
    "# Re-assign column names\n",
    "column_names = chd_filtered.columns.to_list() #Preserve old column name\n",
    "chd_scaled_filtered.columns = column_names #Rename columns to old labels\n",
    "\n",
    "# Drop the 'id' and 'education' columns\n",
    "chd_scaled_filtered = chd_scaled_filtered.drop(columns=[\"id\", \"education\"])"
   ]
  },
  {
   "cell_type": "code",
   "execution_count": 12,
   "metadata": {},
   "outputs": [
    {
     "data": {
      "text/html": [
       "<div>\n",
       "<style scoped>\n",
       "    .dataframe tbody tr th:only-of-type {\n",
       "        vertical-align: middle;\n",
       "    }\n",
       "\n",
       "    .dataframe tbody tr th {\n",
       "        vertical-align: top;\n",
       "    }\n",
       "\n",
       "    .dataframe thead th {\n",
       "        text-align: right;\n",
       "    }\n",
       "</style>\n",
       "<table border=\"1\" class=\"dataframe\">\n",
       "  <thead>\n",
       "    <tr style=\"text-align: right;\">\n",
       "      <th></th>\n",
       "      <th>age</th>\n",
       "      <th>sex</th>\n",
       "      <th>is_smoking</th>\n",
       "      <th>cigsPerDay</th>\n",
       "      <th>BPMeds</th>\n",
       "      <th>prevalentStroke</th>\n",
       "      <th>prevalentHyp</th>\n",
       "      <th>diabetes</th>\n",
       "      <th>totChol</th>\n",
       "      <th>sysBP</th>\n",
       "      <th>diaBP</th>\n",
       "      <th>BMI</th>\n",
       "      <th>heartRate</th>\n",
       "      <th>glucose</th>\n",
       "      <th>TenYearCHD</th>\n",
       "    </tr>\n",
       "  </thead>\n",
       "  <tbody>\n",
       "    <tr>\n",
       "      <th>0</th>\n",
       "      <td>0.105263</td>\n",
       "      <td>1.0</td>\n",
       "      <td>0.0</td>\n",
       "      <td>0.0</td>\n",
       "      <td>0.0</td>\n",
       "      <td>0.0</td>\n",
       "      <td>1.0</td>\n",
       "      <td>0.0</td>\n",
       "      <td>0.400862</td>\n",
       "      <td>0.836634</td>\n",
       "      <td>0.754098</td>\n",
       "      <td>0.697638</td>\n",
       "      <td>0.431034</td>\n",
       "      <td>0.437500</td>\n",
       "      <td>0.0</td>\n",
       "    </tr>\n",
       "    <tr>\n",
       "      <th>1</th>\n",
       "      <td>0.368421</td>\n",
       "      <td>0.0</td>\n",
       "      <td>1.0</td>\n",
       "      <td>0.2</td>\n",
       "      <td>0.0</td>\n",
       "      <td>0.0</td>\n",
       "      <td>0.0</td>\n",
       "      <td>0.0</td>\n",
       "      <td>0.564655</td>\n",
       "      <td>0.321782</td>\n",
       "      <td>0.311475</td>\n",
       "      <td>0.203150</td>\n",
       "      <td>0.706897</td>\n",
       "      <td>0.734375</td>\n",
       "      <td>0.0</td>\n",
       "    </tr>\n",
       "    <tr>\n",
       "      <th>2</th>\n",
       "      <td>0.473684</td>\n",
       "      <td>1.0</td>\n",
       "      <td>1.0</td>\n",
       "      <td>0.4</td>\n",
       "      <td>0.0</td>\n",
       "      <td>0.0</td>\n",
       "      <td>1.0</td>\n",
       "      <td>0.0</td>\n",
       "      <td>0.491379</td>\n",
       "      <td>0.737624</td>\n",
       "      <td>0.590164</td>\n",
       "      <td>0.618373</td>\n",
       "      <td>0.362069</td>\n",
       "      <td>0.734375</td>\n",
       "      <td>1.0</td>\n",
       "    </tr>\n",
       "    <tr>\n",
       "      <th>3</th>\n",
       "      <td>0.842105</td>\n",
       "      <td>0.0</td>\n",
       "      <td>1.0</td>\n",
       "      <td>0.6</td>\n",
       "      <td>0.0</td>\n",
       "      <td>0.0</td>\n",
       "      <td>0.0</td>\n",
       "      <td>0.0</td>\n",
       "      <td>0.525862</td>\n",
       "      <td>0.524752</td>\n",
       "      <td>0.540984</td>\n",
       "      <td>0.521785</td>\n",
       "      <td>0.396552</td>\n",
       "      <td>0.468750</td>\n",
       "      <td>0.0</td>\n",
       "    </tr>\n",
       "    <tr>\n",
       "      <th>4</th>\n",
       "      <td>0.105263</td>\n",
       "      <td>1.0</td>\n",
       "      <td>1.0</td>\n",
       "      <td>0.7</td>\n",
       "      <td>0.0</td>\n",
       "      <td>0.0</td>\n",
       "      <td>0.0</td>\n",
       "      <td>0.0</td>\n",
       "      <td>0.758621</td>\n",
       "      <td>0.183168</td>\n",
       "      <td>0.262295</td>\n",
       "      <td>0.612598</td>\n",
       "      <td>0.224138</td>\n",
       "      <td>0.250000</td>\n",
       "      <td>0.0</td>\n",
       "    </tr>\n",
       "  </tbody>\n",
       "</table>\n",
       "</div>"
      ],
      "text/plain": [
       "        age  sex  is_smoking  cigsPerDay  BPMeds  prevalentStroke  \\\n",
       "0  0.105263  1.0         0.0         0.0     0.0              0.0   \n",
       "1  0.368421  0.0         1.0         0.2     0.0              0.0   \n",
       "2  0.473684  1.0         1.0         0.4     0.0              0.0   \n",
       "3  0.842105  0.0         1.0         0.6     0.0              0.0   \n",
       "4  0.105263  1.0         1.0         0.7     0.0              0.0   \n",
       "\n",
       "   prevalentHyp  diabetes   totChol     sysBP     diaBP       BMI  heartRate  \\\n",
       "0           1.0       0.0  0.400862  0.836634  0.754098  0.697638   0.431034   \n",
       "1           0.0       0.0  0.564655  0.321782  0.311475  0.203150   0.706897   \n",
       "2           1.0       0.0  0.491379  0.737624  0.590164  0.618373   0.362069   \n",
       "3           0.0       0.0  0.525862  0.524752  0.540984  0.521785   0.396552   \n",
       "4           0.0       0.0  0.758621  0.183168  0.262295  0.612598   0.224138   \n",
       "\n",
       "    glucose  TenYearCHD  \n",
       "0  0.437500         0.0  \n",
       "1  0.734375         0.0  \n",
       "2  0.734375         1.0  \n",
       "3  0.468750         0.0  \n",
       "4  0.250000         0.0  "
      ]
     },
     "execution_count": 12,
     "metadata": {},
     "output_type": "execute_result"
    }
   ],
   "source": [
    "chd_scaled_filtered.head()"
   ]
  },
  {
   "cell_type": "markdown",
   "metadata": {},
   "source": [
    "## 2.3 Save processed data"
   ]
  },
  {
   "cell_type": "code",
   "execution_count": 13,
   "metadata": {},
   "outputs": [],
   "source": [
    "chd_scaled_filtered.to_csv(f\"{data_path}processed/model_data.csv\", index=False)"
   ]
  },
  {
   "cell_type": "markdown",
   "metadata": {},
   "source": [
    "# 3. Decision Tree Classifier\n",
    "\n",
    "----"
   ]
  },
  {
   "cell_type": "markdown",
   "metadata": {
    "tags": []
   },
   "source": [
    "## 3.1 Determine ideal depth and model inputs"
   ]
  },
  {
   "cell_type": "markdown",
   "metadata": {},
   "source": [
    "To determine the ideal model depth for the training data, we will loop through multiple depths ($2 ≤ d ≤ 10$) to see which one has the lowest error. \n",
    "\n",
    "Within each loop we will utilize [RFE Feature Elimination](https://machinelearningmastery.com/rfe-feature-selection-in-python/) to determine our inputs and ensure that we are getting the best possible results."
   ]
  },
  {
   "cell_type": "code",
   "execution_count": 49,
   "metadata": {},
   "outputs": [],
   "source": [
    "# Create empty lists\n",
    "depth_list = []\n",
    "model_error = []\n",
    "\n",
    "# Split data before evaluation for consistency in results\n",
    "dt_x = chd_scaled_filtered.drop(columns = [\"TenYearCHD\"]) #Use columns identified above\n",
    "dt_y = chd_scaled_filtered[[\"TenYearCHD\"]]\n",
    "\n",
    "dt_x_train, dt_x_test, dt_y_train, dt_y_test = train_test_split(dt_x, dt_y, test_size=0.2)\n",
    "\n",
    "# Loop through each depth\n",
    "for d in range(2,11):\n",
    "    # Append the depth to the list\n",
    "    depth_list.append(d)\n",
    "    \n",
    "    # Create model input lists\n",
    "    dt_selected_features = rfe_selection(model = DecisionTreeClassifier(max_depth = d), data = chd_scaled_filtered) #Find most relevant model inputs\n",
    "    \n",
    "    # Create and fit model\n",
    "    dt_classifier = DecisionTreeClassifier(max_depth = d)\n",
    "    dt_classifier = dt_classifier.fit(dt_x_train[chd_scaled_filtered.columns.intersection(dt_selected_features)], dt_y_train)\n",
    "    \n",
    "    # Test model and log error\n",
    "    dt_y_pred = dt_classifier.predict(dt_x_test[chd_scaled_filtered.columns.intersection(dt_selected_features)])\n",
    "    model_error.append(accuracy_score(dt_y_pred, dt_y_test))"
   ]
  },
  {
   "cell_type": "code",
   "execution_count": 50,
   "metadata": {},
   "outputs": [
    {
     "data": {
      "text/plain": [
       "Text(0, 0.5, 'Accuracy')"
      ]
     },
     "execution_count": 50,
     "metadata": {},
     "output_type": "execute_result"
    },
    {
     "data": {
      "image/png": "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\n",
      "text/plain": [
       "<Figure size 432x288 with 1 Axes>"
      ]
     },
     "metadata": {
      "needs_background": "light"
     },
     "output_type": "display_data"
    }
   ],
   "source": [
    "plt.plot(depth_list, model_error)\n",
    "plt.xlabel(\"Depth\")\n",
    "plt.ylabel(\"Accuracy\")"
   ]
  },
  {
   "cell_type": "markdown",
   "metadata": {},
   "source": [
    "From the above plot, we can see the accuracy scores at each tested depth. The highest point on the graph corresponds to the ideal depth of the model.\n",
    "\n",
    "We can access this value by using the following list comprehension: `depth_list[model_error.index(max(model_error))]`\n",
    "\n",
    "This code will identify the index of the maximum value in the `model_error` list which stores the accuracy scores and locate the corresponding value in the `depth_list` list."
   ]
  },
  {
   "cell_type": "code",
   "execution_count": 51,
   "metadata": {},
   "outputs": [],
   "source": [
    "# Identify most-relevant model features\n",
    "dt_selected_features = rfe_selection(model = DecisionTreeClassifier(max_depth = depth_list[model_error.index(max(model_error))]), data = chd_scaled_filtered) #Find most relevant model inputs\n",
    "\n",
    "# Split the data into x and y\n",
    "dt_x = chd_scaled_filtered[chd_scaled_filtered.columns.intersection(dt_selected_features)] #Use columns identified above\n",
    "dt_y = chd_scaled_filtered[[\"TenYearCHD\"]]"
   ]
  },
  {
   "cell_type": "code",
   "execution_count": 52,
   "metadata": {},
   "outputs": [
    {
     "data": {
      "text/plain": [
       "['age', 'sex', 'cigsPerDay', 'sysBP', 'BMI', 'heartRate', 'glucose']"
      ]
     },
     "execution_count": 52,
     "metadata": {},
     "output_type": "execute_result"
    }
   ],
   "source": [
    "dt_selected_features"
   ]
  },
  {
   "cell_type": "code",
   "execution_count": 53,
   "metadata": {},
   "outputs": [],
   "source": [
    "dt_x_train, dt_x_test, dt_y_train, dt_y_test = train_test_split(dt_x, dt_y, test_size=0.2)"
   ]
  },
  {
   "cell_type": "markdown",
<<<<<<< Updated upstream
   "metadata": {},
=======
   "id": "2145765c-8bf4-45e2-9a59-795b40e79bbb",
   "metadata": {
    "tags": []
   },
>>>>>>> Stashed changes
   "source": [
    "## 3.2 Create decision tree classifier"
   ]
  },
  {
   "cell_type": "code",
   "execution_count": 54,
   "metadata": {},
   "outputs": [],
   "source": [
    "# Create classifier with a depth equal to that of the lowest error\n",
    "dt_classifier = DecisionTreeClassifier(max_depth = depth_list[model_error.index(max(model_error))])\n",
    "\n",
    "# Fit the classifier with the training data\n",
    "dt_classifier = dt_classifier.fit(dt_x_train, dt_y_train)"
   ]
  },
  {
   "cell_type": "code",
   "execution_count": 55,
   "metadata": {
    "tags": []
   },
   "outputs": [
    {
     "data": {
      "text/plain": [
       "[Text(581.25, 990.9375, 'X[0] <= 0.645\\ngini = 0.235\\nsamples = 2049\\nvalue = [1770, 279]'),\n",
       " Text(290.625, 707.8125, 'X[3] <= 0.735\\ngini = 0.176\\nsamples = 1606\\nvalue = [1449, 157]'),\n",
       " Text(145.3125, 424.6875, 'X[2] <= 0.09\\ngini = 0.157\\nsamples = 1517\\nvalue = [1387, 130]'),\n",
       " Text(72.65625, 141.5625, 'gini = 0.106\\nsamples = 746\\nvalue = [704, 42]'),\n",
       " Text(217.96875, 141.5625, 'gini = 0.202\\nsamples = 771\\nvalue = [683, 88]'),\n",
       " Text(435.9375, 424.6875, 'X[1] <= 0.5\\ngini = 0.423\\nsamples = 89\\nvalue = [62, 27]'),\n",
       " Text(363.28125, 141.5625, 'gini = 0.291\\nsamples = 51\\nvalue = [42, 9]'),\n",
       " Text(508.59375, 141.5625, 'gini = 0.499\\nsamples = 38\\nvalue = [20, 18]'),\n",
       " Text(871.875, 707.8125, 'X[2] <= 0.19\\ngini = 0.399\\nsamples = 443\\nvalue = [321, 122]'),\n",
       " Text(726.5625, 424.6875, 'X[4] <= 0.692\\ngini = 0.354\\nsamples = 326\\nvalue = [251, 75]'),\n",
       " Text(653.90625, 141.5625, 'gini = 0.319\\nsamples = 276\\nvalue = [221, 55]'),\n",
       " Text(799.21875, 141.5625, 'gini = 0.48\\nsamples = 50\\nvalue = [30, 20]'),\n",
       " Text(1017.1875, 424.6875, 'X[4] <= 0.438\\ngini = 0.481\\nsamples = 117\\nvalue = [70, 47]'),\n",
       " Text(944.53125, 141.5625, 'gini = 0.411\\nsamples = 52\\nvalue = [37, 15]'),\n",
       " Text(1089.84375, 141.5625, 'gini = 0.5\\nsamples = 65\\nvalue = [33, 32]')]"
      ]
     },
     "execution_count": 55,
     "metadata": {},
     "output_type": "execute_result"
    },
    {
     "data": {
      "image/png": "iVBORw0KGgoAAAANSUhEUgAABMYAAASoCAYAAAD/88bmAAAAOXRFWHRTb2Z0d2FyZQBNYXRwbG90bGliIHZlcnNpb24zLjUuMSwgaHR0cHM6Ly9tYXRwbG90bGliLm9yZy/YYfK9AAAACXBIWXMAAC4jAAAuIwF4pT92AAEAAElEQVR4nOzdebyXc/7/8ce7037OaT2ltFoqZCu7RETJhAwNqcgSLZaxxViSCWMbX0wyhIrEIFmiKInGNkhMmDC0yNKiOh3ae//+OM35dT6dk5ZzPmf5PO6323W7fbte13V9np8zvlw9z7WEGCOSJEmSJElSqqlQ0gEkSZIkSZKkkmAxJkmSJEmSpJRkMSZJkiRJkqSUZDEmSZIkSZKklGQxJkmSJEmSpJRkMSZJkiRJkqSUZDEmSZIkSZKklGQxJkmSJEmSpJRkMSZJkiRJkqSUZDEmSZIkSZKklGQxJkmSJEmSpJRkMSZJkiRJkqSUZDEmSZIkSZKklGQxJkmSJEmSpJRkMSZJkiRJkqSUZDEmSZIkSZKklGQxJkmSJEmSpJRkMSZJkiRJkqSUZDEmSZIkSZKklGQxJkmSJEmSpJRkMSZJkiRJkqSUZDEmSZIkSZKklGQxJkmSJEmSpJRkMSZJkiRJkqSUZDEmSZIkSZKklGQxJkmSJEmSpJRkMSZJkiRJkqSUZDEmSZIkSZKklGQxJkmSJEmSpJRkMSZJkiRJkqSUZDEmSZIkSZKklGQxJkmSJEmSpJRkMSZJkiRJkqSUZDEmSZIkSZKklGQxJkmSJEmSpJRkMSZJkiRJkqSUZDEmSZIkSZKklGQxJkmSJEmSpJRkMSZJkiRJkqSUZDEmSZIkSZKklGQxJkmSJEmSpJRkMSZJkiRJkqSUZDEmSZIkSZKklGQxJkmSJEmSpJRkMSZJkiRJkqSUZDEmSZIkSZKklGQxJkmSJEmSpJRkMSZJkiRJkqSUZDEmSZIkSZKklGQxJkmSJEmSpJRkMSZJkiRJkqSUZDEmSZIkSZKklGQxJkmSJEmSpJRkMSZJkiRJkqSUZDEmSZIkSZKklGQxJkmSJEmSpJRkMSZJkiRJkqSUZDEmSZIkSZKklGQxJkmSJEmSpJRkMSZJkiRJkqSUZDEmSZIkSZKklGQxJkmSJEmSpJRkMSZJkiRJkqSUZDEmSZIkSZKklGQxJkmSJEmSpJRkMSZJkiRJkqSUZDEmSZIkSZKklGQxJkmSJEmSpJRkMSZJkiRJkqSUZDEmSZIkSZKklGQxJkmSJEmSpJRkMSZJkiRJkqSUZDEmSZIkSZKklGQxJkmSJEmSpJRkMSZJkiRJkqSUZDEmSZIkSZKklGQxJkmSJEmSpJRkMSZJkiRJkqSUZDEmSZIkSZKklGQxJkmSJEmSpJRkMSZJkiRJkqSUZDEmSZIkSZKklGQxJkmSJEmSpJRkMSZJkiRJkqSUZDEmSZIkSZKklGQxJkmSJEmSpJRkMSZJkiRJkqSUZDEmSZIkSZKklGQxJkmSJEmSpJRkMSZJkiRJkqSUZDEmSZIkSZKklGQxJkmSJEmSpJRkMSZJkiRJkqSUZDEmSZIkSZKklGQxJkmSJEmSpJRkMSZJkiRJkqSUZDEmSZIkSZKklGQxJkmSJEmSpJRkMSZJkiRJkqSUZDEmSZIkSZKklGQxJkmSJEmSpJRkMSZJkiRJkqSUZDEmSZIkSZKklGQxJkmSJEmSpJRkMSZJkiRJkqSUZDEmSZIkSZKklGQxJkmSJEmSpJRkMSZJkiRJkqSUZDEmSZIkSZKklGQxJkmSJEmSpJRkMSZJkiRJkqSUZDEmSZIkSZKklGQxJkmSJEmSpJRkMSZJkiRJkqSUZDEmSZIkSZKklGQxJkmSJEmSpJRkMSZJkiRJkqSUZDEmSZIkSZKklGQxJkmSJEmSpJRkMSZJkiRJkqSUZDEmSZIkSZKklGQxJkmSJEmSpJRkMSZJkiRJkqSUZDEmSZIkSZKklGQxJkmSJEmSpJRkMSZJkiRJkqSUZDEmSZIkSZKklGQxJkmSJEmSpJRkMSZJkiRJkqSUZDEmSZIkSZKklGQxJkmSJEmSpJRkMSZJkiRJkqSUZDEmSZIkSZKklFSxpANIkqTyJYRQAahb0jlULi2JMW4o6RCSJKn8sBiTJElFrS6wsKRDqFyqDywq6RCSJKn88FZKSZIkSZIkpSSLMUmSJEmSJKUkizFJkiRJkiSlJJ8xJkmSit3nn39OVlZWScdQGbJ48WL22muvko4hSZLKOYsxSZJU7LKysqhXr15Jx5AkSZLy8VZKSZIkSZIkpSSLMUmSJEmSJKUkizFJkiRJkiSlJIsxSZKUEjp06EDlypXJyMhgyZIlW73f4YcfTrVq1QghsG7dumJMKEmSpGSzGJMkSWXaunXrOOyww+jTp0++9dOmTaN69erMmDEjb92gQYPIycmhbt26+bZr27Yt1atXZ5ddduGBBx7Id5x33nmHiRMnFut32BarV69m4MCBZGVlkZmZSdeuXZk/f/4W94kxctddd9GyZUvS09PZeeeduf322wvc9rLLLiOEwMMPP5xvfQiBatWqkZGRkbf8+9//LrLvJUmSVBIsxiRJUplWsWJFxo4dy/jx43nyyScBWLJkCb169eLmm2+mbdu2he47d+5cfve733HeeeexbNkyRo0axTXXXMP48eOLNOPPP//M6tWri+RYl19+OdOnT+ejjz5iwYIF1KlTh5NOOokNGzYUus8ll1zC2LFjefrpp1mxYgWff/45J5xwwmbbTZs2jalTp9KwYcMCj/PSSy+Rk5OTt+yzzz5F8p0kSZJKisWYJEkq83bZZReGDx9Ov379+OabbzjnnHPYe++9ueyyy7a436hRo2jZsiUDBw6kcuXKHHXUUZx77rkMGzZshzMtX76c0aNHc8IJJ9CkSRMWL168w8dctWoVI0eOZOjQoTRr1owaNWpw9913M2vWLN5+++0C9/nqq6+4//77GT16NPvvvz8VKlSgVq1am5VaK1asoG/fvjzyyCNUrlx5h7NKkiSVBRZjkiSpXOjZsycnn3wyhx56KO+//z6jR48mhLDFfWbOnMnBBx+cb91BBx3Exx9/vF0ZcnJyGDt2LCeffDKNGjVi7NixnHrqqcyfP59GjRoBMG/ePGrVqrXF5Z///GeBx589ezYrV67MlzkrK4tddtml0Myvv/46GRkZvPzyyzRt2pSGDRty6qmnMmfOnHzbXXbZZXTv3p0DDzyw0O/Xq1cv6tatS9u2bRkxYsQ2/nQkSZJKn4olHUCSJKmoHHvssTz++OOcf/757LTTTr+5fXZ2Ni1btsy3rnbt2mRnZ2/T586fP5/LLruM1157jcMOO4zu3bszcuRI6tSps9m2TZs2ZdmyZdt0/E3zAtSqVWurMy9evJgVK1bwwQcfMHPmTNLS0hg4cCAnnnhi3p9feeUV3nvvPT766KNCP3vKlCkcfvjhpKWlMWXKFHr27Mm6devo37//dn0XSZKk0sArxiRJUrkwd+5cLrnkEq655hoef/xxpk2b9pv71KhRY7OSaunSpdSoUWObPvuXX37h3//+NzVq1GC//fZjv/32K7AU21H/y7Utmf+3/uabb6ZOnTrUrFmTO++8k1mzZvHll1+ydOlS+vXrx8iRI6lSpUqhn92xY0eqVatG5cqVOeGEE7j00kt5/PHHi+aLSZIklRCLMUmSVOatX7+eM888k1NOOYW//OUvDBkyhN69e7N06dIt7rf//vvzwQcf5Fv34Ycf0qZNm236/D322IPZs2czYcIEKlasSI8ePWjevDlXXHEF7733HjHGvG3nzZuX782OBS3Tp08v8HNatWpFtWrV8mVevHgxc+bMKTTz/14+UNhtpZ988gnff/89Xbp0ISsri6ysrLwr4I4//vhCv3OFChXyfS9JkqSyyGJMkiSVeTfddBOLFi3ib3/7GwCDBg2iZcuW9O3bd4v79enTh//85z888MADrFmzhunTp/Poo48ycODA7cqx//77c+utt/L1118zbty4vJKsadOmLFy4EMi9lXLTNzsWtLRv377A41etWpVzzjmHwYMHM2/ePFasWMEVV1zBXnvtRbt27Qrcp127drRt25bBgwezfPlycnJyuOaaa9hvv/1o2bIlhx12GHPmzGHmzJl5y84778zgwYPzrgibMWMGH330EWvWrGHdunW89tpr3HPPPfTo0WO7fk6SJEmlhcWYJEkq09566y3uvPNOxo4dS0ZGBpB7NdNjjz3GtGnTePjhhwvdt1mzZrzyyis89NBD1KxZk969e3Prrbfy+9//fodzHXDAAdx+++18++23jBs3jurVq+/wMQHuvvtu2rVrR5s2bWjYsCGLFy/mpZdeokKF3NO66dOnk5GRwbx584DcK8Veeukl1q9fT5MmTdh111359ddfefHFF0lLS6NKlSo0btw435KWlkbt2rWpV68eAAsWLKBXr17UqVOHrKwsrrrqKm699VYuueSSIvlOkiRJJSV4CbwkSSpKIYR6wMJN1y1cuDCvZCkpnTp14p133qFixYp88803W/0MsPbt2/PJJ5+wZs0afvnlF9LS0oo5qQAWLVpE/fr1E1fXjzEuKok8kiSpfLIYkyRJRaq0FmMqWyzGJElSMngrpSRJkiRJklKSxZgkSZIkSZJSksWYJElKaf97WP369eu3ep+MjAymTZtWfKEkSZKUFBZjkiQppbVv356cnJxteqh+Tk4OHTp0KLZM999/P82bN6d69eq0bduWt956q9BtV69eTb9+/WjZsiWZmZk0btyYfv36sXTp0rxtvvnmG9q1a0dWVhY1atRgt912Y+jQoWzYsCFvmyFDhpCWlkZGRkbe0qNHj2L7jpIkSaWBxZgkSVIp8swzz3DttdcyevRoli1bxnnnnccJJ5zA/PnzC9x+3bp11K5dm+eff55ly5bxwQcf8NVXX3HOOefkbVOvXj0effRRfvrpJ7Kzs5k8eTJjx47l/vvvz3esww47jJycnLzlySefLNbvKkmSVNIsxiRJUrn2008/0a1bN2rVqsWuu+7KE088QQgh71bIadOmEUJg3bp1QO6VU0cccQQ33XQTDRs2pE6dOlx44YV5c4AQAlOmTCmWvMOHD+fcc8/lqKOOonLlygwcOJAWLVowatSoArdPT0/nL3/5C3vttRdpaWk0bNiQiy++mDfeeCNvm8zMTFq1apV3VVwIgQoVKjB79uxi+Q6SJEllhcWYJEkq184880zWr1/Pt99+y0cffcTTTz/9m/u8//77pKenM3fuXN577z2eeeYZHn/88a3+zH333ZdatWoVutx2222F7jtz5kwOPvjgfOsOOuggPv74463+/Ndee402bdpstr59+/ZUq1aNXXfdlezsbAYOHJhv/vHHH1OvXj2aNWvGmWeeybfffrvVnylJklQWVSzpAJIkScXlu+++Y+rUqXz22WfUrl0bgFtuuYUXX3xxi/s1adKEK6+8EoCWLVvSsWNH/vWvf+W7PXFLPv300+3OnJ2dTa1atfKtq127Nt98881W7f/YY4/x+OOP889//nOz2fTp01m/fj3vv/8+EyZMoH79+nmz0047jXPOOYemTZvy/fffM2jQII499lg++eQTMjIytvv7SJIklWZeMSZJksqtBQsWANCsWbO8dc2bN//N/Xbeeed8f05PT2fFihVFmq0wNWrUYNmyZfnWLV26lBo1avzmvg899BCXXXYZkyZNYr/99itwm7S0NA4//HBq1arFBRdckLd+7733plmzZoQQaNSoEY8++igLFizgnXfe2aHvI0mSVJpZjEmSpHKrUaNGAMydOzdv3ab/d3Fp3bp1vrc7Ji633nprofvuv//+fPDBB/nWffjhhwXeGrmp22+/neuvv54pU6bQrl2738y4du3aLT5jLIRACIEY428eS5IkqazyVkpJklRuNW7cmA4dOvCnP/2J0aNHA3D99dcX++d+9tln273vgAED6Nu3L6eccgqHHHIIjzzyCF9++SV9+vQpdJ+rr76aMWPG8Oabb7LnnntuNp88eTLp6ekccMABpKWlMX36dO699958x3z66ac55phjyMrK4qeffuKqq65ip5124vDDD9/u7yJJklTaecWYJEkq18aOHUuMkWbNmtGmTRtOOukkAKpWrVrCyQrWvXt3br75Znr16kXNmjUZMWIEL7/8Mk2aNMnbJiMjgyeeeALIvQLujjvuYNGiRRx00EH5rkybN28eACtWrKBfv37UrVuXunXrMnDgQC655JJ8V66NGTOGPffck+rVq9O2bVvWrl3LlClTyMzMTO4PQJIkKYmCl8dLkqSiFEKoByzcdN3ChQupV69eCSXKb+bMmbRp04bvv/+ehg0blnQcFWLRokX5Xg6wUf0Y46KSyCNJksonrxiTJEnl2qxZs5gxYwYbNmzgu+++4/LLL+foo4+2FJMkSZLFmCRJKt+WL1/OGWecQWZmJgcccABZWVl5tyFKkiQptfnwfUmSVK61a9eOL7/8sqRjSJIkqRTyijFJkiRJkiSlJIsxSZKkHRBCYMqUKSUdQ5IkSdvBYkySJKkceuyxx2jXrh116tShbt26dOjQgbfffjvfNqtXr2bgwIFkZWWRmZlJ165dmT9/foHHe+GFFwgh0KtXr3zrv/jiC7p06UJWVhZ16tTh3HPPZcWKFcX2vSRJkoqSxZgkSVI5tGLFCgYPHszcuXP58ccf6datG8cffzzfffdd3jaXX34506dP56OPPmLBggXUqVOHk046iQ0bNuQ71uLFi/njH/9Iu3bt8q3Pzs6mU6dOtG3blgULFvDFF1/w3//+l7PPPjsp31GSJGlHWYxJkqQyY9iwYey2225kZmay00470adPn7zZ4MGDadmyJZmZmTRp0oSLL76YX3/9NW/ep08fTj/9dPr370/dunXJysrinnvuYf78+XTu3JnMzEz22msv3n333bx9hgwZwhFHHMGf/vQn6tevT4MGDbjqqqtYu3ZtoRnff/99OnToQN26dWnWrBk33HAD69atA2DNmjUMGDCABg0akJmZSfPmzfnb3/5W9D8oYODAgXnfq1KlSvzxj38kLS2NDz74AIBVq1YxcuRIhg4dSrNmzahRowZ33303s2bN2uzKsgsvvJBLL72U3XffPd/6t99+m59//pmhQ4dSpUoVdtppJ2644Qaef/75Qq88kyRJKk0sxiRJUpnw1VdfMWjQIF544QVWrFjBf//7X84999y8eYsWLZgyZQrZ2dlMmjSJiRMnMnTo0HzHeP755+nYsSMLFy7k4Ycf5vLLL+ess87irrvuYtmyZRx33HH5yjbILboqVqzI/PnzmTZtGuPGjeOOO+4oMOPs2bPp2LEj/fr146effuKtt97ixRdf5Pbbbwdg9OjRvPvuu8yaNYsVK1bw3nvvbXYV1qa6du1KrVq1Cl0GDBiw1T+/999/n5ycHPbbb7+8rCtXruTggw/O2yYrK4tddtmFjz/+OG/dmDFjWLhwIZdccslmx4wx5i3/s2HDBmKMzJw5c6uzSZIklRSLMUmSVCZUrFiRGCOfffYZ2dnZZGRkcOSRR+bNe/fuTdOmTQkh0Lp1awYOHMhrr72W7xhHHHEEp512GmlpaXTr1o2aNWvSqVMn9tlnH9LS0jjrrLP48ssvWb58ed4+derUYciQIVSpUoU99tiDq666ikcffbTAjPfffz8nnngiZ5xxBhUrVqRZs2YMGjSIkSNHAlC5cmVycnL4/PPPWbt2LQ0aNKBt27aFfucJEyawbNmyQpfhw4dv1c9u/vz5nH766VxzzTXsuuuuQO5tkAC1atXKt23t2rXzZgsWLODqq6/m0UcfpUKFzU8bDz/8cDIzM7n22mtZuXIlCxYs4Oabb853fEmSpNLMYkySJJUJu+yyC0899RQjR46kadOmHHTQQTz55JN58wcffJC2bdtSt25datasyXXXXcfChQvzHaNhw4b5/pyenp5vXXp6OkC+h8c3adKEtLS0fDkKu03wq6++Yvz48fmu6urfvz8//vgjAL169eLCCy/kqquuIisriy5duvDRRx9t509k63z99dcceeSR/OEPf8grrQBq1KgBwLJly/Jtv3Tp0rzZeeedxxVXXEGLFi0KPHatWrWYNGkSM2bMoFmzZhx11FGceeaZQO7VZ5IkSaWdxZgkSSozTj75ZCZNmsTixYu56qqr6NmzJ19++SXvvvsuF110EX/961/58ccfWb58Obfccku+W/y21/z581m/fn3en+fMmUPjxo0L3LZBgwaceeaZ+a7qys7OJicnB4C0tDSuvPJK3n//fRYsWMCee+7JySefXOhnd+nShYyMjEKXfv36bTH7p59+Svv27Tn33HM3u/2zVatWVKtWLe+ZY5D7kP05c+bQpk0bAF599VVuueUWsrKyyMrK4qmnnuLZZ58lKyuL1atXA9CmTRsmT57MwoUL+frrr2nYsCHVq1fn0EMP3WI2SZKk0qBiSQeQJEnaGrNnz+a///0vRx55JBkZGdSsWRPILZuWL19OWloa9erVo1KlSsyYMYNhw4YVyef+/PPP/PnPf+baa69lzpw53HnnnZxzzjkFbjtgwAA6duxIly5dOPnkk0lLS+Pbb7/l66+/5vjjj2fq1KnUqFGDfffdl6pVq5KRkZHvarREEydO3O7c77zzDl27dmXw4MH88Y9/3GxetWpVzjnnHAYPHsz+++9P7dq1ueKKK9hrr73ynnuWeGXc5Zdfzrp167jvvvuoUqUKAB999BF77LEHVapU4d133+WPf/wjQ4YMyfvfR5IkqTTzijFJklQmrFmzhltuuYVGjRpRo0YNrrjiCh577DF22203OnXqRL9+/ejQoQM1a9bk2muv5eyzzy6Szz3kkENYs2YNjRs35sgjj6Rbt25cc801BW570EEHMXnyZEaMGEGjRo2oW7cup512GnPnzgVg4cKF9OnThzp16lCvXj3efPNNnn322SLJmei6665j2bJlXH/99fmuMrv11lvztrn77rtp164dbdq0oWHDhixevJiXXnop73lijRs3zrdUr16d6tWr57ti7pFHHqFp06bUqFGDfv36cd1113HVVVcVy3eSJEkqaqEobjGQJEn6nxBCPSDfw70WLlxIvXr1SijR9hsyZAhTpkzhn//8Z0lHSTmLFi2ifv36iavrxxgXlUQeSZJUPnnFmCRJkiRJklKSxZgkSZIkSZJSkrdSSpKkIlWebqVUyfFWSkmSlAxeMSZJkiRJkqSUZDEmSZLKpD59+tCrV6+SjlGoPn36UKlSJTIyMvj4449LOk6p1bhxY6pWrZrvTZeSJEnJYjEmSZJUTE4//XRycnJo06YNACtXrqR79+60aNGCChUqcP3112+2T+vWrcnIyMhbqlevTgiB8ePHA/DEE0/km2dkZFCxYkX222+/vGPEGLnxxhvZeeedSU9P58gjj2TWrFnblP2aa65hn332oUaNGjRs2JAePXowf/78vPn06dM3y1GpUiVq1qyZt82qVau45ppraN68ORkZGRx66KG8++67+T7nu+++4+9///s2ZZMkSSoqFmOSJElJEkLg8MMP56GHHuLggw8ucJvPPvuMnJycvOW2226jbt26dOnSBYCePXvmmy9dupSsrCx69+6dd4y77rqLRx99lFdffZXFixfTrl07OnfuTE5OzjZlHTVqFIsXL+aLL74ghMCJJ56YN2/fvn2+HDk5Oey77775clx99dW89tprvPXWWyxdupTu3bvTqVMnFixYsK0/OkmSpGJhMSZJkpLuoYceYvfdd2fTlwCtWbOGevXq8dxzzwEwePBgWrZsSWZmJk2aNOHiiy/m119/LfSYIQSmTJmS9+c5c+YQQuDrr7/OW/fKK69wyCGHULt2bVq0aMF9991XDN+ucFWrVuWyyy7j6KOPpmrVqlu1zwMPPMB5551X6Pbjxo0jOzubc889N2/d8OHDufLKK9lnn32oVq0aQ4cOZc2aNXlXnW2Nv/zlLxxwwAFUrlyZWrVqMWjQID755BOWLl1a4PbvvfceM2bMYMCAAXnrnnrqKQYNGkTTpk2pVKkSV1xxBTVr1mTUqFFbnUOSJKk4WYxJkqSk69GjBz/++CNvvvlm3rrx48eTlpaWd1VSixYtmDJlCtnZ2UyaNImJEycydOjQ7f7MN954gzPPPJNbb72VJUuWMH78eO68806eeOKJQvfp2rUrtWrVKnTZtAQqDlOnTuXLL7+kX79+hW4zfPhwTj/9dOrUqQPA8uXLmTNnTr4r0ipWrEibNm126Flnr732Gs2aNaN27dqF5ujQoQN77bVX3roYI4lvQI8xMmPGjO3OIUmSVJQsxiRJUtJlZmbyhz/8gYcffjhv3cMPP8xZZ51FpUqVAOjduzdNmzYlhEDr1q0ZOHAgr7322nZ/5v/93//Rv39/OnbsSIUKFdh7773p168fI0eOLHSfCRMmsGzZskKX4cOHb3eerTF8+HCOP/54dtlllwLns2bNYvr06fkKuuzsbABq1aqVb9vatWvnzbbVlClTuOmmmwp9FtiSJUt45plnNisKu3Xrxu23384333zD6tWruf322/nhhx+2O4ckSVJRq1jSASRJUmo6//zz6dixI8OGDWPZsmVMnTqV+++/P2/+4IMP8uCDDzJ37lzWrVvH2rVrqVu37nZ/3ldffcWUKVN44IEH8tatX7+epk2b7tD3KC7ff/89L7zwAs8//3yh2wwfPpwDDzyQgw46KG9djRo1AFi2bFm+bZcuXUqjRo22OceECRPo1asXY8aM4fjjjy9wm0ceeYTatWtzyimn5Ft/9913c91113HMMcfwyy+/cOqpp9KxY0eysrK2OYckSVJx8IoxSZJUIg4//HB23XVXnnjiCR555BHatWtHy5YtAXj33Xe56KKL+Otf/8qPP/7I8uXLueWWWza7LW9TGRkZ/PLLL3l//v777/PNGzRowDXXXJPviq8VK1bw2WefFXrMLl26bPbmxU2XLd3iuKMeeughmjRpkvfQ/UQrVqxgzJgxm12lVbNmTZo3b84HH3yQt27dunXMnDkz7+2YW+uJJ56gZ8+e/OMf/9is9PqfDRs28OCDD9K3b18qVsz/O9eMjAzuvfde5syZw6JFi7jnnnv47LPP6Nix4zblkCRJKi4WY5IkqcScd955jBgxglGjRnH++efnrV++fDlpaWnUq1ePSpUqMWPGDIYNG7bFYx144IGMGjWKVatW8dNPP3HTTTflm1966aX87W9/4/XXX2fdunWsW7eOWbNm8dZbbxV6zIkTJ2725sVNl8JuLdyS1atXs2rVKjZs2MD69etZtWoVa9asybfNunXrGDFiBBdeeCEVKhR8uvb4449TqVIlzjjjjM1mAwYM4K677mLWrFmsXLmSG2+8kUqVKuUrt5o3b86QIUMKzTls2DAuuugiJkyYQOfOnQvdbtKkScybN48LLrhgs9mcOXP47rvvgNyi8rzzzqNBgwb53lwpSZJUkizGJElSiTnrrLP44osvWLFiBd27d89b36lTJ/r160eHDh2oWbMm1157LWefffYWj3X//ffz448/kpWVxXHHHbdZ+dKtWzcef/xxBg8eTP369alfvz7nn38+ixcvLpbvVphWrVpRrVo1pk+fzm233Ua1atXo1KlTvm1eeOEFlixZwnnnnVfocR544AH69OlDtWrVNptdeeWV9OnTh2OPPZa6desyffp0Jk2aREZGBkBeedihQ4dCj3/xxReTk5Oz2VVz06dP3yzHSSedVOBtml988QXt27enevXqtGnThoyMDF5//XWqVKmypR+RJElS0oQt3ZIgSZK0rUII9YCFm65buHAh9erVK6FEJaNv376MHTuWSpUqMW3aNPbff/+SjpRn8uTJ3HPPPbz88sslHYVmzZrx888/s9NOO/H111/nrV+0aBH169dP3Lx+jHFRUgNKkqRyzWJMkiQVKYsxFQWLMUmSlAzeSilJkiRJkqSUZDEmSZIkSZKklFTxtzeRJEnaMcl+wL3KPv+ZkSRJyeAzxiRJUpEq6BljUhHxGWOSJKlIeSulJEmSJEmSUpLFmCRJkiRJklKSxZgkSZIkSZJSks8YkyRJRSqEUAGoW9I5NmoDPA3UTFj/AXAGsCLpiUqv3wP3A2kJ6/8BXApsSHqizS2JMZaGHJIkqZywGJMkSeVSCKEdMBHITBi9BXSNMVqKJQghnAY8yeZvLn8KOCvGuDb5qSRJkoqPxZgkSSp3QghHAS8D6QmjqcBJMcZfkp+qbAghnAw8A1RKGI0Dzowxrkl+KkmSpOLhM8YkSVK5EkI4ltwrxRJLsUnkXilmKbYFMcYXgJOB1QmjU4FnQwhVkp9KkiSpeFiMSZKkciOE0AWYAFRLGL0EdIsxrkx+qrInxjgR6Aok/rxOBJ4PIST+fCVJksokizFJklQuhBBOAp4HEq9oeg44LcaYeAWUtiDGOAXoAiReYXc88FIIIfGKPEmSpDLHYkySJJV5IYRTyX0GVuWE0VPAGT4Xa/vEGN8EOrP52zs7Aq+EEBJfbCBJklSmWIxJkqQyLYTQA/gHm79J8XGgl29S3DExxreB44DlCaMjgUkhhJrJTyVJklQ0LMYkSVKZFUI4GxgDpCWMHgHOiTGuT36q8ifG+D5wDPBzwuhwYHIIoXbyU0mSJO04izFJklQmhRDOB0ay+fnMA8AFlmJFK8Y4AzgaWJQwOgh4PYSQlfxUkiRJO8ZiTJIklTkhhIHACCAkjO4FBsYYNyQ/VfkXY/wU6AD8lDBqA0wNIdRPeihJkqQdYDEmSZLKlBDCZcCwAkZ3AJfFGGOSI6WUGOPnwFHA9wmjfYBpIYSGyU8lSZK0fSzGJElSmRFCuBq4u4DRUOAaS7HkiDHOJvfh+/MSRnsCb4YQGic/lSRJ0razGJMkSWVCCOEG4LYCRjfEGAdbiiVXjPG/5JZj3yaMWpBbjjVLfipJkqRtEzyHlCRJpVkIIZB7Rdh1BYyvjjHekeRI2sTGq8OmkluIbWoecMzGAk2SJKlUshiTJEml1sZS7HbgqgLGl8UY70luIhVk43PFpgJ7JIwWkFuOfZn8VJIkSb/NYkySJJVKG0ux/wMuLWA8IMb4QJIjaQtCCDsBU4C9E0Y/Ah03PrRfkiSpVLEYkyRJpU4IoQJwP9AvYRSBvjHGR5KfSr8lhJAFTAb2TxgtAo6NMX6a9FCSJElbYDEmSZJKlRBCGvAQcG7CaAPQJ8b4ePJTaWuFEGoDrwIHJYx+Bo6LMc5IfipJkqSCWYxJkqRSI4RQERgJ9EoYrQd6xRifSn4qbasQQk1gInBYwmgZ0DnG+K+kh5IkSSpAhZIOIEmSBBBCqASMYfNSbB1wuqVY2RFjXA50Bt5KGNUCpoQQ2iU9lCRJUgG8YkySJJW4EEJl4CnglITRGuC0GONLyU+lHRVCSAdeBI5JGP0C/C7G+GbyU0mSJP1/XjEmSZJKVAihKjCOzUuxVcDJlmJlV4zxF6ArMClhlA5MDCEcm/xUkiRJ/5/FmCRJKjEhhGrAC+SWJ5taCXSNMSYWKipjYowrgW5AYsFZDZgQQuiS9FCSJEkbWYxJkqQSsfE2uwlAp4TRL0CXGOPryU+l4hBjXA2cBjyXMKoCPB9COCn5qSRJkizGJElSCQghZJL71sLEZ09lA5189lT5E2NcA5xB7rPkNlUZGBdCODX5qSRJUqqzGJMkSUkVQqgJvAq0TxgtA46NMb6T9FBKihjjWnLfOvp4wqgi8I8QQo/kp5IkSanMYkySJCVNCKEOMAU4LGG0BDgmxvhB8lMpmWKM64FzgEcSRmnAmBDC2clPJUmSUpXFmCRJSooQQhbwOnBgwmgRcHSM8ePkp1JJ2FiOXQA8kDCqAIwMIZyf/FSSJCkVWYxJkqRiF0LYCXgD2D9h9CPQIcb476SHUomKMW4ABgL3JowCMCKEMCD5qSRJUqqxGJMkScUqhLAzMA3YO2G0ADgqxvh50kOpVIgxRuAy4I4CxveHEP6Y3ESSJCnVWIxJkqRiE0JoArwJ7JEwmgscGWP8MvmpVJpsLMeuAYYWMP6/EMLVSY4kSZJSiMWYJEkqFiGE5uSWYrsnjL4h90qxb5IeSqVSzDUYuKGA8W0hhILWS5Ik7bCQ+0s6SZKkohNC2B2YCjRJGH1J7tsnFyQ/lcqCEMIg4PYCRrcAN0RPXiVJUhGyGJMkSUUqhNCK3FJs54TR58CxMcYfkp9KZcnGZ4v9XwGjO4GrLcckSVJRsRiTJElFJoTQGngd2Clh9G9yS7GFyU+lsiiE0B8YXsDoXuAyyzFJklQULMYkSVKRCCHsB0wBshJGM4BOMcYlyU+lsiyEcB4wAggJo78DA2OMG5KfSpIklScWY5IkaYeFEA4AJgO1E0b/AjrHGJclPZTKhRBCb2AUm7806lHgghjj+qSHkiRJ5YbFmCRJ2iEhhEOAV4GaCaN3gC4xxuzkp1J5EkI4AxgDpCWMxgDnxBjXJT+VJEkqDxJ/8yZJkrTVQghHkHulWGIp9ia5V4pZimmHxRifAk4HEguwXsCYEEKl5KeSJEnlgVeMSZKk7RJC6ABMANITRlOAk2OMvyY7k8q3EMKJwLNA5YTReOCMGOOa5KeSJEllmVeMSZKkbRZCOA54hc1LsYnAiZZiKg4xxpeAk4FVCaNTgHEhhKrJTyVJksoyizFJkrRNQggnAC8B1RJGLwKnxBgTSwupyMQYJwFdgZUJo67ACyGExH8uJUmSCmUxJkmStloI4WTgeaBKwmgc0D3GuDrpoZRyYoyvA12AXxJGnYAJIYTEKxklSZIKZDEmSZK2SgihO7nPd0p80PmT+HwnJVmM8U1yi7DEFzwcA0wMIWQmP5UkSSprLMYkSdJvCiGcCTwFVEwYjQZ6xxgT3xYoFbsY4zvAscCyhFF74NUQQuLbUiVJkvKxGJMkSVsUQugDjGHz84aHgXNjjOuTHkraKMb4AblXif2cMDoMmBJCqJP8VJIkqaywGJMkSYUKIVwAjARCwmg4cGGMcUPyU0n5xRg/BjoAixJGBwKvhxCykh5KkiSVCRZjkiSpQCGEgcCDBYz+D7jIUkylSYzx3+SWYz8mjPYH3ggh7JTsTJIkqfSzGJMkSZsJIVwODCtgdBtwRYwxJjmS9JtijJ8DRwELEkZ7A9NCCDsnP5UkSSrNLMYkSVI+IYQ/AX8tYHQTcK2lmEqzGOOXwJHA3ITRHsCbIYQmyU8lSZJKq+C5rSRJAgghBGAwMKSA8fUxxluSm0jafiGEZsBUYNeE0bfAMTHGOUkPJUmSSh2LMUmS9L9S7Gbg2gLGV8UY70pyJGmHhRAaA68DLRNG84GjY4z/TX4qSZJUmliMSZKU4jaWYncCVxQwvjTGeF+SI0lFJoTQEJgC7JUw+p7cK8dmJz+VJEkqLSzGJElKYRtLsXuBiwsY94sxFvRWSqlMCSHUJ7cc2ydh9BPQMcb4WfJTSZKk0sBiTJKkFBVCqAA8AFyQMIrAeTHGkclPJRWPEEJd4DWgbcJoMXBsjPGT5KeSJEklzWJMkqQUFEJIAx4G+iSMNgBnxxjHJD2UVMxCCLWAV4GDE0ZLgeNijB8lPZQkSSpRFmOSJKWYEEJFYDRwZsJoPdAzxviP5KeSkiOEUAOYCByeMFoOdI4xvp/8VJIkqaRUKOkAkiQpeUIIlYCxbF6KrQW6W4qpvIsxZgOdgTcTRjWBySGEI5KfSpIklRSLMUmSUkQIoQrwNNA9YbQG+H2McXzyU0nJF2PMAU4g94H8m8oEJoUQOiQ7kyRJKhkWY5IkpYAQQlXgOaBbwmgVcFKMcULSQ0klKMb4K3AiubdVbiodeCWEcFzyU0mSpGSzGJMkqZwLIVQHXiT3CplN/Qr8Lsb4avJTSSUvxrgKOIXc///YVDXgpRBC4v/PSJKkcsZiTJKkciyEkA5MABKvfskBjo8xTk1+Kqn0iDGuJvf24nEJoyrA8yGEk5OfSpIkJYvFmCRJ5dTGt+9NAo5OGGUDnWKM05OfSip9YoxrgDOAJxNGlYBnQwiJz+WTJEnlhMWYJEnlUAihFvAakPiGvaVAxxjju0kPJZViMcZ1QG9gdMKoIvBUCCHxTa6SJKkcsBiTJKmcCSHUIfdte4ckjJYAx8QYP0x+Kqn0izGuB84FHk4YVQDGhBD6JD2UJEkqVhZjkiSVIyGEesBU4ICE0UKgQ4xxZtJDSWVIjHEDcCEwPGEUgJEhhAuSn0qSJBUXizFJksqJEEID4A1gv4TRD8BRMcZZyU8llT0by7GLgP8rYPxgCGFgkiNJkqRiYjEmSVI5EEJoBEwDWieMviO3FPtP0kNJZViMMQJXALcVMB4WQrg8yZEkSVIxsBiTJKmMCyE0Bd4EWiWM5gJHxhi/Sn4qqezbWI5dC/y5gPFfQwh/SnIkSZJUxELuf+8lSVJZFELYhdxnijVPGP2X3Aftz0t6KKkcCiFcB9xcwGgI8OfoSbUkSWWSxZgkSWVUCGF3ckuxJgmj2UDHGOOC5KeSyq8QwpXAnQWMbgWutxyTJKnssRiTJKkMCiHsQW4p1jBh9Dm5pdiPyU8llX8hhEuAewsY/RW4ynJMkqSyxWJMkqQyJoSwN/A6UD9h9AlwXIxxUfJTSakjhHAh8PcCRn8DLrUckySp7LAYkySpDAkh7A9MAeomjD4COsUYf056KCkFhRDOBR4GQsLoIaB/jHFD8lNJkqRtZTEmSVIZEUI4EHgNqJ0weh84Psa4LOmhpBQWQugFjGbzN72PAs6PMa5PeihJkrRNLMYkSSoDQgiHAq8CNRJG/wR+F2PMTn4qSSGE04EngLSE0RNAnxjjuuSnkiRJWyvxt1uSJKmUCSG0ByazeSn2BtDFUkwqOTHGfwDdgbUJo57A2BBCpeSnkiRJW8tiTJKkUiyEcAwwCchIGE0GusYYc5KfStKmYozjgd8DaxJG3YGnQwhVkp9KkiRtDYsxSZJKqRBCZ+BloHrC6BXgpBjjr8lPJakgMcYJwEnAqoRRN+C5EELVpIeSJEm/yWJMkqRSKITQFXgRSPzL9AvA72OMiX/5llTCYoyvAr8DEkvrE4AXQwiJJbckSSphFmOSJJUyIYRTgOeAygmjZ4DuMcbVyU8laWvEGKcCxwOJtzkfB0wIIaQnP5UkSSqMxZgkSaVICOEP5BZgiQ/sfgI4M8aY+IBvSaVMjHE60AlIfDHG0cCkEELiizQkSVIJsRiTJKmUCCH0Ap4E0hJGo4CzY4zrkh5K0naJMb4LdASWJYyOAF4LIdRKdiZJkrQ5izFJkkqBEMI5wGNs/t/mh4DzYozrk59K0o6IMX5I7lViSxJGhwBTQgh1kp9KkiRtymJMkqQSFkK4EHgUCAmjYUC/GOOG5KeSVBRijDOBDsDChNEBwNQQQr1kZ5IkSf+fxZgkSSUohHAx8PcCRn8FLokxxiRHklTEYoyzgKOAHxJG+wFvhBAaJD+VJEkCizFJkkpMCOFK4L4CRrcCV1mKSeVHjPE/5JZj3yWMWgPTQgiNkp9KkiRZjEmSVAJCCNcBdxYwGgJcbykmlT8xxq+AI4E5CaNWwJshhKZJDyVJUooLnndLkpQ8IYRAbvk1uIDxtTHGvyQ3kaRk21iATQV2SxjNAY6JMX6b9FCSJKUoizFJkpJkYyl2K3BNAeMrYox3JzmSpBKy8dbJ18m9WmxT88ktx75OfipJklKPxZgkSUmwsRT7K3BZAeOLY4zDkhxJUgnb+ND914G9EkY/kFuO/Sf5qSRJSi0WY5IkFbMQQgVyH7I/sIDxhTHGh5IcSVIpEUKoB0wB9k0YLQQ6bnyjpSRJKiYWY5IkFaONpdjfgb4JowicF2McmfxUkkqTEEJd4DWgbcJoCXBsjHFm0kNJkpQiLMYkSSomIYQ04BHg7ITRBuCsGOMTyU8lqTQKIdQCJgGHJIyWAp1ijB8mPZQkSSnAYkySpGIQQqgIjAbOTBitA86MMT6T/FSSSrMQQg3gZeCIhFE20DnG+F7yU0mSVL5ZjEmSVMRCCJWAscBpCaO1QPcY4wvJTyWpLAghZAAvAkcnjHKAE2KM05OfSpKk8qtCSQeQJKk8CSFUAZ5l81JsNdDNUkzSlsQYc4CuwOSEUQYwKYRwTPJTSZJUflmMSZJUREIIVYHxwEkJo1XASTHGV5KfSlJZE2P8ldx/jyT+O6M68HIIoVPyU0mSVD5ZjEmSVARCCNWBl4AuCaNfyb396bXkp5JUVsUYVwG/BxKvMq0KvBRC+F3yU0mSVP5YjEmStIM2PhPoZeDYhNEKch+Y/UbyU0kq62KMq4HuQOLLOioD40MIpyQ/lSRJ5YvFmCRJO2DjW+QmAR0SRsuBTjHGfyY9lKRyI8a4lty3245NGFUCngkh/CH5qSRJKj8sxiRJ2k4hhNrkPiC7XcJoKdAxxvhe8lNJKm9ijOuAs4BRCaM04MkQQq+kh5IkqZywGJMkaTuEEOoCU4CDE0aLgaNjjB8lP5Wk8irGuB44D3goYVQBeCyEcE7yU0mSVPZZjEmStI1CCPWBqUDbhNFPQIcY4yfJTyWpvIsxbgD6AcMSRgF4NIRwYfJTSZJUtlmMSZK0DUIIDYE3gH0TRt8DR8UYP0t+KkmpIsYYgUuAuwsY/z2EcHGSI0mSVKZZjEmStJVCCI2AacBeCaP55JZis5MeSlLK2ViOXQn8pYDxfSGEK5McSZKkMstiTJKkrRBCaAa8BbRMGM0Bjowxfp30UJJS1sZy7DpgSAHjO0MI1yY3kSRJZVPI/W+qJEkqTAhhV3KfKdYsYfQ1cEyMcX7yU0lSrhDCn4BbCxjdBNwUPeGXJKlQFmOSJG1BCKEFuaVY44TRf4COMcbvk59KkvILIVwO/LWA0W3AtZZjkiQVzGJMkqRChBD2JLcUa5Aw+ozcUuyn5KeSpIKFEC4C/lbA6P+AKyzHJEnanMWYJEkFCCHsA7wO1EsYfQIcF2NclPxUkrRlIYQLgAcLGN0PXBJj3JDkSJIklWoWY5IkJQghtAEmA3UTRh8CnWOMPyc/lSRtnRDCOcAjQEgYjQD6WY5JkvT/WYxJkrSJEMJBwGtArYTRe8DxMcblSQ8lSdsohNATeIzN30I/Gjgvxrg++akkSSp9LMYkSdoohHA4MBGokTD6J3BCjHFF8lNJ0vYJIXQHngTSEkZjgbNjjOuSn0qSpNLFYkySJCCEcCTwCpCeMHoDODHG+EvyU0nSjgkhdAOeBioljJ4Fzowxrk16KEmSSpHES6slSUo5IYSOwCQ2L8VeA7paikkqq2KMzwOnAKsTRqcBz4QQqiQ9lCRJpYjFmCQppYUQOgMTgGoJo5eBk2OMvyY/lSQVnRjjy8BJwKqE0cnAcyGEqslPJUlS6WAxJklKWSGEE4EXgcS/FI4Hfh9jTPxLpCSVSTHG14ATgMSy/wTgpRBC9eSnkiSp5FmMSZJSUgjh98BzQOWE0dPA6THGNclPJUnFJ8b4BtAZyEkYHQu8HELISH4qSZJKlsWYJCnlhBDOILcAq5gwGgP09GHUksqrGOM/geOA5QmjDsCkEELiW3klSSrXLMYkSSklhNAbeAJISxiNBPrEGNclP5UkJU+M8T2gI7A0YdQOmBxCqJX0UJIklRCLMUlSygghnAuMZvP//v0dOD/GuD75qSQp+WKMHwFHA4sTRgcDr4cQ6iY/lSRJyWcxJklKCSGE/sAjQEgY3QcMiDFuSH4qSSo5McZPyL2F8qeEUVtgagihftJDSZKUZBZjkqRyL4RwKTC8gNFdwB9jjDHJkSSpVIgxfkZuOfZDwmhf4I0QQsOkh5IkKYksxiRJ5VoIYRBwTwGjW4BBlmKSUl2M8T/AkcD8hNFewLQQQqPkp5IkKTksxiRJ5VYI4Xrg9gJGg2OM11uKSVKuGOPX5JZjcxJGLYG3QgjNkh5KkqQkCP6dQJJU3oQQAnATcEMB42tijAWVZZKU8kIITYCpwO4Jo7nAMTHGb5KfSpKk4mMxJkkqVzaWYrcBgwoYXx5j/L8kR5KkMiWEsDO55VirhNF35JZjXyU/lSRJxcNiTJJUbmwsxf4PuLSA8UUxxvuTHEmSyqQQwk7A60DrhNGP5JZjXyQ/lSRJRc9iTJJULoQQKgDDgP4JowhcGGMckfxUklR2hRDqAZOB/RJGi4COMcZ/Jz+VJElFy2JMklTmbSzFHgTOTxhtAM6NMY5OfipJKvtCCHWAV4EDE0ZLgONijB8nP5UkSUXHYkySVKaFENKAR4GzEkbrgbNijGOTn0qSyo8QQk1gEnBowmgZ0CnG+EHSQ0mSVEQsxiRJZVYIoRLwGHBGwmgd0CPG+GzyU0lS+RNCyAReAY5IGGUDXWKM7yQ/lSRJO85iTJJUJoUQKgNPAr9PGK0FuscYX0h+Kkkqv0II6cBLwNEJo1+AE2KMbyU/lSRJO6ZCSQeQJGlbhRCqAM+yeSm2GjjZUkySil6M8RegK/BawigdmBRC6Jj8VJIk7RiLMUlSmRJCqAY8D5yYMFoJdI0xTkx6KElKETHGX4GTgZcTRtWACSGEzslPJUnS9rMYkySVGZvcxnN8wuh/t/FMSX4qSUotMcZV5F6x+3zCqCrwYggh8RcXkiSVWhZjkqQyYZMHPyfeqrMC6BxjnJb0UJKUomKMa4A/AE8njCoDz4UQEm91lySpVLIYkySVeiGEmsCrwJEJo+XAcTHGt5OfSpJSW4xxLdATGJMwqgg8HUI4PfmpJEnaNhZjkqRSLYRQG5gMHJYw+hk4Jsb4fvJTSZIAYozrgD7AyIRRGjA2hNA76aEkSdoGFmOSpFIrhJAFvA4clDBaDBwdY5yR/FSSpE3FGNcD5wMPJowqAKNDCOcmP5UkSVvHYkySVCqFEOoDU4E2CaOfgA4xxk+Tn0qSVJAY4wagP/C3hFEAHgkh9E9+KkmSfpvFmCSp1AkhNASmAfskjL4Hjooxfpb0UJKkLYoxRuBS4K4CxsNDCJcmOZIkSb/JYkySVKqEEBoDbwJ7JozmAUfGGGcnP5UkaWtsLMcGAbcUML4nhHBVkiNJkrRFFmOSpFIjhNCM3FKsRcLoW3KvFPtv8lNJkrZFzHU9cGMB4ztCCNcnO5MkSYUJub/UkSSpZIUQdiP3mWJNE0ZfAR1jjPOTn0qStCNCCNcAfylgNBS4MfqXEUlSCbMYkySVuBBCK3LfPtkoYfQf4JgY4w/JTyVJKgohhMuAuwsY3QFcYzkmSSpJFmOSpBIVQtiL3CvFdkoYzQKOjTH+lPxUkqSiFEIYCAwrYHQvcJnlmCSppFiMSZJKTAhhX2AKUC9hNBM4Lsa4OOmhJEnFIoTQF3gQCAmjB4CLYowbkp9KkpTqLMYkSSUihNAWmAzUSRh9AHSOMS5NfipJUnEKIZwNjGTzcuxh4ELLMUlSslmMSZKSLoRwMPAqUCth9C7QJca4POmhJElJEUI4E3gMSEsYPQacG2Ncn/xUkqRUZTEmSUqqEEI7YCKQmTB6C+gaY1yR/FSSpGQKIZwGPAlUTBg9BZwVY1yb/FSSpFRkMSZJSpoQwlHAy0B6wmgqcFKM8Zfkp5IklYQQwsnAM0ClhNE44MwY45rkp5IkpZoKJR1AkpQaQgjHknulWGIp9iq5V4pZiklSCokxvgB0A1YnjE4Fng0hVEl6KElSyrEYkyQVuxBCF2ACUC1hNAHoFmNcmfxUkqSSFmN8BTgRSPzvwInA8yGExP9uSJJUpCzGJEnFKoRwEvA8kPib/+eAU2OMq5IeSpJUasQYJwMnAIlXDh8PvBRCSLzSWJKkImMxJkkqNhsfrjwOqJwwego4w+fHSJIAYozTgM5A4gtYOgKvhBASX9giSVKRsBiTJBWLEEIPcguwxDeOPQ709o1jkqRNxRjfBo4DlieMjgReDSHUTH4qSVJ5ZzEmSSpyIYSzgTFAWsLoUeCcGOO65KeSJJV2Mcb3yb1K7OeE0WHA5BBC7eSnkiSVZxZjkqQiFUI4HxjJ5v+NeQDoG2Ncn/xUkqSyIsb4EXAMsDhhdBDwegghK/mpJEnllcWYJKnIhBAGAiOAkDC6FxgYY9yQ/FSSpLImxvgJ0AH4KWHUBpgaQqif9FCSpHLJYkySVCRCCJcBwwoY3QFcFmOMSY4kSSrDYoyfAUcB3yeM9gGmhRAaJj+VJKm8sRiTJO2wEMLVwN0FjG4GrrEUkyRtjxjjbHIfvj8vYbQn8GYIoXHyU0mSyhOLMUnSDgkh3ADcVsBocIzxBksxSdKOiDH+l9wrx75NGLUgtxxrlvxUkqTyIvj3FUnS9gghBGAocF0B46tjjHckOZIkqRwLITQBXie3ENvUPOCYjQWaJEnbxGJMkrTNNpZidwBXFjC+LMZ4T3ITSZJSwcbnik0F9kgYLQA6brz1UpKkrWYxJknaJhtLsXuASwoYD4wxDk9uIklSKgkh7ARMAfZOGP1Ibjn2efJTSZLKKosxSdJWCyFUAO4H+iWMInBBjPHh5KeSJKWaEEIWMBnYP2G0CDg2xvhp0kNJksokizFJ0lYJIaQBDwHnJow2AOfEGB9LfipJUqoKIdQBXgUOTBj9DBwXY5yR/FSSpLLGYkyS9JtCCBWBkUCvhNF6oFeM8ankp5IkpboQQk1gInBYwmgZ0DnG+K+kh5IklSkWY5KkLQohVALGAH9IGK0Dzogxjkt+KkmScoUQMoEJwJEJoxVAlxjj28lPJUkqKyzGJEmFCiFUBp4CTkkYrQFOizG+lPxUkiTlF0JIB14EjkkY/QL8Lsb4ZvJTSZLKggolHUCSVDqFEKoC49i8FFsNnGwpJkkqLWKMvwBdyX3m2KbSgYkhhGOTn0qSVBZYjEmSNhNCqAa8QO5fMja1ktzfvE9KfipJkgoXY1wJdCP3tspNVQMmhBC6JD2UJKnUsxiTJOWz8XaUl4FOCaNfyH1Wy+vJTyVJ0m+LMa4CTgWeSxhVAZ4PIZyU/FSSpNLMYkySlGfjA4wnAkcnjFYAnXxGiySptIsxrgHOAP6RMKoMjAshnJr8VJKk0spiTJIE5L3y/lWgfcJoGXBsjPGdpIeSJGk7xBjXAr2AxxNGFYF/hBB6JD+VJKk0shiTJBFCqANMAQ5LGP0MdIwx/iv5qSRJ2n4xxnXAOcCjCaM0YEwI4ezkp5IklTYWY5KU4kIIWcDrwIEJo0VAhxjjjOSnkiRpx8UY1wN9gQcSRhWAkSGE85OfSpJUmliMSVIKCyHsBEwD9k8Y/UhuKfbvZGeSJKkoxRg3AAOBexNGARgRQhiY/FSSpNLCYkySUlQIYWdyS7HWCaMFwFExxs+THkqSpGIQY4zAZcCdBYyHhRAuS3IkSVIpYTEmSSkohNAEeBPYI2E0j9xS7Mvkp5IkqfhsLMeuBm4uYHx3COHqJEeSJJUCFmOSlGJCCM3JLcV2Txh9AxwZY/xv0kNJkpQEMdcNwOACxreFEG5IdiZJUskKub84kSSlghDC7sBUoEnC6Ety3z75XfJTSZKUfCGEQcDtBYxuAW6I/kVJklKCxZgkpYgQQityS7GdE0ZfkFuK/ZD8VJIklZwQwh+B/ytgdCdwteWYJJV/FmOSlAJCCK2B14GdEkb/Bo6NMS5MfipJkkpeCGEAcH8Bo3uByyzHJKl8sxiTpHIuhLAfMAXIShh9DBwXY1yS/FSSJJUeIYTzgYeAkDD6OzAwxrgh+akkSclgMSZJ5VgI4QBgMlA7YfQv4PgY49Lkp5IkqfQJIZwFjGTzF5Q9ClwQY1yf/FSSpOJmMSZJ5VQI4VBgElAzYfQOcEKMcXnyU0mSVHqFEHoAjwNpCaMxwDkxxnXJTyVJKk4WY5JUDoUQjgBeATITRm8BXWOMK5KfSpKk0i+EcCrwFFAxYfQPoHeMcW3yU0mSikviZcKSpDIuhNCB3CvFEkux18m9UsxSTJKkQsQYxwGnAmsSRqcD/wghVE5+KklScbEYk6RyJIRwHLlXiqUnjCYBJ8YYf0l+KkmSypYY44vAycDqhNEpwLgQQtXkp5IkFQeLMUkqJ0IIJwAvAdUSRi8C3WKMK5OfSpKksinGOAn4HZD438+uwAshhMT/3kqSyiCLMUkqB0II3YDngSoJo3FA9xhj4m+8JUnSb4gxvg50ARKvuO4EvBxCSLxCW5JUxliMSVIZE0LYKYRwVghh341/7g48A1RK2PQp4IwYY+IzUiRJ0laKMb4JdAYSn9F5NDAxhJAZQsgIIZweQjgyhODfsSSpDPGtlJJUhoQQsoCZQKONq+4CLmfzX3Q8BpwbY1yfvHSSJJVfIYSDgVeBWgmjd4HKwAEb/3xNjPH2JEaTJO0AizFJKkNCCDcCQ35js4eBC2OMG4o/kSRJqSOE0BaYDNTZwma/APVjjL8mJ5UkaUd4ma8klREhhAD0+I3NhmMpJklSsYgxziD3FspFW9gsHTgxOYkkSTvKYkySyo42QKstzJ8ELrIUkySp+MQYPwWOY/Nnjm3qzCTFkSTtIIsxSSo7futqse7AnskIIklSihsEZG5h3iWEUDtZYSRJ289iTJLKgI1vuOr7G5tVBI5IQhxJklLdMb8xrwSck4wgkqQdYzEmSWXD74Gav7HNr8CUJGSRJCnVPb8V21xe3CEkSTvOYkySyoYt3SK5GHgUaBtj/CZJeSRJSmUXAQOAd7ewTa3kRJEk7YgQYyzpDJKk3xBCqAfMB6psXLUMeBx4DvhnjHFdCUWTJCmlhRB2Bk4GzgCO3GT0cIzxtx6DIEkqYRZjklRGhBDqAucCs4BJ0X+BS5JUqoQQsoA+wOcxxldKOI4kaStYjEmSJEmSJCkl+YwxSZIkSZIkpSSLMUmSJEmSJKUkizFJkiRJkiSlpIolHUBS0QohVADqlnQOlTtLYowbSjqEJEnby3Mk7QDPg6RyzGJMKn/qAgtLOoTKnfrAopIOIUnSDvAcSdvL8yCpHPNWSkmSJEmSJKUkizFJkiRJkiSlJIsxSZIkSZIkpSSfMSalgM8//5ysrKySjqEyYvHixey1114lHUOSpGLnOZISeR4kpR6LMSkFZGVlUa9evZKOIUmSVKp4jiRJ8lZKSZIkSZIkpSSLMUmSJEmSJKUkizFJkiRJkiSlJIsxScWuQ4cOVK5cmYyMDJYsWbLV+x1++OFUq1aNEALr1q0rxoSSJEnJt73nSD169CA9PZ0QAl9//XUxJpSk8s9iTNJ2W7duHYcddhh9+vTJt37atGlUr16dGTNm5K0bNGgQOTk51K1bF4D33nuPAw88kDp16lCjRg322msvHnjggXzHeeedd5g4cWKxf4+ttXr1agYOHEhWVhaZmZl07dqV+fPnF7r99OnTycjIyLdUqlSJmjVr5m3z0EMPsccee1CrVi1q167NEUccwRtvvJHvOM2bN6dq1ar5jjNhwoRi+56SJGnH7Mg50iuvvMKxxx5LvXr1qFWrFgcffDAvvfRSvuM8+eSTfPbZZ8X+PbZWjJEbb7yRnXfemfT0dI488khmzZq1xX2uv/562rRpQ+XKlTniiCM2m2/YsIE777yT3XffnYyMDPbZZx/PfyQVC4sxSdutYsWKjB07lvHjx/Pkk08CsGTJEnr16sXNN99M27ZtC913t91245lnnmHx4sVkZ2fz1FNPceONNxb5Cc/PP//M6tWri+RYl19+OdOnT+ejjz5iwYIF1KlTh5NOOokNGzYUuH379u3JycnJt+y777707t07b5vjjjuOt956i2XLlrF48WIuueQSfve737Fo0aJ8xxo2bFi+43Tt2rVIvpMkSSp6O3KOtHTpUvr378+XX37JkiVLuOKKK+jevTsffvhhkWbMyckhOzu7SI5111138eijj/Lqq6+yePFi2rVrR+fOncnJySl0n912240///nPXHDBBQXO7733XoYNG8YLL7zA8uXLue666/j973+fr1SUpKJgMSZph+yyyy4MHz6cfv368c0333DOOeew9957c9lll21xv3r16rHLLrtQoUIFYoyEEAgh8J///GeHMy1fvpzRo0dzwgkn0KRJExYvXrzDx1y1ahUjR45k6NChNGvWjBo1anD33Xcza9Ys3n777a06xnvvvceMGTMYMGBA3rpddtmF+vXrA7m/bU1LS2PlypXMnTt3hzNLkqSSs73nSD179uTUU0+ldu3apKWlcfrpp7PHHnswffr0Hc60cuVKnn32Wbp3706DBg34/PPPd/iYAMOHD+fKK69kn332oVq1agwdOpQ1a9Ywfvz4Qvc555xzOPHEE8nKyipw/tRTT9G/f39at25NWloaZ5xxBgcffPBmdxhI0o6yGJO0w3r27MnJJ5/MoYceyvvvv8/o0aMJIWzVvs2aNaNq1arsu+++ZGVl5buaalvk5OQwduxYTj75ZBo1asTYsWM59dRTmT9/Po0aNQJg3rx51KpVa4vLP//5zwKPP3v2bFauXMnBBx+cty4rK4tddtmFjz/+eKsyDh8+nA4dOrDXXnvlW//vf/+bWrVqUaVKFU477TROO+00DjjggHzbXHvttdSpU4e9996bO+64g7Vr127Lj0eSJJWAHTlH+p958+Yxe/Zs2rRps10ZVq9ezfPPP8+ZZ57JTjvtxL333kv79u358ssvOfTQQ/O2+61zpLFjxxZ4/OXLlzNnzpx850gVK1akTZs2W32OVJAYIzHGfOs2bNjgFWOSilzFkg4gqXw49thjefzxxzn//PPZaaedtnq/uXPnsmbNGt58802mT59OZmbmNn3u/Pnzueyyy3jttdc47LDD6N69OyNHjqROnTqbbdu0aVOWLVu2Tcf/n//dalCrVq1862vXrr1VtyEsWbKEZ555hscee2yz2T777MOyZcvIycnhH//4B2vWrMl30jx69Gjatm1LtWrVeO+99+jVqxdLlizh9ttv367vIkmSkmd7z5Egt3Q65ZRTOPXUU+nQocM27Zudnc3FF1/Miy++SOvWrfnDH/7AXXfdxc4771zg9iV1jlSYbt26MXz4cE444QT22msvnn76ad5//3123XXX7T6mJBXEK8Yk7bC5c+dyySWXcM011/D4448zbdq0bdq/cuXKHHfccSxevJgbbrhhm/b95Zdf+Pe//02NGjXYb7/92G+//QosxXZUjRo1gM1PGpcuXZo325JHHnmE2rVrc8oppxS6TUZGBueddx5/+9vf8j1k96ijjiIzM5OKFStyxBFHMGTIEB5//PHt+yKSJClpduQcadGiRRxzzDG0atWKUaNGbfNnr127ln//+99UqFCB/fffn3333ZcGDRps83F+y46eIxVm0KBBnHfeeZx22mnstNNOvPDCC/To0aPQWy8laXtZjEnaIevXr+fMM8/klFNO4S9/+QtDhgyhd+/eLF26dJuPtXbtWmbPnr1N++yxxx7Mnj2bCRMmULFiRXr06EHz5s254ooreO+99/Jdgj9v3rzN3hKZuBT2/I5WrVpRrVo1Pvjgg7x1ixcvZs6cOb95a8OGDRt48MEH6du3LxUr/vaFur/1c/jfc9kkSVLptSPnSPPnz6d9+/YccMABjBkzZqvOHxLVrVuXGTNm8N5779GwYUMuueQSGjZsSP/+/Xn99ddZv359vu1/6xzpiSeeKPBzatasSfPmzfOdI61bt46ZM2du9+2fkHs75pAhQ/jqq6/4+eefefrpp/n888/p2LHjdh9TkgpiMSZph9x0000sWrSIv/3tb0Dub/datmxJ3759t7jfc889xyeffMLatWtZs2YNzz33HGPGjOGEE07Yrhz7778/t956K19//TXjxo3LK8maNm3KwoULgdxbKRPfEpm4tG/fvsDjV61alXPOOYfBgwczb948VqxYwRVXXMFee+1Fu3bttpht0qRJzJs3r8C3Lj344IPMmzePGCPZ2dnceOONzJ07l2OPPRaAr776iunTp7Nq1So2bNjAe++9x5AhQ+jRo8d2/ZwkSVJybO850uzZs2nXrh0nnHACDz30EBUq7Nhf2Vq0aMF1113Hp59+yptvvkmDBg245JJLaNCgAZ9++mnedr91jtSzZ89CP2PAgAHcddddzJo1i5UrV3LjjTdSqVKlLV4pv3btWlatWsW6deuIMbJq1SpWrVqVN//pp5/4+uuviTHmvZ1z8eLFv/nyAknaZv97qKGLi0v5WIB6QNx0WbhwYSwOb775ZqxatWr84IMP8q3/7rvvYt26deOIESNijDEeddRR8brrrsu3zfDhw2PLli1jenp6rFmzZtx///3j/fffv9lnvPHGGxGIa9eu3a6M77//flyxYsV27Zto1apVccCAAbFOnToxPT09nnDCCXHevHl587feeiump6fHuXPn5tuva9eu8fe//32Bx+zbt29s1KhRrF69eszKyorHHHNMnDx5cr78++67b8zIyIiZmZlxjz32iLfccktcs2ZNkXyngixcuDAm/jME1Iul4J9vFxcXFxeX7V3KyjlSnz59IhDT09PzLRdeeGG+7b799tsIxK+++mq7Ms6aNSv+8MMP27Vvog0bNsQbbrgh7rTTTrFatWqxffv28dNPP82bz507N6anp8e33norb93ZZ59d0PlG3nzGjBmxVatWMT09PdauXTueccYZ+c67iovnQS4uqbeEGL0dRypPQgj1gIWbrlu4cCH16tUroUTQqVMn3nnnHSpWrMg333yz1c8Aa9++PZ988glr1qzhl19+IS0trZiTCnKfaVK/fv3E1fVjjItKIo8kSUWhPJ0j9ezZkwkTJrB69Wo+//xzH0hfhDwPklKPxZhUzpTGkz6VLZ4QSpLKI8+RtDU8D5JSj88YkyRJkiRJUkqyGJMkSZIkSVJKshiTVGKmT59ORkbGZq8L35KMjAymTZtWfKEkSZJKgOdFklQyLMYklZj27duTk5OzTQ/Vz8nJoUOHDsWW6f7776d58+ZUr16dtm3b8tZbb21x+/vuu49DDjmE6tWr07hx483mt956KxkZGfmWChUqcPLJJ+fb7uWXX+aQQw4hIyODunXrcuqppxbp95IkSaVbeTgv6tevH82aNaNGjRrUr1+fU089lTlz5uTbZtSoUbRu3ZqMjAxatGjBo48+mm++dOlSLrzwQho1akRGRgbHHXcc//nPf4r6q0lSHosxSdromWee4dprr2X06NEsW7aM8847jxNOOIH58+cXus/OO+/MoEGDuO666wqcX3vtteTk5OQt3377LZUrV6Z379552zz77LP06dOH66+/niVLlvD9999z9dVXF/n3kyRJ2lrbc1508cUXM2vWLLKzs/n2229p1qxZvl/2jR8/nksvvZQRI0aQnZ3NQw89xEUXXcSLL76Yt02fPn2YO3cun3zyCYsXL6Z169Ycd9xx/PLLL8X6fSWlLosxScXmp59+olu3btSqVYtdd92VJ554ghBC3iX/06ZNI4TAunXrABgyZAhHHHEEN910Ew0bNqROnTpceOGFeXOAEAJTpkwplrzDhw/n3HPP5aijjqJy5coMHDiQFi1aMGrUqEL3Oe200zj11FNp1KjRVn3GI488Qt26denWrRsAMUauuOIKBg8ezIknnkiVKlWoUqUKBx98cBF8I0mSVFqkwnlR69atyczMzPtzhQoVmD17dt6fn3rqKXr06MHhhx9OhQoVOProo/n973/P3/72NwB++eUXJkyYwJAhQ8jKyqJq1arcdttt/PDDDzz//PPF8j0lyWJMUrE588wzWb9+Pd9++y0fffQRTz/99G/u8/7775Oens7cuXN57733eOaZZ3j88ce3+jP33XdfatWqVehy2223FbrvzJkzNyukDjroID7++OOt/vwt2bBhAw8++CAXXHABFStWBGD27NnMmzePZcuWsffee5OVlcURRxzh80IkSSpnUuW86IEHHqBmzZpkZGRw7733cvPNN+fNYozEGPNtv2HDBmbMmFHoNv/786bbSFJRshiTVCy+++47pk6dyu23307t2rWpXbs2t9xyy2/u16RJE6688koqV65My5Yt6dixI//617+2+nM//fRTli1bVuhyzTXXFLpvdnY2tWrVyreudu3aZGdnb/Xnb8krr7zCd999xwUXXJC3bvHixQCMHTuWcePG8f3333P66afzu9/9jm+//bZIPleSJJWsVDov6t+/P8uXL2fBggXceOON7Lfffnmzbt268eSTT/LWW2+xbt06Jk+ezPPPP593zPT0dI499lgGDx7MTz/9xC+//MKgQYOIMRbZ+ZgkJbIYk1QsFixYAECzZs3y1jVv3vw399t5553z/Tk9PZ0VK1YUabbC1KhRg2XLluVbt3TpUmrUqFEkxx8+fDjdunWjYcOG+T4T4JJLLqFVq1ZUrlyZiy++mMaNGzNp0qQi+VxJklSyUvG8aOedd+aCCy7gd7/7HT/99BOQe9XcrbfeSv/+/alXrx533HEHF1xwAVlZWXn7jRkzhp133pkDDjiA3Xffndq1a7PHHnvk20aSipLFmKRi8b9nbs2dOzdv3ab/d3H531uOCltuvfXWQvfdf//9+eCDD/Kt+/DDD2nTps0O5/rmm2949dVXGTBgQL71rVq1Ij09nRDCDn+GJEkqnVL1vGjt2rWsXLky3wP7L7roIj777DOWLl3K5MmTmTt3Lh07dsyb169fn9GjR/Pdd9/xww8/cNFFF/Htt9/m20aSilLFkg4gqXxq3LgxHTp04E9/+hOjR48G4Prrry/2z/3ss8+2e98BAwbQt29fTjnlFA455BAeeeQRvvzyS/r06VPoPuvWrWPdunWsXbsWgFWrVgFQpUqVfGXX3//+d1q1asXRRx+db/8qVarQt29f7rvvPo477jiaNWvGiBEj+P777+nSpct2fxdJklR6pMJ50eLFi5kwYQInnXQSderUYf78+Vx00UU0adKEvffeG4AVK1YwZ84cWrduTU5ODiNGjGDatGn5bg+dPXs2tWvXpn79+nz99df079+fY445hmOPPXa7v4skbYlXjEkqNmPHjiXGSLNmzWjTpg0nnXQSAFWrVi3hZAXr3r07N998M7169aJmzZqMGDGCl19+mSZNmuRtk5GRwRNPPJH355tvvplq1apxwQUXsGDBAqpVq0a1atXy/RZ49erVjBw5kv79+xf4uXfccQddunThsMMOIysriyeeeIKJEydu1S0WkiSpbCjv50UhBMaMGUOLFi1IT0/nsMMOIz09nddffz3vO2ZnZ+cdr3HjxkydOpXp06fTokWLvGO+/fbbtG3blurVq3P00UfTpk0bxo0bl9wvLymlhMS3gkgq20II9YCFm65buHAh9erVK6FE/9/MmTNp06YN33//fb7nbKl0WbRoEfXr109cXT/GuKgk8kiSVBRK2zmS50Wlk+dBUurxijFJxWbWrFnMmDGDDRs28N1333H55Zdz9NFHe/InSZJSjudFklQ6WYxJKjbLly/njDPOIDMzkwMOOCDvNkFJkqRU43mRJJVOPnxfUrFp164dX375ZUnHkCRJKnGeF0lS6eQVY5IkSZIkSUpJFmOSyqwQAlOmTCnpGJIkSaWO50mStHUsxiSpiH3yySd06dKFBg0abPGkdNSoUeyzzz6kp6dTv359LrnkknzzZ599lj322INq1aqx55578txzz23zMSRJkkqre++9lxAC119/fYHzefPmUbNmTRo3bpxv/U033cRuu+1GzZo1ycrKonPnzsycOTMJiSWVRxZjklTEKleuzO9//3smTJhQ6DZ//etfuemmmxg+fDjLly/n22+/pU+fPnnz999/n169enHLLbeQnZ3NzTffTM+ePfnwww+3+hiSJEml1ezZs7n33nvZZ599CpzHGDnnnHM49NBDN5udccYZfPjhhyxfvpzvv/+eTp060blzZ9avX1/csSWVQxZjkrbKsGHD2G233cjMzGSnnXbKV8AMHjyYli1bkpmZSZMmTbj44ov59ddf8+Z9+vTh9NNPp3///tStW5esrCzuuece5s+fT+fOncnMzGSvvfbi3XffzdtnyJAhHHHEEfzpT3+ifv36NGjQgKuuuoq1a9cWmvH999+nQ4cO1K1bl2bNmnHDDTewbt06ANasWcOAAQNo0KABmZmZNG/enL/97W9F/4MC9txzT/r27cuBBx5Y4Dw7O5sbb7yR++67j/bt21OxYkXS09Np27Zt3jZ///vf6dKlC6eeeiqVKlXi1FNP5fjjj+eBBx7Y6mNIkqTk8Dxp26xfv56zzjqLu+++mzp16hS4zbBhw8jMzKRHjx6bzVq1akXt2rWB3AItLS2NhQsX8vPPPxdbZknll8WYpN/01VdfMWjQIF544QVWrFjBf//7X84999y8eYsWLZgyZQrZ2dlMmjSJiRMnMnTo0HzHeP755+nYsSMLFy7k4Ycf5vLLL+ess87irrvuYtmyZRx33HGbXe30/vvvU7FiRebPn8+0adMYN24cd9xxR4EZZ8+eTceOHenXrx8//fQTb731Fi+++CK33347AKNHj+bdd99l1qxZrFixgvfee4927doV+p27du1KrVq1Cl0GDBiwnT9NeOedd/jll1/48ssvadGiBfXr16dz58588sknedvMnDmTgw8+ON9+Bx10EB9//PFWH0OSJBU/z5O2/TzpL3/5C7vtthvdunUr9Gd6xx138Pe//73QY7z88svUqlWLqlWrcvnll3PZZZdRr169LX6uJBXEYkzSb6pYsSIxRj777DOys7PJyMjgyCOPzJv37t2bpk2bEkKgdevWDBw4kNdeey3fMY444ghOO+000tLS6NatGzVr1qRTp07ss88+pKWlcdZZZ/Hll1+yfPnyvH3q1KnDkCFDqFKlCnvssQdXXXUVjz76aIEZ77//fk488UTOOOMMKlasSLNmzRg0aBAjR44Ecm9vzMnJ4fPPP2ft2rU0aNBgi1dXTZgwgWXLlhW6DB8+fLt/nosXLwZyT4KnTZvG3Llz2X///Tn++OPzvn92dja1atXKt1/t2rXJzs7e6mNIkqTi53nStp0nzZw5k4ceeqjQK9LWr1/P2WefzV/+8hcaNGhQ6HF+97vfsWzZMpYsWcJf//pXDjvssEK3laQtsRiT9Jt22WUXnnrqKUaOHEnTpk056KCDePLJJ/PmDz74IG3btqVu3brUrFmT6667joULF+Y7RsOGDfP9OT09Pd+69PR0AFasWJG3rkmTJqSlpeXLMX/+/AIzfvXVV4wfPz7fbyv79+/Pjz/+CECvXr248MILueqqq8jKyqJLly589NFH2/kT2TE1atQA4Nprr6VRo0ZUq1aNW2+9leXLl/POO+/kbbNs2bJ8+y1dujRv3605hiRJKn6eJ229tWvXctZZZ3HPPfdQt27dAre58847ycrKolevXlt1zDp16nDppZdy/vnne+W8pO1iMSZpq5x88slMmjSJxYsXc9VVV9GzZ0++/PJL3n33XS666CL++te/8uOPP7J8+XJuueUWYow7/Jnz58/P9xDVOXPmbPZWov9p0KABZ555Zr7fVmZnZ5OTkwNAWloaV155Je+//z4LFixgzz335OSTTy70s7t06UJGRkahS79+/bb7e7Vp0wbIfY16Yfbff38++OCDfOs+/PDDvH235hiSJCk5PE/auvOkBQsW8O9//5sLLriArKwssrKyePvtt7n77rtp3bo1AJMmTWLatGl584svvpgffviBrKwspk6dWuBxN2zYwNq1a/nqq6+26mcnSZuyGJP0m2bPns0rr7xCTk4OFStWpGbNmkDuSdTy5ctJS0ujXr16VKpUiRkzZjBs2LAi+dyff/6ZP//5z6xevZrZs2dz5513cs455xS47YABA3j22Wd55plnWLNmDevXr+frr79m0qRJAEydOpUPP/yQNWvWULVqVTIyMvL9ljXRxIkTycnJKXTZ0jMvYoysWrWKVatWAbm/HV21alXeA26bNGlCt27duPXWW/npp59YvXo1N9xwA7Vr1857nseFF17IK6+8wvjx41m7di3jx49n4sSJeSeaW3MMSZJU/DxP2vrzpCZNmjB//nxmzpyZtxx44IH07duXKVOmAPDMM8/w+eef583//Oc/U79+fWbOnJl3jnPvvffy008/AbBo0SIGDBhA5cqVPQeStF0sxiT9pjVr1nDLLbfQqFEjatSowRVXXMFjjz3GbrvtRqdOnejXrx8dOnSgZs2aXHvttZx99tlF8rmHHHIIa9asoXHjxhx55JF069aNa665psBtDzroICZPnsyIESNo1KgRdevW5bTTTmPu3LkALFy4kD59+lCnTh3q1avHm2++ybPPPlskORPNnTuXatWqUa1aNQBOOOEEqlWrxs0335y3zejRo9l9993ZY4892HnnnZkxYwavvvpq3i2Shx56KI8//jh/+tOfyMzM5E9/+hNjxozhoIMO2upjSJKk4ud50tZLS0ujcePG+ZYqVaqQmZmZd+tovXr18s1r166dt1+VKlUAmDx5Mvvuuy/p6ensu+++/Pjjj0yZMmWzW1IlaWuEoriMV1LpEUKoB+R7cMXChQvL3Ft6hgwZwpQpU/jnP/9Z0lFSzqJFi6hfv37i6voxxkUlkUeSpKJQXs6RwPOk4uR5kJR6vGJMkiRJkiRJKcliTJIkSZIkSSnJWymlcqY83SagkuEtBJKk8shzJG0Nz4Ok1OMVY5IkSZIkSUpJFmOStlmfPn3o1atXSccoVJ8+fahUqRIZGRl8/PHHJR2nVJowYULeq9ivv/76ko4jSVK54XlS6ed5kKRNWYxJKpdOP/10cnJyaNOmDQArV66ke/futGjRggoVKvzmSdApp5xCCIEpU6YUOH/hhRcIIWx24vvFF1/QpUsXsrKyqFOnDueeey4rVqzYpuz33XcfhxxyCNWrV6dx48abzefMmUMIgfT0dDIyMvKW5cuX522z6fqMjAyqVq1KCCHvBLhr167k5OTQvn37bcomSZLKvsTzpG+++YZ27dqRlZVFjRo12G233Rg6dCgbNmzI2+eaa65hn332oUaNGjRs2JAePXowf/78fMc9//zzad26NRUrVtzucvC3jnH33XdzwAEHULNmTerXr0/Xrl357LPP8uYLFy7k7LPPZpdddiEjI4PmzZvzpz/9idWrV+dt43mQpE1ZjElKCSEEDj/8cB566CEOPvjgLW772GOP8euvvxY6X7x4MX/84x9p165dvvXZ2dl06tSJtm3bsmDBAr744gv++9//cvbZZ29T1p133plBgwZx3XXXbXG7Tz75hJycnLylZs2aebNN1+fk5DBgwAD23nvvvBNgSZKk/6lXrx6PPvooP/30E9nZ2UyePJmxY8dy//33520TQmDUqFEsXryYL774ghACJ554Yr7j7Lvvvtx9992cdNJJ253lt46xatUq7rnnHn788Ufmzp3LHnvswbHHHsvKlSuB3HOgVq1aMWXKFLKzs5kyZQovv/wyV1999XZnklS+WYxJKeahhx5i9913Z9MXb6xZs4Z69erx3HPPATB48GBatmxJZmYmTZo04eKLL95iUZR4ZdX/rmj6+uuv89a98sorHHLIIdSuXZsWLVpw3333FcO3K1zVqlW57LLLOProo6latWqh23333Xdcf/31jBgxotBtLrzwQi699FJ23333fOvffvttfv75Z4YOHUqVKlXYaaeduOGGG3j++ec3+43qlpx22mmceuqpNGrUaKv32ZKVK1cyatQoBgwYUCTHkySpvErV86TMzExatWpFWlpaXuYKFSowe/bsvG3+8pe/cMABB1C5cmVq1arFoEGD+OSTT1i6dGneNpdccgmdO3emRo0a253lt45x7bXX0r59e6pVq0a1atW4/vrr+fHHH/nPf/4DwK677sq1117LbrvtRoUKFdh9990599xzeeONN7Y7k6TyzWJMSjE9evTgxx9/5M0338xbN378eNLS0vJ+69eiRYu837JNmjSJiRMnMnTo0O3+zDfeeIMzzzyTW2+9lSVLljB+/HjuvPNOnnjiiUL36dq1K7Vq1Sp0KY6SJ8bIueeey/XXX0/Tpk0L3GbMmDEsXLiQSy65pMD9/7f8z4YNG4gxMnPmzCLPe9RRR5GVlcXhhx/O+PHjC93uySefZN26dfTu3bvIM0iSVJ6k+nnS/wqnXXfdlezsbAYOHFjotq+99hrNmjWjdu3a2/VZReW1114jPT2dli1bbnEbr5qXVBiLMSnFZGZm8oc//IGHH344b93DDz/MWWedRaVKlQDo3bs3TZs2JYRA69atGThwIK+99tp2f+b//d//0b9/fzp27EiFChXYe++96devHyNHjix0nwkTJrBs2bJCl+HDh293nsI88MADxBi54IILCpwvWLCAq6++mkcffZQKFTb/1+fhhx9OZmYm1157LStXrmTBggXcfPPNQO5tlkUlKyuLd955h2+//Zb58+fTv39/zjjjDF555ZVCv1fv3r3JyMgosgySJJVHqX6eNH36dHJycnj77bfp3bs39evXL3C7KVOmcNNNN/H3v/99uz6nqHz66af069ePe+65h/T09AK3GTp0KB9//HHeOZkkJbIYk1LQ+eefz7hx41i2bBlz5sxh6tSpnH/++XnzBx98kLZt21K3bl1q1qzJddddx8KFC7f787766ivuvffefL/JvO222/jhhx+K4usUif/+978MHTo034lwovPOO48rrriCFi1aFDivVasWkyZNYsaMGTRr1oyjjjqKM888E8gts4pKRkYGhx12GJUrV6ZatWr07t2bHj16MGbMmM22/de//sWHH37obZSSJG2lVD9PSktL4/DDD6dWrVoF/rJwwoQJnHbaaYwZM4bjjz++BBLm+te//kXHjh3585//nO9/n03dcMMNPPTQQ0ybNq3AFxpJEliMSSnp8MMPZ9ddd+WJJ57gkUceoV27dnmXn7/77rtcdNFF/PWvf+XHH39k+fLl3HLLLfluD0yUkZHBL7/8kvfn77//Pt+8QYMGXHPNNfl+k7lixYp8bxBK1KVLl83erLjp0q9fvx38KeQ3ffp0lixZwgEHHEBWVlZekXXqqafmnRS++uqr3HLLLXnzp556imeffZasrKy8Nx21adOGyZMns3DhQr7++msaNmxI9erVOfTQQ4s0b6IKFSoU+L/R8OHDOfLII2ndunWxfr4kSeWF50m51q5dm+8ZYwBPPPEEPXv25B//+AennHLKDn/G9nr99dfp1KkTd955JxdddNFm8xgjAwcO5Mknn2T69Om0atWqBFJKKisqlnQASSXjvPPOY8SIESxZsoRbbrklb/3y5ctJS0ujXr16VKpUiRkzZjBs2LAtHuvAAw9k1KhRdO7cmeXLl3PTTTflm1966aX07duXdu3acdRRRwHwn//8h59//pkjjzyywGNOnDhxB7/h5lavXk2MkQ0bNrB+/XpWrVpFhQoVqFy5Mn/4wx849thj823fpEkTHnzwQTp16gSw2QP0L7/8ctatW8d9991HlSpVAPjoo4/YY489qFKlCu+++y5//OMfGTJkSL43RoYQGDlyJH369Ckw57p161i3bh1r164Fct++BFClShVCCEyfPp2srCxatmzJ+vXrGTduHGPHjuXpp5/Od5yff/6Zf/zjH4waNWq7f2aSJKWiVDtPmjx5Munp6RxwwAGkpaUxffp07r333nznKsOGDeOGG25gwoQJtG/fvsDjrFmzJu88a8OGDaxatYoQQt550rRp0zj66KP59ttvad68+XYdY/z48Zx99tk8+uijnHbaaZvtv27dOs4++2xmzpzJ9OnTadiw4Y79cCSVf5s+LNrFxaXsL0A9IG66LFy4MCZatGhRrFy5cqxZs2b89ddf89avX78+XnrppbFu3bqxRo0asXPnzvGmm26KjRo1ytvm7LPPjj179sz782effRYPPfTQmJ6eHvfZZ5/4+OOPRyB+9dVXedtMnDgxHn744bF27dqxdu3a8ZBDDonjxo3bLFdRSMz3P82aNYuJP5ujjjqq0OMAcfLkydv0Of3794916tSJ1apVi3vttVccMWJEvvmcOXNixYoV45dfflnocW+88cbNcgLx22+/jTHGOGLEiLjrrrvG6tWr5/0sn3766c2Oc9ddd8UGDRrENWvWFPpZRx11VLzuuuvyrVu4cGFBn18vloJ/vl1cXFxcXLZ32dpzpBhT7zxp3LhxcZ999onp6emxRo0acc8994xDhw6Na9euzdsGiBUrVozp6en5lrfeeitvm6OOOmqzc4hmzZrlzUeNGhV333333zw32dIxmjdvHitUqLBZjjFjxsQYY5w2bVoEYpUqVTbbpqDP8jzIxcUlxFj4Zb+Syp4QQj0g34MuFi5cSL169UooUfL17duXsWPHUqlSJaZNm8b+++9f0pHyjBgxgpkzZ3L//feXaI6XX36Znj17smbNGq6++mpuvPHGvNmiRYsKethu/RjjoqSGlCSpCHmOlKskz5N69uxJt27d6N69e9I+syCeB0nalMWYVM540qcd5QmhJKk88hxJW8PzICn1+PB9SZIkSZIkpSSLMUmSJEmSJKUkizFJkiRJkiSlpIolHUBS8Vu8eHFJR1AZ4j8vkqRU4X/zlMh/JqTU48P3pXKmoAfLSkXAh85Kkso0z5G0AzwPksoxb6WUJEmSJElSSrIYkyRJkiRJUkqyGJMkSZIkSVJK8hljUjkTQqgA1C3pHEUsDXgH2GWTdbOAjkBJ/0vsFqDvJn9eDxwGzCmRNMVnSYxxQ0mHkCRpe5Wjc6R7gR6b/HkVcBDwU8nEyXMCMCph3UXA08mPUuQ8D5LKMYsxSaVeCOFc4JGE1SfFGF8qiTybCiE0AL4Bqm2y+rEY49klFEmSJJVTIYSWwBfkv/Pn7hjjFSUUKU8IIQAfAm03Wf0NsEeMcW3JpJKk3+atlJJKtRBCZWBwwup/ARNKIM5mYow/AsMSVvcKIexREnkkSVK5diP5/w73C3B7CWXJJ+ZecXFDwupdAX9ZKKlUsxiTVNqdBzRLWHdDLF2Xu94B5Gzy5wrAkJKJIkmSyqMQwt7kv4US4L4Y48KSyFOIicB7CesGhxCqlEQYSdoaFmOSSq0QQjXg+oTV/wQml0CcQsUYF5P7vI9NnR5C2Lck8kiSpHJpCBA2+XM2cFfJRClYIVeNNQHOL4E4krRVLMak/8fefYdJWZ1vHP8+NIFdem8CimJs2LHQYiOW2EtsscYgmmg0sVMELFFj1CjW2EuiJsZIYokFxS4qIhYQFcSCFGmr1OX5/bHL/mbP7MKWmTlT7s91zXXlfWZ25h7iPnvec94i2ezXQNegdmmWHS22zp+AJUHtshhBREREJL+Y2fbA4UH5Onf/PkaeDXgeeCmoXVK+4CkiknU0MSYiWcnMioCLgvLz7h4OtLKCuy+ibHIs0SFmtmOMPCIiIpJXxgTbi4DrI+TYoGqOGusCnBEhjojIBmliTESy1ZlAx6AWDrKyzQ3AwqAWDmRFREREaszM+gMHBuWr3T08Uj1ruPsk4NmgfKGZFcfIIyKyPpoYE5GsY2YtgQuC8n/d/fUYeWrK3ZdSdiH+RPub2W4x8oiIiEheGBtszyf5jtjZKFzQ7AD8JkYQEZH10cSYiGSjs4G2QW1kjCB1cDMQ3h0qHNCKiIiIbJCZDQL2CcpXuXtJVa/PJu7+FjAhKP/BzFrFyCMiUh1NjIlIVjGzNsB5Qflxd38nRp7acvcfgCuC8l5mNiTzaURERCRXmZmRvLj2LXBLhDh1FS5stgF+FyOIiEh1NDEmItnmPCBxJdGBUZGy1NVtwNdBbWz5AFdERESkJvYCBgW1y919eYwwdeHu7wH/CMq/M7PwzAARkWg0MSYiWcPMOlB2GmWiR9z9gxh56srdVwCXB+UBJJ8KISIiIpKkmqPF5gB3RohTX6MoW+hcpyXw+0hZRESSaGJMRLLJ+UDi3YrWAqPjRKm3vwKzg9o4HTUmIiIiNbA/sGtQG+PuK2OEqQ93/xB4OCifbWbh3cdFRKLQxJiIZAUz6wycGZQfcPdPYuSpL3dfBYwJyjuTfLt1ERERkQrVHC32OXBvhDipchllC57rNCf5DuQiIlFoYkxEssVFQLOE7TUkTyzlmvuAmUFtrJmp94qIiEh1DgW2D2qj3X11jDCp4O4zSJ7YG25mXWPkERFJpJ0zEYnOzHoAw4Ly3e7+WYw8qeLua0g+FbQfcFjm04iIiEi2K188uywofwI8FCFOqo2lbOFznabAxZGyiIhU0MSYiGSDS4AmCdurgHGRsqTa34CPgtplZtYwRhgRERHJakcBWwe10e5eGiNMKrn7F5RdgzXR6WbWM0YeEZF1NDEmIlGZ2SbAqUH5dnf/MkaeVCsfyI4KylsCv4gQR0RERLKUmTUi+WixD4BHI8RJl3FA4g0EGgOXRsoiIgJoYkxE4hsBNErYXgFcESlLuvwTeD+ojS4fAIuIiIgAHAdsHtRGuvvaql6ci9z9K+C2oHyymfWJkUdEBDQxJiIRmdnmwC+D8s3u/m2MPOlSPqAdEZT7kPzdRUREpACZWWOSjzB/B3giQpx0uxJYnrDdEBgZKYuIiCbGRCSq0VTuQz8Af4wTJe0mAG8FtZFm1qSqF4uIiEhBORnoHdRGuLvHCJNO7j4XuCkoH2dmW8TIIyKiiTERicLMtib5Ols3uvv8GHnSrXxgG66G9gROiRBHREREsoSZNSX5yPLXgacjxMmUq4GShO0GJN/JW0QkIzQxJiKxXAZYwvZS4NpIWTLlWeCVoHZp+YBYRERECtOvgO5B7dJ8PFpsHXdfAFwflI82s20jxBGRAqeJMRHJODPbHjgsKF/n7t/HyJMp5QPccEW4G/DrCHFEREQkMjNrDlwclCe6+wsx8mTYdcCSoBbelVNEJO00MSYiMYwJtheRvGqYl9x9IhAOdi82s6IIcURERCSu4UDnoBYuouUld18E/CkoH2JmO8XIIyKFSxNjIpJRZrYrcGBQvtrdwxXDfBYOeDsCZ8YIIiIiInGYWQvggqD8jLuHl13IZzcAC4NauIAqIpJWmhgTkUwLBzvzSb4zUV5z99eAp4Ly+WbWMkYeERERieI3QPugFt6oJ6+5+1LKLsSfaD8z2z1GHhEpTJoYE5GMMbNBwD5B+Up3L6nq9XkuPGqsHXB2jCAiIiKSWWbWGvhDUP63u78VIU5sNwPfBbWxMYKISGHSxJiIZISZGcmDnG+AWyPEic7d3wH+FZTPM7M2EeKIiIhIZv0OaB3UCuposXXc/QfgyqC8p5n9NEYeESk8mhgTkUzZCxgU1K5w9+UxwmSJUcF2K+C8GEFEREQkM8ysHWUTY4kec/f3Y+TJErcBXwe1seULqyIiaaWJMRFJu/JBzbig/CVwZ4Q4WcPdpwJ/D8pnm1l4vRERERHJH38AWiRsO8mLZQXF3VeQPFbcA9g3QhwRKTCaGBORTNgf6B/Uxrr7yhhhssxoYG3CdjFwfpwoIiIikk5m1omyi+4nesjdP4qRJ8vcBcwKajpqTETSThNjIpJW1Vxb7DPg3ghxso67fwI8EJTPMrPOMfKIiIhIWl0INE/YLgUui5Qlq7j7KpLvXr4z8PMIcUSkgGhiTETS7VBg+6B2mbuvjhEmS42hbGC8TjPgokhZREREJA3MrBtwRlC+190/jZEnS90PhP8eY8xM+60ikjZqMCKSNmbWkOSVv0+AhyLEyVru/hlwd1AeZmY9YuQRERGRtLgE2ChhezXJR9UXNHdfQ/IRdP2AwyPEEZECoYkxEUmno4Ctgtoody+t6sUFbiywKmG7CWUDaBEREclxZtYTOC0o3+nusyLEyXZ/A8Jrrl1WvuAqIpJymhgTkbQws0aUXVg+0VTgscynyX7u/iVwR1A+1cx6x8gjIiIiKTUCaJywvRK4PFKWrFa+gBrepfMnwC8ixBGRAqCJMRFJl+OBzYPaSHdfW9WLBYArgBUJ242AkZGyiIiISAqYWR/gpKB8i7t/HSFOrvgnMCWojS5feBURSSlNjIlIyplZY5IndCYD/44QJ2e4+zfA+KD8SzMLJxhFREQkd4wCEk8D/BG4KlKWnFC+kBqOJfsAv4wQR0TynCbGRCQdTgbCUwBHurvHCJNj/gj8kLDdgOTTCURERCQHmNmWwHFB+SZ3/y5GnhwzAXgrqI00syYxwohI/tLEmIiklJk1pew6GoleA56OECfnuPs84MagfIyZbR0jj4iIiNTLaMAStpcBV8eJklvKF1TDMWVP4NQIcUQkj2liTERS7VdA96A2QkeL1cq1wNKEbSP5RgYiIiKSxcysH3BkUL7e3RfGyJOj/ge8EtQuNbNmMcKISH7SxJiIpIyZNQcuCcoT3f2FGHlylbt/D/w5KB9uZtvHyCMiIiJ1MibYXgxcFyFHzqrmqLGuwK8jxBGRPKWJMRFJpeFAp6AWDmakZv4MLApq4QBbREREspCZ7QwcFJSvdffFEeLkNHefCDwflC8ys6IIcUQkD2liTERSwsxaABcE5WfcPTz8XWrA3ZcA1wTlA82sf4w8IiIiUivhYtZCkq8hKjUXLrR2BM6MEURE8o8mxkQkVX4LtA9qOlqsfv4CzA9qY2MEERERkZoxsz2AnwXlq9x9WYw8+cDdXwf+G5QvMLOWMfKISH7RxJiI1JuZtQZ+H5T/7e5vR4iTN9y9BLgqKO9jZoNi5BEREZEaCRex5gLjYwTJMyOD7bbA2TGCiEh+0cSYiKTC74DWQS0cvEjd3AJ8G9TGmplV9WIRERGJx8z2BH4alK909x9j5Mkn7v4O8K+gfJ6ZtYkQR0TyiCbGRKRezKwdZRNjiR519/dj5Mk37r4cuDwoDwL2ihBHREREqlG+aBUeLfYVcHuEOPlqJOAJ262A8yJlEZE8oYkxEamvPwAtErYdGB0nSt66E5gT1HTUmIiISHYZCuwe1Ma5+4oYYfKRu38APBKUzzazDjHyiEh+0MSYiNSZmXUCfhOUH3T3j2LkyVfuvpLku1vtCuwfIY6IiIgEqjla7Avg7ghx8t1oYG3CdjFwfpwoIpIPNDEmIvVxIdA8YbsUuCxSlnx3L/B5UNNRYyIiItnhIGCnoDbG3VfFCJPP3P0T4IGgfKaZdYmRR0RynybGRKROzKwbcEZQvtfdZ8bIk+/cfTXJk47bA4dGiCMiIiLlzKwByUeLzSB58kZSZwxlC7LrNAMuipRFRHKcJsZEpK4uATZK2F5N8qBQUutB4JOgdln5gFxERETiOALYJqiNdvc1McIUAnf/DLgrKP/azHrEyCMiuU07UyJSa2bWCzgtKN/p7rMyn6ZwuHspyTc22Bo4KvNpRERExMwaknxE94fA3yPEKTTjgMRTVZtQtnArIlIrmhgTkboYATRO2F4JXB4pS6F5FPggqF1mZo1ihBERESlwxwJbBLWR7r62qhdL6rj7l8DtQflUM9skRh4RyV2aGBORWjGzPsCJQfkWd/86Rp5CUz7QHhmUNweOixBHRESkYJlZY2BUUH4PeDxCnEJ1BbAiYbsRZQu4IiI1pokxEamtUUDDhO0fgasiZSlUTwDvBLVR5QN0ERERyYwTgU2D2kh39xhhCpG7fwuMD8q/NLO+MfKISG7SxJiI1JiZbUnykUl/cffvYuQpVOUD7nA1tDdwcoQ4IiIiBcfMNiL5b/GbwH8ixCl0fwR+SNhuQPKRfCIi1dLEmIjUxmjAEraXAdfEiVLwngZeD2ojzKxpjDAiIiIF5lRg46A2QkeLZZ67zwNuDMq/MLOtY+QRkdyjiTERqREz2w44Mihf7+4LI8QpeNUcNdYd+FWEOCIiIgXDzJoBlwblScBzEeJImWuBpQnbRvLdQkVEqqSJMRGpqXBwsRi4LkIO+X8vABOD2sVm1jxCFhERkUIxDOgS1C7V0WLxuPv3JI9LDzOzHWLkEZHcookxEdkgM9sZOCgoX+vuiyPEkXLVHDXWGRgeIY6IiEjeM7Ni4KKg/Jy7vxwjj1RyPbAoqI2JkENEcowmxkSkJsYG2wtIvpaDRODurwDPBOULzKxFjDwiIiJ57iygQ1ALF6kkAndfAlwdlA8ws11j5BGR3KGJMRFZLzMbAAwNyn9092Ux8kiVRgbb7YHfxAgiIiKSr8ysFXB+UP6Pu78RI49U6SZgflDTUWMisl6aGBORDQmPFpsLjI8RRKrm7m8BTwblP5hZ6whxRERE8tU5QJugFi5OSUTuXgJcFZT3MbNBMfKISG7QxJiIVMvM9gSGBOUr3P3HCHFk/cKBeWvgdxFyiIiI5B0zawucG5T/6e7vxsgj63UL8G1QG2dmFiOMiGQ/TYyJSJXKBw/h0WJfAXdEiCMb4O5TgMeC8u/MrF2EOCIiIvnm90DLhG0HRkXKIuvh7suBy4PyQGDvCHFEJAdoYkxEqvMzYPegNtbdV8QIIzUyirKB+jotgD9EyiIiIpIXzKwD8Nug/Dd3nxYjj9TIncCXQW2sjhoTkapoYkxEklRztNgXwN0R4kgNuftHwENB+Tdm1ilGHhERkTxxAVCUsL0WuCxSFqkBd19J8li2P7B/hDgikuU0MSYiVTkY2DGojXH31THCSK1cBpQmbDcHLoyURUREJKeZWVfgzKB8v7tPj5FHauVe4POgpqPGRCSJJsZEpBIza0Dyba1nAA9EiCO15O6fUjYQTHSGmXWLkUdERCTHXQQ0TdheQ/I4SbJQ+YLu6KC8PXBo5tOISDbTxJiIhI4Atglqo919TYwwUidjgcSj+zYCLomURUREJCeZ2cbA6UH5LncPj0KS7PUQ8ElQG2NmDWOEEZHspIkxEalQPkgIr5kxDfh7hDhSR+4+i7KLziY6zcx6RogjIiKSqy4FmiRsrwLGRcoideDupSTfPXQr4KgIcUQkS2liTEQSHQtsEdRGufvaGGGkXi4HViZsNwZGRMoiIiKSU8xsU+DkoHybu8+JkUfq5TFgalAbbWaNYoQRkeyjiTERAcDMGpN8HYb3gMczn0bqy92/Bm4NyieZWZ8YeURERHLMSCBx4mQFcGWkLFIP5Qu84VFjmwPHR4gjIllIE2Miss6JwCZBbYS7e4wwkhJXAT8mbDckeWAoIiIiCcxsC5InTW5y929j5JGUeAJ4J6iNNLMmVb1YRAqLJsZEBDPbiOTT7N4E/hshjqSIu88FbgrKx5nZljHyiIiI5IjRVN5P+gG4Ok4USYXyhd5wrNub5NNlRaQAaWJMRABOAzYOajpaLD9cA5QkbBvJp8yKiIgIYGbbAEcH5RvcfX6MPJJSTwOvB7VLzaxpjDAikj00MSZS4MysGXBJUH4ZeC5CHEkxd18A/DkoH2lm/WLkERERyXLh3bmXANfGCCKpVb7ge2lQ7g78KkIcEckimhgTkTOALkFNR4vll+uAxUFtTIQcIiIiWcvMdgQODcrXufuiGHkk9dz9BWBiUL7EzJpHiCMiWUITYyIFzMyKgQuD8v/c/eUYeSQ93H0xyavdB5nZzhHiiIiIZKtw0eh74PoIOSS9wmuNdQKGxwgiItlBE2Mihe0soENQCwcLkh9uBBYGtbExgoiIiGQbM9sN2D8oX+3uS2PkkfRx91eAZ4LyhWbWIkYeEYlPE2MiBcrMWgHnB+X/uPubMfJIern7MuCPQXmome0RI4+IiEiWCReL5pF8Z2fJHyOD7XbAb2MEEZH4NDEmUrjOAdoEtXCQIPnlZuC7oDYuRhAREZFsYWaDgb2C8pXu/kOMPJJ+7v4W8O+g/Hszax0hjohEpokxkQJkZm2Bc4PyP9393Rh5JDPc/UfgiqA8xMz2jJFHREQkNjMzkheJvgFujRBHMitcEG5N8vhYRAqAJsZECtPvgZYJ2w6MipRFMut24KugNrZ8x0BERKTQ7AMMCGqXu/uKGGEkc9z9feDRoHyOmbWPkUdE4tHEmEiBMbOOJF9D4W/uPi1GHsms8oF+uDK+O/CzCHFERESiqeZosdnAnRHiSByjKVsgXqcF8Ic4UUQkFk2MiRSeC4CihO21wGWRskgcdwOzgtoYHTUmIiIF5kBg56A21t1XxQgjmefuHwEPBeWzzKxTjDwiEocmxkQKiJl1BYYH5fvcfXqMPBJH+YA/nAzdCTgoQhwREZGMM7MGwJigPBO4L0IciesyoDRhuzlwYaQsIhKBJsZECstFQNOE7TUkDwqlMDwAzAhqY8t3FERERPLdYcB2Qe0yd18dIYtE5O6fAvcG5TPMrHuMPCKSedoBEikQZrYxcHpQ/qu7fxEjj8Tl7msou65Gom2AIzKfRkREJHPMrCHJR05/DDwcIY5kh7FA4qToRsDFkbKISIZpYkykcFwKNEnYXgVcHimLZIe/Ax8GtcvKdxhERETy1dHAlkFtlLuXVvViyX/uPovkmy6cZma9Mp9GRDJNE2MiBcDMNgVOCcq3ufucGHkkO7j7WmBUUN4CODZCHBERkbQzs0YkHzE9FfhH5tNIlrkcWJmw3RgYESmLiGSQJsZECsNIIPEooOXAlZGySHZ5HHgvqI0ys8YxwoiIiKTZCcBmQW1E+WKRFDB3/xq4JSifaGbhfy8ikmc0MSaS58xsC+D4oHyzu38bI49kl/IdgZFBeVPgxAhxRERE0sbMmpB8pPTbwJMR4kh2ugr4MWG7Icn/zYhIntHEmEj+G03l3/UfgKvjRJEs9R/gzaA2wsw2ihFGREQkTU4Bega1ke7uMcJI9nH374CbgvKxZhZek05E8ogmxkTymJltS9kFZhNd7+7zY+SR7FS+QxBeQ2Nj4NQIcURERFLOzJpSdiOiRK8Cz0SII9ntamBZwraRfF06EckjmhgTyW/hrciXAH+KEUSy3nPApKB2qZk1ixFGREQkxX4NdAtqI3S0mITcfSFwfVA+0sy2y3waEckETYyJ5Ckz2xE4JCj/yd0XRYgjWa58xyBcSe8CDIsQR0REJGXMrAi4KCi/4O4vxsgjOeE6YHFQCxecRSRPaGJMJH+NCba/B26IEURyg7u/TNmRY4kuMrPiGHlERERS5EygU1ALLyEgUsHdFwPXBuWDzGyXCHFEJM00MSaSh8xsN2D/oHy1uy+NkUdySrij0AE4K0YQERGR+jKzFsD5Qflpd38tRh7JKTcCC4NauPAsInlAE2Mi+WlssD2P5DvsiCRx9zcou0tlovPNrFWMPCIiIvV0NtAuqOloMdkgd18GXBWUh5rZgBh5RCR9NDEmkmfMbAiwV1C+0t1/yHwayVEjg+02wDkRcoiIiNSZmbUBfh+Un3D3yTHySE4aD8wNauECtIjkOE2MieQRMzOS/1h/DdwaIY7kKHd/F/hnUD7XzNrGyCMiIlJH5wLhEc/h4o9Itdz9R+CKoDzEzPaMkUdE0kMTYyL5ZR8gPLz7cndfESOM5LRRQOIt7FuSvOouIiKSlcysPclHOz/i7lMjxJHcdgfwVVAbV74gLSJ5QBNjInmi/I/zuKA8G/hrhDiS49x9GvD3oPxbM+sQI4+IiEgtnQ8k3lV5LTA6ThTJZeULzOEYezfgZxHiiEgaaGJMJH8cCOwc1Ma4+6oYYSQvjKZsR2KdIuCCOFFERERqxsw6k3xH5Qfd/eMYeSQv3A18EdTG6qgxkfygiTGRPGBmDUi+tthM4L4IcSRPuPt04P6gfKaZdY2RR0REpIYuApolbJcCYyJlkTxQvtAc/je0I3BwhDgikmKaGBPJD4cB/YLaaHdfEyOM5JUxQOJ/R00p2+EQERHJOmbWHRgWlO9295kx8kheeQCYEdTGlC9Qi0gO0y+xSI4zs4bAZUH5I+BvEeJInnH3z4G7gvLpZrZxjDwiIiIbcAnQJGF7NcnXhxKptfIF59FBeRvgiMynEZFU0sSYSO77BbBlUBvt7qUxwkheGgckXquuCXBppCwiIiJVMrPewGlB+Q53nx0jj+SlvwMfBrXLyheqRSRHaWJMJIeZWSOSV67eB/6R+TSSr9x9DnBbUD7ZzDaNkUdERKQaI4BGCdsrgMsjZZE85O5rgZFBeQvg2AhxRCRFNDEmktt+CfQJaiPL/2iLpNKVlO1grNOI5IGhiIhIFGa2OXBiUL7F3b+JkUfy2uPAe0FttJk1jhFGROpPE2MiOcrMmpA8MfE28GSEOJLn3P1b4OagfLyZbREjj4iISGAUlfdtfgSuipRF8pi7O8lj8E1InpgVkRyhiTGR3HUK0DOojSj/Yy2SDn8EfkjYbkDZjoiIiEg0ZrYVcExQvtHd58XIIwXhP8CbQW2EmW0UI4yI1I8mxkRykJk1Jfni568Cz0aIIwXC3ecDNwTlX5jZNjHyiIiIlLsMsITtZcC1kbJIAShfiB4RlDcm+eYPIpIDNDEmkpt+DXQLapfqaDHJgGuBJUHtshhBREREzGx74PCgfJ27L4yRRwrKc8DLQe0SM2sWI4yI1J0mxkRyjJkVARcH5RfcfWKEOFJg3H0RcF1QPtTMdoyRR0RECt6YYHsR8OcYQaSwVHPUWBfgjAhxRKQeNDEmknvOBDoGtfCPskg6XQ98H9TCHRMREZG0MrP+wIFB+Vp3D49sFkkLd3+ZsiPHEl1oZsUx8ohI3WhiTCSHmFlL4Pyg/JS7vxYjjxQmd18KXB2U9zez3WLkERGRghUuyiwAbowRRApauEDdATgrRhARqRtNjInklrOBdkEtvF20SCbcBIR3+xobI4iIiBQeMxsI7BuUr3L3khh5pHC5+xuU3aUy0flm1ipGHhGpPU2MieQIM2sDnBeU/+Xuk2PkkcLm7j8AVwblvcxsSObTiIhIITEzA8YF5W+BWyLEEYHkheo2wDkRcohIHWhiTCR3nAuEK0+jYgQRKXcr8E1QG1u+wyIiIpIuewGDgtoV7v5jjDAi7v4u8M+gfK6ZtY2RR0RqRxNjIjnAzNqTvOr0iLtPjRBHBAB3XwFcHpQHAPtEiCMiIgWgfPElPHV/DnBHhDgiiUYBnrDdEvh9pCwiUguaGBPJDecDiXe3WQuMjhNFpJK/ArODmo4aExGRdNkP2DWojXX3lTHCiKzj7tOAvwXl35pZeDd5EckymhgTyXJm1pnkO9s86O4fx8gjkqh8RyRcud8FODBCHBERyWPVHC32OXBP5tOIVOkyyhaw1ykCLoiURURqSBNjItnvIqBZwnYpZX90RbLFfcDMoDbGzPQ3RkREUukQYIegdpm7r46QRSSJu0+nbFyUaLiZdY2RR0RqRjstIlnMzHoAw4Ly3e7+WYw8IlUp3yEJJ2u3Aw7NfBoREclH5YstY4LydODBCHFE1mcMsCZhuyllC90ikqU0MSaS3S4BmiRsryb59uQi2eBhIDy9d4yZNYwRRkRE8s5RwNZBbbS7l8YII1Idd/8CuCson25mG8fIIyIbpokxkSxlZr2BU4Py7e4eXuhcJLryHZNRQXlL4OgIcUREJI+YWSOSbzo0DXgk82lEamQcsCphuwlwaaQsIrIBmhgTyV4jgUYJ2yuAKyJlEamJfwBTg9ro8h0aERGRujoO6BvURrr72qpeLBKbu88BbgvKp5jZpjHyiMj6aWJMJAuZ2ebAL4PyLe7+TYw8IjVRvoMyMihvBpwQIY6IiOQBM2tM8t+Wd4F/ZT6NSK1cSdnC9joNSf5vWUSygCbGRLLTKCr/fv4IXBUpi0ht/BuYHNRGmlmTql4sIiKyAScBmwS1Ee7uEbKI1Ji7fwvcFJSPN7MtYuQRkeppYkwky5jZ1sAxQflGd58XI49IbZTvqIwIyr2AUzKfRkREcpmZbUTy35Q3gKcixBGpi6uBHxK2G5B8vTwRiUwTYyLZZzRgCdtLgWviRBGpk2eAV4PapWbWNEYYERHJWb8CegS1S3W0mOQKd58PXB+UjzazbSPEEZFqaGJMJIuY2fbA4UH5z+7+fYw8InVRzVFj3YBfR4gjIiI5yMyaA5cE5ZeAFyLEEamPPwFLgtplMYKISNU0MSaSXcYE24uAP8cIIlIf7v4i8GJQvqh8R0dERGRDzgA6BzVdW0xyjrsvAq4LyoeY2Y4x8ohIMk2MiWQJM+sPHBiUr3H3cIVJJFeER411As6MEURERHKHmRUDFwblZ919Uow8IilwPRCeARIuiItIJJoYE8keY4Pt+cBfYgQRSQV3fxV4OihfYGYtYuQREZGc8VugfVALF1tEcoa7L6XsQvyJ9jez3WLkEZHKNDEmkgXMbBCwT1C+yt1LYuQRSaFwR6YdcHaMICIikv3MrDXwh6D8pLu/FSGOSCrdBIR3mQ8XxkUkAk2MiURmZkbyH8VvgVsixBFJKXefDDwRlH9vZm1i5BERkaz3O6B1UBsZIYdISrn7D8CVQXkvMxuS+TQikkgTYyLx7QUMCmpXuPvyGGFE0iDcoWkFnBsjiIiIZC8za0fZxFiif7j7lAhxRNLhVuCboDa2fKFcRCLRxJhIRNUcLTYHuCNCHJG0cPepwCNB+RwzC68fIyIihe33QOJ1KB0YFSmLSMq5+wpgXFAeQPIlVUQkgzQxJhLX/sCuQW2su6+MEUYkjUYDaxO2i4Hz40QREZFsY2adKLvofqKH3f3DGHlE0uivwOygNk5HjYnEo4kxkUjK//iFt2n+HLgn82lE0svdPwYeDMpnmVnnGHlERCTrXAA0T9guBS6LlEUkbdx9Fcn7ADsDB0aIIyJoYkwkpkOAHYLaZe6+OkIWkUwYQ9mOzjrNgAsjZRERkSxhZt2AM4Lyfe4+I0YekQy4D5gZ1MaYmfbPRSLQL55IBOV/9MKVoukkH1EjkjfcfSbJR0SeYWbdI8QREZHscTHQNGF7DcnXYBXJG+6+huQjIrcDDst8GhHRxJhIHEcBWwe1Ue5eWtWLRfLIWCDxqMgmwCWRsoiISGRm1hP4VVC+092/iJFHJIMeBj4OapeZWcMYYUQKmSbGRDLMzBqRvEL0AfBohDgiGeXus0m+6+ppZtY7Rh4REYluBNA4YXslcHmkLCIZU74gHt51dUvgFxHiiBQ0TYyJZN5xwOZBbZS7r63qxSJ56ArKdnzWaUTZjpGIiBQQM+sDnBSUb3P3ryLEEYnhH8DUoDaqfCFdRDJEE2MiGWRmjUleGXoX+Ffm04jE4e5fA+OD8i/NLJwwFhGR/DYSSDxtbDlwZaQsIhlXvjAeLg5uBpwQIY5IwdLEmEhmnQyEp4yNcHePEUYkoquAHxO2G5I8aSwiInnKzH4CHB+Ub3L3uTHyiET0JPB2UBtlZk1ihBEpRJoYE8kQM2tK8orQ68BTEeKIROXu84Abg/IxZrZVjDwiIpJxowFL2C4Bro4TRSSe8gXycB+hJ3BKhDgiBUkTYyKZ8yuge1DT0WJSyK4FliVsG8k3phARkTxjZv0ou0N3ouvdfUGMPCJZ4Fng1aB2afnCuoikmSbGRDLAzJoDFwfll4AXIsQRyQruvhD4c1A+3My2ixBHREQyJ1wEWQJcFyOISDao5qixbsCvI8QRKTiaGBPJjDOAzkFNR4uJlE2MLQpqY2IEERGR9DOznYCDg/K17h7+LRApKO7+IsmL5heZWVGMPCKFRBNjImlmZi2AC4Pys+4+KUYekWzi7ospO6Uy0c/NrH+EOCIikn5jg+2FwA0xgohkofCosU7AmTGCiBQSTYyJpN9vgPZBLfyjJ1LIbgTC68roqDERkTxjZnsAPwvKf3T3ZVW9XqTQuPtrJN+Y63wzaxkjj0ih0MSYSBqZWWvgD0H5SXd/K0Ickazk7iXAVUF5XzMbGCOPiIikTXi02HfAzTGCiGSxkcF2O+DsGEFECoUmxkTS63dA66AW/rETEbgFmBvUxpqZxQgjIiKpZWY/BX4alK909x9j5BHJVu4+GXgiKJ9nZm1i5BEpBJoYE0kTM2tH2cRYosfcfUqEOCJZrXzH6PKgPBjYM0IcERFJofJFjvBosa+B2yLEEckF4UJ6K+DcGEFECoEmxkTS5w9Ai4RtB0bHiSKSE+4A5gS1cTpqTEQk5w0F9ghq49x9RYwwItnO3acCjwTlc8wsvG6xiKSAJsZE0sDMOlF20f1ED7n7hzHyiOQCd19J8hEFuwL7RYgjIiIpUM3RYrOAuzKfRiSnjAbWJmwXA+fHiSKS3zQxJpIeFwDNE7ZLgcsiZRHJJfcAnwc1XWtMRCR3/RzYKaiNcfdVMcKI5Ap3/xh4MCifZWadY+QRyWeaGBNJMTPrBgwPyve5+6cx8ojkEndfDYwJyjsAh2Q+jYiI1IeZNSD5aLFPgfsjxBHJRWMoW2BfpxlwUaQsInlLE2MiqXcxsFHCdlU7+iJSvQeB6UFtTPkOloiI5I7DgW2D2mh3XxMjjEiucfeZwN1BeZiZ9YiRRyRfaSdDJIXMrCfwq6D8V3efFSGOSE4q32EaHZS3Bo7KfBoREakLM2tI8mUkPgL+HiGOSC4bR9lC+zpNgEsiZRHJS5oYE0mtEUDjhO2VwOWRsojkskeAaUFttJk1ihFGRERq7RjgJ0FtlLuXVvViEamau8+m7M7diU41s94x8ojkI02MiaSImfUBTgrKt7r7VxHiiOQ0d18LjAzKfYFjI8QREZFaMLPGwKigPAX4Z+bTiOSFy4EVCduNKFuQF5EU0MSYSOqMAhombC8HroqURSQf/At4N6iNKt/hEhGR7PVLoE9QG1m+6CEiteTu3wC3BOUTzWzzGHlE8o0mxkRSwMy2BI4Lyn9x97kx8ojkA3d3kldDNyH5yEwREckSZrYRyUf8vgVMiBBHJJ9cBfyYsN2A5CMzRaQONDEmkhqjAUvYLgGuiRNFJK88BbwR1EaU73iJiEj2ORXYOKiNKF/sEJE6cvd5wI1B+Rgz2zpGHpF8ookxkXoys37AkUH5endfECOPSD6p5qixHiTf/VVERCIzs2Yk3y3vFeB/EeKI5KNrgWUJ20bynbxFpJY0MSZSf+GtyBcDf4qQQyRfPQ+8FNQuMbPmMcKIiEi1fg10DWqX6mgxkdRw94XAdUH5cDPbPkYekXyhiTGRejCznYGDg/Kf3H1xhDgieamao8Y6A2dEiCMiIlUwsyLgoqD8vLuHCxsiUj9/BhYFtTExgojkC02MidRP+EdoIXBDjCAi+czdJwHPBuULzaw4Rh4REUlyFtAxqIWLGiJST+6+hORrGR9oZv1j5BHJB5oYE6kjM9sD+FlQ/qO7L6vq9SJSb+EOVnvgNzGCiIjI/zOzlsD5Qfm/7v56jDwiBeAvwPygpqPGROpIE2MidTc22P4OuDlGEJFC4O5vAROC8h/MrFWMPCIiUuEcoG1QGxkhh0hBcPcS4I9BeV8zGxgjj0iu08SYSB2Y2Z7AT4PyFe7+Y4w8IgUk3NFqA/wuRhAREQEzawucF5Qfd/d3YuQRKSC3AN8GtXFmZjHCiOQyTYyJ1FL5H5vwaLGvgNsjxBEpKO7+HvCPoHyumbWLkUdERDgPaJmw7cCoSFlECkb5gvwVQXkQsFeEOCI5TRNjIrU3FNg9qF3u7itihBEpQKMo2/FapwXw+0hZREQKlpl1AM4Oyo+4+wcx8ogUoDuAOUFtrI4aE6kdTYyJ1EI1R4vNAu7KfBqRwuTuHwIPB+Xfmll4NzQREUmv84GihO21wOg4UUQKj7uvJHnfZFdgvwhxRHKWJsZEaucgYKegNsbdV8UII1LALqNsB2yd5sCFkbKIiBQcM+sCnBWUH3D3T2LkESlg9wCfBzUdNSZSC5oYE6khM2tA8m2QPwXujxBHpKC5+wzg3qB8hpl1i5FHRKQAXQQ0TdheQ/I4SUTSzN1XU7ZgmGgH4JDMpxHJTZoYE6m5I4Btg9pod18TI4yIMJayHbF1mgIXR8oiIlIwzGxj4NdB+W53/yxGHhHhQWB6UBtTvrAvIhugXxSRGjCzhiRfM+Mj4O+ZTyMiAO7+BfDXoPwrM+sZI4+ISAG5BGiSsL0KGBcpi0jBc/dSkvdVtgaOynwakdyjiTGRmjkG+ElQG1n+R0hE4hkHrEzYbgxcGimLiEjeM7NNgFOC8u3u/mWMPCJS4RFgWlAbbWaNYoQRySWaGBPZADNrTPIKzBTg8YyHEZFK3P0r4LagfLKZ9YmRR0SkAIwEEne0VwBXRMoiIuXcfS1lv5+J+gLHRYgjklM0MSayYb8ENg1qI8r/+IhIfFcCyxO2G5I8MBQRkXoys77ACUH5Znf/NkYeEUnyL+DdoDaqfKFfRKqhiTGRKphZUzMrNrONSN7BfhP4T4RYIlIFd58L3BSUjzezn5hZMzMripFLRCQfmFkjM2tVfhHv0VTef/gB+GOUYCKSxN0dGBGUe1N2NH2T8t9lixBNJKtpYkwkYGZDgK+AZcBTwMbBS0aW/9ERkexxNVCSsG3AXcD3wBIzOydGKBGRXGZm3YHJwGLKFgaPDl5yo7vPz3QuEVmvp4A3gtplwKeU/S4/XH5jMREpZ9q/F6nMzF4CBlXz9CRgsCbGRLKPmY2l+gvvLwc6uPsPGYwkIpLTzOwyqj81fSnQ292/z2AkEakBM9sLeG49L/mpu0/MUByRrKcjxkSSbbae574GOmcqiIjUTPm1M1aXP6rSDOiauUQiInlhfWOimcAmmQoiIrXSBvhuPc+v73dbpOBoYkwk2fp+L34BPJipICJSYxdTdprA+i4uq795IiK1s76+uQPwtJm1y1QYEdmw8svCPAp0Ws/LNCYSSaBfCJFkGzrnfvuMpBCR2qjJ76WupyEiUjsb6pvtgO6ZCCIiNbZdDV6jMZFIAk2MiSTb0B8KHTEmkn1q8nupQaCISO1sqG++B3ySiSAiUmNPUnYTsfXRmEgkgSbGRJI1X89zfwLOzVQQEakZd38UOBFY38X1NQgUEamdjut57n/Afu6+MlNhRGTD3P0zYC/g8/W8rDhDcURygibGRJJVdY2iBcD+7v57d1+V6UAismHufh9l17yZUs1LWmUujYhIXqjqpiVrgAuAn7n7+i7uLSKRuPvblF1m4m/VvEQX3xdJoIkxkWQ/BttvAv3c/akYYUSk5tx9BrArcHMVT3+R4TgiIrkunPhaCAx096vdfW2MQCJSM+6+FDgWOBUoDZ6emflEItlLE2MiyX5F2eTYGuAhYA93/yZuJBGpKXdf6e5nAWcByyn7XR7v7l/GTSYiknOOB+YCa4H3gT7u/kbcSCJSU17mLmA3YB5lv8tvA1dFDSaSZczdY2cQERERERERERHJOB0xJiIiIiIiIiIiBUkTYyIiIiIiIiIiUpA0MSYiIiIiIiIiIgVJE2MiIiIiIiIiIlKQNDEmIiIiIiIiIiIFSRNjIiIiIiIiIiJSkBrFDiCVmVkDoF3sHJJ3Frr72tghJH+pdxUk9RWJSn1HqqHeJFGpNxUk9Z0cp4mx7NMOmBc7hOSdjsD82CEkr6l3FR71FYlNfUeqot4ksak3FR71nRynUylFRERERERERKQgaWJMREREREREREQKkibGRERERERERESkIOkaYzngo48+on379rFjSI5YsGABW265ZewYIupdeUR9RXKF+k5hUW+SXKHelD/Ud/KTJsZyQPv27enQoUPsGCIitaLeJSKZpr4jItlIvUkku+lUShERERERERERKUiaGBMRERERERERkYKkiTERERERERERESlImhiTWhsyZAhNmjShuLiYhQsX1vjnjjnmGIqKijAzZs6cmcaEIlKI6tqbdt99d5o1a4aZsWbNmjQmFJFcV9c+0717d5o2bUr37t3TmE5ECoV6kUhqaWJMKqxZs4bddtuNk046qVJ94sSJNG/enHfffbeidv7551NSUkK7du0A+O9//8vee+9Nhw4daN26NbvssgtPPvlkpfd5+OGH+fDDD9P+PWrK3Rk1ahRdu3alqKiIQYMGMW3atPX+zKJFizjuuONo1aoVrVu35rjjjmPx4sUVz69du5ZrrrmGPn36UFxczDbbbMOECRPS/E1E8lt9etPXX3/NwQcfTM+ePTEz7rzzzqT3f+2113jqqafS+h1qY+XKlZx55pm0b9+eFi1acOCBBzJnzpz1/kyvXr1o2rQpxcXFFQ/1HpGaq0+fSfTEE09gZhx//PGV6l999RW33nprWrLXxYbGM1VZuXIlF198MT179qSoqIiePXty3333VXrPX//613Tr1o3i4mL22WcfPvnkk4rnZ8yYwVFHHUX37t1p0aIFm2++Oddccw3unq6vKZJz1Is23IvWeeedd2jcuDEDBgyoVB82bBg9e/akZcuWdOzYkcMPP5xZs2ZVes2f//xnNttsM1q0aEGvXr0YO3aselGB08SYVGjUqBEPPfQQjz/+OA8//DAACxcu5Pjjj2fcuHHssMMO1f7sokWLOOOMM5gxYwYLFy7kvPPO48gjj2Ty5MkpzVhSUsLSpUtT8l7XXnstd911F8888wwLFixgjz32YOjQoZSUlFT7M8cffzzfffcdn332GTNnzuS7777jxBNPrHj+hhtu4KabbuKJJ55gyZIlXHLJJRx22GGV/oiJSO3Upzc1aNCAfffdl4ceeiitq6Pff/89K1euTMl7nXvuuUyaNIl33nmHr7/+mrZt23LQQQexdu3a9f7cTTfdRElJScXjwAMPTEkekUJQnz6zzoIFCzjnnHPYY4890pLxm2++Sdl7bWg8U5UjjzySt99+m+eff56SkhLefvtt+vfvX/H8SSedxOzZs3n//fdZsGABW221Ffvssw8//PADUDZWHDhwIG+88QZLly7l73//O9dffz033HBDyr6XSK5TL9pwLwJYsWIFJ510EoMHD0567je/+Q3Tpk1j6dKlfPHFF/Ts2ZPDDz+84vknn3ySiy66iDvvvJNly5YxYcIE/vKXv3DHHXek7HtJDnJ3PbLoAXQAPPExb948z6QHHnjAW7Zs6Z999pn//Oc/96FDh/ratWsrnh88eLBfcsklG3yffv36+XXXXVep9sUXXzjgn376aY3z/Pjjj/7oo4/6EUcc4UVFRf7666/X/MusR69evfz666+v2F69erW3b9/e77vvvipfP2vWLAd8ypQpFbUpU6Y44LNnz3Z391122cWvvPLKSj+3xx57+GmnnZaSzDUxb948D/8bAjp4Fvz3rUf+PjLRu+rbm3r27Ol33HFHlc+9+OKLDvjq1atrnGfx4sV+zz33+H777efNmzf3r776quZfphrLly/3Zs2a+b/+9a+K2vz5871Ro0b+8ssvV/tz6/tuqaC+okc2PtLRd+rTZw477DD/85//7CeeeKIfd9xxSc/ffffd3q1bt1rlmTt3rt98880+aNAgLyoqqt2XqUZNxjOh5557zps2berfffddlc+XlJR4gwYNKo3Rli9f7g0bNvQHHnig2ixnn322H3TQQXX8JupNemTnIxW9Sb2o6l60zrnnnutnn322jxo1yvfYY49qX1dSUuLnnXdepczXXXedb7fddpVed/jhh/uwYcNqlFt9Jz8fOmJMkhx33HEcfPDB7Lrrrrz55pvce++9mFmt3uPLL79k+vTpbL/99nXKsHLlSv71r39x7LHH0qlTJ2644QYGDhzIjBkz2HXXXSte17p16/U+HnrooSrff8mSJcyaNYtddtmlotaoUSO233573nvvvSp/ZsqUKWy00Ub069evotavXz+aNGnClClTgP+faE60du1aHTEmkgKp6E31VVJSwkMPPcTBBx9Mt27deOihhzj88MOZM2cO3bp1A8r634Z60yuvvFLl+0+fPp3ly5dX6k3t27end+/e1famdS6++GLatm3L1ltvzdVXX83q1atT98VFCkRd+8wDDzzAvHnz+O1vf1vvDAsXLuSOO+5g7733pk+fPjz33HMMGzaMuXPnVrzmlVde2WCf+fLLL6t8/5qMZ0L/+9//6N27N3/84x/p0qULPXr04OSTT2bBggUVrwnHQOu2qxsDrVmzhhdffLHOY0WRfKZeNKXaXC+//DITJkzgiiuuqPY1t9xyC61ataK4uJgbbriBcePGVTx3zDHHsHr1ap5//nnWrl3LlClTeOWVVzjkkENq/o8jeadR7ACSnfbee2/uv/9+TjvtNDp16lSrn12yZAmHHnoohx9+OEOGDKnVzy5dupTf/OY3/Pvf/2arrbbiqKOO4tprr6Vr165Vvr6m56BX9TlQNrGWqE2bNtWeqrl06VJatWqVVG/dunXFzxxyyCGMHz+e/fffny233JJHHnmEN998k0022aROOUWksvr0pvqYM2cOv/vd73j22WfZbbfdOPLII7n77rtp27Zt0ms33njjjPYmgHvvvZcddtiBZs2a8cYbb3D88cezcOFC/vjHP9Yph0ghq22f+frrr7nggguYOHEiDRrUfc156tSpXHDBBbz66qvsvffenHrqqfzrX/+iuLg46bUDBgyoV5/Z0HgmtGDBAj7++GP23HNPZs6cSUlJCccffzwnnHACTz31FEVFRey9996MHDmSBx54gOLiYi688ELcvcr3dHeGDRvG6tWrOe+88+r0PUTynXpRspKSEk455RTuuusumjdvXu17n3HGGZxxxhl888033HXXXZUm3zp06MAxxxzDgQceyOrVq1m7di0XXXQRQ4cOrdP3kPygI8YkyezZs/ntb3/LhRdeyP3338/EiRNr/LPz589nzz33pG/fvtxzzz21/uzVq1fzwQcf0KBBA7bbbju23XZbOnfuXOv32ZCWLVsCyRNrixYtqniuqp9ZsmRJUn3x4sUVP3P++edz6qmncsQRR9CpUyeeeOIJjjnmGNq3b5/aLyBSgOrTm+rrhx9+4IMPPqBly5b069ePfv36VTkpVl916U0AgwcPpkWLFjRq1IgBAwYwevRo7r///pTnE8l3dekzp556Kueddx6bbbZZvT570aJFfPjhh3Tu3Jl+/fqx7bbbVrkjWl81Gc9U9TNmxtVXX01RURGdOnVizJgxPPPMM/z4449A2ZEqXbt2Zccdd6RPnz60adOGLbbYImkMVFpayimnnMKbb77JCy+8QIsWLVL+HUVynXpR1b3o97//Pfvvvz+DBg2q0Wd07dqV008/nQMOOIDvvvsOgHHjxnHHHXfwxhtvsGrVKj799FP+97//ceGFF9b9y0jO08SYVFJaWsqxxx7LoYceypVXXsno0aM54YQTWLRo0QZ/ds6cOQwcOJAdd9yRBx54gEaNan9AYrt27Xj33Xd544036NKlC7/97W/p0qULZ5xxBs8//zylpaWVXp94B7aqHg8++GCVn9OqVSt69erF22+/XVFbs2YNU6ZMqfaQ/u22246VK1cyderUitrUqVNZtWoV2223HVB2Oubo0aP59NNP+f7773nkkUf46KOP2GuvvWr9byEi/68+vSkVtthiC6ZPn86ECRNo1KgRxxxzDL169eK8887jjTfeqHT60JdffrnB3jRp0qQqP6dv3740a9asUm9asGABs2bNqtXpRg0aNEg6rVtE1q+ufeaZZ57h8ssvp3379rRv356//e1vPPbYY7Rv375WN+UYPHgws2fP5u677+b7779n3333Zcstt2TkyJGVxh4AkyZN2mCfqe70pZqMZ0LVXfDbzCp6TceOHbn33nv56quv+PbbbznrrLP44osvKo2BVq5cyRFHHMGHH37ISy+9lJbFT5Fcp15UfS96+umnue+++yq+49VXX82bb75J+/btmTlzZpU/s3r1apYvX15xh+/Jkydz8MEH069fPxo0aMCmm27K8ccfzxNPPFHjfyPJQ7EvcqZH5QeRL74/YsQI32yzzXzZsmXu7l5aWup77rmnH3744RWvqepij5988on36NHDf/e73633/ety8f2PP/7YR48e7VtuuaW3b9/e33///Vp8o+pdffXV3qNHD//ggw/8xx9/9Isvvti7du1a8d2rsv/++/s+++zj8+fP9/nz5/s+++zjP//5zyuenzt3rn/66ae+du1aX7BggZ977rneo0cPX7BgQUoy14QuCKlHjEe6e1dde5N72QWgly9f7htvvLHfcsstvnz5cl+1alWl19Tl4vuTJ0/2888/33v16uXdu3ev9qLUtTV8+HDv16+fz54925cuXeq//OUvvV+/fl5aWlrl62fMmOEvv/yyL1++3EtLS/3111/33r17b7Af14b6ih7Z+Eh136lrn5kzZ06lx5FHHumHHnqoz5kzp9LranvB69LSUn/ppZf8zDPP9E6dOvlmm21W5+8W2tB4JlRSUuLdu3f3s88+25cvX+4LFizwfffd1w888MCK13zyyScVffDTTz/1vffe2/fff/+K55ctW+Z77rmnDxo0yJcuXZqS76HepEc2Purbm9SLqu9F3377baXv+Lvf/c533nlnnzNnjq9evdrnz5/vd999ty9cuNDd3b/88ks/6KCDvEePHr58+XJ3d//jH//ovXr18mnTprm7++zZs32XXXap8kYFVVHfyc9H9AB6BP+HRJwYe+mll7xp06b+9ttvV6p/9dVX3q5du4o7nlXViE866SQHvKioqNLj17/+daXX1WViLNG0adP822+/rdPPhtauXesjRozwTp06ebNmzXzgwIE+derUiudnz57tRUVFle4Et3DhQj/mmGO8ZcuW3rJlSz/22GN90aJFFc+/++673rdvXy8qKvI2bdr4L37xC//yyy9Tkrem1Kz1iPFIZ++qT2/ysnBJjxNPPLHSa+oyMZbozTffXO+kem2sWLHChw8f7m3btvWioiLff//9K/WRl19+2YuKiiru2PTmm2/6tttu68XFxd6iRQvfYost/PLLL0+a/KsP9RU9svGRyr5T3z6TKJV3gluntLTUX3jhhTr9bFU2NJ554IEHku489/HHH/vee+/tRUVF3qVLFz/11FMrdj7d3f/61796t27dvFmzZt69e3f/wx/+ULEj6u5+zz33OOBNmzatNFbccsst6/w91Jv0yMZHfXqTetGGe1Gi8K6UCxYs8L322svbtm3rzZs3927duvkxxxzjM2bMqHjNmjVr/NJLL/XevXtX9LNTTjnFv//++xplVt/Jz4e561SLbGJmHYB5ibV58+bRoUOHSImS7bvvvrz22ms0atSIzz//vMbX2TnuuOOYMGECK1eu5KOPPtIF6dNk/vz5dOzYMSx3dPf5MfJIYciG3lXX3jRw4EDef/99Vq1axQ8//EDDhg3TnDT3qK9INorRd+raZ3r27Mn3339Pp06dqj3dR2pPvUmyUSZ6k3pRPOo7+UkTY1kmG3YuJbepWUsM6l35TX1FspH6jqg3STZSb8pv6jv5SRffFxERERERERGRgqSJMRERERERERERKUiaGJM6W3d73tLS0hr/THFxMRMnTkxfKBEpOOpFIhKb+pCIZAP1IpG60cSY1NnAgQMpKSmp1YWqS0pKGDJkSNoy3XzzzfTq1YvmzZuzww478PLLL6/39TfeeCP9+/enefPmdO/ePen5WbNmYWYUFRVRXFxc8ViyZEnFaxLrxcXFNG3aFDPjvffeS/n3E5Fk+dCL1lmzZg0777wzZlbporj33Xcfe+yxB23btqVdu3YMGTKEV199tdLPDhs2jJ49e9KyZUs6duzI4YcfzqxZs1L5tUSkGvnQhzbUQ2oyJlqnul4mIumVD71oner6SGlpKZdccgk9e/akRYsW9O3bl9tuu63Sz5522mlstdVWNGrUiOOPPz6l30fykybGJG88+uijXHzxxdx7770sXryYU089lf333585c+ZU+zNdu3bl/PPP55JLLlnve7///vuUlJRUPFq1alXxXGK9pKSE4cOHs/XWW7P99tun7LuJSO6oSy9a54orrqjyzlLLli1j5MiRzJ49m7lz53LIIYfws5/9jK+++qriNb/5zW+YNm0aS5cu5YsvvqBnz54cfvjhKf1uIpIb6tKHatpD1jcmWqe6XiYihSUdY6Lx48dz++23M2HCBJYtW8btt9/OOeecw7PPPlvxmm233ZbrrruOgw46KKXfR/KXJsakWt999x2HHHIIrVu3ZpNNNuHBBx/EzCoOtZ04cSJmxpo1awAYPXo0AwYM4LLLLqNLly60bduWX//61xXPA5gZzz33XFryjh8/nlNOOYXBgwfTpEkTzjzzTDbbbDPuueeean/miCOO4PDDD6dbt24pybB8+XLuuecehg8fnpL3E5HC6EUA7777Lvfddx/XXHNN0nNnnnkmQ4cOpUWLFjRu3JhzzjmHhg0b8vbbb1e8ZquttqJFixYV2w0aNGD69Okp+14ihawQ+lCqesj6epmI1E8h9CJYfx+ZOXMmAwYMYJtttgFg8ODBbLXVVpXO1vntb3/L0KFDadmyZUq/j+QvTYxJtY499lhKS0v54osveOedd3jkkUc2+DNvvvkmRUVFzJ49mzfeeINHH32U+++/v8afue2229K6detqH1dddVW1PztlyhR22WWXSrWdd945Jac0Dh48mPbt27P77rvz+OOPV/u6hx9+mDVr1nDCCSfU+zNFpEwh9KKVK1dy4oknMn78+BoN4t58801KSkro169fpfott9xCq1atKC4u5oYbbmDcuHEbfC8R2bBC6ENQsx6yvjFRbXuZiNROIfSiDfWR008/nRkzZvDee++xdu1ann/+eT777DP222+/Gn8nkVCj2AEkO3311Ve88MILfPjhh7Rp0waAyy+/nH//+9/r/bkePXrw+9//HoDNN9+cvfbai7feeouTTz65Rp87derUOmdeunQprVu3rlRr06YNn3/+eZ3fs3379rz22mvsuOOOlJaW8thjj/GLX/yCxx9/nP333z/p9bfccgsnnHACxcXFdf5MEfl/hdKLRowYQf/+/dl33303eF2wOXPmcPTRR3PhhReyySabVHrujDPO4IwzzuCbb77hrrvuSpo4E5HaK5Q+BOvvITUZE9Wml4lI7RRKL9pQH+nduzf77rsvO+20E2ZGgwYNuP7669l2223rnFNEE2NSpa+//hqAnj17VtR69eq1wZ/r2rVrpe2ioiKWLVuW0mzVadmyJYsXL65UW7RoUb1WLIuLi9ltt90qtk844QSef/55HnjggaSJsbfeeovJkydv8NBgEam5QuhFr732Go888kiNBp4zZ85kn3324aijjlrv0WBdu3bl9NNPp1evXnzxxRd06tSpVt9BRP5fIfShUFU9ZENjotr0MhGpvULoRTXpI2eeeSZTp05l+vTpbLrppnzwwQcccsghNGjQgGHDhqUyvhQQnUopVVp3za3Zs2dX1BL/d7pstdVWSXd5THxcccUV1f7sdtttV+l6OwCTJ09O+UXwGzRogLsn1cePH8+gQYPYaqutUvp5IoWsEHrRs88+y3fffccmm2xC+/bt2WGHHQDYZZddGDt2bMXrpk6dysCBAznllFO4+uqrN/gdVq9ezfLly2t0gVsRqV4h9KGq1KSHJI6JatrLRKRuCqEX1aSPTJ48meOPP54+ffpgZmy77bYccsghPPHEEyn6xlKIdMSYVKl79+4MGTKEiy66iHvvvReASy+9NO2f++GHH9b5Z4cPH86vfvUrDj30UPr3789f//pXZsyYwUknnVTtz6xZs4Y1a9awevVqAFasWAHARhtthJkxadIk2rdvz+abb05paSn/+Mc/eOihh5LO5//+++/5+9//rqPFRFKsEHrRueeey2mnnVax/dVXX7Hbbrvx73//u+K0gNdee40DDzyQkSNHcs455yS9x4IFC5gwYQIHHXQQbdu2Zc6cOZx11ln06NGDrbfeus7fRUQKow/VpIdsaExUk14mInVXCL2oJn1k4MCBPPTQQxx22GH07NmTjz/+mCeeeIJjjjmm4udWrVrF2rVrKS0tZe3ataxYsQIzY6ONNqrzd5H8piPGpFoPPfQQ7k7Pnj3ZfvvtK25327Rp08jJqnbkkUcybtw4jj/+eFq1asUdd9zBf/7zH3r06FHxmuLiYh588MGK7XHjxtGsWTNOP/10vv76a5o1a0azZs0qVl+mT5/OgQceSMuWLencuTM33HAD999/f9Ktf++++25at27NYYcdlpkvK1JA8r0XtWzZku7du1c8OnfuDEDnzp0rTjW45JJLWLx4MZdeemmVq7RmxgMPPMBmm21GUVERu+22G0VFRTz//PNZ++8kkkvyvQ/VpIdsaExUk14mIvWT772oJn3k6quvpn///gwYMIDi4mJ+9rOfcfDBBzNixIiK99x3331p1qwZDzzwAA8//DDNmjWjb9++GfzmkmusqlPCJB4z6wDMS6zNmzePDh06REr0/6ZMmcL222/PN998Q5cuXWLHkWrMnz+fjh07huWO7j4/Rh4pDJnsXepFmae+Itko5phJfSg7qDdJNtKYKL+p7+QnHTEm1Zo2bRrvvvsua9eu5auvvuLcc8/lpz/9qZquiGSUepGIxKY+JCLZQL1IJD00MSbVWrJkCb/4xS9o0aIFO+64I+3bt690GqKISCaoF4lIbOpDIpIN1ItE0kMX35dq7bHHHsyYMSN2DBEpcOpFIhKb+pCIZAP1IpH00BFjIiIiIiIiIiJSkDQxJtGYGc8991zsGCIi66VeJSKZpr4jItlAvUgKhSbGRALvv/8+++23H507d672j8GQIUNo0qQJxcXFFY/x48fX+D2+/PLLSj9bXFzMRhttRMOGDVmwYEHav6OI5L7S0lIuueQSevbsSYsWLejbty+33XZbpde8/vrrDBw4kNatW9OpUyfOO+88Vq9eHSmxiOS6J554gm233ZY2bdrQunVrdthhBx577LGK5+fNm8eJJ55I7969KS4uplevXlx00UWsXLmy0vssXryY4cOH06VLF4qLi9lss8149tlnM/11RCRH1WR/7dJLL2X77benSZMmDBgwIOn5YcOGJe2PmRlnn312Jr6CZBlNjIkEmjRpwmGHHcaECRPW+7rzzz+fkpKSisfw4cNr/B4bb7xxpZ8tKSnhgAMOYL/99qN9+/Yp/T4ikp/Gjx/P7bffzoQJE1i2bBm3334755xzTsXO5ZdffsnQoUM57rjjWLBgAa+99hpPPfUUF1xwQeTkIpKrdtppJ5566im+//57Fi1axPXXX88JJ5zA+++/D0BJSQl9+/blueeeY+nSpTz33HP85z//qdR3Vq1axd57782SJUuYPHkyJSUlvPDCC/Tt2zfW1xKRHFOT/bVNN92UMWPGcPrpp1f5/K233lppX+y1114D4IQTTkhLZslumhgrEDfddBObbropLVq0oFOnTpx00kkVz40cOZLNN9+cFi1a0KNHD37zm9/w448/Vjx/0kkncfTRR3PGGWfQrl072rdvz/XXX8+cOXMYOnQoLVq0YMstt+T111+v+JnRo0czYMAALrroIjp27Ejnzp35wx/+sN4jFd58802GDBlCu3bt6NmzJyNGjGDNmjVA2SBq+PDhdO7cmRYtWtCrVy/+8pe/pP4fCvjJT37Cr371K3baaaeMvcfXX3/Nk08+yZlnnlnnzxTJB+pVNTdz5kwGDBjANttsA8DgwYPZaquteO+99wD4z3/+Q9euXRk2bBiNGjVi00035dxzz+X2229POnpDpJCp79Rct27d6NatG2aGu9OgQQPcnU8//RSATTbZhIsvvphNN92UBg0a0KdPH0455RRefPHFive4//77+eabb7jrrrvo1q0bAD169KBnz55pySySK9SLaq4m+1onn3wyP//5z2t80MH48ePZZZdd6rUPKDnM3fXIogfQAfDEx7x587w+ZsyY4c2aNfMPPvjA3d2XLVvmL730UsXz9913n8+ePdvXrl3r06ZN80033dQvvPDCiudPPPFEb9KkiT/66KO+Zs0af/zxx93MfMiQIT516lRfs2aN//a3v/XNN9+84mdGjRrljRo18ksvvdRXrFjhH3/8sffu3dvHjRtX8RrA//e//7m7+yeffOJFRUX+8MMP++rVq33WrFm+7bbbVrz+9ttv9+22287nz5/v7u7ffvutv/POO9V+5wMOOMBbtWpV7eOMM86o0b9dYsZEgwcP9rZt23rr1q29b9++fsEFF/iyZctq9R6JRowY4ZtssomvXbu2RrnWZ968eR7+NwR08Cz471uP/H2konepV9WuV02bNs233HJLf/fdd720tNSfe+45b926tb///vvu7n7zzTdX+q7u7rfddpsDPnXq1PX/nxFQX9EjGx/qO3HGSIsXL/ZWrVp5o0aNHPABAwb4jz/+WO3r99tvPz/xxBMrto8++mj/6U9/6ieeeKK3b9/ee/fu7eecc46XlJSs93Orot6kRzY+6tKb1ItSv7+W+D332GOP9b7HkiVLvLi42O+5554Nfp76Tn4+ogfQI/g/JA0TY59//rk3bdrU//a3v/mSJUs2+PrrrrvOd9hhh4rtE0880ffcc89Kr2ndurVfccUVFduTJ092wBcvXuzuZQ2oY8eOvmbNmorXjB8/3jfZZJOK7cQm9pvf/MZ/8YtfVPqMBx54wDfddFN3d7/nnnu8T58+/tJLL/mqVatq+tXrrbpG++qrr/rChQu9tLTUp0yZ4tttt50fddRRtXqPdVatWuVdunTxq6++OiWZ1az1iPFIRe9Sr6qdH374wc855xxv0KCBN2zY0Bs3buw333xzxfMzZ870pk2b+l/+8hdfuXKlT58+3X/yk5844K+88kqtPkt9RY9sfKjvxB0jLV++3B977DG/4oorKn2XRGPGjPHOnTv7nDlzKmp77bWXA37llVf6ihUr/LPPPvN+/fr5sGHDap1BvUmPbHzUpTepF9VdKibG/vKXv3i7du18+fLlG/w89Z38fOhUygLQu3dv/va3v3H33Xez8cYbs/POO/Pwww9XPH/bbbexww470K5dO1q1asUll1zCvHnzKr1Hly5dKm0XFRVVqhUVFQGwbNmyilqPHj1o2LBhpRxz5sypMuOnn37K448/TuvWrSseZ5xxBnPnzgXg+OOP59e//jV/+MMfaN++Pfvttx/vvPNOHf9F6m/33Xenbdu2NGjQgH79+vHnP/+Zf/zjHyxfvrzW7/X444+zaNEiTjnllDQkFckd6lW1c+aZZ/Lyyy8zffp0Vq9ezeTJk7n22mu59dZbgbJra0yYMIGHH36YLl26cNhhh3HaaacB6FqGIuXUd+quadOmHH744UyaNKnSDYjWGTFiBLfffjsTJ06ke/fuFfWWLVvSqVMnLrzwQjbaaCM22WQTLrjgAv75z3+mPbNItlIviuuWW27h5JNPpmnTprGjSCSaGCsQBx98ME8//TQLFizgD3/4A8cddxwzZszg9ddf56yzzuJPf/oTc+fOZcmSJVx++eXrVjvqZc6cOZSWllZsz5o1q9LAKFHnzp059thjWbx4ccVj6dKllJSUANCwYUN+//vf8+abb/L111/zk5/8hIMPPrjaz95vv/2S7jKS+Bg2bFi9v1+iBg3KfpXq8u82fvx4jjrqKNq1a5fSTCK5SL2q5r1q8uTJHH/88fTp0wczY9ttt+WQQw7hiSeeqHjNXnvtxauvvsrChQuZNm0aDRs2pEePHmy++ea1/WcSyVvqO/UbI61evZrp06dXbLs7Z555Jg8//DCTJk1Kuqj+DjvsUKv3FykU6kXp3V+rzsSJE/n4448544wzMvJ5kp00MVYApk+fzn//+19KSkpo1KgRrVq1Asqa15IlS2jYsCEdOnSgcePGvPvuu9x0000p+dzvv/+eMWPGsHLlSqZPn84111zDySefXOVrhw8fzmOPPcajjz7KqlWrKC0tZebMmTz99NMAvPDCC0yePJlVq1bRtGlTiouLK61uhJ566qmkuz4mPtYdUVEVd2fFihWsWLECKBvwrVixouLCkt999x1PP/00P/zwA+7Ohx9+yLnnnstBBx1E8+bNa/Qe63z00Ue89NJLle5oKVKo1Ktq16sGDhzIQw89xOzZswH4+OOPeeKJJ9hxxx0rXvPWW2+xcuVKVq1axZNPPsm4ceO45pprMLO6/FOJ5B31ndr1nfvuu48ZM2ZQWlrK8uXLufXWW3nhhRfYb7/9AFizZg3HH388EydOZNKkSfTq1SvpPU466SR++OEHrr32WlavXs2XX37JNddcw1FHHVWLf0GR/KJelNr9tbAWvj7R+PHjGTp0KJtsskmN/s0kP2lirACsWrWKyy+/nG7dutGyZUvOO+887rvvPjbddFP23Xdfhg0bxpAhQ2jVqhUXX3wxJ554Yko+t3///qxatYru3bszaNAgDjnkEC688MIqX7vzzjvzv//9jzvuuINu3brRrl07jjjiiIodvnnz5nHSSSfRtm1bOnTowEsvvcRjjz2Wkpyh2bNn06xZM5o1awbA/vvvT7NmzRg3bhwAK1asYOTIkXTt2pUWLVpw8MEHs+eee3LvvffW+D3WueWWW9hhhx3o379/Wr6LSC5Rr6qdq6++mv79+zNgwACKi4v52c9+xsEHH8yIESMqXjNu3Dg6depEmzZtGDNmDHfeeSdHH310WvKI5CL1ndr57LPPGDp0KC1btqR79+7ce++9PPTQQxxwwAEAvPrqqzz00EN89tlnbLbZZpWO/line/fuPPvsszz22GO0bt2aAQMGsNdee3H11VenJbNILlAvqp2a7Gv96le/olmzZlx++eW89tprlV6/zty5c/nXv/6lgxQES8UhmJI6ZtYBqHTC+Lx58+jQoUOkRHUzevRonnvuOV555ZXYUQrO/Pnz6dixY1ju6O7zY+SRwpCrvUu9qmbUVyQbqe+IepNko1zpTepFdaO+k590xJiIiIiIiIiIiBQkTYyJiIiIiIiIiEhB0qmUWSZXDr2V7KXDeyUG9a78pr4i2Uh9R9SbJBupN+U39Z38pCPGRERERERERESkIGlirACddNJJHH/88bFjVOukk06icePGFBcX895778WOk5UmTJhQcQvkSy+9NHYckYxQ70qv8ePHU1xcTIMGDbjzzjtjxxHJGuo9cS1ZsoTi4mKaNGnCgAEDYscRyRrqTem1++6706xZM8yMNWvWxI4jaaaJMclKRx99NCUlJWy//fYALF++nCOPPJLNNtuMBg0aVDkZdNlll7HpppvSqlUr2rdvz9ChQ5kyZUql1zz44INss802tGzZkm7dunHOOeewcuXKiucTbyteXFxM06ZNMbNaNfMbb7yR/v3707x5c7p37570/BtvvMFOO+1E27ZtadmyJVtuuSW33HJLpdesXLmSM888k/bt29OiRQsOPPBA5syZU/H8gQceSElJCQMHDqxxLhFJv7B3Qdnv88UXX0zPnj0pKiqiZ8+e3HfffRXPX3jhhRV9qUuXLhxzzDGVft9r4rrrrmPHHXekVatWdOzYkQMPPJAPP/yw4vkvv/wyqb9ttNFGNGzYkAULFgAwfPhwSkpK2Hjjjev5ryAimRb2njfffJOf//zndO7cmZYtW7LNNttw9913V/qZe+65hwYNGlTqC7vvvnul15x22mlstdVWNGrUqE474JMmTUrqPY0bN6ZVq1Y1ztGqVStKSkq4+OKLa/35IhJX2JsefPDBpJ7QqFEj+vXrV/Ez7s6oUaPo2rUrRUVFDBo0iGnTptU5w6GHHoqZ8dxzz1XUrrjiiqQcDRo04OCDD654zWuvvcZTTz1V58+V3KKJMckJZsbuu+/O7bffzi677FLla37xi18wefJklixZwjfffMO+++7L0KFDKS0tBeD999/nhBNO4NJLL2Xx4sW89tprPPPMM1x22WUV71FSUlLpMXz4cLbeeutKO7kb0rVrV84//3wuueSSKp/fdNNNefTRR1mwYAFLly7lb3/7G6NGjWLChAkVrzn33HOZNGkS77zzDl9//TVt27bloIMOYu3atTXOISLZ4cgjj+Ttt9/m+eefp6SkhLfffpv+/ftXPG9m3HPPPSxYsICPP/4YM+PnP/95rT5jxYoVXH/99cydO5fZs2ezxRZbsPfee7N8+XIANt5446T+dsABB7DffvvRvn37lH5fEYlv4cKFHH744UydOpUlS5Zw4403cvbZZ/Ovf/2r0uu6du1aqS+89tprlZ7fdtttue666zjooIPqlGPgwIFJvWfbbbflhBNOqFUOEckPxx13XKXf9UWLFtG+fftKPeHaa6/lrrvu4plnnmHBggXsscceDB06lJKSklp/3n333cePP/6YVL/44osr5fjiiy9o0qRJUm+SwqGJsRxz++2306dPHxJvmrBq1So6dOjAP//5TwBGjhzJ5ptvTosWLejRowe/+c1vqmwI64Qz6LNmzcLMmDlzZkXtv//9L/3796dNmzZsttlm3HjjjWn4dtVr2rQpv/vd7/jpT39K06ZNq3xN3759adOmDVC20tCwYUPmzZvH999/D8Dnn39Oq1atOProo2nQoAE9e/bkgAMOqPZosOXLl3PPPfcwfPjwWmU94ogjOPzww+nWrVuVz3fo0IHevXvToEED3B0zw8z45JNPgLId3LvvvpuxY8fSs2dPWrZsyXXXXce0adN49dVXa5VFJFsUau96/vnn+d///seDDz5Inz59MDM6duxI3759K15z5ZVXsuOOO9KkSRNat27N+eefz/vvv8+iRYtq/DkXX3wxAwcOpFmzZjRr1oxLL72UuXPnVvSV0Ndff82TTz7JmWeeWe/vKJLNCrX37L///px00kl07NgRM+OnP/0pe+65Jy+++GKt3ue3v/0tQ4cOpWXLlinJ9cYbb/Duu+/Wemwlkm8KtTeF/vGPf7B06VJOOeWUitr48eP5/e9/zzbbbEOzZs0YO3Ysq1at4vHHH6/Ve3/11Vdceuml3HHHHRt87V//+lfatWvHIYccUtuvIHlCE2M55phjjmHu3Lm89NJLFbXHH3+chg0bVhxhsNlmm/Hcc8+xdOlSnn76aZ566inGjh1b58988cUXOfbYY7niiitYuHAhjz/+ONdccw0PPvhgtT9z4IEH0rp162of6RoQ/ec//6F169Y0bdqUc889l9/97ncVd4AZOnQom222GQ8++CClpaV89tlnPPnkkxx22GFVvtfDDz/MmjVr0rZy0LNnT5o2bcq2225baaVk+vTpLF++vNKRce3bt6d37945eX6+CBRu7/rf//5H7969+eMf/0iXLl3o0aMHJ598csXpi1V59tln6dmzZ8VEf108++yzFBUVsfnmm1f5/G233cbGG2/Mz372szp/hkguKNTeE1q6dClvvvlm0hHw8+bNo2vXrnTt2pWDDjqIqVOn1utzNmT8+PEMGTKELbfcMmoOkdjUm8qMHz+eo48+mrZt2wJl1xScNWtWpf2gRo0asf3229dqP8jdOeWUU7j00ks3eImItWvXctttt3H66afTqFGjun0RyXmaGMsxLVq04Kijjqp0YeQ777yTX/7ylzRu3BiAE044gY033hgzY6uttuLMM8/k2WefrfNn/vnPf+aMM85gr732okGDBmy99dYMGzYs6VoViSZMmMDixYurfYwfP77OedbngAMOYPHixSxcuJA//elP7LbbbhXPNW/enNNOO42zzjqLjTbaiD59+rDrrrtWWqFIdMstt3DCCSdQXFyclqyzZ89m2bJlPPvssxx++OG0aNECKBu8ArRu3brS69u0aVPxnEiuKdTete70yJUrVzJz5kwmT57MV199Ve2E+3PPPcdll13GrbfeWqvPSTR16lSGDRvG9ddfT1FRUdLzq1ev5s4772TYsGGYWZ0/RyQXFGrvSbRq1SqOPvpotthii0rXCRs0aBAffPABX331FVOnTmWzzTZjyJAhfP3113X+rPVZuHAhjz76aNKOdKZziGQD9SaYNm0akyZNqtQTUrUfdMstt+DunH766Rt87X//+1+++uqrGr1W8pcmxnLQaaedxj/+8Q8WL17MrFmzeOGFFzjttNMqnr/tttvYYYcdaNeuHa1ateKSSy5h3rx5df68Tz/9lBtuuKHS6sBVV13Ft99+m4qvkxZt27bl7LPP5rTTTuP9998H4N577+WCCy7giSeeYNWqVXzzzTcsXLiQ4447Lunn33rrLSZPnpz2Q/2bNGnCPvvsw4IFCxgxYgRAxekKixcvrvTaRYsWpexUBpEYCrF3tWzZEjPj6quvpqioiE6dOjFmzBieeeaZpNMhJkyYwBFHHMEDDzxQ5yO53nrrLfbaay/GjBlT6d820eOPP86iRYuqXRQQyTeF2HvW+fHHHznooINYuXIlTz75ZKWjITbZZBP69u1LgwYNaN++PX/6059o1aoV//nPf9KS5a9//Stt2rTh0EMPrVTPdA6RbFHIvQnKjhbbaaed2HnnnStqqdgP+uyzzxg7dmyN77A9fvx4DjnkELp06VKz4JKXNDGWg3bffXc22WQTHnzwQf7617+yxx57VJwu8/rrr3PWWWfxpz/9iblz57JkyRIuv/zySuevh4qLi/nhhx8qtr/55ptKz3fu3JkLL7yw0urAsmXLKt3xLLTffvsl3ekj8TFs2LB6/its2Nq1a1m9ejWffvopAJMnT2bQoEEMGjSIBg0a0KVLF04//XSeeOKJpJ8dP348gwYNYquttkp7Tig7gmP69OlA2bXSmjVrxttvv13x/IIFC5g1a1atbgIgkm0KsXftsMMOVdbNrNJ3e/DBBznuuOP4+9//nrTTWFPPP/88++67L9dccw1nnXVWta8bP348Rx11FO3atavT54jkmkLsPVC2I7n33nvTqFEj/vvf/9boCPiwN6XKulOVfvWrX9XoVKV05RDJJoXamwCWLVvGAw88kHQQQqtWrejVq1el/aA1a9YwZcqUGu8HTZo0iYULF7LjjjvSvn37ipsMHX744UlHhX3++ec888wzuu6haGIsV5166qnccccd3HPPPZVWFpYsWULDhg3p0KEDjRs35t133+Wmm25a73vttNNO3HPPPaxYsYLvvvuu0l0aAc4++2z+8pe/8Pzzz7NmzRrWrFnDtGnTePnll6t9z6eeeirpLkSJj7qcJrRy5UpWrFjB2rVrKS0tZcWKFaxatari+RtuuIHvvvsOgPnz5zN8+HCaNGnCHnvsAZTdGenll1/mtddew92ZP38+d955JzvuuGOlz/n+++/5+9//Xm2DXHcHueqsWbOGFStWsHr1aqDsYvorVqyo+EP2z3/+k/fff5/Vq1ezatUq/vnPf/LAAw+w//77A2U3Gjj55JMZOXIkX375JcuWLeO8885jyy23rPguIrmq0HrXoYceSrdu3bj44otZsWIFCxcuZPTo0ey///4VpznedNNNnHXWWUyYMIGhQ4dW+T5DhgzhpJNOqvZzHn/8cQ499FDuvPPO9b7uo48+4qWXXtIAUApOofWeuXPnMnjwYHr06MHjjz9e5Y2L/vWvf/HNN9/g7ixevJgLLriARYsWsd9++1W8ZtWqVaxYsYLS0lLWrl3LihUrWLlyZcXzEydOxMyYNWvWevM8/fTTfPnll1WeqlSTHCL5qtB60zr3338/jRs35he/+EXSc8OHD+faa69l2rRpLF++nFGjRtG4ceNKC4e9evVi9OjRVb73UUcdxeeff86UKVMqHlB2BN5VV11V6bW33norffv25ac//WmdvofkEXfXI4seQAfAEx/z5s3z0Pz5871JkybeqlUr//HHHyvqpaWlfvbZZ3u7du28ZcuWPnToUL/sssu8W7duFa858cQT/bjjjqvY/vDDD33XXXf1oqIi32abbfz+++93wD/99NOK1zz11FO+++67e5s2bbxNmzbev39//8c//pGUKxXCfOv07NnTw3+bwYMHVzx/wAEHeMeOHb158+beuXNn//nPf+5vv/12pfe4/vrrvW/fvt6iRQvv2LGjH3HEET5r1qxKr7n22mu9c+fOvmrVqqQMs2bN8kaNGvmMGTOqzT9q1KiknIB/8cUX7u4+fvx433zzzb2oqMhbtWrl2223nd98882V3mPFihU+fPhwb9u2rRcVFfn+++/vX375ZdJnDR482C+55JJKtXnz5lX1+R08C/771iN/H+pd1feujz/+2Pfee28vKiryLl26+KmnnuoLFy6seB7wRo0aeVFRUaXHyy+/XPGaXr16+d13313tZ/fq1csbNGiQ9B4PPPBApdedddZZvsMOO6z3e/Ts2dPvuOOOSjX1FT2y8VHTvuNeeL1n9OjRDnjz5s0r9YSf/exnFa8ZNmyYd+7c2Zs3b+6dOnXyAw44wN95551K7zN48OCk3/2ePXtWPH/PPfd4nz59qhwzJTrwwAP9sMMOq/K5muRwLxtf7bHHHpVq6k16ZONDvanqfIm23nprP/fcc6t8bu3atT5ixAjv1KmTN2vWzAcOHOhTp06teH758uXetGlTf/HFF2ucBfD//e9/lWorVqzw9u3b+4033ljtz7344osO+OrVqytq6jv5+YgeQI/g/5BaNNJ8ddppp3nz5s29VatW/t5778WOU8ntt9/uw4cPjx3DJ0yY4K1atfJmzZr56NGjKz2nZq1HjId6V/p614wZM3ybbbbx0tLSlL1nVcaPH++tWrXypk2bJk3Cqa/okY0P9Z0yMcdNxx57rD/yyCNp/YzFixd7q1atvKioyPfcc89Kz6k36ZGND/WmMunqTc8++6zvv//+KXu/6gwYMMBbtGjhG220ka9Zs6airr6Tnw9z1/n72cTMOgCVrqo4b948OnToECmR5Jr58+fTsWPHsNzR3efHyCOFQb0rv6mvSDZS3xH1JslG6k35TX0nP+kaYyIiIiIiIiIiUpA0MSYiIiIiIiIiIgVJE2MiIiIiIiIiIlKQGsUOIBu2YMGC2BEkh+i/F8kW+m8xf+j/S8kV+m+1sOj/b8kV+m81f+j/y/yki+9nmaou1iiSArogpKSVeldBUl+RqNR3pBrqTRKVelNBUt/JcTqVUkRERERERERECpImxkREREREREREpCBpYkxERERERERERAqSrjGWZcysAdAudo5IjgWuT9heAGxZx/faB3gwYXsV0AdYUcf3y3UL3X1t7BCSv/Ksdz0J9E/Yvhm4rI7v9Vfg5wnbjwBn1fG9so36ikSVZ30n1At4K6gNBKbX4b1aAJ9SeUH8MOCVOiXLfupNElWe9aYLgXMTtqcA+9bxvU4FrkzY/hrYvo7vlW3Ud3Kc7kqZZcp/oQrywn1mtnNQeqGuFzE0swlAKdCwvNQE2Nzdn69HRBGpRr70LjMrAnYIyv+pRy96msoTY7sDC1yrUiL1li99pypmdnBQmge8WsfeMd/M3gESx1k7uPvjdQ4oItXKp95kZv2D0rP1GBP9m8oTY92Alu7+WV3ziaSKTqWUrGBmBuwZlF+o6/u5+1JgclAO319EJLQH0Dhhew31O6oi7GPdKTt6VURkfZLGRPWcUA97kcZEIrJeZlZM5SPooR77Z8DHwHdBTb1IsoImxiRb9AW6BLUX6/me4c+r8YrIhoR94m13X1aP95sOzN3AZ4iIVKhmsTDVY6Jdynd6RUSqM4DKZ5itAV6t65uVT+5r/0yykibGJFv8NNj+mrLrYdRHuKKxs5m1qOd7ikh+C3tRfVZG1w0Cw/cIP0NEJNEWQKegVq9eRNmRr2sSthtRttMrIlKdcLzypruX1PM9k8ZE5YsBIlFpYkyyRapPGYCyFY3VCdsNKbtwrYhIEjNrBewUlOu7M1rVe+ypQaCIrEc4JpoD1OsaPO7+A/DGBj5HRCRRyi5zs5736AT8JAXvK1IvmhiT6Mrv3BKuSNT3lAHc/Uc0CBSRmhtE5b+Lq4DXU/C+YT/rAGyVgvcVkfyUdBplim7YoVOYRKRGzKw1yTcjqvf+GfA5ZZP9idSLJDpNjEk22JrkWxqnYkWiqvfRKUwiUp2wP7zm7stT8L5fALM38FkiIusWC4cE5XSNibY3szYpem8RyS/hYuFKUrBYqEtMSLbSxJhkg3CV4HN3D3ci66qqQWDbFL23iOSXdJwyUN0gUKujIlKVbYFwnJKKozSg7Cj6FQnbDSjb+RURCYXjlFfdfUWVr6y9qq4zpnkJiUr/AUo2SMvOaLk3gcQjPgwYnML3F5E8YGbtgX5BOZW9KHyvIWbWMIXvLyL5IRwTzXT3L1PxxuU7teEd5TRJLyJVSef+WTjZ34bkMZhIRmliTKIys0YkT1SlamUUd1+JBoEismFDgu0fgbdT+P5hX2sNbJfC9xeR/JB0fbEUv7+uMyYi62VmHYBtgnIq98/mADODsnqRRKWJMYlte6BlUEv1IFDnsYvIhoR9YZK7r0rVm7v718CMDXymiBSw8sXC8NTGVB6lUdX7bW1mHVP8GSKS24YE2z+Q2sVC0P6ZZBlNjEls4erAx+7+bYo/I2y8W5lZpxR/hojktnSeMlDde2p1VEQS7Qi0CGqpXiycDJQEtSEp/gwRyW3h+ORld1+d4s8Ix0SDzaxxij9DpMY0MSaxpfuUAYB3gGVBTasSIgKAmXUFtgjK6ehF4XsO0iBQRBKEY6KP3P27VH5A+c7tpA18rogUtkzsn00MtospWxwQiUITYxKNmTUBBgTllB+l4e5rgJeDsibGRGSdIcH2EuC9NHzOxGC7CNgpDZ8jIrkpHJuk48jVqt5XYyIRAcDMugGbB+V07J99B3wYlNWLJBpNjElMuwDNg9rENH2WTmESkeqE/eCl8gn1lHL3ecAHG/hsESlAZrYRGVgsrOZ9Nzez7mn6LBHJLeHk1GJgSpo+S/tnkjU0MSYxhc3vfXdfmKbPCg8B7mNmPdL0WSKSWzJxykB1761BoIgA9AeaJWw78FKaPut9ynZ2E+lIDRGBqhcLS9P0WeGYaED5IoFIxmliTGLK1CkDUDYIXLSBzxeRAmNmvYDeQTmdvSh8793NrGkaP09EckM4Jpni7t+n44PKd3InbuDzRaQwZXL/7CXKFgHWaUrZIoFIxmliTKIws2bA7kE5bY3X3deiIzVEJFk4AFwATEvj570ErE3YbgrsmsbPE5HckIk7467v/fcyM0vzZ4pIFjOz3kCvoJzO/bPvSb6mq/bPJApNjEksuwNNErbXknyXpFRLmhjTIFCk4IUDsInlE+lp4e6L0SBQRBKYWXNgt6CczlO6q3r/jUk+elZECks4HplP8gXyU00HLkhW0MSYxBIepTHZ3Zek+TPDFY8ewCZp/kwRyVLlE+OZPGWgus/QKUwihW13oHHCdinpXyz8kLKd3kTqRSKFLewBL7q7V/nK1AnHRLuWLxaIZJQmxiSWTJ8yAPAx8N0GcohI4dgM6BbUYkyM7WpmRRn4XBHJTuFY5G13X5rODyzf2dUd4UQEqFgsjLF/NomyxYB1GgN7ZOBzRSrRxJhknJm1AHYJymlvvBoEikgg/P3/BpiRgc99BViTsN0IGJCBzxWR7BRjZ7Sqz9ElJkQKV1+gS1DLxP7ZMuCtoKz9M8k4TYxJDAOBhgnbq4FXM/TZ4XnsP9UgUKRghQOvTJwygLuXoEGgiABm1hLYKSin+/pi1X1OZ2CLDH22iGSXcBzyNTAzQ5+t64xJdJoYkxjC89ffcPcfM/TZ4cpHJ+AnGfpsEckSZtYAGBKUM3WURlWfpWv7iBSmcLFwFfBahj57JvBVUFMvEilMSddczcRi4brPCrZ3MrNWGfpsEUATYxJHrFMGAD4HvgxqWpUQKTxbAR2CWsyJsR3NrHUGP19EskM4Bnk9U4uFusSEiEDFYmGMmxGt8xpliwLrNKBs0UAkYzQxJhllZm2B7YNypk4ZWDcI1OG6IhL+3s9y91kZ/PzXgZUJ2w2AQRn8fBHJDkmndGf486u6xIT2D0QKyzZAu6CWyf2z5ZSNixJp/0wySn/4JNMGAYnX9FoBvJHhDOEKyBANAkUKTsyVUdx9BcmnS+kUJpECYmbtgH5BOaO9iOSd37aU7SSLSOEIxx+fu/vsDGfQJSYkKk0GSKaFs/+vuPvKKl+ZPuEgsA3JA1MRyVNm1pC41xer7jO1OipSWAZTebFwOfBmJgOU7/x+FpTVi0QKS8zL3FT3mduVLx6IZIQmxiTTYp8ygLvPIfkuKxoEihSO7YHwoq4Z70VVfOa2ZhZe90xE8ldVi4WrqnxleukSEyIFyswaUTZJnyjGmOgtILy+4pAIOaRAaWJMMsbMOlF2wetEMVYkqvpcHa4rUjjC3/fp7v5NhBxvAz8EtXBwKiL5K+op3ev53EHlO8sikv+2B1oGtRgHLqwCXgnK2j+TjNHEmGTSkGB7GTA5Qg5IHgQONrPGUZKISKZlwykD6waBk4KyjtQQKQBm1hnYMijHmhgLd4JbAjvECCIiGReOOz5292+jJNElJiQiTYxJJoXNbZK7r4mSBCYG28XAjhFyiEgGlU+Ah7cAj3HKQHWfrUGgSGEIj4RYBrwbI4i7zwU+DsrqRSKFIfplbtbz2T8xsy5RkkjB0cSYZFK2nDKAu38HfBiUdbiuSP7bGSgKahMj5Fgn7IN9zaxrlCQikknhmOOliIuFoEtMiBQcM2sCDAjK0fbPKFscWBrUhkTIIQVIE2OSEWbWA9gsKMdsvFV9vlZHRfJf+Hs+1d3nR0lS5j1gSVDTDqlI/suKU7rX8/kDy3eaRSR/7QI0D2oTI+QAoHxx4KWgrP0zyQhNjEmmhDt6i4D3YwRJEA4CB5jZRlGSiEimZNXOqLuXkjwI1SBQJI+ZWU9g06Ace2LsJcATtpsB/SNlEZHMCMcbU9x9YZQk/08HLkgUmhiTTAmb2kR3Xxslyf8LB4FNgV0jZRGRNDOzpsDuQTnmtTTW0XXGRApLuFi4EPggRpB1yneGwwVL9SKR/JZN1xdbJ8ywSfligkhaaWJM0s7MjCy6vtg67r6IstOYEukUJpH8tRuQeFToWuDlSFkShf2wl5n1jpJERDIhHGtkw2Ih6DpjIgXDzJpRNi5KFH3/jLJFgvCoNfUiSTtNjEkmbAJsHNSyofGCDtcVKSTh7/c77r44RpDAh0B4nTMNAkXyUPliYVad0p0gzLGbmYXXHxKR/LA7kHgdwVKyYLGwfJFAR9JLxmliTDIhbGbfkXxb8FjCxrurBoEieSsbTxlYNwicGJQ1CBTJT32A7kEtK3oRMImyneN1mpB8+rmI5IeqFgvDO0LGkjQxVr6oIJI2mhiTTAiPfHjR3b3KV2ZeOAhsDOwRKYuIpImZFVN296VE2XKUBlRxCpMGgSJ5KRwTzQU+iREkVL5TPDko6+hVkfyUdZe5SRBm6UbZooJI2mhiTNIqy08ZwN2XAW8FZR2pIZJ/BgCNErbXAK9EylKVsC92BTaPEURE0ippTJRFi4WgS0yI5D0za0F2LxZOB74NaupFklaaGJN0+wnQKahlyykD6+g8dpH8F/5ev+nuP0RJUrVPgW+CmnqRSB6p5mZE2T4m2rl8J1pE8sdAoGHC9mrg1UhZkpQvFmj/TDJKE2OSbuEAcA7wWYwg6xGukOxkZq2iJBGRdMnmUwbWDQJ1RziR/LYl0DGoZVUvomzneHXCdkPKdqJFJH+E44s33P3HKEmqp0tMSEZpYkzSLdtPGQB4DViVsN0ADQJF8oaZtQF2CMrZtjMKVQ8C9XdaJH+EY6LZwBcxglSnfOf49aCsIzVE8kvWXuYmQZipA7BVjCBSGDTglrQp36EbEpSz7ZQB3H05GgSK5LNBVP57txJ4I1KW9Qn7Y3tg6xhBRCQtku6Mm4WLhaBTmETylpm1BbYPytm4f/YFZYsHidSLJG00MSbptC3QNqhlXeMtp1OYRPJX+Pv8qruviJJkPdx9FslHj6gXieQBM2sIDA7K2XiUBiTn2q58Z1pEct8gIPGUxBVk52IhaP9MMkgTY5JO4az+THf/MkqSDatqENguShIRSbVcOGVgHd0RTiQ/9QPaBLVsXSx8E1iesG0kT+qJSG4KxxWvuPvKKEk2LBwTDSlfZBBJOU2MSTrl0s7oW0B40ckhEXKISAqZWUdgm6Cczb2oqkFgoyhJRCSVwjHRDHf/KkqSDSjfSX4lKGuSXiQ/5NL+Wbh40BrYLvMxpBBoYkzSonxHblBQztaVUdx9FRoEiuSjIcH2D8DkCDlqKuyTLUm+FoiI5J6k64tFSVFzus6YSJ4xs04kX8A+a3uRu38NzAjK6kWSFpoYk3TZEWgR1LK28ZbTeewi+Sf8PX7Z3VdHSVID7v4t8ElQVi8SyWFm1pjku11n81EakJxvy/KdahHJXUOC7WVk92IhaP9MMkQTY5Iu4Wz+h+7+XZQkNRc23p+YWZcoSUQkVXLplIF1dJ0xkfyyE1Ac1CZGyFEb71C205xIO6QiuS0cT7zs7muiJKm5cEw0qHyxQSSlNDEm6ZJrpwwAvAcsDWoaBIrkKDPrBmwelHOhF4UZB5pZkyhJRCQVwjHRNHefFyVJDZXvLL8clDVJL5LbcnH/bGKwXQTsHCGH5DlNjEnKmdlGwB5BOeuP0igfBL4UlDUxJpK7wt/fxcCUzMeotYnBdnM0CBTJZWEvyvoxUTmdwiSSJ8ysB9AnKGd9L3L3+cAHQVm9SFJOE2OSDv2BZgnbTvKEU7bSKUwi+SP8/Z3o7qVRktSCuy8A3g/K6kUiOcjMmpKDi4Xlwpx9zGzjKElEpL7CyaRFJI81spX2zyTtNDEm6RA2qynu/n2UJLUXHlK8iZn1jJJEROorF08ZWEd3hBPJD7sCTRO2neRTFLPVVCAcv+lIDZHcVNVi4dooSWovHBPtUb7oIJIymhiTdMjVUwag7FDdhUFNg0CRHGNmvYFwUjuXelGYdTcza1blK0Ukm4VjiHfdfVGUJLVUvtM8MShrTCSSY8zMyO39s5eAxEm8jShbdBBJGU2MSUqZWXNgt6CcM423fBCoIzVEcl/4ezsf+DBGkDp6meRBYNhbRST75eKdcRMlncJUvpMtIrljEyA8DTpnepG7LwbeDcraP5OU0sSYpNoeQOItdEuBSZGy1JUGgSK5L2ln1N09SpI6cPclwOSgrEGgSA4xsyKSj2rImZ3RcmHeHsCmMYKISJ2F44fvgI9jBKkHXWdM0koTY5JqYZN6292XRUlSd+ERY92AzWIEEZHaK5/IzuXri62jo1dFctsAoFHC9hrglUhZ6uoTYG5QUy8SyS1JY6JcWiwsF46J+ptZcZQkkpc0MSaplsvnr68zHfg2qOmaGiK5oy/QOajlYi8KM+9sZi2iJBGRugjHDm+5e0mUJHVUvvMc7pBqTCSSI/Lg+mLrvELZ4sI6jUi+469InWliTFLGzFoBOwflnGu85YNAHa4rkrvC39evgJkxgtTTq8DqhO1GlB2BIiK5IdevL7aOLjEhkrt+AnQKajnXi8oXFd4Myto/k5TRxJik0kAq/ze1CngtUpb6Slod1SBQJGfkwykDuPsPaBAokpPKFwt3DMq5eEo3JOfuCGwZI4iI1Fo4bpgDfB4jSAroEhOSNpoYk1QKD9N93d2XR0lSf+FKSgdgqxhBRKTmzKwBMCQo59zKaIIwu05hEskNg6g8zl4JvB4pS319DnwZ1NSLRHJD0mmUubhYWC4cE+1gZq1jBJH8o4kxSaV8OWUAd/8CmBWUtSohkv22AdoFtVw9SgOqHgS2iZJERGojHDO8lquLhbrEhEhuKl8szIfri63zOmWLDOs0oGwRQqTeNDEmKWFm7YDtgnIu74yCDtcVyUXh7+nn7j47SpLUeANYkbBtwOBIWUSk5vLhzriJwvxDyne6RSR79QPCxbSc7UXuvoLky/Ro/0xSQn/QJFXCHbXlJF8bJ9eEKyqDzaxhlCQiUlP5tDKKu6+k7CL8iXQKk0gWM7P2wLZBOad7Eck7020o2+kWkewVjhdmuvucKElSR5eYkLTQxJikSjhbP8ndV0VJkjrhILA1yUfFiUiWMLNGJE/S5/rOKOgUJpFcMyTY/gF4O0KOlCnfmf40KKsXiWS3vLnMTYLwO2xrZh2iJJG8ookxSZV8O2UAd/8amBGUNQgUyV47AC2D2sQIOVIt7Kdbm1nHKElEpCbCscIrebBYCLrEhEjOKF8sDK+/lfP7Z5QtMvwQ1IZEyCF5RhNjUm9m1hn4SVDOhxUJ0OG6Irkk/P382N2/jZIktSYDJUFtSIQcIlIzeXVKd4Lwewwys8ZRkojIhuwItAhqOT8x5u6rgUlBWftnUm+aGJNUCJvRUuDdGEHSQINAkdyRj6cMrBsEvhyUdaSGSBYys67AFkE5L3oRyUfgFlO28y0i2SccJ3zo7t9FSZJ6usSEpJwmxiQVwmb0kruviZIk9SYG20XAzhFyiMh6mFkTYGBQzpedUdAgUCRXhIuFS4D3YgRJtfKd6mlBWb1IJDvl5WJhufC79DWzblGSSN7QxJikQt5dX2wdd58PfBCUNQgUyT79gWYJ2w68FClLOoR9dTMz6x4liYisT1WLhaVRkqSHrjMmkuXMbCNgQFDOm/0zYAqwOKjpdEqpF02MSb2YWU9gk6CcTysSoOuMieSC8PfyfXdfGCVJerwPLApq6kUi2Sdfry+2Tvh99ijfCReR7NEfaJqwnVeLheWLDeH30ZhI6kUTY1JfYRNaSPIRVrmuqkFg0ypfKSKx5PMpA+sGgRODso7UEMkiZtYb6B2U86oXUbYz6gnbTYFdI2URkaqF44P33P37KEnSR5eYkJTSxJjUV9iEJrr72ihJ0udlIPE7bQTsFimLiATMrBnJv5P5dMrAOkmnMJmZRUkiIlUJFwsXAB/GCJIu7r6I5GumaYdUJLvk7WVuEoTfqVf54oRInWhiTOqsfIcs308ZwN0Xk3yXTR2uK5I9dgeaJGyXknwXx3wQ9teNST46RUTiCccGL+bhYiHoEhMiWcvMmpN8FGfe7Z9RtugwP6ipF0mdaWJM6qMPEF78OR8bL+hwXZFsFv4+Tnb3pVGSpNdHwLygpl4kkgXKFwvz+pTuBOH32tXMiqIkEZHQHkDjhO1SYFKkLGlTvuigm4FIymhiTOojbD5zgekxgmRA2Hj7m1lxlCQiEiqEUwZwd0eDQJFstTnQNajlZS8CXqFsZ3udxpTtjItIfOG44G13XxYlSfrpEhOSMpoYk/pIOo2yfMctH70CrEnYboQGgSLRmVkLYOegnK9HaUAVpzBpECiSFcIx0TfAjBhB0q18J/utoKxTmESyQ95f5iZB+N26ULZIIVJrmhiTOimwUwZw9xLgzaCsIzVE4hsINEzYXg28GilLJoR9tjOwRYwgIlJJ0pgojxcLQZeYEMk6ZtaKwlos/BT4OqipF0mdaGJM6moroENQy9dTBtbRKUwi2Sf8PXzD3X+MkiQzPgO+CmrqRSIRmVkDqrjwfowsGRR+v53Kd8pFJJ6BVN6/XwW8FilL2ukSE5JKmhiTugoHgLOBL2IEyaBwxWUHM2sdI4iIVCikUwbWDQJ1RziR7LIV0D6o5XUvomxne1XCdgPKdspFJJ5wPPC6uy+PkiRzwl47pHyxQqRW9B+N1FWhnTIA8DqwMmG7ATAoUhaRgmdmbYHtg3K+74xC1dcZ099zkXjCMdEX7j4rRpBMKd/ZDo9E0ZEaInEVzGVuEoTfsT2wdYwgkts0kJZaM7OGwJCgnPeN191XkHztIg0CReIZDCReeH45ydcCzEfhaQNtgW1jBBERoDB3RkHXGRPJGmbWDtguKOd9L3L32cDnQVm9SGpNE2NSF9sBrYNavl9LYx2dxy6SPcLfv1fdfWWVr8wj7v4lZdcaS6ReJBJB+WLh4KBcqGOifmYWnlIqIpkxJNj+keS7x+Yr7Z9JvWliTOoiPH99hruHdwTJV+HKyzZmFt6EQEQyo6CuLxbQdcZEssP2QHjR+UKZGHuLsp3vROEkoYhkRjgOeMXdV1X5yvwTjokGm1mjKEkkZ2liTOqiUE8ZAHgb+CGoDYmQQ6SgmVknyi54naiQepEGgSLZIRwTfeLu30RJkmHlO92TgrKO1BCJo5D3z8LFiJYkX4NWZL00MSa1YmaNSb7gfKGsjOLuq9EgUCQbhCujy4B3YgSJZGKw3QLYMUIOkUIXjgEKZkxUTqcwiURmZl2AnwTlgulF7v4t8ElQVi+SWtHEmNTWTkBRUJsYIUdMutisSHzhxNjL7r4mSpII3H0u8FFQVi8SySAzawIMCMqFdJQGJH/fLcp30kUkc4YE20uBdyPkiEn7Z1IvmhiT2gqbzDR3nxclSTxh493czLpFSSJSuAr9KA3QdcZEYtsZLRa+CywJaupFIpkVjokKarGwXDgmGlC+eCFSI5oYk9oq5PPX15kCLA5qGgSKZIiZ9QD6BOVC7EXhZOAAM9soShKRwhSOiaa6+4IoSSJx91Lg5aCsIzVEMkv7Z/BSsN0c2CVGEMlNmhiTGjOzpsDuQbngGm/5IDBsvpoYE8mc8PdtEfB+jCCRvQR4wnYzNAgUyaRCvjNuIh29KhKJmfUENgnKBdeLyhclwrGgepHUmCbGpDZ2BZombK8leYKoUOg8dpF4kk6jdPe1UZJE5O4LKTuCNZF6kUgGmFkztFi4Tvi9NzGzXjGCiBSgcPJnIfBBjCBZQPtnUmeaGJPaCJvLe+6+OEaQLBCewtTLzHpHSSJSQMzM0PXFEumOcCJx7AYknrq8luRTCgvFNMp2xhPpSA2RzAj/7k8sxMXCcuGYaPfyRQyRDdLEmNSGThn4fx8C84OaBoEi6bcJ0COoFXIvCr/7rmbWPEoSkcIS/s1/x93Di9AXhPKd8HCHVGMikTQrXyzU/tn/e5myRYp1mlC2iCGyQZoYkxoxsyLKTqVMVLCNt5pBoI7UEEm/8PfsO+DjGEGyxCSgNGG7Ccmnd4lI6uli15UlncJUvtMuIunTB+ge1Aq2F5UvTkwOyto/kxrRxJjU1ACgUcL2GuCVSFmyhQaBIpmXtDPq7l7lKwuAuy8F3g7KGgSKpJGZtSD5RhcFuzNaLvz+3YDNYgQRKSDh3/tvgekxgmQRXWdM6kQTY1JTYVN5y91LoiTJHuERY12AvjGCiBSCak4ZKOTri62jo1dFMitcLFwNvBopS7aYQdlOeSL1IpH0qupmRAW7WFguHBPtUr6YIbJemhiTmtL568k+Bb4Oarqmhkj6/AToFNTUi5L/DXYys5ZRkogUhvBv/Zvu/kOUJFmifGc87EUaE4mkia4vVq1XKVusWKchZYsZIuuliTHZIDNrDewYlAu+8VYzCNTqqEj6hL9fXwKfxwiSZV4DViVsNwQGRsoiUgh0fbGqJU2MmZn2NUTSYyugQ1Ar+F5UvkjxRlDW/plskP5YSU0MovJ/KyuB1yNlyTZJd2HSIFAkbXTKQBXc/Uc0CBTJCDNrA+wQlHVKd5nw36EDZTvvIpJ64d/52e7+RZQk2UeXmJBa0w681ER4mO5r7r4iSpLsE67MtAO2jhFEJJ+VTzgPCcoFvzKaQKcwiWTGICDxRjsrSJ6YLkjlO+WzgrJ6kUh66DTK6oX/FtuXL2qIVEsTY1ITOmWgGu4+m+RTubQqIZJ6/YBwUKOjNP5f2Je3M7N2UZKI5Lfwb/yrWiysRJeYEEkzM2uIFgvX5w3KFi3WMWBwpCySIzQxJutlZh2AbYOydkYr0+G6IukX/l7NdPc5UZJkp7eA5QnbGgSKpEfSKd1RUmSv8N9jSPlOvIikznZA66CmXlTO3VeSfKdg7Z/JemliTDYk3LH6AXg7RpAsFq7QDDazRlW+UkTqSqcMrEf5IPCVoKxTmERSyMw6kny5BPWiysKd81aU7cSLSOqEf99nuPvXUZJkL11iQmpFE2OyIeHs+iR3X1XlKwtXOAhsCWwfI4hIPjKzxiRP0mtnNJlOYRL5v/buOz6qKv3j+PfQQxqQUAUChGKji6iAotiwYXctu2BdinV/Fmyra1vL2hXr2tta1oYFRA1gQ1AQwUKRKtJrgJCQPL8/EmYzdxLSc2fmft6v17x0zr0z88zk4dxzn3NLzRrseZ4taYYPcUStop3zXz3N9EVA9eIyN2Xz/ib7Ouda+hIJYgKFMZSFjrcMZvaHpJ89zQwCgerTV1KSpy3Lhziinbd/3ts518qXSID45N22TzGzPF8iiW4U6YEaUjRZeLCnmf2zSDMkbfG0DfYhDsQICmMolXOujaRunmbOXy8Z1xkDao7339NcM1vlSyTR7XtFDgI5dQCoPlxfrHy8v8ugop15AFXXT1Kipy3LhziimpntlDTV08z+GUpFYQy7492h2iRpph+BxADvTM1A51wDXyIB4g/XFyuHokHgZE8zhTGgGjjn2krq4mmmLypZlud5ogp35gFUnXe7/qOZrfElkujHdcZQbhTGsDveqnqWmeX7Ekn0y/I8byxpfx/iAOKKc66hpIGeZnZGS8cpTEDN8O5QbZD0gx+BRLuinfTZnmb6IqB6cJmb8vP+Nl2cc+18iQRRj8IYdodTBsrJzNYpcoDMIBCougMkNSr23BR5VBT+x9tPZzrn2vsSCRBfvNv0yUwW7haXmACqmXOukaQBnmb2z0r3gwonMYrjqDGUiMIYSuSc6yipg6eZGYnd43BdoPp5/x3NNDPvIAf/M1vSek8bfRFQBc45J47SqCjv73NQ0U49gMo7QFLDYs8LxGRhqcysQJFn9TAmQokojKE03k5jjaS5fgQSQ0oaBCb4EgkQP9gZrYCiQSBHagDVq6Mk75GX9EW7N0WFO+27NJR0oE+xAPHCuz3/3sw2+hFIDIm4xETRZAcQhsIYSlPS9cUKSlwTu0xV+CCwgaSDfIoFiHnOucYqnB0tjlMGyhZRGGMQCFSJd0y0WtJPfgQSK4p21r/3NFOkB6qGy9xUnPc3ai+pkx+BILpRGEOEoh0o7gJXQWa2SdIMTzOH6wKVN0BS/WLP8xV5621E8vbXbSVl+hEIECe82/LPzcx8iSS2cIkJoJo45xIl9fc0s39Wtp9UOJlRHH0RIlAYQ0m6SmrjaaPjLR/uCAdUH++/n2/NbIsvkcSWXySt9LTRFwGVwPXFqsT7O/V3ziX5EgkQ+wZKqlfs+U5JX/gUS8womsRg/wxlojCGkng7i98lzfcjkBjk7Xj3d84l+xIJEPvYGa0EBoFAtdpTUitPG31R+Xyhwp33XeqpcOceQMV5t+PTzCzbl0hiD9cZQ5kojKEkEeevc8pAuX0pKa/Y87qSBvkUCxCznHOpkvbzNHMtjfLz/laHMggEKsU7JlouaaEfgcQaM9sqaZqnmSI9UDlcX6zyvL9VS0l7+REIoheFMYRxztWRNNjTzMxoOZnZNknfeJo5jx2ouEEK30blSvrKp1hikbffbiFpbz8CAWJcxDVXmSysEK4zBlSRc66JpD6eZvbPym+hpGWeNvoihKEwBq99JaV72uh4K4ZTmICq8/67+crMtvsSSWxaJGmJp42+CKiAoslCbkZUNd7fq49zrqkvkQCx62CF77fvkPS1T7HEHC4xgfKgMAYvbyexyMy8O1fYPe/hur2dc818iQSIXZwyUAVFg0Dvb8YgEKiYHpK822/6oor5RoU78bvUUeFOPoDyK2myMMeXSGKXt+8eXDT5AUiiMIZIzIxW3TeSim+snBgEAuXmnEuT1NPTTF9Ucd7f7BDnXF1fIgFik3dMtNDMlvoSSYwq2nn/0tPMKUxAxbB/VnXewlgzFU5+AJIojKEY51w9cX2xKjOzHYq8fTJHagDlN9jzfJukb32II9Z5B4FNFVlwBFA67oxbPTiFCagk51xzRRZw6IsqqGhSY4Gnmb4IIRTGUFxvSSmeNk4ZqBxOYQIqz/vv5Qszy/UlkhhmZsslzfc00xcB5VA0WXiIp5kxUeV4f7fuRTv7AMo22PN8q6TpPsQRD9g/Q6kojKE472G6v5jZH75EEvu8Mzn7OOda+hIJEHs4ZaD6cEc4oHL6SEr2tFEYq5zpKtyZL26wD3EAsci73Z5qZnm+RBL7vGOig4smQQAKYwjD3qY++gAAXHpJREFUKQPVZ4akLZ62wT7EAcQU51xrSXt5mumLKq+kQWB9XyIBYot3TPSTma30JZIYV7QTP8XTzJEaQPmwf1Z9vJMbyZL6+hEIog+FMUiSnHMNJA3yNDMzWklmtlPSVE8zg0CgbN6Z0c2SZvoRSJzI8jxPkrSfD3EAsYY741YvTmECKsg510ZSN08zfVElmdkqST95mumLIInCGP6nn6TGnrYsH+KIJ5zCBFSc99/J5KJCMyrBzFZLmuNppi8CdqNosnCgp5mjNKrG+/t1dc7t4UskQOzwbq83icnCqmL/DCWiMIZdvNXyH8xsrS+RxA9vx9vFOdfOl0iA2MEpA9WPO8IBFdNfUkKx5yZpsk+xxItZkjZ62tghBXbPu73OMrN8XyKJH94x0UDnXENfIkFUoTCGXdgZrX4/SNrgaWMQCJTCOddBUidPM31R1Xl/wwHOuUa+RALEBu+YaJaZrfMlkjhRtDOf5WmmSA/sHvtn1W+yCic7dklQ4WQIAo7CGOScS5B0kKeZ89eryMwKxCAQqAhv4XidIk8DRMVNUfggsJGkA3yKBYgFXF+sZnCdMaCcnHMdJXXwNNMXVZGZrVfhEazF0ReBwhgkSQdKalDseYEi7x6Eyok4j90553yJBIh+3sLY50UFZlSBmW2Q9L2nmaNXgRI45xorsnDMURrVw/s7ZhTt/AOI5N1Or5E0149A4hDXGUMECmOQIqvkM8xsky+RxB9vx9tekaeKAYFXVDDmlIGaw3XGgPI5SOGThfmKvMs0KmeuCnfui6MvAkoWceQqk4XVxjsmOrBoUgQBRmEMEqcM1KSfJa3ytDEIBCJ1keS9Qxl9UfXx/pb9nXOJvkQCRLeSJgs3+xJJnDEzE6dTAmUqZbKQMVH1marCSY9d6ksa4FMsiBIUxgLOOZcsqZ+nmaM0qkkpg0AO1wUief9d/CHpVz8CiVNfSNpZ7DmDQKBk3r6IMVH14hITQNm6SmrtaaMvqiZmtkXSdE8z+2cBR2EMAyXVK/Y8T9KXPsUSryJOYWIQCESIOI2yqLCMalA0CPzW08yRGkAxzrkUMVlY07y/Z2tJ3fwIBIhi3u3z75Lm+xFIHOMSEwhDYQzeTmCamW31JZL45T1irKWkvfwIBIhGRYXiiAvv+xFLnOMUJmD3BkmqW+x5nqSvfIolXi1Q4U5+cfRFQLiSri/GZGH18o6J9iuaHEFAURgDpwzUvIWSlnnaOFwX+J99JDX3tNEXVT/vb9rXOZfqSyRAdPJum782s22+RBKninbuuSMcUArnXB1Jgz3NjImq31eScos9r6vCyREEFIWxAHPONZXUx9NMx1vNShkEMjsK/I/338NiM1vkSyTx7WtJO4o9ryPpYJ9iAaIRd8atHSVdZ4x9EqDQvpLSPW30RdWsaNLja08z+2cBxkYo2A6RVPxaVzmSvvEplnjHIBAoHTujtcDMtivytDAGgYAk51yapF6eZvqimuE9hSlNUnc/AgGikHe7/JuZLfElkvjHgQsIYcc82Lz/+L80sx0lromq8g4Cm0rq6UcgQDRxztVV5CkDXF+s5nCdMaBk3snC7Yq8YQWqQdFO/m+eZvoioFDE9cV8iSIYvL9tr6JJEgQQhbFg4/pitcTMlqnwgrPFcU0NoPAIDe91rhgE1hxvP9/DOec9ZQMIIu82+QsmC2sU1xkDPJxz9VRYpC+O/bOaM02FkyDFeX9/BASFsYByzrVU4TnsxdHx1iwO1wUief8d/Gpm3juWofpMl+S98/BgH+IAog2ndNcu7+97SFFRAAiy3pK8d0ZksrCGmFmupKmeZvbPAorCWHAN9jzPlvSdD3EEiXfDdjCDQIBTBmpT0SDwC08zg0AEmnOulaS9Pc30RTUry/M8RZE3hAKCxrs9/sXM/vAlkuDgEhOQRGEsyLyHrE8xszxfIgkOb8ebLKmvH4EA0cA5V1+Rt8bmKI2axylMQLjBnudbxGRhjSra2f/Z00xfhKDjMje1z/sb71U0WYKAoTAWXJwyUMvMbJWkuZ5mZiUQZP0kJXrasnyII2i8/f2ezrk2vkQCRAfvtniyme30JZJg4RITQBHnXAMxWeiH7yVt9rRRpA8gCmMB5JxrK6mLp5lTBmoHh+sC/+PN/x/NbI0vkQTLTEmbPG0MAhFknNLtD+/vPLCoOAAE0f6SGnvaJvsRSJAUTYJM8TSzfxZAFMaCybsDtEHSD34EEkDemZ8BzrmGvkQC+I9TBnxgZvmKHGxTGEMgOefaS8r0NNMX1Y4sz/PGKiwOAEHk3Q7/YGZrfYkkeLjEBCiMBZS3Cp5VtKOEmjdZkhV7niCpv0+xAL5xzjWSNMDTzM5o7eEUJqCQdwdovaTZfgQSNGa2TtIsTzN9EYKKy9z4x/tbZzrnMnyJBL6hMBYwzjknThnwjZmtF4NAQJIOlFT8aMkCRR7Kjprj7fc7Ouc6+BEI4LOSJgsLfIkkmLjEBALPOZcg6SBPM/tntedHSes8bRw1FjAUxoKno6T2njZmJGoXh+sCkXn/vZlt9COQgJojyXuKBn0RAqVospBTuv3l/b0PLCoSAEFyoKTi19djsrAWFU2GZHmaGRMFDIWx4PHOxK2W9JMfgQRYSYNA78U2gXjHKQM+KhoEcqQGgi5TUjtPG31R7ZoiqfjlPBoo8sgZIN55t78zzMx7kxzUrIhLTBRNniAgKIwFT8TOqJlZiWuipkxV+CCwviKvtQTELedckiKvrcfOaO1jEIig846JVkr6xY9AgsrMNkua4WmmSI+gYbLQf97fvK2kzn4EAn9QGAsQri8WHcxsi6TpnmYGgQiSgZLqFXu+U9KXPsUSZN7+v42krn4EAvgkYkzEZKEvOHoVgeWcS1bk3VjZP6t9v6pwcqQ4+qIAoTAWLHtKaulpY0bCH1xnDEHmzfdpZpbtSyTBNk/SCk8bfRECgeuLRRXv796vqFgABMFASXWLPc8Tk4W1rmhShP2zAKMwFizeqvcySQv9CAQlDgJTfYkEqH2cMhAFShkEMjuKoNhbUgtPG32RP75UYTFgl7qSBvkUC1DbvNvdb8xsqy+RgEtMBBiFsWDhlIHo8ZWk3GLP64hBIALAOddEUh9PM6cM+Mf72x/qnGNsgCDwjomWSlrkRyBBZ2bbJH3jaaZIj6DgMjfRw/vbN5e0jx+BoPYx+A2Ioh2dwZ5mZkZ9YmbbJX3taeZwXQTBwQrf9uxQ5L8F1B7vdiBdDAIRDBGnUTJZ6CtOYULgOOeaSurtaWb/zD+LJC3xtNEXBQSFseDoIamZp40ZCX9xChOCyJvnX5pZji+RQGa2WJFHydAXIa455+qKycJo4/39ezvnvONWIN4cIqn4qXo5ijx6ErWES0wEG4Wx4PD+o15oZkt9iQS7eAuTvZxzab5EAtQeThmIPtwRDkHTU1JTTxt9kb+mqbAosItTYdEAiGclTRbu8CUS7OLdFgwumkxBnKMwFhzceSn6TJO03dPGIBBxyznXXFJ3TzN9kf+8f4NDGAQiznnHRPPNbLkvkUCSVFQM+MLTzClMiHfsn0Ufb2GsiQonUxDnKIwFgHOuniILLnS8PjOzXElTPc0cqYF4NtjzfKuk6T7EgXDeQWCqIq95AsQT7owbnTiFCYHhnGspaV9PM32Rz4omSeZ5mumLAoDCWDD0lZTsaeOUgejAIBBB4s3vKWaW50skCDGzFZJ+8TTTFyEuOefqq/AmIMWxMxodvH+HfYqKB0A8Gux5vkXSDB/iQCT2zwKIwlgweP8x/2Rmq3yJBF7eAuVezrnWvkQC1DyuLxa9uM4YgmI/SUmetiwf4kCk71RYHCiO0ykRr7zb2almttOXSODlHRMdXDSpgjhGYSwYOH89en0vabOnbbAPcQA1yjm3h6Sunmb6oujh/VsMdM418CUSoGZ5x0RzzGy1L5EgTFFRYIqnmcIY4hX7Z9Ery/M8UYWTKohjFMbinHOuoaSBnmY63ihRNAic7GnmSA3EI+8AcKOkWbUfBkqR5XmeKKmfD3EANY3ri0U3TmFC3HPOtZPUxdNMXxQliiZLfvQ00xfFOQpj8a+/pIRiz02RhRj4i1OYEATevJ5sZvm+RIIIZrZW0mxPM30R4krRZOEATzOndEcX79+jc1ERAYgn3snCDZJ+8CMQlIr9s4ChMBb/vB3vLDNb70skKI13hqiTcy7Dl0iAmsMpA9HP+zfhFCbEmwMkNSr2nMnC6PODCosExdEXId54czrLzAp8iQSl8Y6JDnLONSpxTcQFCmPxj1MGot+PktZ52hgEIm445zpK6uBppi+KPiUNAhNKXBOITd4x0fdm5i3CwEdFxQGO1EDccs45sX8WCyZLKl6sbKTCyRXEKQpjccw511jSgZ5mThmIMkWDwCxPM4NAxBNvPq+RNNePQLBbUxQ+CGyoyG0IEMu4M25siCiMFRUTgHjQSVJ7Txt9UZQxs42SZnqa2T+LYxTG4ttBkorfWjZf0lSfYsHuRZzCxCAQccR7BOTnZma+RIJSmdkmSd95mjl6FXHBOZeowuuuFsdRGtHJ+3dpp8JiAhAPvNvV1ZJ+8iMQlIlLTAQIhbH45q1qTzezzb5EgrJ4O962kjr7EQhQnThlIOZwRzjEqwEKnyzcKekLn2LB7v0saZWnjb4I8SJiTMRkYdTyjokOKJpkQRyiMBbfOGUgdvwqaaWnjUEg4kE3Sa09bfRF0cv7t9nfOZfsSyRA9SppsnCLL5Fgt4qKBFxnDHGnlMlCxkTR6wsVTqLsUk/SQJ9iQQ2jMBannHMpkvbzNHOURpQqGgRypAbikTePf5c0349AUC4MAhGvOHI1tnCJCcSjvSS19LTRF0UpM8uW9K2nmf2zOEVhLH4NklS32PNcSV/5FAvKh0Eg4pH3egycMhDFzGyrpG88zVxTAzHNOZcqqa+nmZ3R6Ob9+7RUYVEBiGXe7ekySQv9CATlxnXGAoLCWPzyVrO/NrNtvkSC8vJ2vM0l7eNHIEB1cM7VUQmFMT9iQYVw9CrizcEKH/PukPS1T7GgfH6TtNTTRl+EWMf1xWKPd0zU1znXxI9AULMojMUvzl+PMWa2SNISTzODQMSy7pLSPG30RdHP+zfq45xr6kskQPUoabJwuy+RoFy4zhjiTdFk4WBPM2Oi6Pe1CidTdqmjwskWxBkKY3HIOZcmqaenmaM0YgOH6yKeePP3NzPzFn8Rfb6RlFPsuRODQMQ2jlyNTd6/0+Ci4gIQi3pIauZpozAW5cwsR5GXI2L/LA6xcYlPh6hwR2aX7ZKm+RQLKqakQWDdEtcEoh8Xu45BRYPALz3NHKmBmOScSxeThbHKWzRoqsi/JRArvNvRBWbmPV0Y0YlLTAQAhbH45P3H+oWZ5foSCSrKOwhsIqlX7YcBVI1zrp4Ki/TFMTMaOziFCfFisOf5NknTfYgDFWRmyyQt8DTTFyFWcZmb2OX9W/VwzjX3JRLUGApj8YlTBmKUmf0uaZ6nmcN1EYt6S0rxtDEIjB3e7ca+zrkWvkQCVI13GzqVycKYwiUmEPOKJgu9lyRg/yx2TJe01dPmnfxFjKMwFmecc60k7e1ppuONLRyui3jgzdufzewPXyJBZcyQlO1pG+xDHEBVcUp3bPP+vQ5xztX3JRKg8vpKSva0MVkYI4omU6Z6mtk/izMUxuKPdyZti6Tv/QgElebdUB7MIBAxiFMGYpiZ5YlBIGKcc66NpD09zfRFsSXL8zxJhUUGIJZ4t58/mdkqXyJBZXGJiThHYSz+eAtjk81spy+RoLKyPM8TJe3nQxxApTjnGkga6GnmKI3YwylMiHWDPc83SZrpQxyopKLiwVxPM30RYg2XuYl93r9Zt6LJF8QJCmPxh1MGYpyZrZb0o6eZWQnEkv0lNfa0ZfkQB6rGu/3o6pxr60skQOV4t51MFsYmLjGBmOWcaygmC+PBTBVOrhRHkT6OUBiLI865DEmZnmY63tjEIBCxzJuvs8xsnS+RoCp+kLTB08YgELGEycL44P27DSwqNgCxoL+khGLPTdJkn2JBJZlZviInedk/iyMUxuKLd4dlnSKPPEJs8J7HPsA518iXSICK4/picaBoEOgdvDMIRExwznWQ1NHTTF8UmyarsJiwSyNJB/gUC1BRJU0WrvclElQV1xmLYxTG4ou3MJZlZgW+RIKqmiyp+N+uoRgEIgY45xIkHehp5iiN2BVx9KpzzvkSCVAx3jHRWklz/AgEVWNmGxR5bTiOXkWs4Ppi8cP7t+vgnPNOwCBGURiLE0U7KpwyECfMbKMi7ybKrARiwUGSGhR7ni9pik+xoOq825H2ijwKB4hGEUeuMlkY07jEBGKOc66xmCyMJ3MlrfG0UaSPExTG4kdnSd6LInPKQGzjcF3EIm+efmdmm32JBNXhJ0mrPW30RYhqpUwWMiaKbd6/3wFFRQcgmg2QVL/Y83xJU32KBVVUNLmS5WlmTBQnKIzFD2+1eqWkX/wIBNXGO6PU3zmX6EskQPlxykAcMTNT5A4ps6OIdl0ktfG00RfFtqkqLCrsUl+FRQcgmnm3l9PNbIsvkaC6eLclh3KJifhAYSx+RJxGWbRDg9j1haTit5Wvp8jbPQNRwzmXLGl/TzM7o7GP64wh1njHRCskzfMjEFSPomLCt55mjtRAtOMyN/HH+zdsI6mrH4GgelEYiwNFOyjeGQlOGYhxZpYtBoGILYMk1S32PE/Slz7Fgurj3Z60krSnH4EA5VTS9cWYLIx9XGICMcM5lyJpP08z+2exb74KJ1uKoy+KAxTG4sPeklp42piRiA8Rh+v6EgVQPt78/MbMtvkSCarTAknLPW30RYhKzrk6kgZ7mhkTxQfv33E/51yqL5EAZfNOFuZK+sqnWFBNiiZZ2D+LQxTG4oO3Sr1E0iI/AkG183a8fZ1zTfwIBCgHThmIQ6UMApkdRbTaR1JzTxt9UXz4SoXFhV3qqLD4AEQj73byayYL40ZJ1xmjrhLj+APGB64vFr++lrSj2PM6kg72KRagVM65ZpJ6e5rZGY0fDAIRK7xjokVmttiPQFC9zGy7Io+4oUiPaMVkYfzy/i3TJe3rRyCoPgxqY5xzrq4iTxng/PU4YWY5YhCI2HCIpOIXZM+RNM2nWFD9vNuVZpJ6+BEIUIaI64v5EgVqCtcZQ9RzzqVJ6uVppi+KE2ZW0tlZ9EUxrp7fAaBynHMtVFgQ2yGpiWcxHW98+Uzh564f6pwbqsLTCSab2c6SXwbUPOdcb0ldFFmg/8LMdkS+ArHIzJY65xZKyizWfKxzbi9J35vZrz6FBsg5l6DC7eQ2FRbpi+MojfjymaR/FHve0zk3WFJTFZ4xscmPoABJcs61lzRAUmPPou1isjDefCbp/GLPD3POLZG0WtJXnL0Vexx/s9jjnGspabqkdpJM4UdpzDOzbr4EhhrhnDtIpd/Z7wkzG1mb8QC7OOfOkvRy0dNcSQ2KLb7ezO6o/ahQU5xzT0m6oFhTnqT6Rf89wswm+xIYAq3olN4PJR1Vyip7mJn3DmKIUc65BpI2KLLwIEkzJQ3kOk7wQ9FE0deSUiUVKPzMrE/M7EhfAkONcM6dLemlYk35+t/NFq41sztrPypUBadSxqaDVVgUk8KLYpLU2Tn3u3PugFqOCdXMFbpVUpYKC6AlOcc5580BoLacXez/G3iW3eacG++cS6rNgFD9nHMtnXPfKLwoJhUWxXb997TajQoISVPpRbF8SQudc3+txXhQQ5xzJ6jwaIyGpazSW4V3agf8cJwKi2JS5D724c65X5xzXWs5JlQz51x959y/JT3vWVT8DqTn1GJIqCYUxmLT7k5PqiOpjaR/1lIsqDkZkm5Q4U5nacUvTlWDn3aXf07SsZJOqaVYUHNGSepfxjq5ZSwHakrebpbVldRI0oPOudKKKYgdD6mw8FB3N+vQF8EvZY2Jukm6tpZiQc0ZIOk80Q/FHQpjsenbcqzDUUSxrzz/PqdxDjt8VJ7rZdAXBcM3fgeAYDKzjZJ+KWO1nYo8qhUxpJxHx2+VNLemYwFKwZgIuzAmikEUxmKQma2UtGQ3q+RLuqWWwkENMbPfJD1bxmpcyBN+Kiv/fpL0n9oIBDXqcUkry1iHvgh+Kiv/7jazLbUSCWpE0STgTWWsNt3M8msjHqAEs7T7I4W2SrqndkJBDZqssm90x5goBlEYi127+wc32sy4C1N8GCVpym6W0/HCTzNUeIHZkqyUdIyZba/FeFADiiZjjlPhHf9KskrS0tqLCIiwu23hK5Jura1AUHPM7HlJu7ugNWMi+KboTtyzSllcIOl0M+OIxhhXVKQ/Rbs/Upm+KAZRGItd35XSfpeZPVmrkaDGFG1kT5L0aymrlOe0WqBGmFm2pN9LWLRN0vFmtrsjWxFDzOw7SX9SyYXQBZzSDZ+VthMyVdJ55GdcuV6lH4nMzij8Vlrha4yZfVirkaDGmNkGSceo8GYgXjmS5tVuRKgOFMZiV0kd738lXVfbgaBmmdl6FXa+2Z5FW4uWAX76o4S2P5nZjFqPBDXKzN6XdGkJiyiAwm8/KvLuzb9LOrFogglxwswKJI2QNLOExRTG4LdFJbTdY2aP13okqFFmtkiFR9Pv9CxaU9RPIcZQGItdE1VYkd5llaSz+YcYn4quN3ayp/lTP2IBPLyDvQeKCiiIQ2b2qKSPPM2P+hELsIuZ5amwOLZLvqTDmTyKT2aWI+kIhZ/evcrMVvgUErDLswo/snqOpLE+xYIaZmbTFTlh+JofsaDqHEeXxy7n3J4qvIjjZhUeorvR34hQ05xzh6nwNIIfJf2NQiiigXPuIklnSXrHzB7wORzUsKK7w90m6SAVFkLf9TkkQM65BEmPSWot6Sozm+1zSKhhzrkMSQ9J2iHpEjNb5XNIgJxzAyTdLGmBpMvMbHcX5EcccM6dKemvkiaZ2W1+x4PKoTAGAAAAAACAQOJUSgAAAAAAAAQShTEAAAAAAAAEEoUxAAAAAAAABBKFMQAAAAAAAAQShTEAAAAAAAAEEoUxAAAAAAAABBKFMQAAAAAAAARSPb8DKM45V0dSmt9xIOqsM7OC8q5MHqEEFcqhspBjcalac6Qk5E0gVSmvyBmUgJxCRVX79o08CiTG0qiqGh9rV0VUFcZU+I9jtd9BIOq0kLSmAuuTR/CqaA6VhRyLP9WdIyUhb4KnqnlFzsCLnEJF1cT2jTwKHsbSqKraGGtXGqdSAgAAAAAAIJAojAEAAAAAACCQKIwBAAAAAAAgkKLtGmMRfvrpJ6Wnp/sdBmrJ2rVrtffee1f7+5JHwVFTOVQWcix2+JUjJSFv4kdt5RU5ExzkFCrKz+0beRQ/GEujqqJprF1eUV8YS09PV/Pmzf0OAzGOPEJNI8dQGeQNKoqcQXUjp1AdyCNUFTkEP3EqJQAAAAAAAAKJwlgppk6dqqSkJOXn55f7NUlJScrKyqq5oBBzyCNUFTmEqiKHUB3II1Q3cgoVRc6gNpBnwURhrBSDBg1Sdna26tatW+7XZGdna/DgwTUW06OPPqoOHTqocePG6tOnj6ZMmbLb9R966CH1799fjRs3Vtu2bUtcJysrS3369FHjxo3VsWNHPfbYYxHrfPDBB+rfv7+SkpKUlpamU045pVq+TxDEeh7t2LFDI0eOVNeuXZWcnKy2bdtq5MiR2rBhQ9h6s2fP1sEHH6zExES1adNGN998s8wstHzs2LHq3r27UlJS1Lp1a5155platmxZjX3HeBKUHBo/frz69u2rlJQUtW/fXv/85z/Dln/66acaMmSI0tLS5JzTggULauS7xaNYz6Hidu7cqX79+kXkQEFBge655x517txZSUlJ6t69u8aPHx/22uXLl+uMM85Qy5YtlZKSolNOOUUrVqyo1u8Vz+Ihj0aOHKmMjAylpKSoRYsWOuWUU7R48eLQ8t9//13Dhg1TRkaGnHN6+umnI96DPKo+8ZBTu5TWN+Xn5+v6669XRkaGkpOT1a1bNz3xxBM1FX7cC0LO/PDDDxo6dKhatWol55wmTZoU8dobbrhBvXv3VoMGDTRw4MBq+y4oFA95NmLECNWvX19JSUmhxzXXXFNj8cUFM4uah6Tmkqz4Y/Xq1Qaz119/3VJSUiwrK8t27NhhjzzyiCUmJtrSpUtLfc0bb7xhb775pt122222xx57RCxfvHixNW7c2B555BHbsWOHZWVlWUpKiv33v/8Ne4/09HR77733LCcnx3JycmzatGk18h3NzFavXm3eHJDU3MijalHRPMrOzraxY8fa3LlzbefOnbZixQo77LDDbNiwYaF1Nm/ebK1atbKxY8fatm3bbPbs2bbHHnvYfffdF1pn7NixNmPGDNuxY4dt2LDBzjzzTOvZs2eNfMfqyKGyHkHOsZrIoW+//dYaNmxo77zzjuXn59v3339vLVu2tAcffDC0ztdff23PPfecjR8/3iTZ/PnzK/0daiNHSnoEOW+Kq8z2bJd//OMfduSRR0bkwH333Wft27e3OXPm2M6dO+3VV1+1+vXr23fffWdmZvn5+da7d28bPny4bdmyxTZt2mSnnXaa9e3b1woKCqrle9VEXpEzpatMHs2ZM8c2b95sZoV90xVXXGF9+vQJLV+xYoU98sgj9sUXX1jbtm3tqaeeCnt9beRRceRU7aqJvumhhx6y9PR0mz17tpmZZWVlWaNGjWzChAk18h1qa/tGHhWqiZz56aef7Mknn7Tp06ebJPvkk08iXvvMM8/Ye++9Z2PGjLEBAwZU63cyYywdbSqTZ8OHD7ezzz67FqMM59dYuyoP3wMIC6YW/4GsXLnShg0bZqmpqdaxY0d76aWXTJJ9/vnnZmb2+eefmyTLy8szM7ObbrrJBgwYYDfffLO1atXKmjZtahdddFFouRV+gRI7r+owePBgu/zyy8PaevXqZbfcckuZr3322WdLLIzdfPPN1qtXr7C2yy+/3A477DAzMysoKLD27dvbQw89VIXIKybWCmNByqNd3n77bUtJSQk9f+6556x58+Zh3+GBBx6wTp06lfoeM2fONEm2fv36CkRfPrG2MSeHzK6++mo76qijwta5/vrrrXPnzhGvXbRoEYUxj6Dk0HfffWeZmZn2ww8/ROTA/vvvb//85z/D1h8wYIBdcMEFZla4oyHJ/vjjj9Dy+fPnmyT74osvqvqVzCz2ixhByaNdsrOz7f/+7/8sMTGxxOUZGRkRhbHayKPiyKnYyKnd9U2XXnqpnXjiiWHr9+3b1+68887qC7yYWC+MkTPhyop91/evbrE2lq6oIOQZhbGKPwJ7KuVZZ52l/Px8LVq0SN99951ef/31Ml8zbdo0JSYmasmSJfrmm2/0xhtv6MUXXyz3Z/bo0UNNmjQp9XHnnXeW+tpZs2Zp//33D2vr16+fZs6cWe7Pr+h7/vrrr1q6dKk2btyofffdV+np6Ro4cCDnTxcTxDyaOHGievfuHfaevXv3Vr16/7vJbb9+/fTbb79p8+bNpb5HRkaGmjZtWu7PjVfk0P8maIorKCjQggULtGXLlnK/b1AFIYd27Nih4cOHa9y4cUpJSYlYXloOff/996Hlxf+7a7mk0DpBF4Q8kqTHHntMqampSkpK0oMPPqjbbrut3PGSRxUThJwqq2+66KKLNG/ePM2cOVMFBQX69NNPtXDhQg0dOrTc3ylIyBnUhiDkmVR4mZK0tDRlZmZq5MiRWrNmTbnjDaJ6Za8Sf5YvX67PPvtMc+fODe2Y33777Xrvvfd2+7p27drpyiuvlCR17dpVQ4YM0bfffqtzzz23XJ87e/bsSse8efNmNWnSJKytadOm+u2336r0nl27do14z13FjLVr10qSXnnlFb3zzjvq2LGjnnjiCR177LGaM2eOOnbsWOnPjgdBzKMXXnhBL774or744osy33PXMu9Gf9KkSfrHP/6ht956q+JfIM6QQ4VOOOEEPfDAA/rvf/+rE044QbNmzdIzzzwT+rzk5ORKxxvvgpJDN954o/r3768jjzwy7JpQu5x44okaN26cjjnmGO299956/fXXNW3aNHXq1ElS4Xfca6+9dPXVV+uRRx5Rfn6+rr32WjnnSi3gB0lQ8kiSRo0apVGjRmnFihV65pln1LNnz3J/JnlUfkHJqbL6po4dO+rII4/UfvvtJ+ec6tSpowceeEA9evSodJzxipxBbQhKnl1yySW688471bJlSy1cuFCjRo3SCSecoK+++krOuUrHEs8CecTY77//LknKyMgItXXo0KHM17Vp0ybseWJiYq0dzZCSkqKNGzeGtW3YsKFKMw1lveeu/1566aXq1q2bGjRooEsuuURt27bVxx9/XOnPjRdBy6Mnn3xSV1xxhT7++OOwHYnS3nPXsuLGjx+vU089VS+99JKOPvroyn2JOEIOFRo4cKBeeukl3XbbbWrRooXGjBmjUaNGqU6dOhxVWIYg5NBXX32l119/Xffdd1+p73n11Vfr/PPP16mnnqqWLVvq3Xff1Zlnnqn09HRJUr169fT+++8rOztbe+65p3r16qVDDz1UiYmJoXWCLAh55NWmTRtddNFFOvbYY7Vq1apyvYY8Kr8g5FR5+qYxY8ZoypQp+vXXX5WXl6cZM2boX//6lx5//PHqDD0ukDOoDUHIM0nq27dv6AYOnTt31lNPPaVvvvlG8+fPr+FoY1cgC2N77LGHJGnJkiWhtuL/X1P22WefsDtDeB933HFHqa/t1auXpk+fHtY2Y8aMsNORKqqs9+zWrZsSExOpKpciSHl011136YYbbtCkSZM0YMCAiPecOXOmdu7cGfaenTp1CuuwX375ZZ199tn6z3/+o5NOOqkiXzlukUP/c/rpp+v777/X+vXrNW3aNG3cuFEHHnigGjduXLkvGRBByKGJEydq1apV6tSpk9LT09WnTx9J0v77769bb71VUmHB4uabb9b8+fO1fv16vf766/rpp580ZMiQ0PtkZmbq7bff1h9//KGlS5dq0KBB2rp1qw477LCq/hwxLwh5VJK8vDxt3769QndJJo/KJwg5VZ6+acaMGTrnnHPUuXNnOefUo0cPnXjiiXr33Xer6RvHD3Lm1ur7UihVEPKsJHXqFJZ9vJedwP8E8lTKtm3bavDgwbr22mv1/PPPSyq87W1Nmzt3bqVfO3r0aF144YU66aST1L9/f/373//WvHnzNGLEiFJfs3PnTu3cuVN5eXmSpJycHElSw4YN5ZzTiBEjdNddd+mxxx7T+eefr2nTpumZZ54JncLUsGFDXXjhhXrooYd0xBFHKCMjQ0899ZRWrFjBtREUnDy65ppr9NJLL2ny5Mnaa6+9IpaffPLJGjt2rG666SbdcMMNWrhwof71r3/p8ssvD63zyCOP6MYbb9T48eM1aNCgSscfb8ihQgUFBZoxY4b69Omj3Nxcvfnmm3rmmWf04Ycfhq2Tm5urHTt2SJJyc3OVk5Oj+vXrV+h22vEmCDn0t7/9TRdccEHo+fLly3XggQfqvffeC52OtGrVKm3ZskWZmZlav3697rjjDq1du1ZXXHFF6HWzZ89W+/btlZKSoh9//FHnnnuuRo0apS5dulT6u8SLIOTR2rVrNX78eJ1wwglq1qyZli1bposvvljt2rXTvvvuG1pv11jJzLRz507l5OSobt26ql+/viTyqLyCkFPl6ZsGDRqkV155RSeffLIyMjL0888/h45oRThypjBnzCw01pEKC/g5OTmqV69e6Hq+eXl5ys/P186dO2VmoX6rUaNGlf4uQRGEPMvJydH48eN1xBFHKDU1VYsXL9bIkSPVt29ftlW7EcgjxqTC62aZmTIyMtS7d2+dcMIJkqK3QznttNN022236ZxzzlFqaqqeeuopffDBB2rXrl1onaSkJL388suh57fddpsSEhJ00UUX6ffff1dCQoISEhJCVfGMjAx9+OGHevLJJ5Wamqo///nPuuOOO3TyySeH3uPuu+/W0KFDdeCBByo9PV0vv/yyPvroo3IdchoE8Z5HS5Ys0d133601a9aoX79+YTMbS5culSQlJydrwoQJmjJlitLS0nT44YfrvPPOC9shveSSS5Sdna2hQ4eGvcfUqVNr9weIQuSQlJ+fr4svvljNmjVTixYt9Mwzz+iDDz4IO7JsypQpSkhI0J577impcOYtISGhQhc+jVfxnkMpKSlq27Zt6NGqVStJUqtWrUJHpa5YsULHHXeckpOT1aVLF61YsUJffvml0tLSQu/53nvvqVu3bkpKStIpp5yi008/XQ8//HAtfvPoFu955JzTSy+9pC5duigxMVEHHnigEhMT9emnn4Z9x11jpaVLl2rUqFFKSEjQhRdeGFpOHpVfvOdUefqmu+++W/3799fAgQOVlJSko48+WsOGDdONN95Y+18wBpAzheOmXf2QJB1zzDFKSEgIu1HIhRdeqISEBN1+++366quvwtZH2eI9zwoKCvTggw+qY8eOSkxM1CGHHKKMjAyNHz8+dOQYIrloOpzOOddc0uribatXr1bz5s1r/LN33VlvxYoVat26dY1/Hkq2Zs0atWjRwtvcwszKfRsN8ijYqiOHylKTOUYO1bzayJGS1FbfRA75oybyiu1ZsJFTqKja2r6xPYtvsT6WrijyrPr5NdauisCWDOfMmaPvv/9eBQUFWr58uf72t7/p0EMP5R8DKoQ8QlWRQ6gqcgjVgTxCdSOnUFHkDGoDeYaSBLYwtmnTJv3pT39ScnKy+vbtGzpNEKgI8ghVRQ6hqsghVAfyCNWNnEJFkTOoDeQZShLIi+9L0oABAzRv3jy/w0CMI49QVeQQqoocQnUgj1DdyClUFDmD2kCeoSSBPWIMAAAAAAAAwUZhrJY45zRp0iS/w0CMI49Q3cgpVAfyCBVBvqAmkFeoKnII1YE8ik0UxgJu5MiRSkpKCns453TZZZdFrLt582Z16NBBzjnt3LkzbNnPP/+sE044QampqUpNTVWfPn20cuXK2voa8FlZebR06dKI5Q0bNlTdunW1du1aSdIPP/ygoUOHqlWrVmxQoKysLDnnwnKmbdu2YevccMMN6t27txo0aKCBAwf6FCmi2bvvvqsePXqoadOmatKkifr06aM333wzbJ3p06fr0EMPVdOmTZWenq6TTjpJS5Ys8Sli+OmFF17QgAED1KxZM6WlpWnw4MH68ssvw9bxbssaNWok55xmzpwZWmfjxo0aPXq0WrduraSkJHXp0kUTJ06s7a+DKFGe7dmGDRt09tlnKzU1VU2aNNHZZ5+tjRs3+hMwok5ZObR69WoNHz5cHTt2VFJSkjp06KBrr71WO3bs8DFqRKPly5fr7LPPVlpampKTk7XPPvto9uzZoeWDBw9WgwYNwnJt3LhxPkZceyiMBdzjjz+u7Ozs0OOrr76SJP35z3+OWPfyyy9Xt27dItoXLlyoAQMG6JBDDtGyZcu0YcMGPffcc0pKSqrx+BEdysqj9u3bhy3Pzs7Wscceq6FDhyo9PV2S1KBBA5188skaP368b98D0Wfjxo2hnFm+fHnYsszMTN1yyy266KKLfIoO0W6//fbTRx99pPXr12vDhg164IEH9Oc//1k//PCDJKmgoEDHHnusevTooZUrV2rRokWqX7++zjzzTJ8jhx+2bNmiv//971qyZIlWrlypE088UUcffXRY3+Pdlo0ePVr77ruvevfuLUnKzc3V4Ycfrk2bNmnGjBnKzs7WZ599VuL4CcGyu+3ZOeeco1WrVmnhwoVasGCBVq1apeHDh/sUKaJVaTmUnZ2tbt26adKkSdq8ebMmTZqkDz74QNdcc42P0SLarF+/XgMHDlSrVq00b948bd68We+8845atWoVtt7VV18dsZ0LgrgsjD3yyCPKzMxUcnKyWrZsqREjRoSW/f3vf1fXrl2VnJysdu3a6ZJLLtG2bdtCy0eMGKEzzjhDo0aNUlpamtLT0/XAAw9o2bJlOuqoo5ScnKy9995bX3/9deg1N998swYOHKhrr71WLVq0UKtWrXTVVVcpLy+v1BinTZumwYMHKy0tTRkZGbrxxhtDR2Hl5uZq9OjRatWqlZKTk9WhQwc9/PDD1f9DlWDcuHHaf//9td9++4W1v//++/rxxx911VVXRbzm5ptv1qGHHqr/+7//U0pKiurUqaMePXrEfGGMPKq80vJol99//13vv/++xowZE2rba6+9dOGFF5b6mnhATlWvc889V8cff3youBoU5FH57bHHHtpjjz3knJOZqU6dOjIzzZ8/X1LhnanWrFmj8847Tw0bNlRycrL+8pe/hB39E+vIl/IbM2ZM6HvVr19fl19+uerWravp06eXuP727dv13HPPhe00vPjii1qxYoWeeeYZ7bHHHpKkdu3aKSMjo0Zi9gt5VX2WLFmiDz/8UPfee6/S09OVnp6ue++9V++9956WLl3qS0y1gRyqPp06ddJ1112nzMxM1alTR507d9Z5552nzz//3Jd4ahN5VH73339/qH9JS0uTc05dunRRixYtauTzYo6ZRc1DUnNJVvyxevVqq4h58+ZZQkKC/fjjj2ZmtmXLFps8eXJo+QsvvGBLliyxgoICmzNnjmVmZtrYsWNDy4cPH24NGjSwN954w3bu3Glvv/22Oeds8ODBNnv2bNu5c6ddeuml1rVr19BrbrrpJqtXr57dcMMNlpOTYz///LN17NjRbrvtttA6kuyTTz4xM7NffvnFEhMT7dVXX7W8vDxbvHix9ejRI7T+k08+ab169bI1a9aYmdkff/xh3333Xanf+dhjj7XU1NRSH6NGjSrXb7dp0yZLSkqy5557Lqx97dq11r59e/vxxx/t888/N0mWl5cXWt6yZUv761//aocddpg1bdrU9tlnHxs3bly5PtNr9erV5s0BSc2NPDKz2M6j4m688Ubr1KmTFRQUlLi8+PesqOrIobIelckxcqpiObWrr2nbtq21aNHCDjvsMMvKyipx3ZtuuskGDBhQ6nt51UaOlPSgb/Knb9q4caOlpqZavXr1TJINHDjQtm3bFlo+ZswYGzNmjG3dutU2bNhgp5xyip111lll/i28aiKvqpoz5Evlt2VmZt98843VrVvXFi5cWOLyf//735acnGxbtmwJtZ1xxhl26KGH2vDhwy09Pd06duxol19+uWVnZ5f7c3eJxpwyI6+qe3v2zjvvWMOGDSNe16BBA3v33XdLfd+S1Nb2jb4punKoJEOHDrXhw4fvdp3SROtY2os8qlge9e/f30477TQ78cQTrWnTpta1a1e75ZZbbOfOnaF1DjnkEGvWrJk1adLEunXrZtdcc03YNq68/BprV+XhewBhwVTDP5DffvvNGjVqZK+99ppt2rSpzPXvu+8+69OnT+j58OHD7bDDDgtbp0mTJnbHHXeEns+YMcMk2caNG82s8B9IixYtwpJq3Lhx1qlTp9Dz4v9ALrnkEvvTn/4U9hkvvfSSZWZmmpnZc889Z507d7bJkydbbm5ueb96lT388MOWlpZm27dvD2s/7bTT7NZbbzUzK7EwVrduXUtISLCJEydaXl6eTZ482ZKSkuy1116rcAzRUhgjjyqvtDzaJTc311q3bm133313qe8Rj4Uxcqpi/vjjD5s1a5bl5eXZ5s2b7Z577rGGDRvazJkzI9YNUmGMPKq87du325tvvml33HFH2HfJysqyPffc0+rUqWPOOevdu7etXLmywu8fjUUM8qXyli5dahkZGXb99deXus5+++1no0ePDmsbMmSISbJ//vOflpOTYwsXLrSePXvayJEjKxxDNOaUGXlVUWVtz1544QVr0aJFxOtatGhhL774YoU+K1YKY+RQxVRkTGRmdsstt1irVq1s2bJllfq8aB1Le5FHFZOZmWnOOXvxxRctNzfXZs2aZW3btrU777wztM6XX35p69ats/z8fJs1a5b16tXLTj/99Ap/ViwWxuLuVMqOHTvqtdde07PPPqv27durX79+evXVV0PLn3jiCfXp00dpaWlKTU3V9ddfr9WrV4e9R+vWrcOeJyYmhrUlJiZKKrwWxS7t2rVT3bp1w+JYtmxZiTHOnz9fb7/9tpo0aRJ6jBo1KnSx+nPOOUd//etfddVVVyk9PV1Dhw7Vd999V8lfpPwee+wxnXvuuWrUqFGo7bXXXtPChQs1duzYUl+XkpKi448/XkcccYTq1aungw8+WGeddZb++9//1njMNYU8qryS8qi4t99+Wxs2bNB5551X47FEE3KqYlq1aqWePXuqXr16Sk5O1pVXXqkDDjhAr7/+eo18XqwgjyqvUaNGOuWUUzR16tTQhWTnz5+vI444InR6xZYtW3TcccfpoIMO0tatW2s8pppGvlTOggULdPDBB+v000/XbbfdVuI63377rWbMmBFx7ZWUlBS1bNlSY8eOVcOGDdWpUyddc801MT0m8iKvKqas7VlKSoo2bdoU8bqNGzcqJSWlRmLyGzlUMRUZE91444168sknlZWVFXGTh3hDHlVMSkqK+vXrp3POOUf169dXz549NXr06LDt00EHHaRmzZqpTp066tmzp+6//3699dZb2r59e43EFE3irjAmScOGDdPHH3+stWvX6qqrrtLZZ5+tefPm6euvv9bFF1+se++9VytXrtSmTZt0++2376paV8myZcuUn58fer548eJSO6NWrVrprLPO0saNG0OPzZs3Kzs7W5JUt25dXXnllZo2bZp+//137bXXXho2bFipnz106NCIuyQVf4wcObLM+LOysvTzzz9r1KhRYe0ff/yxfvnlF7Vq1Urp6emhOFq1aqXnn39ektSnTx8558r8jFhDHlVfHhU3btw4nX766UpLSyvz/eINOVXxnCpu1/Whgo48qloe5eXl6ddff5UkzZ49WwkJCRo9erQaNmyoxMREXXnllfrtt980Z86cCr1vtCJfKpYvs2fP1qBBg3Teeefp7rvvLnW9cePG6eCDD9Y+++wT1t6nT5/dvn+8IK+qb3vWq1cv7dixI+zOcLNnz1Zubq569epVofeNJeRQ9Y6JzExjxozRq6++qqlTpwbmhh/kUfnzqDL77HXqFJaLgjD+jrvC2K+//qoPP/xQ2dnZqlevnlJTUyUVJt2mTZtUt25dNW/eXPXr19f333+vRx55pFo+d/369brlllu0Y8cO/frrr7rnnnt07rnnlrju6NGj9eabb+qNN95Qbm6u8vPztWDBAn388ceSpM8++0wzZsxQbm6uGjVqpKSkpLCqtNdHH30UcZek4o/HH3+8zPjHjRuno446Sp06dQprv//++/Xrr79q1qxZmjVrlp5++mlJ0nfffadTTz1VknTJJZfovffe0+eff66CggJ99dVXeu2113T66aeX67eLRuRR9ebRLj/99JMmT55c4t1NzEw5OTnKycmRVLjzmpOTE7o4ZawjpyqWUxMmTNCiRYtUUFCgbdu26cEHH9SXX36pU045JbRO8Rzx5k+8Io8qlkcvvPCC5s2bp/z8fG3fvl2PP/64PvvsMw0dOlRS4V0rc3Nz9eSTT2rnzp3KycnR/fffr6SkJHXt2rUKv1h0IF8qli9fffWVBg8erGuuuUY33njjbr/ff/7znxK3ZSNGjNDWrVv1r3/9S3l5eVq6dKnuueeemB4TeZFX1bs9y8jI0DHHHKMrr7xSa9eu1dq1a3XllVfq+OOPV/v27avwi0Uvcqh6c2jnzp0655xzlJWVpalTp6pDhw6V/5FiCHlUsTwaNWqUvv/+e7322mvKz8/X3Llz9fjjj4e2T6tWrdLHH3+srVu3ysw0d+5c/e1vf9MJJ5ygxo0bV+EXiw1xVxjLzc3V7bffrj322EMpKSn6v//7P73wwgvKzMzUkUceqZEjR2rw4MFKTU3VddddV223Qu7fv79yc3PVtm1bHXzwwTrxxBNLPf2wX79++uSTT/TUU09pjz32UFpamk499VQtWbJEkrR69WqNGDFCzZo1U/PmzTV58mS9+eab1RJnSVauXKl33nmnxAFe06ZN1bZt29CjefPmkgrv9LXr0NJhw4bpkUce0YUXXqjk5GRdcMEFuvfee8N2YGMNeVRxu8ujXR577DH16dNH/fv3j1i2ZMkSJSQkKCEhQZJ0zDHHKCEhodTTWGINOVUx3377rQ455BAlJyerffv2euedd/TRRx+F3bX0wgsvVEJCgm6//XZ99dVXYfkTr8ijilm4cKGOOuoopaSkqG3btnr++ef1yiuv6Nhjj5VUuEP67rvv6tlnn1Xz5s3VunVrffrppxo/fryaNm1aIzHVJvKlYq6//npt3LhRN9xwQ9gM/B133BG23rPPPqsmTZro5JNPjniPtm3bauLEiXrzzTfVpEkTDRw4UEOGDNnt0WexhryqmPJsz1588UWlp6crMzNTmZmZat68uV544YUaiScakEMVU1YOffnll3rllVe0cOFCdenSJaz/imfkUcX07dtXb731lm6//XalpKTohBNO0KhRo3TFFVdIknJycvT3v/9dbdq0UXJysoYNG6bDDjssdJZYvHPRdFicc665pLATf1evXh0qxkSrm2++WZMmTdIXX3zhdygxb82aNSXdMraFma0p73uQR8FWHTlUlljJMXKqZLWRIyWJlbzxIo/KpybyKhZzhnypPuTU/5BX5VNb27dYzCNyqPwYS5eOPCofv8baVRF3R4wBAAAAAAAA5UFhDAAAAAAAAIHEqZSIKkE+lRLVg8O/URZOpURN4LQ3VDdyChXFqZSoDoylUVWcSgkAAAAAAADEiEAWxkaMGKFzzjnH7zBKNWLECNWvX19JSUmaOXOm3+FUu/Hjx4duRXvDDTf4HU6lkEP+uuaaa5SUlCTnnCZNmuR3ODWGPKu8TZs2KSkpSQ0aNNDAgQP9DqfWkDM168wzz1RiYqKcc1qwYIHf4VQLcsZ/bdu2VaNGjdS2bVu/Q6k25FXNCsI4iByqWfG4PfMih2pWvPVDgSyMxYIzzjhD2dnZ6t27tyTp5ZdfDrv1blJSkurVq6eePXuGXmNmuummm9SmTRslJibq4IMP1pw5c0p8/++++07169ev0g7ju+++K+dcWIezevVqDR8+XB07dlRSUpI6dOiga6+9Vjt27Aitc9xxxyk7O1uDBg2q9GejbN4ckqQdO3bouuuuU0ZGhhITE5WRkRF2O/BVq1bprLPOUsuWLdWkSRMdeOCBmjx5cmj5N998o/3220/NmjVTSkqK9t57bz322GMVju3+++9Xly5dlJycrA4dOujWW29V8dO6p0+frkMPPVRNmzZVenq6TjrppNBtjSXprrvuUnZ2doU/F9WvpDzbpaR+ZseOHRo5cqS6du2q5ORktW3bViNHjtSGDRsq9LkbNmzQX//6V+2xxx5KSkrSEUccoV9++SW0PDU1VdnZ2bruuusq/+VQI7w5M23aNB1//PFq1aqVUlJS1L17dz377LMRr3v00UfVoUMHNW7cWH369NGUKVMq9LmffvqphgwZorS0tFJ3BCZMmKD9999fqampatmypUaMGKH169eHlr/66quaO3duBb8xqqoyOXPfffepb9++Sk1NVYsWLXTcccdF/O1uuOEG9e7du0oF9MGDB6tBgwZh47Nx48aFlmdlZck5F7bcWwBbvny5Hn/88Up9PirPm1e//fabBgwYoPT0dKWkpCgzM1O33nqrCgoKQq+pyFi7NGPHjlX37t2VkpKi1q1b68wzz9SyZcvC1lm6dKmOO+44JScnKz09XRdffLFyc3NDyxkHRYfK5NA+++wT1h80btxYzjm9/fbb5f7c1157TYMGDVJKSoqcc9q5c2fEOs45JSQkhH3Wjz/+GFrO9iw6VCaH/vGPfygzM1OpqalKT0/XUUcdpVmzZlXoc8t6j/JsZ+OtH6IwFiPOPvtsZWdnhx4bNmxQenq6/vznP4fW+de//qVnnnlGEyZM0Nq1azVgwAAdddRREQmbk5OjESNG6JBDDql0PGvXrtXll1+uAQMGhLVnZ2erW7dumjRpkjZv3qxJkybpgw8+0DXXXFPpz0L1Oe200zR9+nR9+umnys7O1vTp09W/f//Q8tGjR2vZsmWaM2eO1q1bp1NPPVXHHXdcaMcwMzNTb7zxhtauXavNmzfrtdde00033aTx48eXO4b3339f1157rZ5++mlt2bJF48eP18MPP6ynnnpKklRQUKBjjz1WPXr00MqVK7Vo0SLVr19fZ555ZvX+GKhRpfUzO3fuVNOmTfXOO+9o48aNmj59uubPn69zzz23Qu8/YsQILVmyRD/88IPWrl2rffbZR0cccYS2bt1anV8DtWDdunU65ZRTNHv2bG3atEkPPfSQLrvsMr3zzjuhdd544w1dd911ev7557Vx40adf/75OuaYYyJ2JncnMTFRf/nLX8ImA4pbs2aNhg0bptNPP13r16/XnDlz9Ntvv+niiy+u6ldENStPzuTk5OiBBx7QypUrtWTJEu255546/PDDtX379tA6mZmZuuWWW3TRRRdVKZ6rr746bIw2evToiHU2btwYWr58+fIqfR5qRvPmzfXMM89o1apV2rx5sz755BO98sorevTRR0PrlHesvTvOOT333HNau3atfv75ZznndPzxx4eWFxQU6LjjjlOzZs30+++/67vvvtOUKVN01VVXVev3RfUrTw7NnTs3rL+48847lZaWpqFDh5b7c5o2barRo0frgQce2O1677//fthnde/evbJfDbWkPDn0pz/9STNmzNCmTZu0YsUKHXnkkTrqqKOUn59f7s8p6z3Ks52NNzFXGHvyySfVuXPnsKNLcnNz1bx5c/33v/+VJP39738PHY3Qrl07XXLJJdq2bVup7+k9/G/x4sURs8kffvih+vfvr6ZNm6pLly566KGHauDbld9bb72lzZs367zzzgu1jRs3TldeeaW6d++uhIQE3XrrrcrNzY2Ygbj++us1ZMiQKh0t9te//lWXXXaZOnfuHNbeqVMnXXfddcrMzFSdOnXUuXNnnXfeefr8888r/VnVLag59Omnn+qTTz7Ryy+/rM6dO8s5pxYtWqhbt26hdRYsWKBTTz1VzZs3V926dfXXv/5V2dnZmj9/vqTCzrpjx46qU6eOzEzOOTnnwo7UKcuCBQu01157hQom++67rw4++ODQIcSbNm3SmjVrdN5556lhw4ZKTk7WX/7yl5g7xDioebZLaf1MYmKi/vnPf2rvvfdW3bp11bp1a11yySUV6iO2bt2q8ePH6+abb1Z6eroaNWqkO++8U3/88UdMb7CDmjPHHHOMRowYoRYtWsg5p0MPPVSHHXZYWE6MGzdO5513ng455BA1aNBAY8aMUZcuXfTcc8+V+3MOOOAADR8+XPvss0+Jy5cvX64dO3bowgsvVN26ddW8eXOdfvrpUd33kDOl58x1112nQYMGKSEhQQkJCbrhhhu0cuXKsO3Vueeeq+OPP17p6em1Gn+0C2peJScnq1u3bqpbt24o5jp16ujXX38NrVPesfbu/POf/1Tfvn3VoEEDNWnSRFdffbV++OGH0JHTU6dO1c8//6z77rtPKSkpysjI0K233qqnn35aOTk51fulawg5VHoOeT322GM6//zz1ahRo3J/zlFHHaUzzzxTnTp1qnLM0YocKj2HunXrpqZNm0oqPIq1bt26Wr16ddgR7mUp6z3Ks52NNzFXGDvzzDO1cuXKsNO73n77bdWtWzc029KlS5fQEUsff/yxPvroI916662V/szPP/9cZ511lu644w6tW7dOb7/9tu655x69/PLLpb7muOOOU5MmTUp9lDSbWBHjxo3TGWecoWbNmkkqLCYsXrxY+++/f2idevXqqXfv3mGD+ilTpmj8+PG64447Kv3ZL730klavXq1LL720XOtPnDixxNOs/BLUHPrkk0/UsWNH3XXXXWrdurXatWunc889V2vXrg2tc8011+idd97RH3/8oby8PD366KPKzMxUjx49wt4rIyNDjRo1Uo8ePSKOXCzLmWeeqby8PH366acqKCjQrFmz9MUXX+jEE0+UVDgLNmbMGD311FPatm2bNm7cqOeee04nn3xyhb6v34KaZ1LF+5nK9BFmFjZY2vX8+++/r9D7RJMg50xxmzdv1rRp08JyYtasWWHbN0nq169ftRatevXqpeOPP16PPfaY8vLytHLlSr322mtR3feQM4VKyhmviRMnKjExUV27dq3SZ5XkscceU9OmTbXnnntq7NixJR491LFjR7Vs2VJDhgwJ+3tFo6Dn1a6CaqdOnbR582aNGTNGUvnH2hU1ceJEZWRkhHZSZ82apU6dOoUVbPv166dt27Zp3rx5lf6c2kQOlZxDXp999pnmzZunkSNHVupzynLOOecoLS1Nffr0CZ2ZESvIod3n0AcffKAmTZqoUaNG+tvf/qYrrriiwnf0rMh7lGc7G+tirjCWnJys008/XU8//XSo7emnn9Zf/vIX1a9fX5L05z//We3bt5dzTvvss4/GjBmjiRMnVvoz77//fo0aNUpDhgxRnTp1tO+++2rkyJElXgNll/Hjx2vjxo2lPopff6Ki5syZo6lTp4b9Q9u8ebMkqUmTJmHrNm3aNLQsOztb5513np566ik1bty4Up/9+++/65prrtEzzzyjOnXKTp9bb71VM2fO1G233Vapz6sJQc2hXYfs79ixQwsWLNCMGTO0fPnysKLWgAED1KhRI7Vp00YJCQm699579fzzzyshISHsvZYsWaItW7Zo4sSJOuWUU5ScnFzuOJo3b64zzzxTxx13nBo0aKA+ffro/PPP11FHHRVa57TTTtOnn36q5ORkNWvWTL/99pvuu+++Cn1fvwU1zyraz7zwwgt68cUX9eCDD5b7MxITE3X44Yfr73//u1atWqWtW7fq6quvlpmF+rtYFNScKS43N1dnnHGG9txzz7DrV27evHm327fq4JzTiBEj9PDDDyshIUGtW7dW48aNdf3111fbZ1Q3cqb0nClu9uzZGjlypB544AElJiZW+rNKcscdd2j+/Plat26d/vOf/2jChAk6//zzQ8v33HNPzZo1S4sWLdKCBQs0dOjQSl0PpjYFPa+mTp2q7Oxsffnll/rzn/+sFi1aSCrfWLuiJk2apH/84x9h15grrb8rHkO0I4dKziGvcePG6eijj1bHjh0r9Tm7M2nSJC1atEh//PGHbrvtNl199dWVui6wX8ih3efQscceq40bN2rdunW69957deCBB1b4M8r7HuXZzsaDmCuMSdIFF1ygt956Sxs3btTixYv12Wef6YILLggtf+KJJ9SnTx+lpaUpNTVV119/vVavXl3pz5s/f74efPDBsOrvrtN2/DBu3Djtt99+6tevX6gtJSVFUuE1LIrbsGFDaNmVV16pY445RgcffHClP/v888/X//3f/6lLly5lrnvjjTfqySefVFZWVtTdaSmIObTrAp133323EhMT1bJlS91yyy2aMGGCtm3bpoKCAh122GFq1aqV1q1bp5ycHD311FM65phjShzAN2jQQEcccYTWrl2rG2+8sdxx3HbbbXrqqaf0zTffKDc3V/Pnz9cnn3yisWPHSir8rY444ojQ4dBbtmzRcccdp4MOOijmrh8VxDyrSD/z5JNP6oorrtDHH38cdiOR8njppZfUpk0b9e3bV507dw4drRHrp0QFMWd22bZtm0444QTt2LFD77//vurVqxdalpKSstvtW3WYPHmy/vSnP+nhhx9WTk6O1q9fr/bt22vIkCFhRydGG3Km5JzZ5dtvv9WQIUN0yy23hP0u1eWggw5Ss2bNVKdOHfXs2VP333+/3nrrrdC1zFq1aqWePXuqXr16Sk5O1pVXXqkDDjhAr7/+erXHUp2CnFeSVLduXR100EFq0qRJ6Bp05RlrV8T48eN16qmn6qWXXtLRRx8dai+tvyseQywghyJzqLgVK1bo3XffrfIRs6UZMmSIEhIS1KBBAx1zzDG67LLL9OKLL9bIZ9UUcmj3OSRJzZo102WXXaYLLrhAP/zwQ6U+Z3fvUZ7tbLyIycLYQQcdpE6dOunll1/Wv//9bw0YMCB0aPzXX3+tiy++WPfee69WrlypTZs26fbbb9/toDYpKSlsh3vFihVhy1u1aqWxY8eGVX+3bNmy2zt5DB06NOIuksUflT1kdsuWLXrppZciOtHU1FR16NBB06dPD7Xt3LlTs2bNCh3y+PHHH+uFF15Qenq60tPTdffdd2vatGlKT08v9216J0yYoNtvvz30Hq+99prefPNNpaenh+48aWYaM2aMXn31VU2dOjXsGlbRIog51KdPnxLbnXMyM23YsEG//fabLr30UjVr1kz16tXTsGHDlJmZqQkTJpT6vnl5ebu9doLXjBkzNGzYMPXs2VN16tRRZmamzjnnHL377ruSCmf2ExISNHr0aDVs2FCJiYm68sor9dtvv1X4zk9+C2Kelbefueuuu3TDDTdo0qRJETfxKI8WLVro+eef1/Lly/XHH3/o4osv1qJFizRkyJAKv1c0CWLOSIU7fYcffrjq1aunDz/8UElJSWHLe/XqFbZ9kwr7kuo8pH/GjBnaa6+9dPLJJ6tevXpq2rSpLr30Un3zzTdVGmjXNHKm5JyRCq+teeSRR+qee+6ptZso7Dqafne/8a7rdEazoOaVV/ExTnnG2uX18ssv6+yzz9Z//vMfnXTSSWHLevXqpUWLFmndunWhthkzZqhx48Y1cipwTSGHCpU2Tn7yySfVrl27Cl10vypiod/xIocKlbWvVVBQoLy8vNA1oSujpPcoz3Y2ruy6Lks0PCQ1l2TFH6tXr7aS3HvvvdazZ09r27atPf/886H2jz76yBo2bGg//vijmZl999131qlTJ9tjjz1C6wwfPtzOPvvs0PPBgwfbiSeeaNu3b7eVK1fakUceaZJs/vz5Zmb29ttvW3p6uk2aNMny8vIsLy/PfvzxR5s8eXKJsVWVN77iHn30UWvWrJlt27YtYtndd99t7dq1sx9//NG2bdtm1113nbVp08a2bNliZmZ//PGHLVu2LPS44oorrF+/frZs2TLLy8szM7ObbrrJMjIySo2t+OuXLVtmp512mp100km2bNkyMzPLy8uzs846y/bee29bsWLFbr/nIYccYtdff31Y2+rVq82bA5KaWw3kUdByKDs729q2bWuXXXaZbd++3dauXWtHHnmkHXfccaF19tprLzv//PNt06ZNlp+fb++//741aNDAPvnkEzMze+utt2zWrFmWm5trO3bssLfeessaNWpkjz76aOg9ysqhu+66yzp06GBz5swxM7MlS5bY/vvvH4p38eLF1qhRI3viiScsLy/Ptm/fbjfffLMlJSXZ+vXrw95LUii2Xaojh8p60FeVHJ9Z+fqZq6++2tq0aWM//fRTqe+dkZFhN910U6nLf/nlF1u1apWZmc2fP98OP/xwO+aYYyLWu+mmm2zAgAFhbbWRIyU96JtKz5nu3bvb6aefbrm5uSW+7vXXX7fU1FSbMmWK7dixw8aNG2eJiYm2dOnS0DqHHHKIDR8+vNTPzs/Pt+3bt9svv/xikmzu3Lm2fft227lzp5mZff3119awYUN79913LT8/3zZv3mwXXXSRtW3b1goKCkLvs2jRorDfcJeayCtypvI589///teSk5PtjTfeKPW9c3Nzbfv27Xb99dfbQQcdZNu3b7ft27eHlu/6W3/++eclvn7lypX20UcfWXZ2thUUFNicOXOsb9++dtJJJ4XW+fjjj+23336z/Px827p1qz3wwAPWoEEDmz59eth7Pfvss2F/FzN/c8oseHk1ceJE+/LLLy0nJ8fy8vLss88+s+bNm9tVV10VWqessbZZ2duvhx9+2Jo0aWJTpkwpcXl+fr51797dhg8fbps3b7YlS5ZYz5497ZJLLolY1zsOqq3tG31T5XPIrHB/qU2bNnbnnXeW+N5l5dDOnTtt+/btNmHCBJNk2dnZtn37dsvPzzezwt9zxowZtmPHDsvLy7MJEyZY06ZN7cEHHwx7n9rcnnkf5FDlc+iBBx6wlStXmlnh3+rCCy+01NTUsH3vsnKorPcoz3Z2F7/2x6r74XsAYcFUYGO9Zs0aa9CggaWmpoYVifLz8+2yyy6ztLQ0S0lJsaOOOsr+8Y9/7PYfydy5c+2AAw6wxMRE6969u7344osRncRHH31kBx10kDVt2tSaNm1q/fv3t7feeqvE2Kpqd4Wxfffd1/72t7+VuKygoMBuvPFGa9mypSUkJNigQYNs9uzZpX5OSTuMI0aM2O2ORVmxZmVlmSRr2LChJSYmhj28/C6MBTGHfv75Zzv88MMtMTHRWrdubeeff76tW7cutHzevHk2bNgwa968uSUnJ9vee+9tTzzxRGj5uHHjrGvXrpaYmGipqanWq1evsKKYWdk5tHPnTrvhhhusY8eOoTjOO++8sKLXhAkT7IADDrAmTZpYkyZNbNCgQZaVlRXxXrFQGAtinhXn7WcWL15skqx+/foRfcSSJUvMzGz79u3WqFGjUndGzcz+/e9/2x577GEJCQnWtm1bu+qqq8J2aEv7fLPoL4wFLWduvvlmk2SNGzcOy4ejjz46bL2HH37Y2rdvb40aNbLevXtH9AkdOnSwZ599ttTP/vzzz0v6u4e95pVXXrGePXtaSkqKpaWl2dFHH20//PBD2PtEY2GMnInMmQ4dOlidOnUi+pmXXnop7L1LyoldsrKyrEmTJhGTMrssXrzY+vXrZykpKZaYmGiZmZl21VVX2ebNm0Pr3HLLLdauXTtr3LixpaWl2eDBg+3TTz+NeK9oLIwFLa/eeust6969uyUmJlpKSorttddeduutt4YmdczKHmuXZ/slyerVqxeRm8ULZYsXL7ZjjjnGEhMTrVmzZjZmzBjLyckp8b2iuTBGDkXmkJnZm2++aQ0bNrQ1a9ZEvG95cujZZ58tse/a9Zr33nvP9txzz9B4vUePHvbYY49FvE8sFMbIocgcOvbYY61FixbWuHFja9WqlR1//PFhky3lyaGy3qO8YzMz//bHqvvhewBhwVRgYx3PLrjgAmvcuLGlpqbazJkza/WzMzMzw2bga8L48eMtNTXVEhIS7Oabbw5bVpuFsXgW7zk0duxYS01NtYYNG9pnn30WtiyaNubxrqbybOLEiSUe/VURGzdutNTUVEtMTLTDDjssbFm0F8biWU3lzLx586x79+6h2fKactZZZ1lKSoo1bNjQFi5cGLbM7yJGvPJze3bdddfZ3XffXeOf0759e0tKSrLMzMywdnKq5kTz9qs8ShsHRVthLJ7Feg7V9vbM+yCHYj+H/N4fq+6Hs8LEjArOueaSwi7ksXr16grfehSxa82aNSXduaWFma0p73uQR8FWHTlUFnIsttVGjpSEvIlvNZFX5EywkVOoqNravpFH8Y2xNKrKr7F2VcTkxfcBAAAAAACAqqIwBgAAAAAAgECiMAYAAAAAAIBAqud3AGVZu3at3yGgFtXU35s8Cg6//tbkWOyIpr9VNMWCqqmtvyU5ExzkFCrKz78leRQ/GEujqmLxbxn1F98HVA0X30fg1fgFQxHzfLn4PuJetV8oHYFHTqGiauXi+4h7jKVRVVx8HwAAAAAAAIg2FMYAAAAAAAAQSBTGAAAAAAAAEEjRdo2xOpLS/I4DUWedmRWUd2XyCCWoUA6VhRyLS9WaIyUhbwKpSnlFzqAE5BQqqtq3b+RRIDGWRlXV+Fi7KqKqMAYAAAAAAADUFk6lBAAAAAAAQCBRGAMAAAAAAEAgURgDAAAAAABAIFEYAwAAAAAAQCBRGAMAAAAAAEAgURgDAAAAAABAIFEYAwAAAAAAQCBRGAMAAAAAAEAgURgDAAAAAABAIFEYAwAAAAAAQCBRGAMAAAAAAEAgURgDAAAAAABAIFEYAwAAAAAAQCBRGAMAAAAAAEAgURgDAAAAAABAIFEYAwAAAAAAQCBRGAMAAAAAAEAgURgDAAAAAABAIFEYAwAAAAAAQCBRGAMAAAAAAEAgURgDAAAAAABAIFEYAwAAAAAAQCBRGAMAAAAAAEAgURgDAAAAAABAIFEYAwAAAAAAQCBRGAMAAAAAAEAgURgDAAAAAABAIFEYAwAAAAAAQCBRGAMAAAAAAEAgURgDAAAAAABAIFEYAwAAAAAAQCBRGAMAAAAAAEAgURgDAAAAAABAIFEYAwAAAAAAQCBRGAMAAAAAAEAgURgDAAAAAABAIFEYAwAAAAAAQCBRGAMAAAAAAEAgURgDAAAAAABAIFEYAwAAAAAAQCBRGAMAAAAAAEAgURgDAAAAAABAIFEYAwAAAAAAQCBRGAMAAAAAAEAgURgDAAAAAABAIFEYAwAAAAAAQCBRGAMAAAAAAEAgURgDAAAAAABAIFEYAwAAAAAAQCBRGAMAAAAAAEAgURgDAAAAAABAIFEYAwAAAAAAQCBRGAMAAAAAAEAgURgDAAAAAABAIFEYAwAAAAAAQCBRGAMAAAAAAEAgURgDAAAAAABAIFEYAwAAAAAAQCBRGAMAAAAAAEAgURgDAAAAAABAIFEYAwAAAAAAQCBRGAMAAAAAAEAgURgDAAAAAABAIFEYAwAAAAAAQCBRGAMAAAAAAEAgURgDAAAAAABAIFEYAwAAAAAAQCBRGAMAAAAAAEAgURgDAAAAAABAIFEYAwAAAAAAQCBRGAMAAAAAAEAgURgDAAAAAABAIFEYAwAAAAAAQCBRGAMAAAAAAEAgURgDAAAAAABAIFEYAwAAAAAAQCBRGAMAAAAAAEAgURgDAAAAAABAIFEYAwAAAAAAQCBRGAMAAAAAAEAgURgDAAAAAABAIFEYAwAAAAAAQCBRGAMAAAAAAEAgURgDAAAAAABAIFEYAwAAAAAAQCBRGAMAAAAAAEAgURgDAAAAAABAIFEYAwAAAAAAQCBRGAMAAAAAAEAgURgDAAAAAABAIFEYAwAAAAAAQCBRGAMAAAAAAEAgURgDAAAAAABAIFEYAwAAAAAAQCBRGAMAAAAAAEAgURgDAAAAAABAIFEYAwAAAAAAQCBRGAMAAAAAAEAgURgDAAAAAABAIFEYAwAAAAAAQCBRGAMAAAAAAEAgURgDAAAAAABAIFEYAwAAAAAAQCBRGAMAAAAAAEAgURgDAAAAAABAIFEYAwAAAAAAQCBRGAMAAAAAAEAgURgDAAAAAABAIFEYAwAAAAAAQCBRGAMAAAAAAEAgURgDAAAAAABAIFEYAwAAAAAAQCBRGAMAAAAAAEAgURgDAAAAAABAIFEYAwAAAAAAQCBRGAMAAAAAAEAgURgDAAAAAABAIFEYAwAAAAAAQCBRGAMAAAAAAEAgURgDAAAAAABAIFEYAwAAAAAAQCBRGAMAAAAAAEAgURgDAAAAAABAIFEYAwAAAAAAQCBRGAMAAAAAAEAgURgDAAAAAABAIFEYAwAAAAAAQCBRGAMAAAAAAEAgURgDAAAAAABAIFEYAwAAAAAAQCBRGAMAAAAAAEAgURgDAAAAAABAIFEYAwAAAAAAQCBRGAMAAAAAAEAgURgDAAAAAABAIFEYAwAAAAAAQCBRGAMAAAAAAEAgURgDAAAAAABAIFEYAwAAAAAAQCBRGAMAAAAAAEAgURgDAAAAAABAIP0/52pkWEDUFN8AAAAASUVORK5CYII=\n",
      "text/plain": [
       "<Figure size 1500x1500 with 1 Axes>"
      ]
     },
     "metadata": {
      "needs_background": "light"
     },
     "output_type": "display_data"
    }
   ],
   "source": [
    "### OPTIONAL ###\n",
    "# Visualize decision tree\n",
    "fig, axes = plt.subplots(nrows = 1,ncols = 1,figsize = (5,5), dpi=300)\n",
    "plot_tree(dt_classifier)"
   ]
  },
  {
   "cell_type": "markdown",
   "metadata": {},
   "source": [
    "## 3.3 Evaluate model performance"
   ]
  },
  {
   "cell_type": "code",
   "execution_count": 56,
   "metadata": {},
   "outputs": [],
   "source": [
    "# Predict test data with classifier\n",
    "dt_y_pred_test = dt_classifier.predict(dt_x_test)"
   ]
  },
  {
   "cell_type": "code",
   "execution_count": 57,
   "metadata": {},
   "outputs": [
    {
     "name": "stdout",
     "output_type": "stream",
     "text": [
      "Decision Tree Regressor Accuracy (d=3): 0.8810916179337231\n"
     ]
    }
   ],
   "source": [
    "# Calculate the accuracy of the model\n",
    "dt_classifier_accuracy = accuracy_score(dt_y_pred_test, dt_y_test)\n",
    "\n",
    "# Output MSE\n",
    "print(f\"Decision Tree Regressor Accuracy (d={depth_list[model_error.index(max(model_error))]}): {dt_classifier_accuracy}\")"
   ]
  },
  {
   "cell_type": "code",
   "execution_count": 23,
   "metadata": {},
   "outputs": [
    {
     "name": "stdout",
     "output_type": "stream",
     "text": [
      "\n",
      "CONFUSION MATRIX RESULTS\n",
      "True Negatives: 443\n",
      "True Positives: 0\n",
      "\n",
      "False Negatives: 0\n",
      "False Positives: 70\n",
      "\n"
     ]
    }
   ],
   "source": [
    "# Create a confusion matrix of the results\n",
    "dt_cm = confusion_matrix(dt_y_test, dt_y_pred_test)\n",
    "\n",
    "print(f\"\"\"\n",
    "CONFUSION MATRIX RESULTS\n",
    "True Negatives: {dt_cm[0,0]}\n",
    "True Positives: {dt_cm[1,1]}\n",
    "\n",
    "False Negatives: {dt_cm[0,1]}\n",
    "False Positives: {dt_cm[1,0]}\n",
    "\"\"\")"
   ]
  },
  {
   "cell_type": "markdown",
   "metadata": {},
   "source": [
    "# 4. Logistic Regression Classifier\n",
    "\n",
    "----"
   ]
  },
  {
   "cell_type": "markdown",
   "metadata": {},
   "source": [
    "## 4.1 Feature selection"
   ]
  },
  {
   "cell_type": "markdown",
   "metadata": {},
   "source": [
    "First we have to determine the ideal inputs for the model. To determine this, we will use [RFE Feature Elimination](https://machinelearningmastery.com/rfe-feature-selection-in-python/). "
   ]
  },
  {
   "cell_type": "code",
   "execution_count": 24,
   "metadata": {},
   "outputs": [],
   "source": [
    "lr_selected_features = rfe_selection(model = LogisticRegression(), data = chd_scaled_filtered)"
   ]
  },
  {
   "cell_type": "code",
   "execution_count": 25,
   "metadata": {},
   "outputs": [
    {
     "data": {
      "text/plain": [
       "['age', 'sex', 'cigsPerDay', 'prevalentStroke', 'totChol', 'sysBP', 'diaBP']"
      ]
     },
     "execution_count": 25,
     "metadata": {},
     "output_type": "execute_result"
    }
   ],
   "source": [
    "lr_selected_features"
   ]
  },
  {
   "cell_type": "markdown",
   "metadata": {},
   "source": [
    "From the above RFE results, we can see that the seven most relevant variables are; `age`, `sex`, `cigsPerDay`, `prevalentStroke`, `totChol`, `sysBP`, and `glucose`. \n",
    "\n",
    "These seven features will be our inputs for this model."
   ]
  },
  {
   "cell_type": "code",
   "execution_count": 26,
   "metadata": {},
   "outputs": [],
   "source": [
    "# Split the data into x and y\n",
    "lr_x = chd_scaled_filtered[chd_scaled_filtered.columns.intersection(lr_selected_features)] #Use columns identified above\n",
    "lr_y = chd_scaled_filtered[[\"TenYearCHD\"]]"
   ]
  },
  {
   "cell_type": "code",
   "execution_count": 27,
   "metadata": {},
   "outputs": [],
   "source": [
    "lr_x_train, lr_x_test, lr_y_train, lr_y_test = train_test_split(lr_x, lr_y, test_size=0.2)"
   ]
  },
  {
   "cell_type": "markdown",
   "metadata": {},
   "source": [
    "## 4.2 Create logistic regressor"
   ]
  },
  {
   "cell_type": "code",
   "execution_count": 28,
   "metadata": {},
   "outputs": [],
   "source": [
    "lr_model = LogisticRegression()\n",
    "lr_model = lr_model.fit(lr_x_train, lr_y_train.values.ravel())"
   ]
  },
  {
   "cell_type": "code",
   "execution_count": 29,
   "metadata": {},
   "outputs": [],
   "source": [
    "lr_model_predicted = lr_model.predict(lr_x_test)"
   ]
  },
  {
   "cell_type": "markdown",
   "metadata": {},
   "source": [
    "## 4.3 Evaluate model performance"
   ]
  },
  {
   "cell_type": "code",
   "execution_count": 31,
   "metadata": {},
   "outputs": [
    {
     "name": "stdout",
     "output_type": "stream",
     "text": [
      "\n",
      "CONFUSION MATRIX RESULTS\n",
      "True Negatives: 457\n",
      "True Positives: 0\n",
      "\n",
      "False Negatives: 56\n",
      "False Positives: 0\n",
      "\n"
     ]
    }
   ],
   "source": [
    "# Create a confusion matrix of the results\n",
    "lr_cm = confusion_matrix(lr_model_predicted, lr_y_test)\n",
    "\n",
    "print(f\"\"\"\n",
    "CONFUSION MATRIX RESULTS\n",
    "True Negatives: {lr_cm[0,0]}\n",
    "True Positives: {lr_cm[1,1]}\n",
    "\n",
    "False Negatives: {lr_cm[0,1]}\n",
    "False Positives: {lr_cm[1,0]}\n",
    "\"\"\")"
   ]
  },
  {
   "cell_type": "code",
   "execution_count": 32,
   "metadata": {},
   "outputs": [
    {
     "name": "stdout",
     "output_type": "stream",
     "text": [
      "Logistic Regressor Accuracy: 0.8908382066276803\n"
     ]
    }
   ],
   "source": [
    "# Calculate the accuracy of the model\n",
    "lr_model_accuracy = accuracy_score(lr_model_predicted, lr_y_test)\n",
    "\n",
    "# Output accuracy\n",
    "print(f\"Logistic Regressor Accuracy: {lr_model_accuracy}\")"
   ]
  },
  {
   "cell_type": "markdown",
   "metadata": {},
   "source": [
    "# 5. Results\n",
    "\n",
    "----"
   ]
  },
  {
   "cell_type": "markdown",
   "metadata": {},
   "source": [
    "## 5.1 Confusion matrix"
   ]
  },
  {
   "cell_type": "markdown",
   "metadata": {},
   "source": [
    "When evaluating a classification model, the context is very important. Even if the accuracy score is high, that only tells you how often a model correctly classifies something, but it does not tell you _what_ it is correctly classifying.\n",
    "\n",
    "In the context of this project, we are looking at medical data. Given the nature of medical diagnoses, errors in classification (misdiagnoses) fall into two categories of errors:\n",
    "\n",
    "> __Type I Error:__ Reject the null hypothesis when it's actually true (false negative)\n",
    "\n",
    "> __Type II Error:__ Fail to reject the null hypothesis when it's actually false (false positive)\n",
    "\n",
    "Type II errors are always worse than Type I errors. In this context, a false negative could mean leading a patient to think that they are healthy when, in fact, they have developed a fatal disease that is time sensitive and could otherwise be treated.\n",
    "\n",
    "For our final evaluation of these models, we will look at the breakdown of Type I and Type II errors across the classifiers tested."
   ]
  },
  {
   "cell_type": "markdown",
   "metadata": {},
   "source": [
    "> _**NOTE:** The confusion matrix used for this project was created by using the [sklearn.metrics.confusion_matrix](https://scikit-learn.org/stable/modules/generated/sklearn.metrics.confusion_matrix.html) function. This package outputs the confusion matrix in an inverted fashion, so true positives are located at $C_{1,1}$ rather than at $C_{0,0}$._"
   ]
  },
  {
   "cell_type": "code",
   "execution_count": 33,
   "metadata": {},
   "outputs": [
    {
     "name": "stdout",
     "output_type": "stream",
     "text": [
      "\n",
      "CORRECT CLASSIFICATIONS\n",
      "\t\tLogistic Regression\tDecision Tree\n",
      "NEGATIVES: \t457\t\t\t443\n",
      "POSITIVES: \t0\t\t\t0\n",
      "\n",
      "ERROR BREAKDOWN\n",
      "\t\tLogistic Regression\tDecision Tree\n",
      "TYPE I: \t56\t\t\t0\n",
      "TYPE II: \t0\t\t\t70\n",
      "\n"
     ]
    }
   ],
   "source": [
    "print(f\"\"\"\n",
    "CORRECT CLASSIFICATIONS\n",
    "\\t\\tLogistic Regression\\tDecision Tree\n",
    "NEGATIVES: \\t{lr_cm[0,0]}\\t\\t\\t{dt_cm[0,0]}\n",
    "POSITIVES: \\t{lr_cm[1,1]}\\t\\t\\t{dt_cm[1,1]}\n",
    "\n",
    "ERROR BREAKDOWN\n",
    "\\t\\tLogistic Regression\\tDecision Tree\n",
    "TYPE I: \\t{lr_cm[0,1]}\\t\\t\\t{dt_cm[0,1]}\n",
    "TYPE II: \\t{lr_cm[1,0]}\\t\\t\\t{dt_cm[1,0]}\n",
    "\"\"\")"
   ]
  },
  {
   "cell_type": "code",
   "execution_count": 34,
   "metadata": {},
   "outputs": [],
   "source": [
    "# Get the confusion matrix breakdown of each model\n",
    "lr_true_pos = lr_cm[1,1]\n",
    "lr_false_pos = lr_cm[1,0]\n",
    "lr_false_neg = lr_cm[0,1]\n",
    "lr_true_neg = lr_cm[0,0]\n",
    "\n",
    "dt_true_pos = dt_cm[1,1]\n",
    "dt_false_pos = dt_cm[1,0]\n",
    "dt_false_neg = dt_cm[0,1]\n",
    "dt_true_neg = dt_cm[0,0]\n",
    "\n",
    "# Total data points\n",
    "dt_num_classifications = dt_true_pos + dt_true_neg + dt_false_neg + dt_false_pos\n",
    "lr_num_classifications = lr_true_pos + lr_true_neg + lr_false_neg + lr_false_pos"
   ]
  },
  {
   "cell_type": "markdown",
   "metadata": {},
   "source": [
    "## 5.2 Accuracy\n",
    "\n",
    "$\\begin{align}\n",
    "\\text{accuracy} = \\frac{TP + TN}{N_{total}}\n",
    "\\end{align}$"
   ]
  },
  {
   "cell_type": "code",
   "execution_count": 35,
   "metadata": {},
   "outputs": [
    {
     "name": "stdout",
     "output_type": "stream",
     "text": [
      "DT: 0.8635477582846004\n",
      "LR: 0.8908382066276803\n"
     ]
    }
   ],
   "source": [
    "dt_accuracy = (dt_true_pos + dt_true_neg)/dt_num_classifications\n",
    "lr_accuracy = (lr_true_pos + lr_true_neg)/lr_num_classifications\n",
    "print(f\"DT: {dt_accuracy}\\nLR: {lr_accuracy}\")"
   ]
  },
  {
   "cell_type": "markdown",
   "metadata": {},
   "source": [
    "## 5.3 Precision\n",
    "\n",
    "$\\begin{align}\n",
    "\\text{precision} &= \\frac{TP}{TP + FP}\n",
    "\\end{align}$"
   ]
  },
  {
   "cell_type": "code",
   "execution_count": 36,
   "metadata": {},
   "outputs": [
    {
     "name": "stdout",
     "output_type": "stream",
     "text": [
      "DT: 0.0\n",
      "LR: nan\n"
     ]
    },
    {
     "name": "stderr",
     "output_type": "stream",
     "text": [
      "<ipython-input-36-5d104cf73cc9>:2: RuntimeWarning: invalid value encountered in long_scalars\n",
      "  lr_precision = lr_true_pos/(lr_true_pos + lr_false_pos)\n"
     ]
    }
   ],
   "source": [
    "dt_precision = dt_true_pos/(dt_true_pos + dt_false_pos)\n",
    "lr_precision = lr_true_pos/(lr_true_pos + lr_false_pos)\n",
    "print(f\"DT: {dt_precision}\\nLR: {lr_precision}\")"
   ]
  },
  {
   "cell_type": "markdown",
   "metadata": {},
   "source": [
    "## 5.4 Specificity\n",
    "\n",
    "$\\begin{align}\n",
    "\\text{specificity} &= \\frac{TN}{TN + FP}\n",
    "\\end{align}$"
   ]
  },
  {
   "cell_type": "code",
   "execution_count": 37,
   "metadata": {},
   "outputs": [
    {
     "name": "stdout",
     "output_type": "stream",
     "text": [
      "DT: 0.8635477582846004\n",
      "LR: 1.0\n"
     ]
    }
   ],
   "source": [
    "dt_specificity = dt_true_neg/(dt_true_neg + dt_false_pos)\n",
    "lr_specificity = lr_true_neg/(lr_true_neg + lr_false_pos)\n",
    "print(f\"DT: {dt_specificity}\\nLR: {lr_specificity}\")"
   ]
  },
  {
   "cell_type": "markdown",
   "metadata": {},
   "source": [
    "## 5.5 Sensitivity\n",
    "\n",
    "$\\begin{align}\n",
    "\\text{sensitivity} &= \\frac{TP}{TP + FN}\n",
    "\\end{align}$"
   ]
  },
  {
   "cell_type": "code",
   "execution_count": 38,
   "metadata": {},
   "outputs": [
    {
     "name": "stdout",
     "output_type": "stream",
     "text": [
      "DT: nan\n",
      "LR: 0.0\n"
     ]
    },
    {
     "name": "stderr",
     "output_type": "stream",
     "text": [
      "<ipython-input-38-d71825124a6f>:1: RuntimeWarning: invalid value encountered in long_scalars\n",
      "  dt_sensitivity = dt_true_pos/(dt_true_pos + dt_false_neg)\n"
     ]
    }
   ],
   "source": [
    "dt_sensitivity = dt_true_pos/(dt_true_pos + dt_false_neg)\n",
    "lr_sensitivity = lr_true_pos/(lr_true_pos + lr_false_neg)\n",
    "print(f\"DT: {dt_sensitivity}\\nLR: {lr_sensitivity}\")"
   ]
  },
  {
   "cell_type": "markdown",
   "metadata": {},
   "source": [
    "## 5.6 F1 Score"
   ]
  },
  {
   "cell_type": "markdown",
   "metadata": {},
   "source": [
    "$\\begin{align}\n",
    "F_{1}=2*\\frac{precision*sensitivity}{precision + sensitivity}\n",
    "\\end{align}$\n",
    "\n",
    "**NOTE:** If $TP + FP == 0$ or $TP + FN == 0$, then the F1 score will be undefined."
   ]
  },
  {
   "cell_type": "code",
   "execution_count": 40,
   "metadata": {},
   "outputs": [
    {
     "name": "stdout",
     "output_type": "stream",
     "text": [
      "DT: nan\n",
      "LR: nan\n"
     ]
    }
   ],
   "source": [
    "dt_f1 = 2 * ((dt_precision * dt_sensitivity) / (dt_precision + dt_sensitivity))\n",
    "lr_f1 = 2 * ((lr_precision * lr_sensitivity) / (lr_precision + lr_sensitivity))\n",
    "print(f\"DT: {dt_f1}\\nLR: {lr_f1}\")"
   ]
  }
 ],
 "metadata": {
  "kernelspec": {
   "display_name": "Python 3",
   "language": "python",
   "name": "python3"
  },
  "language_info": {
   "codemirror_mode": {
    "name": "ipython",
    "version": 3
   },
   "file_extension": ".py",
   "mimetype": "text/x-python",
   "name": "python",
   "nbconvert_exporter": "python",
   "pygments_lexer": "ipython3",
   "version": "3.8.5"
  }
 },
 "nbformat": 4,
 "nbformat_minor": 5
}
